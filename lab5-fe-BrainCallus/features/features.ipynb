{
 "cells": [
  {
   "cell_type": "code",
   "id": "initial_id",
   "metadata": {
    "collapsed": true,
    "ExecuteTime": {
     "end_time": "2024-06-09T21:42:49.850151Z",
     "start_time": "2024-06-09T21:42:48.034540Z"
    }
   },
   "source": [
    "import pandas as pd\n",
    "from sklearn.feature_extraction.text import CountVectorizer\n",
    "from sklearn.model_selection import train_test_split\n",
    "from sklearn.preprocessing import LabelEncoder\n",
    "\n",
    "from model.feature_selector import *\n",
    "from model.selector import *"
   ],
   "outputs": [],
   "execution_count": 1
  },
  {
   "metadata": {},
   "cell_type": "markdown",
   "source": "We will work with 'SMS' dataset",
   "id": "58113bb68d5f602b"
  },
  {
   "metadata": {
    "ExecuteTime": {
     "end_time": "2024-06-09T21:42:49.882602Z",
     "start_time": "2024-06-09T21:42:49.850692Z"
    }
   },
   "cell_type": "code",
   "source": [
    "df = pd.read_csv('data\\SMS.tsv', sep='\\t')\n",
    "df.head()"
   ],
   "id": "b0fdf8d7fe7aa8cf",
   "outputs": [
    {
     "name": "stderr",
     "output_type": "stream",
     "text": [
      "<>:1: SyntaxWarning: invalid escape sequence '\\S'\n",
      "<>:1: SyntaxWarning: invalid escape sequence '\\S'\n",
      "C:\\Users\\chura\\AppData\\Local\\Temp\\ipykernel_6448\\832611675.py:1: SyntaxWarning: invalid escape sequence '\\S'\n",
      "  df = pd.read_csv('data\\SMS.tsv', sep='\\t')\n"
     ]
    },
    {
     "data": {
      "text/plain": [
       "  class                                               text\n",
       "0   ham  Go until jurong point, crazy.. Available only ...\n",
       "1   ham                      Ok lar... Joking wif u oni...\n",
       "2  spam  Free entry in 2 a wkly comp to win FA Cup fina...\n",
       "3   ham  U dun say so early hor... U c already then say...\n",
       "4   ham  Nah I don't think he goes to usf, he lives aro..."
      ],
      "text/html": [
       "<div>\n",
       "<style scoped>\n",
       "    .dataframe tbody tr th:only-of-type {\n",
       "        vertical-align: middle;\n",
       "    }\n",
       "\n",
       "    .dataframe tbody tr th {\n",
       "        vertical-align: top;\n",
       "    }\n",
       "\n",
       "    .dataframe thead th {\n",
       "        text-align: right;\n",
       "    }\n",
       "</style>\n",
       "<table border=\"1\" class=\"dataframe\">\n",
       "  <thead>\n",
       "    <tr style=\"text-align: right;\">\n",
       "      <th></th>\n",
       "      <th>class</th>\n",
       "      <th>text</th>\n",
       "    </tr>\n",
       "  </thead>\n",
       "  <tbody>\n",
       "    <tr>\n",
       "      <th>0</th>\n",
       "      <td>ham</td>\n",
       "      <td>Go until jurong point, crazy.. Available only ...</td>\n",
       "    </tr>\n",
       "    <tr>\n",
       "      <th>1</th>\n",
       "      <td>ham</td>\n",
       "      <td>Ok lar... Joking wif u oni...</td>\n",
       "    </tr>\n",
       "    <tr>\n",
       "      <th>2</th>\n",
       "      <td>spam</td>\n",
       "      <td>Free entry in 2 a wkly comp to win FA Cup fina...</td>\n",
       "    </tr>\n",
       "    <tr>\n",
       "      <th>3</th>\n",
       "      <td>ham</td>\n",
       "      <td>U dun say so early hor... U c already then say...</td>\n",
       "    </tr>\n",
       "    <tr>\n",
       "      <th>4</th>\n",
       "      <td>ham</td>\n",
       "      <td>Nah I don't think he goes to usf, he lives aro...</td>\n",
       "    </tr>\n",
       "  </tbody>\n",
       "</table>\n",
       "</div>"
      ]
     },
     "execution_count": 2,
     "metadata": {},
     "output_type": "execute_result"
    }
   ],
   "execution_count": 2
  },
  {
   "metadata": {},
   "cell_type": "markdown",
   "source": "**Prepare data**",
   "id": "17fd37dcd0b4013"
  },
  {
   "metadata": {
    "ExecuteTime": {
     "end_time": "2024-06-09T21:42:49.891020Z",
     "start_time": "2024-06-09T21:42:49.882602Z"
    }
   },
   "cell_type": "code",
   "source": "df.info()",
   "id": "7375c3b76b6afeeb",
   "outputs": [
    {
     "name": "stdout",
     "output_type": "stream",
     "text": [
      "<class 'pandas.core.frame.DataFrame'>\n",
      "RangeIndex: 5572 entries, 0 to 5571\n",
      "Data columns (total 2 columns):\n",
      " #   Column  Non-Null Count  Dtype \n",
      "---  ------  --------------  ----- \n",
      " 0   class   5572 non-null   object\n",
      " 1   text    5572 non-null   object\n",
      "dtypes: object(2)\n",
      "memory usage: 87.2+ KB\n"
     ]
    }
   ],
   "execution_count": 3
  },
  {
   "metadata": {},
   "cell_type": "markdown",
   "source": "Transform 'class' column into numerical data",
   "id": "3b7e4e70ee3aa186"
  },
  {
   "metadata": {
    "ExecuteTime": {
     "end_time": "2024-06-09T21:42:49.901782Z",
     "start_time": "2024-06-09T21:42:49.891020Z"
    }
   },
   "cell_type": "code",
   "source": [
    "print(df['class'].info())\n",
    "print(df['class'].unique())\n",
    "le = LabelEncoder()\n",
    "df['label'] = le.fit_transform(df['class'])\n",
    "df['label']"
   ],
   "id": "37e4deec9f504598",
   "outputs": [
    {
     "name": "stdout",
     "output_type": "stream",
     "text": [
      "<class 'pandas.core.series.Series'>\n",
      "RangeIndex: 5572 entries, 0 to 5571\n",
      "Series name: class\n",
      "Non-Null Count  Dtype \n",
      "--------------  ----- \n",
      "5572 non-null   object\n",
      "dtypes: object(1)\n",
      "memory usage: 43.7+ KB\n",
      "None\n",
      "['ham' 'spam']\n"
     ]
    },
    {
     "data": {
      "text/plain": [
       "0       0\n",
       "1       0\n",
       "2       1\n",
       "3       0\n",
       "4       0\n",
       "       ..\n",
       "5567    1\n",
       "5568    0\n",
       "5569    0\n",
       "5570    0\n",
       "5571    0\n",
       "Name: label, Length: 5572, dtype: int32"
      ]
     },
     "execution_count": 4,
     "metadata": {},
     "output_type": "execute_result"
    }
   ],
   "execution_count": 4
  },
  {
   "metadata": {
    "ExecuteTime": {
     "end_time": "2024-06-09T21:42:49.977081Z",
     "start_time": "2024-06-09T21:42:49.901782Z"
    }
   },
   "cell_type": "code",
   "source": [
    "train_exdog, test_exdog, train_ans, test_ans = train_test_split(df['text'], df['label'], test_size=0.25,\n",
    "                                                                random_state=42)\n",
    "vectorizer = CountVectorizer()\n",
    "train_exdog_vector = vectorizer.fit_transform(train_exdog)\n",
    "test_exdog_vector = vectorizer.transform(test_exdog)\n",
    "\n",
    "feature_names = vectorizer.get_feature_names_out()\n",
    "print(len(feature_names))\n",
    "feature_names"
   ],
   "id": "1ac61e81879da38b",
   "outputs": [
    {
     "name": "stdout",
     "output_type": "stream",
     "text": [
      "7490\n"
     ]
    },
    {
     "data": {
      "text/plain": [
       "array(['00', '000', '000pes', ..., 'zouk', 'zyada', 'èn'], dtype=object)"
      ]
     },
     "execution_count": 5,
     "metadata": {},
     "output_type": "execute_result"
    }
   ],
   "execution_count": 5
  },
  {
   "metadata": {},
   "cell_type": "markdown",
   "source": "Constants, global vars and common method to train and get scores from model",
   "id": "6d578e208c873273"
  },
  {
   "metadata": {
    "ExecuteTime": {
     "end_time": "2024-06-09T21:42:49.982188Z",
     "start_time": "2024-06-09T21:42:49.977081Z"
    }
   },
   "cell_type": "code",
   "source": [
    "FEATURES_TO_SELECT_COUNT = 30\n",
    "SELECTED_FEATURES_BY_METHOD: Dict[str, FeatureSelectorDescr] = {\n",
    "    'NO_SELECTOR': FeatureSelectorDescr('NO_SELECTOR', range(train_exdog_vector.shape[1]), feature_names)}\n",
    "\n",
    "\n",
    "def evaluate_model(model, train_x, test_x, ans_train, ans_test, metric: Callable[[[float], [float]], float]):\n",
    "    model.fit(train_x, ans_train)\n",
    "    y_pred = model.predict(test_x)\n",
    "    return metric(ans_test, y_pred)\n",
    "\n",
    "\n",
    "def select_features(selector: SelectorAbc, selector_name: str) -> FeatureSelectorDescr:\n",
    "    selected_feature_indices = selector.select(train_exdog_vector, test_exdog_vector, train_ans, test_ans,\n",
    "                                               FEATURES_TO_SELECT_COUNT)\n",
    "    selected_features = [feature_names[i] for i in selected_feature_indices]\n",
    "    fsd = FeatureSelectorDescr(selector_name, selected_feature_indices, selected_features)\n",
    "    SELECTED_FEATURES_BY_METHOD[selector_name] = fsd\n",
    "    return fsd"
   ],
   "id": "ad448ec675991999",
   "outputs": [],
   "execution_count": 6
  },
  {
   "metadata": {},
   "cell_type": "markdown",
   "source": [
    "## Implement 3 features sampling methods\n",
    "All implementations placed in `model\\selector.py`"
   ],
   "id": "966d93295eebe602"
  },
  {
   "metadata": {},
   "cell_type": "markdown",
   "source": "### Embedded : SVM-RFE",
   "id": "31091d17521b9a2"
  },
  {
   "metadata": {
    "ExecuteTime": {
     "end_time": "2024-06-09T21:46:43.902368Z",
     "start_time": "2024-06-09T21:42:49.982188Z"
    }
   },
   "cell_type": "code",
   "source": [
    "EMBEDDED_FEATURES = select_features(SVM_RFE(), 'EMBEDDED_FEATURES')\n",
    "print(\"Selected features:\", EMBEDDED_FEATURES.selected_features)"
   ],
   "id": "4e2affc2d825b495",
   "outputs": [
    {
     "name": "stdout",
     "output_type": "stream",
     "text": [
      "\u001B[1;96m [INFO]\u001B[0m SVM_RFE 2024-06-10 00:42:50.400862: Number of features selected: 7475 / 30\n",
      "\u001B[1;96m [INFO]\u001B[0m SVM_RFE 2024-06-10 00:43:10.311530: Number of features selected: 6725 / 30\n",
      "\u001B[1;96m [INFO]\u001B[0m SVM_RFE 2024-06-10 00:43:30.006078: Number of features selected: 5975 / 30\n",
      "\u001B[1;96m [INFO]\u001B[0m SVM_RFE 2024-06-10 00:44:00.570057: Number of features selected: 5225 / 30\n",
      "\u001B[1;96m [INFO]\u001B[0m SVM_RFE 2024-06-10 00:44:31.210788: Number of features selected: 4475 / 30\n",
      "\u001B[1;96m [INFO]\u001B[0m SVM_RFE 2024-06-10 00:45:01.474930: Number of features selected: 3725 / 30\n",
      "\u001B[1;96m [INFO]\u001B[0m SVM_RFE 2024-06-10 00:45:31.921986: Number of features selected: 2975 / 30\n",
      "\u001B[1;96m [INFO]\u001B[0m SVM_RFE 2024-06-10 00:45:59.538468: Number of features selected: 2225 / 30\n",
      "\u001B[1;96m [INFO]\u001B[0m SVM_RFE 2024-06-10 00:46:23.334756: Number of features selected: 1475 / 30\n",
      "\u001B[1;96m [INFO]\u001B[0m SVM_RFE 2024-06-10 00:46:38.576246: Number of features selected: 725 / 30\n",
      "Selected features: ['10p', '150p', '16', '20p', '800', 'alert', 'claim', 'collection', 'fantasy', 'freemsg', 'gender', 'later', 'liked', 'lt', 'mail', 'minmobsmorelkpobox177hp51fl', 'minmoremobsemspobox45po139wa', 'mins', 'orange', 'paris', 'premium', 'rate', 'ringtone', 'services', 'tone', 'txts', 'u4', 'valid', 'vodafone', 'voicemail']\n"
     ]
    }
   ],
   "execution_count": 7
  },
  {
   "metadata": {},
   "cell_type": "markdown",
   "source": [
    "### Wrapper: forward sequential selection\n",
    "*NB: much faster than backward since number of features ~7k but target is only 30*"
   ],
   "id": "643bdfb66f4f1d6d"
  },
  {
   "metadata": {
    "ExecuteTime": {
     "end_time": "2024-06-09T22:08:05.067685Z",
     "start_time": "2024-06-09T21:46:43.903857Z"
    }
   },
   "cell_type": "code",
   "source": [
    "WRAPPER_FEATURES = select_features(WrapperForwardSelector(), 'WRAPPER_FEATURES')\n",
    "print(\"Wrapper Method Selected Features:\")\n",
    "print(WRAPPER_FEATURES.selected_features)"
   ],
   "id": "1220a2699313f16c",
   "outputs": [
    {
     "name": "stdout",
     "output_type": "stream",
     "text": [
      "\u001B[1;96m [INFO]\u001B[0m WrapperForwardSelector 2024-06-10 00:47:21.539571: On epoch 0/30\t elapsed 37.632 s\tAdded feature 1549 with scores 0.89375\n",
      "\u001B[1;96m [INFO]\u001B[0m WrapperForwardSelector 2024-06-10 00:48:01.963249: On epoch 1/30\t elapsed 40.422 s\tAdded feature 6849 with scores 0.91744\n",
      "\u001B[1;96m [INFO]\u001B[0m WrapperForwardSelector 2024-06-10 00:48:45.134358: On epoch 2/30\t elapsed 43.171 s\tAdded feature 4244 with scores 0.93037\n",
      "\u001B[1;96m [INFO]\u001B[0m WrapperForwardSelector 2024-06-10 00:49:32.143906: On epoch 3/30\t elapsed 47.010 s\tAdded feature 3881 with scores 0.93898\n",
      "\u001B[1;96m [INFO]\u001B[0m WrapperForwardSelector 2024-06-10 00:50:23.449935: On epoch 4/30\t elapsed 51.305 s\tAdded feature 7388 with scores 0.94688\n",
      "\u001B[1;96m [INFO]\u001B[0m WrapperForwardSelector 2024-06-10 00:51:15.893396: On epoch 5/30\t elapsed 52.442 s\tAdded feature 293 with scores 0.95190\n",
      "\u001B[1;96m [INFO]\u001B[0m WrapperForwardSelector 2024-06-10 00:52:06.756904: On epoch 6/30\t elapsed 50.864 s\tAdded feature 302 with scores 0.95693\n",
      "\u001B[1;96m [INFO]\u001B[0m WrapperForwardSelector 2024-06-10 00:52:58.553782: On epoch 7/30\t elapsed 51.797 s\tAdded feature 4505 with scores 0.95980\n",
      "\u001B[1;96m [INFO]\u001B[0m WrapperForwardSelector 2024-06-10 00:53:52.685860: On epoch 8/30\t elapsed 54.132 s\tAdded feature 4384 with scores 0.96267\n",
      "\u001B[1;96m [INFO]\u001B[0m WrapperForwardSelector 2024-06-10 00:54:46.682042: On epoch 9/30\t elapsed 53.996 s\tAdded feature 1516 with scores 0.96411\n",
      "\u001B[1;96m [INFO]\u001B[0m WrapperForwardSelector 2024-06-10 00:55:45.947692: On epoch 10/30\t elapsed 59.265 s\tAdded feature 1 with scores 0.96554\n",
      "\u001B[1;96m [INFO]\u001B[0m WrapperForwardSelector 2024-06-10 00:56:45.386811: On epoch 11/30\t elapsed 59.438 s\tAdded feature 5051 with scores 0.96698\n",
      "\u001B[1;96m [INFO]\u001B[0m WrapperForwardSelector 2024-06-10 00:57:42.723228: On epoch 12/30\t elapsed 57.336 s\tAdded feature 5079 with scores 0.96841\n",
      "\u001B[1;96m [INFO]\u001B[0m WrapperForwardSelector 2024-06-10 00:58:42.114395: On epoch 13/30\t elapsed 59.390 s\tAdded feature 827 with scores 0.96913\n",
      "\u001B[1;96m [INFO]\u001B[0m WrapperForwardSelector 2024-06-10 00:59:46.617477: On epoch 14/30\t elapsed 64.502 s\tAdded feature 917 with scores 0.96985\n",
      "\u001B[1;96m [INFO]\u001B[0m WrapperForwardSelector 2024-06-10 01:00:24.091923: On epoch 15/30\t elapsed 37.473 s\tAdded feature 1805 with scores 0.97128\n",
      "\u001B[1;96m [INFO]\u001B[0m WrapperForwardSelector 2024-06-10 01:00:54.794211: On epoch 16/30\t elapsed 30.702 s\tAdded feature 656 with scores 0.97200\n",
      "\u001B[1;96m [INFO]\u001B[0m WrapperForwardSelector 2024-06-10 01:01:25.606316: On epoch 17/30\t elapsed 30.812 s\tAdded feature 1318 with scores 0.97272\n",
      "\u001B[1;96m [INFO]\u001B[0m WrapperForwardSelector 2024-06-10 01:01:56.603996: On epoch 18/30\t elapsed 30.997 s\tAdded feature 1515 with scores 0.97344\n",
      "\u001B[1;96m [INFO]\u001B[0m WrapperForwardSelector 2024-06-10 01:02:28.011255: On epoch 19/30\t elapsed 31.407 s\tAdded feature 1705 with scores 0.97416\n",
      "\u001B[1;96m [INFO]\u001B[0m WrapperForwardSelector 2024-06-10 01:02:59.490905: On epoch 20/30\t elapsed 31.480 s\tAdded feature 2665 with scores 0.97487\n",
      "\u001B[1;96m [INFO]\u001B[0m WrapperForwardSelector 2024-06-10 01:03:33.164238: On epoch 21/30\t elapsed 33.673 s\tAdded feature 2223 with scores 0.97559\n",
      "\u001B[1;96m [INFO]\u001B[0m WrapperForwardSelector 2024-06-10 01:04:07.252105: On epoch 22/30\t elapsed 34.087 s\tAdded feature 5243 with scores 0.97631\n",
      "\u001B[1;96m [INFO]\u001B[0m WrapperForwardSelector 2024-06-10 01:04:39.130307: On epoch 23/30\t elapsed 31.877 s\tAdded feature 2065 with scores 0.97703\n",
      "\u001B[1;96m [INFO]\u001B[0m WrapperForwardSelector 2024-06-10 01:05:11.630615: On epoch 24/30\t elapsed 32.500 s\tAdded feature 4599 with scores 0.97775\n",
      "\u001B[1;96m [INFO]\u001B[0m WrapperForwardSelector 2024-06-10 01:05:44.770269: On epoch 25/30\t elapsed 33.140 s\tAdded feature 5835 with scores 0.97846\n",
      "\u001B[1;96m [INFO]\u001B[0m WrapperForwardSelector 2024-06-10 01:06:19.469453: On epoch 26/30\t elapsed 34.699 s\tAdded feature 3142 with scores 0.97990\n",
      "\u001B[1;96m [INFO]\u001B[0m WrapperForwardSelector 2024-06-10 01:06:54.621713: On epoch 27/30\t elapsed 35.152 s\tAdded feature 762 with scores 0.98062\n",
      "\u001B[1;96m [INFO]\u001B[0m WrapperForwardSelector 2024-06-10 01:07:29.722605: On epoch 28/30\t elapsed 35.101 s\tAdded feature 4877 with scores 0.98134\n",
      "\u001B[1;96m [INFO]\u001B[0m WrapperForwardSelector 2024-06-10 01:08:05.065233: On epoch 29/30\t elapsed 35.343 s\tAdded feature 6009 with scores 0.98205\n",
      "Wrapper Method Selected Features:\n",
      "['call', 'txt', 'me', 'later', 'www', '150p', '16', 'my', 'mobile', 'but', '000', 'place', 'pls', 'afternoon', 'amp', 'co', '8552', 'bit', 'busy', 'chennai', 'fancy', 'didnt', 'prize', 'da', 'next', 'service', 'gt', 'accounts', 'paid', 'sky']\n"
     ]
    }
   ],
   "execution_count": 8
  },
  {
   "metadata": {},
   "cell_type": "markdown",
   "source": "### Filter",
   "id": "66ce625119d77796"
  },
  {
   "metadata": {
    "ExecuteTime": {
     "end_time": "2024-06-09T22:08:05.081396Z",
     "start_time": "2024-06-09T22:08:05.068692Z"
    }
   },
   "cell_type": "code",
   "source": [
    "FILTER_FEATURES = select_features(FilterSelector(), 'FILTER_FEATURES')\n",
    "print(\"Filter Method Selected Features:\")\n",
    "FILTER_FEATURES.selected_features"
   ],
   "id": "37fc79ae201042ad",
   "outputs": [
    {
     "name": "stdout",
     "output_type": "stream",
     "text": [
      "Filter Method Selected Features:\n"
     ]
    },
    {
     "data": {
      "text/plain": [
       "['150p',\n",
       " '16',\n",
       " '18',\n",
       " '50',\n",
       " '500',\n",
       " 'call',\n",
       " 'cash',\n",
       " 'claim',\n",
       " 'co',\n",
       " 'cs',\n",
       " 'free',\n",
       " 'guaranteed',\n",
       " 'mobile',\n",
       " 'nokia',\n",
       " 'now',\n",
       " 'or',\n",
       " 'prize',\n",
       " 'reply',\n",
       " 'service',\n",
       " 'stop',\n",
       " 'text',\n",
       " 'to',\n",
       " 'tone',\n",
       " 'txt',\n",
       " 'uk',\n",
       " 'urgent',\n",
       " 'win',\n",
       " 'won',\n",
       " 'www',\n",
       " 'your']"
      ]
     },
     "execution_count": 9,
     "metadata": {},
     "output_type": "execute_result"
    }
   ],
   "execution_count": 9
  },
  {
   "metadata": {},
   "cell_type": "markdown",
   "source": "## 3 library methods ",
   "id": "a9262fd6dad2a054"
  },
  {
   "metadata": {},
   "cell_type": "markdown",
   "source": [
    "### 1. SelectFromModel using RandomForestClassifier\n",
    "It is an embedded method that uses features importance calculated by the model and selects the most valuable features"
   ],
   "id": "a487cc83130f877f"
  },
  {
   "metadata": {
    "ExecuteTime": {
     "end_time": "2024-06-09T22:08:06.127981Z",
     "start_time": "2024-06-09T22:08:05.082417Z"
    }
   },
   "cell_type": "code",
   "source": [
    "SFM_FEATURES = select_features(SelectFromModelRF(), 'SFM_FEATURES')\n",
    "\n",
    "print(\"SelectFromModel with RandomForestClassifier Selected Features:\")\n",
    "SFM_FEATURES.selected_features"
   ],
   "id": "c28d102c8aac1c7b",
   "outputs": [
    {
     "name": "stdout",
     "output_type": "stream",
     "text": [
      "SelectFromModel with RandomForestClassifier Selected Features:\n"
     ]
    },
    {
     "data": {
      "text/plain": [
       "['1000',\n",
       " '150p',\n",
       " '18',\n",
       " '50',\n",
       " '500',\n",
       " 'call',\n",
       " 'cash',\n",
       " 'claim',\n",
       " 'co',\n",
       " 'com',\n",
       " 'customer',\n",
       " 'free',\n",
       " 'guaranteed',\n",
       " 'mobile',\n",
       " 'new',\n",
       " 'now',\n",
       " 'or',\n",
       " 'prize',\n",
       " 'reply',\n",
       " 'ringtone',\n",
       " 'service',\n",
       " 'stop',\n",
       " 'text',\n",
       " 'to',\n",
       " 'txt',\n",
       " 'uk',\n",
       " 'urgent',\n",
       " 'win',\n",
       " 'www',\n",
       " 'your']"
      ]
     },
     "execution_count": 10,
     "metadata": {},
     "output_type": "execute_result"
    }
   ],
   "execution_count": 10
  },
  {
   "metadata": {},
   "cell_type": "markdown",
   "source": [
    "### 2. VarianceThreshold\n",
    "It is a simple filtering method"
   ],
   "id": "32c20509e04ba39b"
  },
  {
   "metadata": {
    "ExecuteTime": {
     "end_time": "2024-06-09T22:08:06.135324Z",
     "start_time": "2024-06-09T22:08:06.127981Z"
    }
   },
   "cell_type": "code",
   "source": [
    "VT_FEATURES = select_features(VarianceThresholdSelector(p=0.915), 'VT_FEATURES')\n",
    "VT_FEATURES.selected_features"
   ],
   "id": "d2c74fb3d4db0455",
   "outputs": [
    {
     "data": {
      "text/plain": [
       "['and',\n",
       " 'are',\n",
       " 'at',\n",
       " 'be',\n",
       " 'but',\n",
       " 'call',\n",
       " 'can',\n",
       " 'do',\n",
       " 'for',\n",
       " 'free',\n",
       " 'gt',\n",
       " 'have',\n",
       " 'if',\n",
       " 'in',\n",
       " 'is',\n",
       " 'it',\n",
       " 'lt',\n",
       " 'me',\n",
       " 'my',\n",
       " 'not',\n",
       " 'now',\n",
       " 'of',\n",
       " 'on',\n",
       " 'or',\n",
       " 'so',\n",
       " 'that',\n",
       " 'the',\n",
       " 'to',\n",
       " 'ur',\n",
       " 'we']"
      ]
     },
     "execution_count": 11,
     "metadata": {},
     "output_type": "execute_result"
    }
   ],
   "execution_count": 11
  },
  {
   "metadata": {},
   "cell_type": "markdown",
   "source": [
    "### 3. MutualInformation\n",
    "It is a filtering method that uses mutual information to evaluate the importance of each feature"
   ],
   "id": "8e0a13ba94b93df8"
  },
  {
   "metadata": {
    "ExecuteTime": {
     "end_time": "2024-06-09T22:08:12.580430Z",
     "start_time": "2024-06-09T22:08:06.136346Z"
    }
   },
   "cell_type": "code",
   "source": [
    "MI_FEATURES = select_features(MutualInfoSelector(), 'MI_FEATURES')\n",
    "print(\"Mutual Information Features:\")\n",
    "MI_FEATURES.selected_features"
   ],
   "id": "c4bbd2df020e4bd6",
   "outputs": [
    {
     "name": "stdout",
     "output_type": "stream",
     "text": [
      "Mutual Information Features:\n"
     ]
    },
    {
     "data": {
      "text/plain": [
       "['1000',\n",
       " '150p',\n",
       " '16',\n",
       " '18',\n",
       " '50',\n",
       " '500',\n",
       " 'call',\n",
       " 'cash',\n",
       " 'claim',\n",
       " 'co',\n",
       " 'cs',\n",
       " 'free',\n",
       " 'guaranteed',\n",
       " 'mobile',\n",
       " 'nokia',\n",
       " 'now',\n",
       " 'or',\n",
       " 'prize',\n",
       " 'reply',\n",
       " 'service',\n",
       " 'stop',\n",
       " 'text',\n",
       " 'to',\n",
       " 'tone',\n",
       " 'txt',\n",
       " 'uk',\n",
       " 'win',\n",
       " 'won',\n",
       " 'www',\n",
       " 'your']"
      ]
     },
     "execution_count": 12,
     "metadata": {},
     "output_type": "execute_result"
    }
   ],
   "execution_count": 12
  },
  {
   "metadata": {},
   "cell_type": "markdown",
   "source": "### Compare sampling results\n",
   "id": "12424911d878a0f7"
  },
  {
   "metadata": {
    "ExecuteTime": {
     "end_time": "2024-06-09T22:08:12.594424Z",
     "start_time": "2024-06-09T22:08:12.581432Z"
    }
   },
   "cell_type": "code",
   "source": [
    "from prettytable import PrettyTable\n",
    "\n",
    "table = PrettyTable()\n",
    "table.field_names = [item[0] for item in SELECTED_FEATURES_BY_METHOD.items()]\n",
    "table.field_names.remove('NO_SELECTOR')\n",
    "transp = []\n",
    "for item in SELECTED_FEATURES_BY_METHOD.items():\n",
    "    if item[1].name != 'NO_SELECTOR':\n",
    "        item[1].selected_features.sort()\n",
    "        transp.append(item[1].selected_features)\n",
    "\n",
    "transp = np.array(transp)\n",
    "\n",
    "for i_ in range(transp.shape[1]):\n",
    "    table.add_row(transp[:, i_])\n",
    "\n",
    "print(table)"
   ],
   "id": "bf1c2412fe9f1867",
   "outputs": [
    {
     "name": "stdout",
     "output_type": "stream",
     "text": [
      "+------------------------------+------------------+-----------------+--------------+-------------+-------------+\n",
      "|      EMBEDDED_FEATURES       | WRAPPER_FEATURES | FILTER_FEATURES | SFM_FEATURES | VT_FEATURES | MI_FEATURES |\n",
      "+------------------------------+------------------+-----------------+--------------+-------------+-------------+\n",
      "|             10p              |       000        |       150p      |     1000     |     and     |     1000    |\n",
      "|             150p             |       150p       |        16       |     150p     |     are     |     150p    |\n",
      "|              16              |        16        |        18       |      18      |      at     |      16     |\n",
      "|             20p              |       8552       |        50       |      50      |      be     |      18     |\n",
      "|             800              |     accounts     |       500       |     500      |     but     |      50     |\n",
      "|            alert             |    afternoon     |       call      |     call     |     call    |     500     |\n",
      "|            claim             |       amp        |       cash      |     cash     |     can     |     call    |\n",
      "|          collection          |       bit        |      claim      |    claim     |      do     |     cash    |\n",
      "|           fantasy            |       busy       |        co       |      co      |     for     |    claim    |\n",
      "|           freemsg            |       but        |        cs       |     com      |     free    |      co     |\n",
      "|            gender            |       call       |       free      |   customer   |      gt     |      cs     |\n",
      "|            later             |     chennai      |    guaranteed   |     free     |     have    |     free    |\n",
      "|            liked             |        co        |      mobile     |  guaranteed  |      if     |  guaranteed |\n",
      "|              lt              |        da        |      nokia      |    mobile    |      in     |    mobile   |\n",
      "|             mail             |      didnt       |       now       |     new      |      is     |    nokia    |\n",
      "| minmobsmorelkpobox177hp51fl  |      fancy       |        or       |     now      |      it     |     now     |\n",
      "| minmoremobsemspobox45po139wa |        gt        |      prize      |      or      |      lt     |      or     |\n",
      "|             mins             |      later       |      reply      |    prize     |      me     |    prize    |\n",
      "|            orange            |        me        |     service     |    reply     |      my     |    reply    |\n",
      "|            paris             |      mobile      |       stop      |   ringtone   |     not     |   service   |\n",
      "|           premium            |        my        |       text      |   service    |     now     |     stop    |\n",
      "|             rate             |       next       |        to       |     stop     |      of     |     text    |\n",
      "|           ringtone           |       paid       |       tone      |     text     |      on     |      to     |\n",
      "|           services           |      place       |       txt       |      to      |      or     |     tone    |\n",
      "|             tone             |       pls        |        uk       |     txt      |      so     |     txt     |\n",
      "|             txts             |      prize       |      urgent     |      uk      |     that    |      uk     |\n",
      "|              u4              |     service      |       win       |    urgent    |     the     |     win     |\n",
      "|            valid             |       sky        |       won       |     win      |      to     |     won     |\n",
      "|           vodafone           |       txt        |       www       |     www      |      ur     |     www     |\n",
      "|          voicemail           |       www        |       your      |     your     |      we     |     your    |\n",
      "+------------------------------+------------------+-----------------+--------------+-------------+-------------+\n"
     ]
    }
   ],
   "execution_count": 13
  },
  {
   "metadata": {},
   "cell_type": "markdown",
   "source": "## Selection impact on model results analysis",
   "id": "abbabdd6e956069e"
  },
  {
   "metadata": {
    "ExecuteTime": {
     "end_time": "2024-06-09T22:08:12.605882Z",
     "start_time": "2024-06-09T22:08:12.595434Z"
    }
   },
   "cell_type": "code",
   "source": [
    "from sklearn.naive_bayes import MultinomialNB\n",
    "from sklearn.tree import DecisionTreeClassifier\n",
    "from sklearn.svm import SVC\n",
    "\n",
    "classifiers = {\n",
    "    'bias': MultinomialNB(),\n",
    "    'dec_tree': DecisionTreeClassifier(),\n",
    "    'svc': SVC(probability=True)\n",
    "}\n"
   ],
   "id": "422725efb9aa8c3a",
   "outputs": [],
   "execution_count": 14
  },
  {
   "metadata": {
    "ExecuteTime": {
     "end_time": "2024-06-09T22:08:12.614251Z",
     "start_time": "2024-06-09T22:08:12.606889Z"
    }
   },
   "cell_type": "code",
   "source": [
    "def compare_selector_results(metric: Callable[[[float], [float]], float]) -> None:\n",
    "    res_table = PrettyTable()\n",
    "    field_names = ['selector']\n",
    "    for classifier_item in classifiers.items():\n",
    "        field_names.append(classifier_item[0])\n",
    "\n",
    "    res_table.field_names = field_names\n",
    "\n",
    "    for selector_item in SELECTED_FEATURES_BY_METHOD.items():\n",
    "        selector = selector_item[1]\n",
    "        row = [f'{selector_item[0]}']\n",
    "        for classifier_item in classifiers.items():\n",
    "            st = time.time()\n",
    "            ev = evaluate_model(classifier_item[1], train_exdog_vector[:, selector.selected_indices],\n",
    "                                test_exdog_vector[:, selector.selected_indices], train_ans, test_ans, metric)\n",
    "            elapsed = time.time() - st\n",
    "            with_selection = ModelResult(classifier_item[0], str(metric), ev, True)\n",
    "            selector.classifier_results[classifier_item[0]] = with_selection\n",
    "            row.append(f'{with_selection.result:.5f} / {elapsed:.6f} s')\n",
    "        res_table.add_row(row)\n",
    "\n",
    "    print(res_table)"
   ],
   "id": "e993c03999e41b1f",
   "outputs": [],
   "execution_count": 15
  },
  {
   "metadata": {
    "ExecuteTime": {
     "end_time": "2024-06-09T22:08:20.776331Z",
     "start_time": "2024-06-09T22:08:12.615786Z"
    }
   },
   "cell_type": "code",
   "source": [
    "from sklearn.metrics import f1_score, roc_auc_score\n",
    "\n",
    "compare_selector_results(accuracy_score)"
   ],
   "id": "7197c6e72d0f8018",
   "outputs": [
    {
     "name": "stdout",
     "output_type": "stream",
     "text": [
      "+-------------------+----------------------+----------------------+----------------------+\n",
      "|      selector     |         bias         |       dec_tree       |         svc          |\n",
      "+-------------------+----------------------+----------------------+----------------------+\n",
      "|    NO_SELECTOR    | 0.98851 / 0.005004 s | 0.97416 / 0.175598 s | 0.98421 / 5.243571 s |\n",
      "| EMBEDDED_FEATURES | 0.92678 / 0.002000 s | 0.93180 / 0.002577 s | 0.93037 / 0.124978 s |\n",
      "|  WRAPPER_FEATURES | 0.95765 / 0.001000 s | 0.97775 / 0.005001 s | 0.97775 / 0.267844 s |\n",
      "|  FILTER_FEATURES  | 0.95190 / 0.001265 s | 0.95765 / 0.006095 s | 0.96482 / 0.382791 s |\n",
      "|    SFM_FEATURES   | 0.95190 / 0.002086 s | 0.96123 / 0.005006 s | 0.96339 / 0.395813 s |\n",
      "|    VT_FEATURES    | 0.93826 / 0.003006 s | 0.93180 / 0.018036 s | 0.95908 / 1.102260 s |\n",
      "|    MI_FEATURES    | 0.95118 / 0.001925 s | 0.95836 / 0.005338 s | 0.96411 / 0.397794 s |\n",
      "+-------------------+----------------------+----------------------+----------------------+\n"
     ]
    }
   ],
   "execution_count": 16
  },
  {
   "metadata": {
    "ExecuteTime": {
     "end_time": "2024-06-09T22:08:28.931252Z",
     "start_time": "2024-06-09T22:08:20.776331Z"
    }
   },
   "cell_type": "code",
   "source": "compare_selector_results(f1_score)",
   "id": "9893cfed7ac5f2b6",
   "outputs": [
    {
     "name": "stdout",
     "output_type": "stream",
     "text": [
      "+-------------------+----------------------+----------------------+----------------------+\n",
      "|      selector     |         bias         |       dec_tree       |         svc          |\n",
      "+-------------------+----------------------+----------------------+----------------------+\n",
      "|    NO_SELECTOR    | 0.95604 / 0.006093 s | 0.90000 / 0.183327 s | 0.93714 / 5.235034 s |\n",
      "| EMBEDDED_FEATURES | 0.62774 / 0.002096 s | 0.66899 / 0.003997 s | 0.66436 / 0.126528 s |\n",
      "|  WRAPPER_FEATURES | 0.81505 / 0.002981 s | 0.91317 / 0.004171 s | 0.91268 / 0.271974 s |\n",
      "|  FILTER_FEATURES  | 0.78457 / 0.002998 s | 0.83237 / 0.005546 s | 0.86197 / 0.388351 s |\n",
      "|    SFM_FEATURES   | 0.78594 / 0.002250 s | 0.85470 / 0.006870 s | 0.85634 / 0.391688 s |\n",
      "|    VT_FEATURES    | 0.72785 / 0.003089 s | 0.73740 / 0.019072 s | 0.82569 / 1.100742 s |\n",
      "|    MI_FEATURES    | 0.78065 / 0.002422 s | 0.83626 / 0.006728 s | 0.85795 / 0.384618 s |\n",
      "+-------------------+----------------------+----------------------+----------------------+\n"
     ]
    }
   ],
   "execution_count": 17
  },
  {
   "metadata": {
    "ExecuteTime": {
     "end_time": "2024-06-09T22:08:37.026725Z",
     "start_time": "2024-06-09T22:08:28.932320Z"
    }
   },
   "cell_type": "code",
   "source": "compare_selector_results(roc_auc_score)",
   "id": "896b6d5f8666ae07",
   "outputs": [
    {
     "name": "stdout",
     "output_type": "stream",
     "text": [
      "+-------------------+----------------------+----------------------+----------------------+\n",
      "|      selector     |         bias         |       dec_tree       |         svc          |\n",
      "+-------------------+----------------------+----------------------+----------------------+\n",
      "|    NO_SELECTOR    | 0.96608 / 0.005399 s | 0.93423 / 0.170022 s | 0.94086 / 5.179624 s |\n",
      "| EMBEDDED_FEATURES | 0.73035 / 0.002539 s | 0.75599 / 0.003030 s | 0.75516 / 0.124480 s |\n",
      "|  WRAPPER_FEATURES | 0.84822 / 0.002000 s | 0.93486 / 0.004452 s | 0.93258 / 0.282847 s |\n",
      "|  FILTER_FEATURES  | 0.82671 / 0.002935 s | 0.87861 / 0.005331 s | 0.90466 / 0.388709 s |\n",
      "|    SFM_FEATURES   | 0.82899 / 0.002002 s | 0.88895 / 0.006219 s | 0.90156 / 0.391290 s |\n",
      "|    VT_FEATURES    | 0.80293 / 0.002992 s | 0.85150 / 0.019098 s | 0.86042 / 1.103250 s |\n",
      "|    MI_FEATURES    | 0.82403 / 0.002180 s | 0.87902 / 0.006100 s | 0.89970 / 0.386183 s |\n",
      "+-------------------+----------------------+----------------------+----------------------+\n"
     ]
    }
   ],
   "execution_count": 18
  },
  {
   "metadata": {},
   "cell_type": "markdown",
   "source": "**As demonstrated by tests on 3 different classifiers, reducing the number of features in most cases doesn't significantly spoil model quality but reduces evaluation time on order**",
   "id": "d8e29ed9d40cb758"
  },
  {
   "metadata": {},
   "cell_type": "code",
   "outputs": [],
   "execution_count": null,
   "source": "",
   "id": "1630b5ef2b81aa20"
  }
 ],
 "metadata": {
  "kernelspec": {
   "display_name": "Python 3",
   "language": "python",
   "name": "python3"
  },
  "language_info": {
   "codemirror_mode": {
    "name": "ipython",
    "version": 2
   },
   "file_extension": ".py",
   "mimetype": "text/x-python",
   "name": "python",
   "nbconvert_exporter": "python",
   "pygments_lexer": "ipython2",
   "version": "2.7.6"
  }
 },
 "nbformat": 4,
 "nbformat_minor": 5
}
