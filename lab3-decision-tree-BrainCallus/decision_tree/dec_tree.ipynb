{
 "cells": [
  {
   "cell_type": "code",
   "id": "initial_id",
   "metadata": {
    "collapsed": true,
    "ExecuteTime": {
     "end_time": "2024-06-20T22:34:14.180486Z",
     "start_time": "2024-06-20T22:34:14.172008Z"
    }
   },
   "source": [
    "from model.data_handler import *\n",
    "\n",
    "from model.optimizer import *\n",
    "from model.interactor.impl.decision_tree_interactor import *\n",
    "from model.interactor.impl.random_forest_interactor import *\n",
    "from model.interactor.impl.ada_boost_interactor import *\n",
    "from model.interactor.library.decision_tree_interactor_lib import *\n",
    "from model.interactor.library.random_forest_interactor_lib import *\n",
    "from model.interactor.library.ada_boost_interactor_lib import *\n",
    "from model.params.partition_crit import *\n",
    "\n",
    "ultraviolet = '#9A00F5'\n",
    "pure_aqua = '#00FFFF'\n",
    "neon_red = '#FF005D'\n",
    "mint = '#04FF82'"
   ],
   "outputs": [],
   "execution_count": 40
  },
  {
   "metadata": {
    "ExecuteTime": {
     "end_time": "2024-06-19T23:09:11.542132Z",
     "start_time": "2024-06-19T23:09:11.518312Z"
    }
   },
   "cell_type": "code",
   "source": [
    "handler = DataHandler('data/reduced_01-10-23__01-03-24.csv', 'document_type')\n",
    "handler.data.head()"
   ],
   "id": "e692cfdb43ec2af5",
   "outputs": [
    {
     "data": {
      "text/plain": [
       "   projectId         department  \\\n",
       "0     146100    Минздрав России   \n",
       "1     146099    Минздрав России   \n",
       "2     146098    Минздрав России   \n",
       "3     146097    Минздрав России   \n",
       "4     146095  Минсельхоз России   \n",
       "\n",
       "                                       document_type  \\\n",
       "0  Проект постановления Правительства Российской ...   \n",
       "1  Проект постановления Правительства Российской ...   \n",
       "2                         Проект ведомственного акта   \n",
       "3                         Проект ведомственного акта   \n",
       "4  Проект постановления Правительства Российской ...   \n",
       "\n",
       "                                               title  progress  views  \\\n",
       "0  О внесении изменений в постановление Правитель...       1.0    315   \n",
       "1  О внесении изменений в постановление Правитель...       1.0    358   \n",
       "2  Об утверждении общих требований к организации ...       1.0    556   \n",
       "3  Об утверждении Порядка оповещения законного пр...       1.0    350   \n",
       "4  О внесении изменения в постановление Правитель...       1.0    253   \n",
       "\n",
       "   project_card_size_Kb  \n",
       "0              0.354492  \n",
       "1              0.354492  \n",
       "2              0.367188  \n",
       "3              0.582031  \n",
       "4              0.359375  "
      ],
      "text/html": [
       "<div>\n",
       "<style scoped>\n",
       "    .dataframe tbody tr th:only-of-type {\n",
       "        vertical-align: middle;\n",
       "    }\n",
       "\n",
       "    .dataframe tbody tr th {\n",
       "        vertical-align: top;\n",
       "    }\n",
       "\n",
       "    .dataframe thead th {\n",
       "        text-align: right;\n",
       "    }\n",
       "</style>\n",
       "<table border=\"1\" class=\"dataframe\">\n",
       "  <thead>\n",
       "    <tr style=\"text-align: right;\">\n",
       "      <th></th>\n",
       "      <th>projectId</th>\n",
       "      <th>department</th>\n",
       "      <th>document_type</th>\n",
       "      <th>title</th>\n",
       "      <th>progress</th>\n",
       "      <th>views</th>\n",
       "      <th>project_card_size_Kb</th>\n",
       "    </tr>\n",
       "  </thead>\n",
       "  <tbody>\n",
       "    <tr>\n",
       "      <th>0</th>\n",
       "      <td>146100</td>\n",
       "      <td>Минздрав России</td>\n",
       "      <td>Проект постановления Правительства Российской ...</td>\n",
       "      <td>О внесении изменений в постановление Правитель...</td>\n",
       "      <td>1.0</td>\n",
       "      <td>315</td>\n",
       "      <td>0.354492</td>\n",
       "    </tr>\n",
       "    <tr>\n",
       "      <th>1</th>\n",
       "      <td>146099</td>\n",
       "      <td>Минздрав России</td>\n",
       "      <td>Проект постановления Правительства Российской ...</td>\n",
       "      <td>О внесении изменений в постановление Правитель...</td>\n",
       "      <td>1.0</td>\n",
       "      <td>358</td>\n",
       "      <td>0.354492</td>\n",
       "    </tr>\n",
       "    <tr>\n",
       "      <th>2</th>\n",
       "      <td>146098</td>\n",
       "      <td>Минздрав России</td>\n",
       "      <td>Проект ведомственного акта</td>\n",
       "      <td>Об утверждении общих требований к организации ...</td>\n",
       "      <td>1.0</td>\n",
       "      <td>556</td>\n",
       "      <td>0.367188</td>\n",
       "    </tr>\n",
       "    <tr>\n",
       "      <th>3</th>\n",
       "      <td>146097</td>\n",
       "      <td>Минздрав России</td>\n",
       "      <td>Проект ведомственного акта</td>\n",
       "      <td>Об утверждении Порядка оповещения законного пр...</td>\n",
       "      <td>1.0</td>\n",
       "      <td>350</td>\n",
       "      <td>0.582031</td>\n",
       "    </tr>\n",
       "    <tr>\n",
       "      <th>4</th>\n",
       "      <td>146095</td>\n",
       "      <td>Минсельхоз России</td>\n",
       "      <td>Проект постановления Правительства Российской ...</td>\n",
       "      <td>О внесении изменения в постановление Правитель...</td>\n",
       "      <td>1.0</td>\n",
       "      <td>253</td>\n",
       "      <td>0.359375</td>\n",
       "    </tr>\n",
       "  </tbody>\n",
       "</table>\n",
       "</div>"
      ]
     },
     "execution_count": 2,
     "metadata": {},
     "output_type": "execute_result"
    }
   ],
   "execution_count": 2
  },
  {
   "metadata": {
    "ExecuteTime": {
     "end_time": "2024-06-19T23:09:11.550413Z",
     "start_time": "2024-06-19T23:09:11.543141Z"
    }
   },
   "cell_type": "code",
   "source": "handler.data.info()",
   "id": "9c9c5ff27ae2ce0a",
   "outputs": [
    {
     "name": "stdout",
     "output_type": "stream",
     "text": [
      "<class 'pandas.core.frame.DataFrame'>\n",
      "RangeIndex: 712 entries, 0 to 711\n",
      "Data columns (total 7 columns):\n",
      " #   Column                Non-Null Count  Dtype  \n",
      "---  ------                --------------  -----  \n",
      " 0   projectId             712 non-null    int64  \n",
      " 1   department            712 non-null    object \n",
      " 2   document_type         712 non-null    object \n",
      " 3   title                 712 non-null    object \n",
      " 4   progress              712 non-null    float64\n",
      " 5   views                 712 non-null    int64  \n",
      " 6   project_card_size_Kb  712 non-null    float64\n",
      "dtypes: float64(2), int64(2), object(3)\n",
      "memory usage: 39.1+ KB\n"
     ]
    }
   ],
   "execution_count": 3
  },
  {
   "metadata": {
    "ExecuteTime": {
     "end_time": "2024-06-19T23:09:11.561053Z",
     "start_time": "2024-06-19T23:09:11.552433Z"
    }
   },
   "cell_type": "code",
   "source": [
    "print(handler.data['document_type'].unique())\n",
    "print(handler.data['document_type'].unique().__len__())\n",
    "handler.drop_cols(['projectId', 'project_card_size_Kb'])\n",
    "handler.working_copy.info()"
   ],
   "id": "4849f38d5d927d15",
   "outputs": [
    {
     "name": "stdout",
     "output_type": "stream",
     "text": [
      "['Проект постановления Правительства Российской Федерации'\n",
      " 'Проект ведомственного акта' 'Проект федерального закона'\n",
      " 'Проект Указа Президента Российской Федерации'\n",
      " 'Распоряжение правительства РФ']\n",
      "5\n",
      "<class 'pandas.core.frame.DataFrame'>\n",
      "RangeIndex: 712 entries, 0 to 711\n",
      "Data columns (total 5 columns):\n",
      " #   Column         Non-Null Count  Dtype  \n",
      "---  ------         --------------  -----  \n",
      " 0   department     712 non-null    object \n",
      " 1   document_type  712 non-null    object \n",
      " 2   title          712 non-null    object \n",
      " 3   progress       712 non-null    float64\n",
      " 4   views          712 non-null    int64  \n",
      "dtypes: float64(1), int64(1), object(3)\n",
      "memory usage: 27.9+ KB\n"
     ]
    }
   ],
   "execution_count": 4
  },
  {
   "metadata": {
    "ExecuteTime": {
     "end_time": "2024-06-19T23:09:11.566150Z",
     "start_time": "2024-06-19T23:09:11.562064Z"
    }
   },
   "cell_type": "code",
   "source": "handler.working_copy['titleLen'] = handler.working_copy['title'].map(lambda x: x.__len__())",
   "id": "dc7fd06e91d54f83",
   "outputs": [],
   "execution_count": 5
  },
  {
   "metadata": {
    "ExecuteTime": {
     "end_time": "2024-06-19T23:09:11.575820Z",
     "start_time": "2024-06-19T23:09:11.567157Z"
    }
   },
   "cell_type": "code",
   "source": [
    "for dep in handler.working_copy['department'].unique():\n",
    "    print(dep)\n",
    "\n",
    "general_categories = {\n",
    "    'Минкультуры России': 'civil', 'Минфин России': 'economy', 'ФАС России': 'economy',\n",
    "    'Минздрав России': 'civil', 'Минюст России': 'juridic', 'ФТС России': 'siloviki',\n",
    "    'Минобороны России': 'siloviki', 'МЧС России': 'nature', 'Россотрудничество': 'international',\n",
    "    'Росреестр': 'juridic', 'Росаккредитация': 'juridic', 'СФР': 'civil', 'Росавиация': 'civil',\n",
    "    'Росводресурсы': 'nature', 'МВД России': 'siloviki', 'Минсельхоз России': 'civil',\n",
    "    'Минэкономразвития России': 'economy',\n",
    "    'Минтранс России': 'civil', 'Минпромторг России': 'economy', 'Минобрнауки России': 'civil',\n",
    "    'Минприроды России': 'nature', 'ФСИН России': 'siloviki', 'Центральный банк Российской Федерации': 'economy',\n",
    "    'Росавтодор': 'civil', 'Роскомнадзор': 'juridic', 'Минтруд России': 'civil',\n",
    "    'Минспорт России': 'civil', 'Росалкогольрегулирование': 'juridic', 'Минцифры России': 'juridic',\n",
    "    'МИД России': 'international', 'Минпросвещения России': 'civil', 'Минстрой России': 'civil',\n",
    "    'Ростехнадзор': 'juridic', 'Минэнерго России': 'civil', 'ФНС России': 'economy',\n",
    "    'Госкорпорация \"Росатом\"': 'economy', 'Росгвардия': 'siloviki',\n",
    "    'Следственный комитет Российской Федерации': 'siloviki',\n",
    "    'Росздравнадзор': 'juridic', 'ФМБА России': 'juridic', 'Минкомсвязь России': 'civil',\n",
    "    'Ространснадзор': 'juridic', 'ГФС России': 'siloviki',\n",
    "    'Генеральная прокуратура Российской Федерации': 'siloviki', 'Минвостокразвития России': 'economy',\n",
    "    'ФСБ России': 'siloviki', 'ФСО России': 'siloviki', 'Росстат': 'civil',\n",
    "    'Рособрнадзор': 'juridic', 'ГУСП': 'siloviki', 'Роспотребнадзор': 'juridic',\n",
    "    'Рослесхоз': 'nature', 'Казначейство России': 'economy', 'ФССП России': 'siloviki',\n",
    "    'Россельхознадзор': 'juridic', 'Росрыболовство': 'nature', 'Госкорпорация \"Роскосмос\"': 'economy',\n",
    "    'Судебный департамент': 'juridic', 'Росгидромет': 'nature', 'ФФОМС': 'civil',\n",
    "    'Роспатент': 'economy', 'Росприроднадзор': 'nature',\n",
    "    'Управление делами Президента Российской Федерации': 'juridic',\n",
    "    'Росфинмониторинг': 'economy', 'Росимущество': 'juridic', 'Роструд': 'civil',\n",
    "    'ФСВТС России': 'international', 'Росжелдор': 'civil', 'Федеральное агентство по делам национальностей': 'civil',\n",
    "    'Росмолодежь': 'civil', 'Росалкогольтабакконтроль': 'juridic', 'Росрезерв': 'juridic', 'ФСТЭК России': 'siloviki',\n",
    "    'Росархив': 'civil', 'Роснедра': 'nature', 'Росморречфлот': 'civil', 'Росстандарт': 'juridic'\n",
    "}\n",
    "\n",
    "\n",
    "def generalize_departments(department):\n",
    "    return general_categories.get(department)\n",
    "\n",
    "\n",
    "print('--------------------')\n",
    "gen_departments = set(map(generalize_departments, handler.working_copy['department'].unique()))\n",
    "for gd in gen_departments:\n",
    "    print(gd)"
   ],
   "id": "e7a8a7c7023f2540",
   "outputs": [
    {
     "name": "stdout",
     "output_type": "stream",
     "text": [
      "Минздрав России\n",
      "Минсельхоз России\n",
      "ФАС России\n",
      "Минпросвещения России\n",
      "Минпромторг России\n",
      "Росрыболовство\n",
      "Минэкономразвития России\n",
      "Минтруд России\n",
      "Росстат\n",
      "Рослесхоз\n",
      "Минобрнауки России\n",
      "Федеральное агентство по делам национальностей\n",
      "Минтранс России\n",
      "Минобороны России\n",
      "Росгидромет\n",
      "Роснедра\n",
      "МИД России\n",
      "Минфин России\n",
      "Росфинмониторинг\n",
      "Росприроднадзор\n",
      "Генеральная прокуратура Российской Федерации\n",
      "Минюст России\n",
      "Рособрнадзор\n",
      "Минспорт России\n",
      "Ростехнадзор\n",
      "МВД России\n",
      "Росреестр\n",
      "ФФОМС\n",
      "Минкультуры России\n",
      "Росморречфлот\n",
      "МЧС России\n",
      "Минприроды России\n",
      "Минэнерго России\n",
      "Минцифры России\n",
      "ФТС России\n",
      "Росавиация\n",
      "Росалкогольтабакконтроль\n",
      "Минвостокразвития России\n",
      "ФНС России\n",
      "ФСБ России\n",
      "Госкорпорация \"Росатом\"\n",
      "ФМБА России\n",
      "Центральный банк Российской Федерации\n",
      "Минстрой России\n",
      "Россельхознадзор\n",
      "Роспотребнадзор\n",
      "Минкомсвязь России\n",
      "Росгвардия\n",
      "ГУСП\n",
      "Росстандарт\n",
      "ФССП России\n",
      "Судебный департамент\n",
      "Россотрудничество\n",
      "Росимущество\n",
      "Госкорпорация \"Роскосмос\"\n",
      "Следственный комитет Российской Федерации\n",
      "ФСИН России\n",
      "Казначейство России\n",
      "ФСО России\n",
      "СФР\n",
      "Росздравнадзор\n",
      "Управление делами Президента Российской Федерации\n",
      "Росрезерв\n",
      "Росмолодежь\n",
      "Росжелдор\n",
      "Роструд\n",
      "Росаккредитация\n",
      "Росводресурсы\n",
      "ФСТЭК России\n",
      "Роскомнадзор\n",
      "--------------------\n",
      "juridic\n",
      "nature\n",
      "international\n",
      "siloviki\n",
      "civil\n",
      "economy\n"
     ]
    }
   ],
   "execution_count": 6
  },
  {
   "metadata": {
    "ExecuteTime": {
     "end_time": "2024-06-19T23:09:11.583118Z",
     "start_time": "2024-06-19T23:09:11.576829Z"
    }
   },
   "cell_type": "code",
   "source": [
    "handler.working_copy['departmentGen'] = handler.working_copy['department'].map(generalize_departments)\n",
    "handler.drop_cols(['department', 'title'])"
   ],
   "id": "26ef3245d7221198",
   "outputs": [],
   "execution_count": 7
  },
  {
   "metadata": {
    "ExecuteTime": {
     "end_time": "2024-06-19T23:09:11.745181Z",
     "start_time": "2024-06-19T23:09:11.584138Z"
    }
   },
   "cell_type": "code",
   "source": "handler.make_correlation()",
   "id": "18b0864a7786bb61",
   "outputs": [
    {
     "data": {
      "text/plain": [
       "<Figure size 1200x800 with 2 Axes>"
      ],
      "image/png": "[encoded data removed]"
     },
     "metadata": {},
     "output_type": "display_data"
    }
   ],
   "execution_count": 8
  },
  {
   "metadata": {
    "ExecuteTime": {
     "end_time": "2024-06-19T23:09:11.757189Z",
     "start_time": "2024-06-19T23:09:11.746200Z"
    }
   },
   "cell_type": "code",
   "source": [
    "exdog, endog = handler.make_ex_endog()\n",
    "\n",
    "train_exdog, test_exdog, train_ans, test_ans = train_test_split(exdog, endog, test_size=0.25, random_state=0)\n",
    "\n",
    "print(exdog.head(10))"
   ],
   "id": "3524a5239b4702c7",
   "outputs": [
    {
     "name": "stdout",
     "output_type": "stream",
     "text": [
      "   progress  views  titleLen  departmentGen_civil  departmentGen_economy  \\\n",
      "0       1.0    315        96                  1.0                    0.0   \n",
      "1       1.0    358        96                  1.0                    0.0   \n",
      "2       1.0    556       126                  1.0                    0.0   \n",
      "3       1.0    350       278                  1.0                    0.0   \n",
      "4       1.0    253        97                  1.0                    0.0   \n",
      "5       1.0    354        69                  0.0                    1.0   \n",
      "6       1.0    162       234                  1.0                    0.0   \n",
      "7       1.0    223       190                  1.0                    0.0   \n",
      "8       1.0    355        96                  0.0                    1.0   \n",
      "9       1.0    160       155                  1.0                    0.0   \n",
      "\n",
      "   departmentGen_international  departmentGen_juridic  departmentGen_nature  \\\n",
      "0                          0.0                    0.0                   0.0   \n",
      "1                          0.0                    0.0                   0.0   \n",
      "2                          0.0                    0.0                   0.0   \n",
      "3                          0.0                    0.0                   0.0   \n",
      "4                          0.0                    0.0                   0.0   \n",
      "5                          0.0                    0.0                   0.0   \n",
      "6                          0.0                    0.0                   0.0   \n",
      "7                          0.0                    0.0                   0.0   \n",
      "8                          0.0                    0.0                   0.0   \n",
      "9                          0.0                    0.0                   0.0   \n",
      "\n",
      "   departmentGen_siloviki  \n",
      "0                     0.0  \n",
      "1                     0.0  \n",
      "2                     0.0  \n",
      "3                     0.0  \n",
      "4                     0.0  \n",
      "5                     0.0  \n",
      "6                     0.0  \n",
      "7                     0.0  \n",
      "8                     0.0  \n",
      "9                     0.0  \n"
     ]
    }
   ],
   "execution_count": 9
  },
  {
   "metadata": {
    "ExecuteTime": {
     "end_time": "2024-06-19T23:09:11.765266Z",
     "start_time": "2024-06-19T23:09:11.759204Z"
    }
   },
   "cell_type": "code",
   "source": "exdog.info()",
   "id": "5ec6128ccc92cb05",
   "outputs": [
    {
     "name": "stdout",
     "output_type": "stream",
     "text": [
      "<class 'pandas.core.frame.DataFrame'>\n",
      "RangeIndex: 712 entries, 0 to 711\n",
      "Data columns (total 9 columns):\n",
      " #   Column                       Non-Null Count  Dtype  \n",
      "---  ------                       --------------  -----  \n",
      " 0   progress                     712 non-null    float64\n",
      " 1   views                        712 non-null    int64  \n",
      " 2   titleLen                     712 non-null    int64  \n",
      " 3   departmentGen_civil          712 non-null    float64\n",
      " 4   departmentGen_economy        712 non-null    float64\n",
      " 5   departmentGen_international  712 non-null    float64\n",
      " 6   departmentGen_juridic        712 non-null    float64\n",
      " 7   departmentGen_nature         712 non-null    float64\n",
      " 8   departmentGen_siloviki       712 non-null    float64\n",
      "dtypes: float64(7), int64(2)\n",
      "memory usage: 50.2 KB\n"
     ]
    }
   ],
   "execution_count": 10
  },
  {
   "metadata": {
    "ExecuteTime": {
     "end_time": "2024-06-19T23:09:11.773525Z",
     "start_time": "2024-06-19T23:09:11.766275Z"
    }
   },
   "cell_type": "code",
   "source": [
    "print(np.unique(endog).__len__())\n",
    "print(f'assertion: {np.unique(endog).__len__() - handler.working_copy[handler.target_col].unique().__len__()}')"
   ],
   "id": "ac4162adbcde9465",
   "outputs": [
    {
     "name": "stdout",
     "output_type": "stream",
     "text": [
      "5\n",
      "assertion: 0\n"
     ]
    }
   ],
   "execution_count": 11
  },
  {
   "metadata": {
    "ExecuteTime": {
     "end_time": "2024-06-20T18:44:15.293742Z",
     "start_time": "2024-06-20T18:44:15.284780Z"
    }
   },
   "cell_type": "code",
   "source": [
    "def fix_obj_categorical_param(param_name: str, mapping: Dict[str, Any], best_params: Dict[str, Any]) -> Dict[str, Any]:\n",
    "    if param_name in best_params:\n",
    "        new_value = mapping.get(best_params[param_name])()\n",
    "        best_params.__setitem__(param_name, new_value)\n",
    "    return best_params\n",
    "\n",
    "\n",
    "def fix_partition_criterion_param(best_params: Dict[str, Any]) -> Dict[str, Any]:\n",
    "    return fix_obj_categorical_param('criterion', PARTITION_CRITERION_MAPPING, best_params)\n",
    "\n",
    "\n",
    "def fix_limiter_param(best_params: Dict[str, Any]) -> Dict[str, Any]:\n",
    "    return fix_obj_categorical_param('feature_limiter', FEATURES_LIMITER_MAPPING, best_params)\n",
    "\n",
    "\n",
    "def override_best_params(type_token: Type[T], fix_param_function: Callable[[Dict[str, Any]], Dict[str, Any]]):\n",
    "    if type_token not in optimizer.modes:\n",
    "        raise ValueError('Illegal interactor type. Expected existing instance')\n",
    "    cur_tuple = optimizer.modes[type_token]\n",
    "    print(cur_tuple)\n",
    "    optimizer.add_mode(type_token, cur_tuple[0], fix_param_function(cur_tuple[1]))\n",
    "\n",
    "\n",
    "def iterate_over_parameter(param_name: str, type_token: Type[T], _params: Dict[str, Any], lb: int = 1, ub: int = 101,\n",
    "                           step: int = 1) -> np.ndarray:\n",
    "    params = _params.copy()\n",
    "    optimizer.switch_mode(type_token)\n",
    "    results = []\n",
    "    for i in range(lb, ub, step):\n",
    "        if i % (ub // 10) == 0:\n",
    "            print(f'processed {i} / {ub} with step {step} iters')\n",
    "        params[param_name] = i\n",
    "        classifier = optimizer.current_interactor.build(params)\n",
    "        classifier.fit(optimizer.train_exdog, optimizer.train_ans)\n",
    "        pred = classifier.predict(optimizer.test_exdog)\n",
    "        f1 = optimizer.metric(optimizer.test_ans, pred)\n",
    "        for _ in range(step):\n",
    "            results.append(f1)\n",
    "\n",
    "    return results\n",
    "\n",
    "\n",
    "def iterate_over_depth(type_token: Type[T], _params: Dict[str, Any], lb: int = 1, ub: int = 101,\n",
    "                       step: int = 1) -> np.ndarray:\n",
    "    return iterate_over_parameter('max_depth', type_token, _params, lb, ub, step)\n",
    "\n",
    "\n",
    "def iterate_over_number_of_trees(type_token: Type[T], _params: Dict[str, Any], lb: int = 1, ub: int = 101,\n",
    "                                 step: int = 1) -> np.ndarray:\n",
    "    return iterate_over_parameter('n_estimators', type_token, _params, lb, ub, step)"
   ],
   "id": "8c8c7e3fc0dccf6c",
   "outputs": [],
   "execution_count": 32
  },
  {
   "metadata": {},
   "cell_type": "markdown",
   "source": [
    "***Initializing an instance of TreeClassifierOptimizer that used to operate and save parameters and other info from models***\n",
    "As a metric was chosen f1_score since it takes into account both precision and recall"
   ],
   "id": "ad47e2ce9cf07cfc"
  },
  {
   "metadata": {
    "ExecuteTime": {
     "end_time": "2024-06-19T23:09:11.791467Z",
     "start_time": "2024-06-19T23:09:11.784168Z"
    }
   },
   "cell_type": "code",
   "source": [
    "optimizer = TreeClassifierOptimizer(exdog, endog, test_part=0.25,\n",
    "                                    metric=lambda ans, pred: f1_score(ans, pred, average='weighted'))"
   ],
   "id": "a3d1bd982b7965ac",
   "outputs": [],
   "execution_count": 13
  },
  {
   "metadata": {},
   "cell_type": "markdown",
   "source": "### Decision Tree",
   "id": "61ba5847082406c"
  },
  {
   "metadata": {},
   "cell_type": "markdown",
   "source": [
    "#### Library version\n",
    "find the best parameters for lib DecisionTree with unlimited depth(height) (*`max_depth=np.iinfo(np.int32).max`*)"
   ],
   "id": "b0701c9c355c4248"
  },
  {
   "metadata": {},
   "cell_type": "markdown",
   "source": "*add mod to optimizer and test that basically works*",
   "id": "1e62c5bc0700c509"
  },
  {
   "metadata": {
    "ExecuteTime": {
     "end_time": "2024-06-19T23:09:11.808700Z",
     "start_time": "2024-06-19T23:09:11.792475Z"
    }
   },
   "cell_type": "code",
   "source": [
    "optimizer.add_mode(DecisionTreeLibInteractor, DecisionTreeLibInteractor())\n",
    "optimizer.switch_mode(DecisionTreeLibInteractor)\n",
    "dec_tree_lib = optimizer.current_interactor.build(\n",
    "    {'max_depth': None, 'min_samples_split': 10, 'min_samples_leaf': 5, 'criterion': 'gini'})\n",
    "dec_tree_lib.fit(optimizer.train_exdog, optimizer.train_ans)\n",
    "preds = dec_tree_lib.predict(optimizer.test_exdog)\n",
    "print(f'f1_score: {optimizer.metric(optimizer.test_ans, preds)}')"
   ],
   "id": "e5fdb31850c0f640",
   "outputs": [
    {
     "name": "stdout",
     "output_type": "stream",
     "text": [
      "\u001B[1;96m [INFO]\u001B[0m TreeClassifierOptimizer 2024-06-20 02:09:11.797476: DecisionTreeLibInteractor(<class 'model.interactor.library.decision_tree_interactor_lib.DecisionTreeLibInteractor'>) successfully added(updated)\n",
      "f1_score: 0.7072495656512826\n"
     ]
    }
   ],
   "execution_count": 14
  },
  {
   "metadata": {
    "ExecuteTime": {
     "end_time": "2024-06-19T23:09:13.289756Z",
     "start_time": "2024-06-19T23:09:11.809709Z"
    }
   },
   "cell_type": "code",
   "source": [
    "DEC_TREE_LIB_BEST_PARAMS = optimizer.run_study(n_trials=100)\n",
    "print(DEC_TREE_LIB_BEST_PARAMS)\n",
    "DEC_TREE_LIB_BEST_PARAMS = optimizer.modes[DecisionTreeLibInteractor][1]"
   ],
   "id": "9ee5ff290f4557ec",
   "outputs": [
    {
     "name": "stderr",
     "output_type": "stream",
     "text": [
      "[I 2024-06-20 02:09:11,811] A new study created in memory with name: no-name-3a347c98-f6bf-4c08-902f-818a600346a7\n",
      "[I 2024-06-20 02:09:11,817] Trial 0 finished with value: 0.7644522569376758 and parameters: {'max_depth': 2147483647, 'min_samples_split': 2, 'min_samples_leaf': 19, 'criterion': 'gini'}. Best is trial 0 with value: 0.7644522569376758.\n",
      "[I 2024-06-20 02:09:11,823] Trial 1 finished with value: 0.7319547013464099 and parameters: {'max_depth': 2147483647, 'min_samples_split': 23, 'min_samples_leaf': 1, 'criterion': 'entropy'}. Best is trial 0 with value: 0.7644522569376758.\n",
      "[I 2024-06-20 02:09:11,831] Trial 2 finished with value: 0.8217839671821777 and parameters: {'max_depth': 2147483647, 'min_samples_split': 40, 'min_samples_leaf': 44, 'criterion': 'log_loss'}. Best is trial 2 with value: 0.8217839671821777.\n",
      "[I 2024-06-20 02:09:11,839] Trial 3 finished with value: 0.8153571573439338 and parameters: {'max_depth': 2147483647, 'min_samples_split': 24, 'min_samples_leaf': 49, 'criterion': 'gini'}. Best is trial 2 with value: 0.8217839671821777.\n",
      "[I 2024-06-20 02:09:11,845] Trial 4 finished with value: 0.8217839671821777 and parameters: {'max_depth': 2147483647, 'min_samples_split': 36, 'min_samples_leaf': 33, 'criterion': 'log_loss'}. Best is trial 2 with value: 0.8217839671821777.\n",
      "[I 2024-06-20 02:09:11,853] Trial 5 finished with value: 0.8040422288124974 and parameters: {'max_depth': 2147483647, 'min_samples_split': 35, 'min_samples_leaf': 20, 'criterion': 'entropy'}. Best is trial 2 with value: 0.8217839671821777.\n",
      "[I 2024-06-20 02:09:11,862] Trial 6 finished with value: 0.8217839671821777 and parameters: {'max_depth': 2147483647, 'min_samples_split': 48, 'min_samples_leaf': 3, 'criterion': 'log_loss'}. Best is trial 2 with value: 0.8217839671821777.\n",
      "[I 2024-06-20 02:09:11,871] Trial 7 finished with value: 0.8168053446705131 and parameters: {'max_depth': 2147483647, 'min_samples_split': 49, 'min_samples_leaf': 25, 'criterion': 'log_loss'}. Best is trial 2 with value: 0.8217839671821777.\n",
      "[I 2024-06-20 02:09:11,877] Trial 8 finished with value: 0.7794915446600841 and parameters: {'max_depth': 2147483647, 'min_samples_split': 6, 'min_samples_leaf': 12, 'criterion': 'gini'}. Best is trial 2 with value: 0.8217839671821777.\n",
      "[I 2024-06-20 02:09:11,885] Trial 9 finished with value: 0.8153571573439338 and parameters: {'max_depth': 2147483647, 'min_samples_split': 47, 'min_samples_leaf': 39, 'criterion': 'gini'}. Best is trial 2 with value: 0.8217839671821777.\n",
      "[I 2024-06-20 02:09:11,900] Trial 10 finished with value: 0.8217839671821777 and parameters: {'max_depth': 2147483647, 'min_samples_split': 35, 'min_samples_leaf': 49, 'criterion': 'log_loss'}. Best is trial 2 with value: 0.8217839671821777.\n",
      "[I 2024-06-20 02:09:11,916] Trial 11 finished with value: 0.8217839671821777 and parameters: {'max_depth': 2147483647, 'min_samples_split': 36, 'min_samples_leaf': 35, 'criterion': 'log_loss'}. Best is trial 2 with value: 0.8217839671821777.\n",
      "[I 2024-06-20 02:09:11,931] Trial 12 finished with value: 0.8217839671821777 and parameters: {'max_depth': 2147483647, 'min_samples_split': 39, 'min_samples_leaf': 36, 'criterion': 'log_loss'}. Best is trial 2 with value: 0.8217839671821777.\n",
      "[I 2024-06-20 02:09:11,945] Trial 13 finished with value: 0.8217839671821777 and parameters: {'max_depth': 2147483647, 'min_samples_split': 17, 'min_samples_leaf': 39, 'criterion': 'log_loss'}. Best is trial 2 with value: 0.8217839671821777.\n",
      "[I 2024-06-20 02:09:11,957] Trial 14 finished with value: 0.8217839671821777 and parameters: {'max_depth': 2147483647, 'min_samples_split': 42, 'min_samples_leaf': 29, 'criterion': 'log_loss'}. Best is trial 2 with value: 0.8217839671821777.\n",
      "[I 2024-06-20 02:09:11,972] Trial 15 finished with value: 0.8217839671821777 and parameters: {'max_depth': 2147483647, 'min_samples_split': 31, 'min_samples_leaf': 43, 'criterion': 'log_loss'}. Best is trial 2 with value: 0.8217839671821777.\n",
      "[I 2024-06-20 02:09:11,991] Trial 16 finished with value: 0.8217839671821777 and parameters: {'max_depth': 2147483647, 'min_samples_split': 29, 'min_samples_leaf': 29, 'criterion': 'entropy'}. Best is trial 2 with value: 0.8217839671821777.\n",
      "[I 2024-06-20 02:09:12,007] Trial 17 finished with value: 0.8217839671821777 and parameters: {'max_depth': 2147483647, 'min_samples_split': 43, 'min_samples_leaf': 44, 'criterion': 'log_loss'}. Best is trial 2 with value: 0.8217839671821777.\n",
      "[I 2024-06-20 02:09:12,027] Trial 18 finished with value: 0.8217839671821777 and parameters: {'max_depth': 2147483647, 'min_samples_split': 14, 'min_samples_leaf': 31, 'criterion': 'log_loss'}. Best is trial 2 with value: 0.8217839671821777.\n",
      "[I 2024-06-20 02:09:12,048] Trial 19 finished with value: 0.8217839671821777 and parameters: {'max_depth': 2147483647, 'min_samples_split': 28, 'min_samples_leaf': 44, 'criterion': 'entropy'}. Best is trial 2 with value: 0.8217839671821777.\n",
      "[I 2024-06-20 02:09:12,064] Trial 20 finished with value: 0.8217839671821777 and parameters: {'max_depth': 2147483647, 'min_samples_split': 43, 'min_samples_leaf': 22, 'criterion': 'log_loss'}. Best is trial 2 with value: 0.8217839671821777.\n",
      "[I 2024-06-20 02:09:12,088] Trial 21 finished with value: 0.8217839671821777 and parameters: {'max_depth': 2147483647, 'min_samples_split': 50, 'min_samples_leaf': 3, 'criterion': 'log_loss'}. Best is trial 2 with value: 0.8217839671821777.\n",
      "[I 2024-06-20 02:09:12,104] Trial 22 finished with value: 0.7843498688510908 and parameters: {'max_depth': 2147483647, 'min_samples_split': 40, 'min_samples_leaf': 10, 'criterion': 'log_loss'}. Best is trial 2 with value: 0.8217839671821777.\n",
      "[I 2024-06-20 02:09:12,123] Trial 23 finished with value: 0.8217839671821777 and parameters: {'max_depth': 2147483647, 'min_samples_split': 45, 'min_samples_leaf': 13, 'criterion': 'log_loss'}. Best is trial 2 with value: 0.8217839671821777.\n",
      "[I 2024-06-20 02:09:12,144] Trial 24 finished with value: 0.8217839671821777 and parameters: {'max_depth': 2147483647, 'min_samples_split': 38, 'min_samples_leaf': 34, 'criterion': 'log_loss'}. Best is trial 2 with value: 0.8217839671821777.\n",
      "[I 2024-06-20 02:09:12,160] Trial 25 finished with value: 0.777529241899437 and parameters: {'max_depth': 2147483647, 'min_samples_split': 32, 'min_samples_leaf': 5, 'criterion': 'log_loss'}. Best is trial 2 with value: 0.8217839671821777.\n",
      "[I 2024-06-20 02:09:12,173] Trial 26 finished with value: 0.8217839671821777 and parameters: {'max_depth': 2147483647, 'min_samples_split': 47, 'min_samples_leaf': 16, 'criterion': 'log_loss'}. Best is trial 2 with value: 0.8217839671821777.\n",
      "[I 2024-06-20 02:09:12,188] Trial 27 finished with value: 0.8168053446705131 and parameters: {'max_depth': 2147483647, 'min_samples_split': 33, 'min_samples_leaf': 25, 'criterion': 'log_loss'}. Best is trial 2 with value: 0.8217839671821777.\n",
      "[I 2024-06-20 02:09:12,201] Trial 28 finished with value: 0.7843498688510908 and parameters: {'max_depth': 2147483647, 'min_samples_split': 40, 'min_samples_leaf': 8, 'criterion': 'entropy'}. Best is trial 2 with value: 0.8217839671821777.\n",
      "[I 2024-06-20 02:09:12,214] Trial 29 finished with value: 0.7644522569376758 and parameters: {'max_depth': 2147483647, 'min_samples_split': 20, 'min_samples_leaf': 17, 'criterion': 'gini'}. Best is trial 2 with value: 0.8217839671821777.\n",
      "[I 2024-06-20 02:09:12,232] Trial 30 finished with value: 0.8153571573439338 and parameters: {'max_depth': 2147483647, 'min_samples_split': 45, 'min_samples_leaf': 41, 'criterion': 'gini'}. Best is trial 2 with value: 0.8217839671821777.\n",
      "[I 2024-06-20 02:09:12,247] Trial 31 finished with value: 0.8217839671821777 and parameters: {'max_depth': 2147483647, 'min_samples_split': 35, 'min_samples_leaf': 50, 'criterion': 'log_loss'}. Best is trial 2 with value: 0.8217839671821777.\n",
      "[I 2024-06-20 02:09:12,261] Trial 32 finished with value: 0.8217839671821777 and parameters: {'max_depth': 2147483647, 'min_samples_split': 37, 'min_samples_leaf': 47, 'criterion': 'log_loss'}. Best is trial 2 with value: 0.8217839671821777.\n",
      "[I 2024-06-20 02:09:12,274] Trial 33 finished with value: 0.8217839671821777 and parameters: {'max_depth': 2147483647, 'min_samples_split': 26, 'min_samples_leaf': 46, 'criterion': 'log_loss'}. Best is trial 2 with value: 0.8217839671821777.\n",
      "[I 2024-06-20 02:09:12,288] Trial 34 finished with value: 0.8217839671821777 and parameters: {'max_depth': 2147483647, 'min_samples_split': 41, 'min_samples_leaf': 50, 'criterion': 'log_loss'}. Best is trial 2 with value: 0.8217839671821777.\n",
      "[I 2024-06-20 02:09:12,302] Trial 35 finished with value: 0.8217839671821777 and parameters: {'max_depth': 2147483647, 'min_samples_split': 46, 'min_samples_leaf': 38, 'criterion': 'entropy'}. Best is trial 2 with value: 0.8217839671821777.\n",
      "[I 2024-06-20 02:09:12,317] Trial 36 finished with value: 0.8217839671821777 and parameters: {'max_depth': 2147483647, 'min_samples_split': 33, 'min_samples_leaf': 32, 'criterion': 'log_loss'}. Best is trial 2 with value: 0.8217839671821777.\n",
      "[I 2024-06-20 02:09:12,330] Trial 37 finished with value: 0.8153571573439338 and parameters: {'max_depth': 2147483647, 'min_samples_split': 50, 'min_samples_leaf': 47, 'criterion': 'gini'}. Best is trial 2 with value: 0.8217839671821777.\n",
      "[I 2024-06-20 02:09:12,345] Trial 38 finished with value: 0.8217839671821777 and parameters: {'max_depth': 2147483647, 'min_samples_split': 35, 'min_samples_leaf': 41, 'criterion': 'log_loss'}. Best is trial 2 with value: 0.8217839671821777.\n",
      "[I 2024-06-20 02:09:12,367] Trial 39 finished with value: 0.8040422288124974 and parameters: {'max_depth': 2147483647, 'min_samples_split': 23, 'min_samples_leaf': 20, 'criterion': 'log_loss'}. Best is trial 2 with value: 0.8217839671821777.\n",
      "[I 2024-06-20 02:09:12,390] Trial 40 finished with value: 0.6729986770408085 and parameters: {'max_depth': 2147483647, 'min_samples_split': 2, 'min_samples_leaf': 1, 'criterion': 'gini'}. Best is trial 2 with value: 0.8217839671821777.\n",
      "[I 2024-06-20 02:09:12,410] Trial 41 finished with value: 0.8217839671821777 and parameters: {'max_depth': 2147483647, 'min_samples_split': 36, 'min_samples_leaf': 36, 'criterion': 'log_loss'}. Best is trial 2 with value: 0.8217839671821777.\n",
      "[I 2024-06-20 02:09:12,424] Trial 42 finished with value: 0.8168053446705131 and parameters: {'max_depth': 2147483647, 'min_samples_split': 30, 'min_samples_leaf': 27, 'criterion': 'log_loss'}. Best is trial 2 with value: 0.8217839671821777.\n",
      "[I 2024-06-20 02:09:12,446] Trial 43 finished with value: 0.8217839671821777 and parameters: {'max_depth': 2147483647, 'min_samples_split': 38, 'min_samples_leaf': 36, 'criterion': 'log_loss'}. Best is trial 2 with value: 0.8217839671821777.\n",
      "[I 2024-06-20 02:09:12,460] Trial 44 finished with value: 0.8217839671821777 and parameters: {'max_depth': 2147483647, 'min_samples_split': 26, 'min_samples_leaf': 23, 'criterion': 'log_loss'}. Best is trial 2 with value: 0.8217839671821777.\n",
      "[I 2024-06-20 02:09:12,481] Trial 45 finished with value: 0.8217839671821777 and parameters: {'max_depth': 2147483647, 'min_samples_split': 43, 'min_samples_leaf': 41, 'criterion': 'log_loss'}. Best is trial 2 with value: 0.8217839671821777.\n",
      "[I 2024-06-20 02:09:12,496] Trial 46 finished with value: 0.8217839671821777 and parameters: {'max_depth': 2147483647, 'min_samples_split': 48, 'min_samples_leaf': 32, 'criterion': 'entropy'}. Best is trial 2 with value: 0.8217839671821777.\n",
      "[I 2024-06-20 02:09:12,519] Trial 47 finished with value: 0.8217839671821777 and parameters: {'max_depth': 2147483647, 'min_samples_split': 34, 'min_samples_leaf': 28, 'criterion': 'log_loss'}. Best is trial 2 with value: 0.8217839671821777.\n",
      "[I 2024-06-20 02:09:12,545] Trial 48 finished with value: 0.8217839671821777 and parameters: {'max_depth': 2147483647, 'min_samples_split': 28, 'min_samples_leaf': 46, 'criterion': 'log_loss'}. Best is trial 2 with value: 0.8217839671821777.\n",
      "[I 2024-06-20 02:09:12,559] Trial 49 finished with value: 0.8217839671821777 and parameters: {'max_depth': 2147483647, 'min_samples_split': 41, 'min_samples_leaf': 43, 'criterion': 'log_loss'}. Best is trial 2 with value: 0.8217839671821777.\n",
      "[I 2024-06-20 02:09:12,574] Trial 50 finished with value: 0.8217839671821777 and parameters: {'max_depth': 2147483647, 'min_samples_split': 37, 'min_samples_leaf': 38, 'criterion': 'log_loss'}. Best is trial 2 with value: 0.8217839671821777.\n",
      "[I 2024-06-20 02:09:12,588] Trial 51 finished with value: 0.8217839671821777 and parameters: {'max_depth': 2147483647, 'min_samples_split': 39, 'min_samples_leaf': 35, 'criterion': 'log_loss'}. Best is trial 2 with value: 0.8217839671821777.\n",
      "[I 2024-06-20 02:09:12,605] Trial 52 finished with value: 0.8217839671821777 and parameters: {'max_depth': 2147483647, 'min_samples_split': 44, 'min_samples_leaf': 31, 'criterion': 'log_loss'}. Best is trial 2 with value: 0.8217839671821777.\n",
      "[I 2024-06-20 02:09:12,619] Trial 53 finished with value: 0.8217839671821777 and parameters: {'max_depth': 2147483647, 'min_samples_split': 31, 'min_samples_leaf': 34, 'criterion': 'log_loss'}. Best is trial 2 with value: 0.8217839671821777.\n",
      "[I 2024-06-20 02:09:12,638] Trial 54 finished with value: 0.8217839671821777 and parameters: {'max_depth': 2147483647, 'min_samples_split': 42, 'min_samples_leaf': 39, 'criterion': 'log_loss'}. Best is trial 2 with value: 0.8217839671821777.\n",
      "[I 2024-06-20 02:09:12,652] Trial 55 finished with value: 0.8217839671821777 and parameters: {'max_depth': 2147483647, 'min_samples_split': 39, 'min_samples_leaf': 44, 'criterion': 'entropy'}. Best is trial 2 with value: 0.8217839671821777.\n",
      "[I 2024-06-20 02:09:12,668] Trial 56 finished with value: 0.8217839671821777 and parameters: {'max_depth': 2147483647, 'min_samples_split': 36, 'min_samples_leaf': 30, 'criterion': 'log_loss'}. Best is trial 2 with value: 0.8217839671821777.\n",
      "[I 2024-06-20 02:09:12,681] Trial 57 finished with value: 0.8217839671821777 and parameters: {'max_depth': 2147483647, 'min_samples_split': 48, 'min_samples_leaf': 48, 'criterion': 'log_loss'}. Best is trial 2 with value: 0.8217839671821777.\n",
      "[I 2024-06-20 02:09:12,695] Trial 58 finished with value: 0.8104074790371476 and parameters: {'max_depth': 2147483647, 'min_samples_split': 20, 'min_samples_leaf': 26, 'criterion': 'gini'}. Best is trial 2 with value: 0.8217839671821777.\n",
      "[I 2024-06-20 02:09:12,708] Trial 59 finished with value: 0.8217839671821777 and parameters: {'max_depth': 2147483647, 'min_samples_split': 32, 'min_samples_leaf': 33, 'criterion': 'log_loss'}. Best is trial 2 with value: 0.8217839671821777.\n",
      "[I 2024-06-20 02:09:12,722] Trial 60 finished with value: 0.8217839671821777 and parameters: {'max_depth': 2147483647, 'min_samples_split': 11, 'min_samples_leaf': 42, 'criterion': 'log_loss'}. Best is trial 2 with value: 0.8217839671821777.\n",
      "[I 2024-06-20 02:09:12,736] Trial 61 finished with value: 0.8217839671821777 and parameters: {'max_depth': 2147483647, 'min_samples_split': 12, 'min_samples_leaf': 37, 'criterion': 'log_loss'}. Best is trial 2 with value: 0.8217839671821777.\n",
      "[I 2024-06-20 02:09:12,749] Trial 62 finished with value: 0.8217839671821777 and parameters: {'max_depth': 2147483647, 'min_samples_split': 16, 'min_samples_leaf': 40, 'criterion': 'log_loss'}. Best is trial 2 with value: 0.8217839671821777.\n",
      "[I 2024-06-20 02:09:12,764] Trial 63 finished with value: 0.8217839671821777 and parameters: {'max_depth': 2147483647, 'min_samples_split': 40, 'min_samples_leaf': 45, 'criterion': 'log_loss'}. Best is trial 2 with value: 0.8217839671821777.\n",
      "[I 2024-06-20 02:09:12,778] Trial 64 finished with value: 0.8217839671821777 and parameters: {'max_depth': 2147483647, 'min_samples_split': 20, 'min_samples_leaf': 39, 'criterion': 'log_loss'}. Best is trial 2 with value: 0.8217839671821777.\n",
      "[I 2024-06-20 02:09:12,793] Trial 65 finished with value: 0.8217839671821777 and parameters: {'max_depth': 2147483647, 'min_samples_split': 17, 'min_samples_leaf': 49, 'criterion': 'log_loss'}. Best is trial 2 with value: 0.8217839671821777.\n",
      "[I 2024-06-20 02:09:12,808] Trial 66 finished with value: 0.8217839671821777 and parameters: {'max_depth': 2147483647, 'min_samples_split': 45, 'min_samples_leaf': 43, 'criterion': 'entropy'}. Best is trial 2 with value: 0.8217839671821777.\n",
      "[I 2024-06-20 02:09:12,822] Trial 67 finished with value: 0.8217839671821777 and parameters: {'max_depth': 2147483647, 'min_samples_split': 34, 'min_samples_leaf': 34, 'criterion': 'log_loss'}. Best is trial 2 with value: 0.8217839671821777.\n",
      "[I 2024-06-20 02:09:12,836] Trial 68 finished with value: 0.777529241899437 and parameters: {'max_depth': 2147483647, 'min_samples_split': 7, 'min_samples_leaf': 13, 'criterion': 'log_loss'}. Best is trial 2 with value: 0.8217839671821777.\n",
      "[I 2024-06-20 02:09:12,850] Trial 69 finished with value: 0.744153681341952 and parameters: {'max_depth': 2147483647, 'min_samples_split': 28, 'min_samples_leaf': 8, 'criterion': 'gini'}. Best is trial 2 with value: 0.8217839671821777.\n",
      "[I 2024-06-20 02:09:12,868] Trial 70 finished with value: 0.8217839671821777 and parameters: {'max_depth': 2147483647, 'min_samples_split': 38, 'min_samples_leaf': 23, 'criterion': 'log_loss'}. Best is trial 2 with value: 0.8217839671821777.\n",
      "[I 2024-06-20 02:09:12,882] Trial 71 finished with value: 0.8217839671821777 and parameters: {'max_depth': 2147483647, 'min_samples_split': 42, 'min_samples_leaf': 30, 'criterion': 'log_loss'}. Best is trial 2 with value: 0.8217839671821777.\n",
      "[I 2024-06-20 02:09:12,896] Trial 72 finished with value: 0.8217839671821777 and parameters: {'max_depth': 2147483647, 'min_samples_split': 46, 'min_samples_leaf': 36, 'criterion': 'log_loss'}. Best is trial 2 with value: 0.8217839671821777.\n",
      "[I 2024-06-20 02:09:12,910] Trial 73 finished with value: 0.8217839671821777 and parameters: {'max_depth': 2147483647, 'min_samples_split': 36, 'min_samples_leaf': 29, 'criterion': 'log_loss'}. Best is trial 2 with value: 0.8217839671821777.\n",
      "[I 2024-06-20 02:09:12,924] Trial 74 finished with value: 0.7843498688510908 and parameters: {'max_depth': 2147483647, 'min_samples_split': 41, 'min_samples_leaf': 3, 'criterion': 'log_loss'}. Best is trial 2 with value: 0.8217839671821777.\n",
      "[I 2024-06-20 02:09:12,939] Trial 75 finished with value: 0.8217839671821777 and parameters: {'max_depth': 2147483647, 'min_samples_split': 44, 'min_samples_leaf': 17, 'criterion': 'log_loss'}. Best is trial 2 with value: 0.8217839671821777.\n",
      "[I 2024-06-20 02:09:12,952] Trial 76 finished with value: 0.8217839671821777 and parameters: {'max_depth': 2147483647, 'min_samples_split': 39, 'min_samples_leaf': 32, 'criterion': 'log_loss'}. Best is trial 2 with value: 0.8217839671821777.\n",
      "[I 2024-06-20 02:09:12,966] Trial 77 finished with value: 0.8217839671821777 and parameters: {'max_depth': 2147483647, 'min_samples_split': 34, 'min_samples_leaf': 35, 'criterion': 'log_loss'}. Best is trial 2 with value: 0.8217839671821777.\n",
      "[I 2024-06-20 02:09:12,981] Trial 78 finished with value: 0.8217839671821777 and parameters: {'max_depth': 2147483647, 'min_samples_split': 49, 'min_samples_leaf': 40, 'criterion': 'entropy'}. Best is trial 2 with value: 0.8217839671821777.\n",
      "[I 2024-06-20 02:09:12,995] Trial 79 finished with value: 0.8217839671821777 and parameters: {'max_depth': 2147483647, 'min_samples_split': 37, 'min_samples_leaf': 37, 'criterion': 'log_loss'}. Best is trial 2 with value: 0.8217839671821777.\n",
      "[I 2024-06-20 02:09:13,009] Trial 80 finished with value: 0.8153571573439338 and parameters: {'max_depth': 2147483647, 'min_samples_split': 43, 'min_samples_leaf': 28, 'criterion': 'gini'}. Best is trial 2 with value: 0.8217839671821777.\n",
      "[I 2024-06-20 02:09:13,024] Trial 81 finished with value: 0.8217839671821777 and parameters: {'max_depth': 2147483647, 'min_samples_split': 30, 'min_samples_leaf': 45, 'criterion': 'log_loss'}. Best is trial 2 with value: 0.8217839671821777.\n",
      "[I 2024-06-20 02:09:13,038] Trial 82 finished with value: 0.8217839671821777 and parameters: {'max_depth': 2147483647, 'min_samples_split': 31, 'min_samples_leaf': 47, 'criterion': 'log_loss'}. Best is trial 2 with value: 0.8217839671821777.\n",
      "[I 2024-06-20 02:09:13,052] Trial 83 finished with value: 0.8217839671821777 and parameters: {'max_depth': 2147483647, 'min_samples_split': 35, 'min_samples_leaf': 38, 'criterion': 'log_loss'}. Best is trial 2 with value: 0.8217839671821777.\n",
      "[I 2024-06-20 02:09:13,067] Trial 84 finished with value: 0.8217839671821777 and parameters: {'max_depth': 2147483647, 'min_samples_split': 33, 'min_samples_leaf': 42, 'criterion': 'log_loss'}. Best is trial 2 with value: 0.8217839671821777.\n",
      "[I 2024-06-20 02:09:13,081] Trial 85 finished with value: 0.8217839671821777 and parameters: {'max_depth': 2147483647, 'min_samples_split': 24, 'min_samples_leaf': 43, 'criterion': 'log_loss'}. Best is trial 2 with value: 0.8217839671821777.\n",
      "[I 2024-06-20 02:09:13,095] Trial 86 finished with value: 0.8217839671821777 and parameters: {'max_depth': 2147483647, 'min_samples_split': 40, 'min_samples_leaf': 49, 'criterion': 'log_loss'}. Best is trial 2 with value: 0.8217839671821777.\n",
      "[I 2024-06-20 02:09:13,109] Trial 87 finished with value: 0.8217839671821777 and parameters: {'max_depth': 2147483647, 'min_samples_split': 38, 'min_samples_leaf': 34, 'criterion': 'log_loss'}. Best is trial 2 with value: 0.8217839671821777.\n",
      "[I 2024-06-20 02:09:13,123] Trial 88 finished with value: 0.8217839671821777 and parameters: {'max_depth': 2147483647, 'min_samples_split': 32, 'min_samples_leaf': 40, 'criterion': 'log_loss'}. Best is trial 2 with value: 0.8217839671821777.\n",
      "[I 2024-06-20 02:09:13,138] Trial 89 finished with value: 0.8217839671821777 and parameters: {'max_depth': 2147483647, 'min_samples_split': 37, 'min_samples_leaf': 45, 'criterion': 'log_loss'}. Best is trial 2 with value: 0.8217839671821777.\n",
      "[I 2024-06-20 02:09:13,152] Trial 90 finished with value: 0.8217839671821777 and parameters: {'max_depth': 2147483647, 'min_samples_split': 27, 'min_samples_leaf': 32, 'criterion': 'log_loss'}. Best is trial 2 with value: 0.8217839671821777.\n",
      "[I 2024-06-20 02:09:13,167] Trial 91 finished with value: 0.8168053446705131 and parameters: {'max_depth': 2147483647, 'min_samples_split': 35, 'min_samples_leaf': 25, 'criterion': 'entropy'}. Best is trial 2 with value: 0.8217839671821777.\n",
      "[I 2024-06-20 02:09:13,182] Trial 92 finished with value: 0.8217839671821777 and parameters: {'max_depth': 2147483647, 'min_samples_split': 42, 'min_samples_leaf': 30, 'criterion': 'entropy'}. Best is trial 2 with value: 0.8217839671821777.\n",
      "[I 2024-06-20 02:09:13,196] Trial 93 finished with value: 0.8217839671821777 and parameters: {'max_depth': 2147483647, 'min_samples_split': 31, 'min_samples_leaf': 28, 'criterion': 'entropy'}. Best is trial 2 with value: 0.8217839671821777.\n",
      "[I 2024-06-20 02:09:13,212] Trial 94 finished with value: 0.8217839671821777 and parameters: {'max_depth': 2147483647, 'min_samples_split': 28, 'min_samples_leaf': 33, 'criterion': 'entropy'}. Best is trial 2 with value: 0.8217839671821777.\n",
      "[I 2024-06-20 02:09:13,227] Trial 95 finished with value: 0.8168053446705131 and parameters: {'max_depth': 2147483647, 'min_samples_split': 29, 'min_samples_leaf': 26, 'criterion': 'entropy'}. Best is trial 2 with value: 0.8217839671821777.\n",
      "[I 2024-06-20 02:09:13,242] Trial 96 finished with value: 0.8217839671821777 and parameters: {'max_depth': 2147483647, 'min_samples_split': 33, 'min_samples_leaf': 35, 'criterion': 'log_loss'}. Best is trial 2 with value: 0.8217839671821777.\n",
      "[I 2024-06-20 02:09:13,256] Trial 97 finished with value: 0.7712585511858532 and parameters: {'max_depth': 2147483647, 'min_samples_split': 36, 'min_samples_leaf': 21, 'criterion': 'gini'}. Best is trial 2 with value: 0.8217839671821777.\n",
      "[I 2024-06-20 02:09:13,272] Trial 98 finished with value: 0.8217839671821777 and parameters: {'max_depth': 2147483647, 'min_samples_split': 22, 'min_samples_leaf': 37, 'criterion': 'log_loss'}. Best is trial 2 with value: 0.8217839671821777.\n",
      "[I 2024-06-20 02:09:13,285] Trial 99 finished with value: 0.8217839671821777 and parameters: {'max_depth': 2147483647, 'min_samples_split': 39, 'min_samples_leaf': 31, 'criterion': 'log_loss'}. Best is trial 2 with value: 0.8217839671821777.\n"
     ]
    },
    {
     "name": "stdout",
     "output_type": "stream",
     "text": [
      "\u001B[1;96m [INFO]\u001B[0m TreeClassifierOptimizer 2024-06-20 02:09:13.286959: <class 'model.interactor.library.decision_tree_interactor_lib.DecisionTreeLibInteractor'> best trial finished with value 0.8217839671821777; best params {'max_depth': 2147483647, 'min_samples_split': 40, 'min_samples_leaf': 44, 'criterion': 'log_loss'}\n",
      "FrozenTrial(number=2, state=1, values=[0.8217839671821777], datetime_start=datetime.datetime(2024, 6, 20, 2, 9, 11, 824711), datetime_complete=datetime.datetime(2024, 6, 20, 2, 9, 11, 831708), params={'max_depth': 2147483647, 'min_samples_split': 40, 'min_samples_leaf': 44, 'criterion': 'log_loss'}, user_attrs={}, system_attrs={}, intermediate_values={}, distributions={'max_depth': IntDistribution(high=2147483647, log=False, low=2147483647, step=1), 'min_samples_split': IntDistribution(high=50, log=False, low=2, step=1), 'min_samples_leaf': IntDistribution(high=50, log=False, low=1, step=1), 'criterion': CategoricalDistribution(choices=('gini', 'entropy', 'log_loss'))}, trial_id=2, value=None)\n"
     ]
    }
   ],
   "execution_count": 15
  },
  {
   "metadata": {},
   "cell_type": "markdown",
   "source": [
    "#### Implemented DecisionTree\n",
    "for impl version in the task wasn't sad to not limit depth, so here also will be found the best `max_depth` parameter"
   ],
   "id": "4a1b47091bbe9548"
  },
  {
   "metadata": {
    "ExecuteTime": {
     "end_time": "2024-06-19T23:09:18.738487Z",
     "start_time": "2024-06-19T23:09:13.290763Z"
    }
   },
   "cell_type": "code",
   "source": [
    "optimizer.add_mode(DecisionTreeImplInteractor, DecisionTreeImplInteractor())\n",
    "optimizer.switch_mode(DecisionTreeImplInteractor)\n",
    "decision_tree = optimizer.current_interactor.build(\n",
    "    {'max_depth': 5, 'min_samples_split': 3, 'min_samples_leaf': 2, 'criterion': GiniCriterion()})\n",
    "decision_tree.fit(optimizer.train_exdog, optimizer.train_ans)\n",
    "preds = decision_tree.predict(optimizer.test_exdog)\n",
    "print(f'f1_score: {optimizer.metric(optimizer.test_ans, preds)}')"
   ],
   "id": "6cb79050ae2fc0bf",
   "outputs": [
    {
     "name": "stdout",
     "output_type": "stream",
     "text": [
      "\u001B[1;96m [INFO]\u001B[0m TreeClassifierOptimizer 2024-06-20 02:09:13.291765: DecisionTreeImplInteractor(<class 'model.interactor.impl.decision_tree_interactor.DecisionTreeImplInteractor'>) successfully added(updated)\n",
      "f1_score: 0.8049480075371623\n"
     ]
    }
   ],
   "execution_count": 16
  },
  {
   "metadata": {
    "ExecuteTime": {
     "end_time": "2024-06-19T23:16:54.830314Z",
     "start_time": "2024-06-19T23:09:18.739547Z"
    }
   },
   "cell_type": "code",
   "source": [
    "DEC_TREE_IMPL_BEST_PARAMS = optimizer.run_study(n_trials=100)\n",
    "print(DEC_TREE_IMPL_BEST_PARAMS)\n",
    "override_best_params(DecisionTreeImplInteractor, fix_partition_criterion_param)\n",
    "DEC_TREE_IMPL_BEST_PARAMS = optimizer.modes[DecisionTreeImplInteractor][1]"
   ],
   "id": "ff697fc54e39d83c",
   "outputs": [
    {
     "name": "stderr",
     "output_type": "stream",
     "text": [
      "[I 2024-06-20 02:09:18,740] A new study created in memory with name: no-name-b87b942b-70ca-4a1f-bddd-6faf30c019ec\n",
      "[I 2024-06-20 02:09:23,820] Trial 0 finished with value: 0.8082070041263647 and parameters: {'max_depth': 99, 'min_samples_split': 19, 'min_samples_leaf': 15, 'criterion': 'gini'}. Best is trial 0 with value: 0.8082070041263647.\n",
      "[I 2024-06-20 02:09:29,674] Trial 1 finished with value: 0.7606119486663543 and parameters: {'max_depth': 132, 'min_samples_split': 22, 'min_samples_leaf': 7, 'criterion': 'gini'}. Best is trial 0 with value: 0.8082070041263647.\n",
      "[I 2024-06-20 02:09:34,722] Trial 2 finished with value: 0.8082070041263647 and parameters: {'max_depth': 154, 'min_samples_split': 32, 'min_samples_leaf': 12, 'criterion': 'gini'}. Best is trial 0 with value: 0.8082070041263647.\n",
      "[I 2024-06-20 02:09:39,981] Trial 3 finished with value: 0.8153571573439338 and parameters: {'max_depth': 148, 'min_samples_split': 47, 'min_samples_leaf': 28, 'criterion': 'gini'}. Best is trial 3 with value: 0.8153571573439338.\n",
      "[I 2024-06-20 02:09:44,606] Trial 4 finished with value: 0.8153571573439338 and parameters: {'max_depth': 169, 'min_samples_split': 49, 'min_samples_leaf': 44, 'criterion': 'gini'}. Best is trial 3 with value: 0.8153571573439338.\n",
      "[I 2024-06-20 02:09:48,780] Trial 5 finished with value: 0.8217839671821777 and parameters: {'max_depth': 89, 'min_samples_split': 16, 'min_samples_leaf': 49, 'criterion': 'log_loss'}. Best is trial 5 with value: 0.8217839671821777.\n",
      "[I 2024-06-20 02:09:54,903] Trial 6 finished with value: 0.7728217087131652 and parameters: {'max_depth': 149, 'min_samples_split': 30, 'min_samples_leaf': 6, 'criterion': 'log_loss'}. Best is trial 5 with value: 0.8217839671821777.\n",
      "[I 2024-06-20 02:09:56,464] Trial 7 finished with value: 0.7293193361366572 and parameters: {'max_depth': 87, 'min_samples_split': 28, 'min_samples_leaf': 12, 'criterion': 'entropy'}. Best is trial 5 with value: 0.8217839671821777.\n",
      "[I 2024-06-20 02:09:58,212] Trial 8 finished with value: 0.7293193361366572 and parameters: {'max_depth': 116, 'min_samples_split': 22, 'min_samples_leaf': 36, 'criterion': 'entropy'}. Best is trial 5 with value: 0.8217839671821777.\n",
      "[I 2024-06-20 02:09:59,826] Trial 9 finished with value: 0.7293193361366572 and parameters: {'max_depth': 190, 'min_samples_split': 26, 'min_samples_leaf': 37, 'criterion': 'entropy'}. Best is trial 5 with value: 0.8217839671821777.\n",
      "[I 2024-06-20 02:10:04,694] Trial 10 finished with value: 0.8217839671821777 and parameters: {'max_depth': 28, 'min_samples_split': 2, 'min_samples_leaf': 49, 'criterion': 'log_loss'}. Best is trial 5 with value: 0.8217839671821777.\n",
      "[I 2024-06-20 02:10:09,606] Trial 11 finished with value: 0.8217839671821777 and parameters: {'max_depth': 27, 'min_samples_split': 2, 'min_samples_leaf': 50, 'criterion': 'log_loss'}. Best is trial 5 with value: 0.8217839671821777.\n",
      "[I 2024-06-20 02:10:18,881] Trial 12 finished with value: 0.8217839671821777 and parameters: {'max_depth': 30, 'min_samples_split': 2, 'min_samples_leaf': 48, 'criterion': 'log_loss'}. Best is trial 5 with value: 0.8217839671821777.\n",
      "[I 2024-06-20 02:10:32,179] Trial 13 finished with value: 0.8217839671821777 and parameters: {'max_depth': 62, 'min_samples_split': 11, 'min_samples_leaf': 40, 'criterion': 'log_loss'}. Best is trial 5 with value: 0.8217839671821777.\n",
      "[I 2024-06-20 02:10:38,195] Trial 14 finished with value: 0.8217839671821777 and parameters: {'max_depth': 60, 'min_samples_split': 12, 'min_samples_leaf': 28, 'criterion': 'log_loss'}. Best is trial 5 with value: 0.8217839671821777.\n",
      "[I 2024-06-20 02:10:43,207] Trial 15 finished with value: 0.8217839671821777 and parameters: {'max_depth': 5, 'min_samples_split': 10, 'min_samples_leaf': 23, 'criterion': 'log_loss'}. Best is trial 5 with value: 0.8217839671821777.\n",
      "[I 2024-06-20 02:10:47,877] Trial 16 finished with value: 0.8217839671821777 and parameters: {'max_depth': 64, 'min_samples_split': 38, 'min_samples_leaf': 44, 'criterion': 'log_loss'}. Best is trial 5 with value: 0.8217839671821777.\n",
      "[I 2024-06-20 02:10:52,844] Trial 17 finished with value: 0.8217839671821777 and parameters: {'max_depth': 10, 'min_samples_split': 16, 'min_samples_leaf': 32, 'criterion': 'log_loss'}. Best is trial 5 with value: 0.8217839671821777.\n",
      "[I 2024-06-20 02:10:57,965] Trial 18 finished with value: 0.8217839671821777 and parameters: {'max_depth': 82, 'min_samples_split': 7, 'min_samples_leaf': 21, 'criterion': 'log_loss'}. Best is trial 5 with value: 0.8217839671821777.\n",
      "[I 2024-06-20 02:11:02,662] Trial 19 finished with value: 0.8217839671821777 and parameters: {'max_depth': 46, 'min_samples_split': 6, 'min_samples_leaf': 44, 'criterion': 'log_loss'}. Best is trial 5 with value: 0.8217839671821777.\n",
      "[I 2024-06-20 02:11:07,190] Trial 20 finished with value: 0.7167171012814778 and parameters: {'max_depth': 117, 'min_samples_split': 14, 'min_samples_leaf': 1, 'criterion': 'entropy'}. Best is trial 5 with value: 0.8217839671821777.\n",
      "[I 2024-06-20 02:11:11,286] Trial 21 finished with value: 0.8217839671821777 and parameters: {'max_depth': 26, 'min_samples_split': 2, 'min_samples_leaf': 50, 'criterion': 'log_loss'}. Best is trial 5 with value: 0.8217839671821777.\n",
      "[I 2024-06-20 02:11:15,393] Trial 22 finished with value: 0.8217839671821777 and parameters: {'max_depth': 35, 'min_samples_split': 6, 'min_samples_leaf': 50, 'criterion': 'log_loss'}. Best is trial 5 with value: 0.8217839671821777.\n",
      "[I 2024-06-20 02:11:20,246] Trial 23 finished with value: 0.8217839671821777 and parameters: {'max_depth': 19, 'min_samples_split': 3, 'min_samples_leaf': 41, 'criterion': 'log_loss'}. Best is trial 5 with value: 0.8217839671821777.\n",
      "[I 2024-06-20 02:11:24,939] Trial 24 finished with value: 0.8217839671821777 and parameters: {'max_depth': 49, 'min_samples_split': 17, 'min_samples_leaf': 46, 'criterion': 'log_loss'}. Best is trial 5 with value: 0.8217839671821777.\n",
      "[I 2024-06-20 02:11:29,837] Trial 25 finished with value: 0.8217839671821777 and parameters: {'max_depth': 70, 'min_samples_split': 8, 'min_samples_leaf': 39, 'criterion': 'log_loss'}. Best is trial 5 with value: 0.8217839671821777.\n",
      "[I 2024-06-20 02:11:33,936] Trial 26 finished with value: 0.8217839671821777 and parameters: {'max_depth': 3, 'min_samples_split': 36, 'min_samples_leaf': 34, 'criterion': 'log_loss'}. Best is trial 5 with value: 0.8217839671821777.\n",
      "[I 2024-06-20 02:11:38,690] Trial 27 finished with value: 0.8217839671821777 and parameters: {'max_depth': 43, 'min_samples_split': 5, 'min_samples_leaf': 47, 'criterion': 'log_loss'}. Best is trial 5 with value: 0.8217839671821777.\n",
      "[I 2024-06-20 02:11:43,533] Trial 28 finished with value: 0.8217839671821777 and parameters: {'max_depth': 90, 'min_samples_split': 13, 'min_samples_leaf': 42, 'criterion': 'log_loss'}. Best is trial 5 with value: 0.8217839671821777.\n",
      "[I 2024-06-20 02:11:44,904] Trial 29 finished with value: 0.7293193361366572 and parameters: {'max_depth': 112, 'min_samples_split': 17, 'min_samples_leaf': 18, 'criterion': 'entropy'}. Best is trial 5 with value: 0.8217839671821777.\n",
      "[I 2024-06-20 02:11:48,999] Trial 30 finished with value: 0.8153571573439338 and parameters: {'max_depth': 100, 'min_samples_split': 21, 'min_samples_leaf': 50, 'criterion': 'gini'}. Best is trial 5 with value: 0.8217839671821777.\n",
      "[I 2024-06-20 02:11:53,682] Trial 31 finished with value: 0.8217839671821777 and parameters: {'max_depth': 25, 'min_samples_split': 2, 'min_samples_leaf': 46, 'criterion': 'log_loss'}. Best is trial 5 with value: 0.8217839671821777.\n",
      "[I 2024-06-20 02:11:58,367] Trial 32 finished with value: 0.8217839671821777 and parameters: {'max_depth': 34, 'min_samples_split': 10, 'min_samples_leaf': 48, 'criterion': 'log_loss'}. Best is trial 5 with value: 0.8217839671821777.\n",
      "[I 2024-06-20 02:12:03,042] Trial 33 finished with value: 0.8217839671821777 and parameters: {'max_depth': 17, 'min_samples_split': 2, 'min_samples_leaf': 47, 'criterion': 'log_loss'}. Best is trial 5 with value: 0.8217839671821777.\n",
      "[I 2024-06-20 02:12:07,518] Trial 34 finished with value: 0.8153571573439338 and parameters: {'max_depth': 75, 'min_samples_split': 8, 'min_samples_leaf': 43, 'criterion': 'gini'}. Best is trial 5 with value: 0.8217839671821777.\n",
      "[I 2024-06-20 02:12:11,650] Trial 35 finished with value: 0.8217839671821777 and parameters: {'max_depth': 54, 'min_samples_split': 5, 'min_samples_leaf': 50, 'criterion': 'log_loss'}. Best is trial 5 with value: 0.8217839671821777.\n",
      "[I 2024-06-20 02:12:16,169] Trial 36 finished with value: 0.8153571573439338 and parameters: {'max_depth': 134, 'min_samples_split': 9, 'min_samples_leaf': 38, 'criterion': 'gini'}. Best is trial 5 with value: 0.8217839671821777.\n",
      "[I 2024-06-20 02:12:21,078] Trial 37 finished with value: 0.8217839671821777 and parameters: {'max_depth': 32, 'min_samples_split': 42, 'min_samples_leaf': 30, 'criterion': 'log_loss'}. Best is trial 5 with value: 0.8217839671821777.\n",
      "[I 2024-06-20 02:12:25,753] Trial 38 finished with value: 0.8217839671821777 and parameters: {'max_depth': 40, 'min_samples_split': 26, 'min_samples_leaf': 45, 'criterion': 'log_loss'}. Best is trial 5 with value: 0.8217839671821777.\n",
      "[I 2024-06-20 02:12:30,168] Trial 39 finished with value: 0.8153571573439338 and parameters: {'max_depth': 15, 'min_samples_split': 19, 'min_samples_leaf': 42, 'criterion': 'gini'}. Best is trial 5 with value: 0.8217839671821777.\n",
      "[I 2024-06-20 02:12:31,542] Trial 40 finished with value: 0.7293193361366572 and parameters: {'max_depth': 173, 'min_samples_split': 4, 'min_samples_leaf': 36, 'criterion': 'entropy'}. Best is trial 5 with value: 0.8217839671821777.\n",
      "[I 2024-06-20 02:12:36,403] Trial 41 finished with value: 0.8217839671821777 and parameters: {'max_depth': 51, 'min_samples_split': 12, 'min_samples_leaf': 40, 'criterion': 'log_loss'}. Best is trial 5 with value: 0.8217839671821777.\n",
      "[I 2024-06-20 02:12:41,125] Trial 42 finished with value: 0.8217839671821777 and parameters: {'max_depth': 61, 'min_samples_split': 10, 'min_samples_leaf': 48, 'criterion': 'log_loss'}. Best is trial 5 with value: 0.8217839671821777.\n",
      "[I 2024-06-20 02:12:45,805] Trial 43 finished with value: 0.8217839671821777 and parameters: {'max_depth': 75, 'min_samples_split': 24, 'min_samples_leaf': 48, 'criterion': 'log_loss'}. Best is trial 5 with value: 0.8217839671821777.\n",
      "[I 2024-06-20 02:12:50,538] Trial 44 finished with value: 0.8217839671821777 and parameters: {'max_depth': 94, 'min_samples_split': 5, 'min_samples_leaf': 45, 'criterion': 'log_loss'}. Best is trial 5 with value: 0.8217839671821777.\n",
      "[I 2024-06-20 02:12:55,390] Trial 45 finished with value: 0.8217839671821777 and parameters: {'max_depth': 25, 'min_samples_split': 14, 'min_samples_leaf': 40, 'criterion': 'log_loss'}. Best is trial 5 with value: 0.8217839671821777.\n",
      "[I 2024-06-20 02:12:57,256] Trial 46 finished with value: 0.7923544935918709 and parameters: {'max_depth': 1, 'min_samples_split': 11, 'min_samples_leaf': 26, 'criterion': 'log_loss'}. Best is trial 5 with value: 0.8217839671821777.\n",
      "[I 2024-06-20 02:12:58,618] Trial 47 finished with value: 0.7293193361366572 and parameters: {'max_depth': 66, 'min_samples_split': 7, 'min_samples_leaf': 43, 'criterion': 'entropy'}. Best is trial 5 with value: 0.8217839671821777.\n",
      "[I 2024-06-20 02:13:03,566] Trial 48 finished with value: 0.8217839671821777 and parameters: {'max_depth': 81, 'min_samples_split': 4, 'min_samples_leaf': 34, 'criterion': 'log_loss'}. Best is trial 5 with value: 0.8217839671821777.\n",
      "[I 2024-06-20 02:13:08,251] Trial 49 finished with value: 0.8217839671821777 and parameters: {'max_depth': 56, 'min_samples_split': 15, 'min_samples_leaf': 48, 'criterion': 'log_loss'}. Best is trial 5 with value: 0.8217839671821777.\n",
      "[I 2024-06-20 02:13:13,430] Trial 50 finished with value: 0.7728217087131652 and parameters: {'max_depth': 42, 'min_samples_split': 20, 'min_samples_leaf': 13, 'criterion': 'log_loss'}. Best is trial 5 with value: 0.8217839671821777.\n",
      "[I 2024-06-20 02:13:18,509] Trial 51 finished with value: 0.8217839671821777 and parameters: {'max_depth': 110, 'min_samples_split': 12, 'min_samples_leaf': 22, 'criterion': 'log_loss'}. Best is trial 5 with value: 0.8217839671821777.\n",
      "[I 2024-06-20 02:13:23,619] Trial 52 finished with value: 0.8217839671821777 and parameters: {'max_depth': 13, 'min_samples_split': 18, 'min_samples_leaf': 18, 'criterion': 'log_loss'}. Best is trial 5 with value: 0.8217839671821777.\n",
      "[I 2024-06-20 02:13:29,219] Trial 53 finished with value: 0.7728217087131652 and parameters: {'max_depth': 60, 'min_samples_split': 7, 'min_samples_leaf': 8, 'criterion': 'log_loss'}. Best is trial 5 with value: 0.8217839671821777.\n",
      "[I 2024-06-20 02:13:34,175] Trial 54 finished with value: 0.8217839671821777 and parameters: {'max_depth': 30, 'min_samples_split': 30, 'min_samples_leaf': 28, 'criterion': 'log_loss'}. Best is trial 5 with value: 0.8217839671821777.\n",
      "[I 2024-06-20 02:13:38,891] Trial 55 finished with value: 0.8217839671821777 and parameters: {'max_depth': 84, 'min_samples_split': 2, 'min_samples_leaf': 45, 'criterion': 'log_loss'}. Best is trial 5 with value: 0.8217839671821777.\n",
      "[I 2024-06-20 02:13:42,980] Trial 56 finished with value: 0.8217839671821777 and parameters: {'max_depth': 129, 'min_samples_split': 9, 'min_samples_leaf': 49, 'criterion': 'log_loss'}. Best is trial 5 with value: 0.8217839671821777.\n",
      "[I 2024-06-20 02:13:44,359] Trial 57 finished with value: 0.7293193361366572 and parameters: {'max_depth': 71, 'min_samples_split': 23, 'min_samples_leaf': 36, 'criterion': 'entropy'}. Best is trial 5 with value: 0.8217839671821777.\n",
      "[I 2024-06-20 02:13:48,789] Trial 58 finished with value: 0.8153571573439338 and parameters: {'max_depth': 40, 'min_samples_split': 4, 'min_samples_leaf': 46, 'criterion': 'gini'}. Best is trial 5 with value: 0.8217839671821777.\n",
      "[I 2024-06-20 02:13:53,673] Trial 59 finished with value: 0.8217839671821777 and parameters: {'max_depth': 9, 'min_samples_split': 15, 'min_samples_leaf': 43, 'criterion': 'log_loss'}. Best is trial 5 with value: 0.8217839671821777.\n",
      "[I 2024-06-20 02:13:58,579] Trial 60 finished with value: 0.8217839671821777 and parameters: {'max_depth': 21, 'min_samples_split': 6, 'min_samples_leaf': 31, 'criterion': 'log_loss'}. Best is trial 5 with value: 0.8217839671821777.\n",
      "[I 2024-06-20 02:14:03,701] Trial 61 finished with value: 0.8217839671821777 and parameters: {'max_depth': 9, 'min_samples_split': 11, 'min_samples_leaf': 22, 'criterion': 'log_loss'}. Best is trial 5 with value: 0.8217839671821777.\n",
      "[I 2024-06-20 02:14:08,737] Trial 62 finished with value: 0.8217839671821777 and parameters: {'max_depth': 48, 'min_samples_split': 13, 'min_samples_leaf': 25, 'criterion': 'log_loss'}. Best is trial 5 with value: 0.8217839671821777.\n",
      "[I 2024-06-20 02:14:13,740] Trial 63 finished with value: 0.8217839671821777 and parameters: {'max_depth': 5, 'min_samples_split': 8, 'min_samples_leaf': 18, 'criterion': 'log_loss'}. Best is trial 5 with value: 0.8217839671821777.\n",
      "[I 2024-06-20 02:14:18,828] Trial 64 finished with value: 0.8217839671821777 and parameters: {'max_depth': 34, 'min_samples_split': 3, 'min_samples_leaf': 20, 'criterion': 'log_loss'}. Best is trial 5 with value: 0.8217839671821777.\n",
      "[I 2024-06-20 02:14:22,936] Trial 65 finished with value: 0.8217839671821777 and parameters: {'max_depth': 22, 'min_samples_split': 10, 'min_samples_leaf': 50, 'criterion': 'log_loss'}. Best is trial 5 with value: 0.8217839671821777.\n",
      "[I 2024-06-20 02:14:27,983] Trial 66 finished with value: 0.8217839671821777 and parameters: {'max_depth': 28, 'min_samples_split': 6, 'min_samples_leaf': 25, 'criterion': 'log_loss'}. Best is trial 5 with value: 0.8217839671821777.\n",
      "[I 2024-06-20 02:14:32,650] Trial 67 finished with value: 0.8217839671821777 and parameters: {'max_depth': 17, 'min_samples_split': 17, 'min_samples_leaf': 47, 'criterion': 'log_loss'}. Best is trial 5 with value: 0.8217839671821777.\n",
      "[I 2024-06-20 02:14:37,555] Trial 68 finished with value: 0.8153571573439338 and parameters: {'max_depth': 40, 'min_samples_split': 49, 'min_samples_leaf': 27, 'criterion': 'gini'}. Best is trial 5 with value: 0.8217839671821777.\n",
      "[I 2024-06-20 02:14:38,935] Trial 69 finished with value: 0.7293193361366572 and parameters: {'max_depth': 96, 'min_samples_split': 35, 'min_samples_leaf': 38, 'criterion': 'entropy'}. Best is trial 5 with value: 0.8217839671821777.\n",
      "[I 2024-06-20 02:14:43,865] Trial 70 finished with value: 0.8217839671821777 and parameters: {'max_depth': 105, 'min_samples_split': 2, 'min_samples_leaf': 29, 'criterion': 'log_loss'}. Best is trial 5 with value: 0.8217839671821777.\n",
      "[I 2024-06-20 02:14:48,543] Trial 71 finished with value: 0.8217839671821777 and parameters: {'max_depth': 62, 'min_samples_split': 44, 'min_samples_leaf': 45, 'criterion': 'log_loss'}. Best is trial 5 with value: 0.8217839671821777.\n",
      "[I 2024-06-20 02:14:52,658] Trial 72 finished with value: 0.8217839671821777 and parameters: {'max_depth': 55, 'min_samples_split': 37, 'min_samples_leaf': 49, 'criterion': 'log_loss'}. Best is trial 5 with value: 0.8217839671821777.\n",
      "[I 2024-06-20 02:14:57,509] Trial 73 finished with value: 0.8217839671821777 and parameters: {'max_depth': 78, 'min_samples_split': 39, 'min_samples_leaf': 42, 'criterion': 'log_loss'}. Best is trial 5 with value: 0.8217839671821777.\n",
      "[I 2024-06-20 02:15:02,193] Trial 74 finished with value: 0.8217839671821777 and parameters: {'max_depth': 66, 'min_samples_split': 27, 'min_samples_leaf': 44, 'criterion': 'log_loss'}. Best is trial 5 with value: 0.8217839671821777.\n",
      "[I 2024-06-20 02:15:06,867] Trial 75 finished with value: 0.8217839671821777 and parameters: {'max_depth': 91, 'min_samples_split': 30, 'min_samples_leaf': 47, 'criterion': 'log_loss'}. Best is trial 5 with value: 0.8217839671821777.\n",
      "[I 2024-06-20 02:15:10,966] Trial 76 finished with value: 0.8217839671821777 and parameters: {'max_depth': 37, 'min_samples_split': 4, 'min_samples_leaf': 49, 'criterion': 'log_loss'}. Best is trial 5 with value: 0.8217839671821777.\n",
      "[I 2024-06-20 02:15:15,916] Trial 77 finished with value: 0.8217839671821777 and parameters: {'max_depth': 48, 'min_samples_split': 9, 'min_samples_leaf': 34, 'criterion': 'log_loss'}. Best is trial 5 with value: 0.8217839671821777.\n",
      "[I 2024-06-20 02:15:20,731] Trial 78 finished with value: 0.8217839671821777 and parameters: {'max_depth': 86, 'min_samples_split': 45, 'min_samples_leaf': 41, 'criterion': 'log_loss'}. Best is trial 5 with value: 0.8217839671821777.\n",
      "[I 2024-06-20 02:15:25,413] Trial 79 finished with value: 0.8217839671821777 and parameters: {'max_depth': 68, 'min_samples_split': 14, 'min_samples_leaf': 44, 'criterion': 'log_loss'}. Best is trial 5 with value: 0.8217839671821777.\n",
      "[I 2024-06-20 02:15:30,426] Trial 80 finished with value: 0.8153571573439338 and parameters: {'max_depth': 46, 'min_samples_split': 16, 'min_samples_leaf': 23, 'criterion': 'gini'}. Best is trial 5 with value: 0.8217839671821777.\n",
      "[I 2024-06-20 02:15:34,578] Trial 81 finished with value: 0.8217839671821777 and parameters: {'max_depth': 3, 'min_samples_split': 21, 'min_samples_leaf': 33, 'criterion': 'log_loss'}. Best is trial 5 with value: 0.8217839671821777.\n",
      "[I 2024-06-20 02:15:38,651] Trial 82 finished with value: 0.8217839671821777 and parameters: {'max_depth': 11, 'min_samples_split': 12, 'min_samples_leaf': 50, 'criterion': 'log_loss'}. Best is trial 5 with value: 0.8217839671821777.\n",
      "[I 2024-06-20 02:15:43,602] Trial 83 finished with value: 0.8217839671821777 and parameters: {'max_depth': 22, 'min_samples_split': 3, 'min_samples_leaf': 32, 'criterion': 'log_loss'}. Best is trial 5 with value: 0.8217839671821777.\n",
      "[I 2024-06-20 02:15:48,286] Trial 84 finished with value: 0.8217839671821777 and parameters: {'max_depth': 27, 'min_samples_split': 19, 'min_samples_leaf': 46, 'criterion': 'log_loss'}. Best is trial 5 with value: 0.8217839671821777.\n",
      "[I 2024-06-20 02:15:53,384] Trial 85 finished with value: 0.8217839671821777 and parameters: {'max_depth': 16, 'min_samples_split': 7, 'min_samples_leaf': 24, 'criterion': 'log_loss'}. Best is trial 5 with value: 0.8217839671821777.\n",
      "[I 2024-06-20 02:15:54,753] Trial 86 finished with value: 0.7293193361366572 and parameters: {'max_depth': 198, 'min_samples_split': 11, 'min_samples_leaf': 48, 'criterion': 'entropy'}. Best is trial 5 with value: 0.8217839671821777.\n",
      "[I 2024-06-20 02:15:59,689] Trial 87 finished with value: 0.8217839671821777 and parameters: {'max_depth': 33, 'min_samples_split': 16, 'min_samples_leaf': 27, 'criterion': 'log_loss'}. Best is trial 5 with value: 0.8217839671821777.\n",
      "[I 2024-06-20 02:16:04,543] Trial 88 finished with value: 0.8217839671821777 and parameters: {'max_depth': 120, 'min_samples_split': 5, 'min_samples_leaf': 40, 'criterion': 'log_loss'}. Best is trial 5 with value: 0.8217839671821777.\n",
      "[I 2024-06-20 02:16:09,259] Trial 89 finished with value: 0.8217839671821777 and parameters: {'max_depth': 59, 'min_samples_split': 24, 'min_samples_leaf': 47, 'criterion': 'log_loss'}. Best is trial 5 with value: 0.8217839671821777.\n",
      "[I 2024-06-20 02:16:14,229] Trial 90 finished with value: 0.8217839671821777 and parameters: {'max_depth': 73, 'min_samples_split': 8, 'min_samples_leaf': 29, 'criterion': 'log_loss'}. Best is trial 5 with value: 0.8217839671821777.\n",
      "[I 2024-06-20 02:16:19,339] Trial 91 finished with value: 0.8217839671821777 and parameters: {'max_depth': 80, 'min_samples_split': 13, 'min_samples_leaf': 20, 'criterion': 'log_loss'}. Best is trial 5 with value: 0.8217839671821777.\n",
      "[I 2024-06-20 02:16:24,423] Trial 92 finished with value: 0.8217839671821777 and parameters: {'max_depth': 6, 'min_samples_split': 33, 'min_samples_leaf': 22, 'criterion': 'log_loss'}. Best is trial 5 with value: 0.8217839671821777.\n",
      "[I 2024-06-20 02:16:29,590] Trial 93 finished with value: 0.8152284940267353 and parameters: {'max_depth': 101, 'min_samples_split': 5, 'min_samples_leaf': 15, 'criterion': 'log_loss'}. Best is trial 5 with value: 0.8217839671821777.\n",
      "[I 2024-06-20 02:16:33,766] Trial 94 finished with value: 0.8217839671821777 and parameters: {'max_depth': 13, 'min_samples_split': 10, 'min_samples_leaf': 49, 'criterion': 'log_loss'}. Best is trial 5 with value: 0.8217839671821777.\n",
      "[I 2024-06-20 02:16:38,855] Trial 95 finished with value: 0.8217839671821777 and parameters: {'max_depth': 88, 'min_samples_split': 6, 'min_samples_leaf': 19, 'criterion': 'log_loss'}. Best is trial 5 with value: 0.8217839671821777.\n",
      "[I 2024-06-20 02:16:43,967] Trial 96 finished with value: 0.8217839671821777 and parameters: {'max_depth': 51, 'min_samples_split': 3, 'min_samples_leaf': 24, 'criterion': 'log_loss'}. Best is trial 5 with value: 0.8217839671821777.\n",
      "[I 2024-06-20 02:16:48,457] Trial 97 finished with value: 0.8153571573439338 and parameters: {'max_depth': 64, 'min_samples_split': 7, 'min_samples_leaf': 46, 'criterion': 'gini'}. Best is trial 5 with value: 0.8217839671821777.\n",
      "[I 2024-06-20 02:16:53,410] Trial 98 finished with value: 0.8217839671821777 and parameters: {'max_depth': 83, 'min_samples_split': 2, 'min_samples_leaf': 37, 'criterion': 'log_loss'}. Best is trial 5 with value: 0.8217839671821777.\n",
      "[I 2024-06-20 02:16:54,824] Trial 99 finished with value: 0.7293193361366572 and parameters: {'max_depth': 21, 'min_samples_split': 9, 'min_samples_leaf': 16, 'criterion': 'entropy'}. Best is trial 5 with value: 0.8217839671821777.\n"
     ]
    },
    {
     "name": "stdout",
     "output_type": "stream",
     "text": [
      "\u001B[1;96m [INFO]\u001B[0m TreeClassifierOptimizer 2024-06-20 02:16:54.824086: <class 'model.interactor.impl.decision_tree_interactor.DecisionTreeImplInteractor'> best trial finished with value 0.8217839671821777; best params {'max_depth': 89, 'min_samples_split': 16, 'min_samples_leaf': 49, 'criterion': 'log_loss'}\n",
      "FrozenTrial(number=5, state=1, values=[0.8217839671821777], datetime_start=datetime.datetime(2024, 6, 20, 2, 9, 44, 607103), datetime_complete=datetime.datetime(2024, 6, 20, 2, 9, 48, 780592), params={'max_depth': 89, 'min_samples_split': 16, 'min_samples_leaf': 49, 'criterion': 'log_loss'}, user_attrs={}, system_attrs={}, intermediate_values={}, distributions={'max_depth': IntDistribution(high=200, log=False, low=1, step=1), 'min_samples_split': IntDistribution(high=50, log=False, low=2, step=1), 'min_samples_leaf': IntDistribution(high=50, log=False, low=1, step=1), 'criterion': CategoricalDistribution(choices=('entropy', 'gini', 'log_loss'))}, trial_id=5, value=None)\n",
      "(<model.interactor.impl.decision_tree_interactor.DecisionTreeImplInteractor object at 0x0000012ED9FA9520>, {'max_depth': 89, 'min_samples_split': 16, 'min_samples_leaf': 49, 'criterion': 'log_loss'})\n",
      "\u001B[1;96m [INFO]\u001B[0m TreeClassifierOptimizer 2024-06-20 02:16:54.824086: DecisionTreeImplInteractor(<class 'model.interactor.impl.decision_tree_interactor.DecisionTreeImplInteractor'>) successfully added(updated) with params {'max_depth': 89, 'min_samples_split': 16, 'min_samples_leaf': 49, 'criterion': <model.params.partition_crit.LogLossCriterion object at 0x0000012EDC93D7F0>}\n"
     ]
    }
   ],
   "execution_count": 17
  },
  {
   "metadata": {},
   "cell_type": "markdown",
   "source": "### Dependency on tree depth",
   "id": "3e9ef6f8ac2e35b5"
  },
  {
   "metadata": {
    "ExecuteTime": {
     "end_time": "2024-06-19T23:23:40.908483Z",
     "start_time": "2024-06-19T23:16:54.830314Z"
    }
   },
   "cell_type": "code",
   "source": [
    "lib_depth_dep = iterate_over_depth(DecisionTreeLibInteractor, DEC_TREE_LIB_BEST_PARAMS)\n",
    "impl_depth_dep = iterate_over_depth(DecisionTreeImplInteractor, DEC_TREE_IMPL_BEST_PARAMS)"
   ],
   "id": "8acd48e5f652b6c1",
   "outputs": [
    {
     "name": "stdout",
     "output_type": "stream",
     "text": [
      "processed 10 / 101 with step 1 iters\n",
      "processed 20 / 101 with step 1 iters\n",
      "processed 30 / 101 with step 1 iters\n",
      "processed 40 / 101 with step 1 iters\n",
      "processed 50 / 101 with step 1 iters\n",
      "processed 60 / 101 with step 1 iters\n",
      "processed 70 / 101 with step 1 iters\n",
      "processed 80 / 101 with step 1 iters\n",
      "processed 90 / 101 with step 1 iters\n",
      "processed 100 / 101 with step 1 iters\n",
      "processed 10 / 101 with step 1 iters\n",
      "processed 20 / 101 with step 1 iters\n",
      "processed 30 / 101 with step 1 iters\n",
      "processed 40 / 101 with step 1 iters\n",
      "processed 50 / 101 with step 1 iters\n",
      "processed 60 / 101 with step 1 iters\n",
      "processed 70 / 101 with step 1 iters\n",
      "processed 80 / 101 with step 1 iters\n",
      "processed 90 / 101 with step 1 iters\n",
      "processed 100 / 101 with step 1 iters\n"
     ]
    }
   ],
   "execution_count": 18
  },
  {
   "metadata": {
    "ExecuteTime": {
     "end_time": "2024-06-20T22:34:51.475318Z",
     "start_time": "2024-06-20T22:34:51.340448Z"
    }
   },
   "cell_type": "code",
   "source": [
    "plt.plot(lib_depth_dep, label='lib DecisionTree', c=ultraviolet)\n",
    "plt.plot(np.array(impl_depth_dep) - 0.005, label='impl DecisionTree(shifted down on 0.005)', c=pure_aqua)\n",
    "plt.title('f1_score dependency on tree depth')\n",
    "plt.legend()\n",
    "plt.show()"
   ],
   "id": "db09403937a8a9e5",
   "outputs": [
    {
     "data": {
      "text/plain": [
       "<Figure size 640x480 with 1 Axes>"
      ],
      "image/png": "[encoded data removed]"
     },
     "metadata": {},
     "output_type": "display_data"
    }
   ],
   "execution_count": 41
  },
  {
   "metadata": {},
   "cell_type": "markdown",
   "source": "### Random Forest",
   "id": "6b62aa4b96536031"
  },
  {
   "metadata": {},
   "cell_type": "markdown",
   "source": "#### Random Forest *(impl)*",
   "id": "294ec42339b380e3"
  },
  {
   "metadata": {
    "ExecuteTime": {
     "end_time": "2024-06-19T23:23:57.691998Z",
     "start_time": "2024-06-19T23:23:41.002726Z"
    }
   },
   "cell_type": "code",
   "source": [
    "optimizer.add_mode(RandomForestImplInteractor, RandomForestImplInteractor())\n",
    "optimizer.switch_mode(RandomForestImplInteractor)\n",
    "rand_forest = optimizer.current_interactor.build(\n",
    "    {'max_depth': 5, 'min_samples_split': 3, 'min_samples_leaf': 5, 'criterion': GiniCriterion(),\n",
    "     'bootstrap': 1, 'n_estimators': 10, 'feature_limiter': Log2Limiter()})\n",
    "rand_forest.fit(optimizer.train_exdog, optimizer.train_ans)\n",
    "preds = rand_forest.predict(optimizer.test_exdog)\n",
    "print(f'f1_score: {optimizer.metric(optimizer.test_ans, preds)}')"
   ],
   "id": "c5db8b9b39684209",
   "outputs": [
    {
     "name": "stdout",
     "output_type": "stream",
     "text": [
      "\u001B[1;96m [INFO]\u001B[0m TreeClassifierOptimizer 2024-06-20 02:23:41.002726: RandomForestImplInteractor(<class 'model.interactor.impl.random_forest_interactor.RandomForestImplInteractor'>) successfully added(updated)\n",
      "\u001B[1;96m [INFO]\u001B[0m RandomForestClassifierImpl 2024-06-20 02:23:41.006337: Processed 0 / 10 estimators\n",
      "\u001B[1;96m [INFO]\u001B[0m RandomForestClassifierImpl 2024-06-20 02:23:57.673642: Processed 10 / 10 estimators\n",
      "f1_score: 0.793487811515882\n"
     ]
    }
   ],
   "execution_count": 20
  },
  {
   "metadata": {
    "ExecuteTime": {
     "end_time": "2024-06-20T01:15:12.232139Z",
     "start_time": "2024-06-19T23:23:57.691998Z"
    }
   },
   "cell_type": "code",
   "source": [
    "RAND_FOREST_IMPL_BEST_PARAMS = optimizer.run_study(n_trials=100)\n",
    "override_best_params(RandomForestImplInteractor, lambda pars: fix_limiter_param(fix_partition_criterion_param(pars)))\n",
    "RAND_FOREST_IMPL_BEST_PARAMS = optimizer.modes[RandomForestImplInteractor][1]"
   ],
   "id": "8bea3f9f46bd8279",
   "outputs": [
    {
     "name": "stderr",
     "output_type": "stream",
     "text": [
      "[I 2024-06-20 02:23:57,691] A new study created in memory with name: no-name-56b46101-105a-4c55-8261-5b8cdbe2c0f5\n"
     ]
    },
    {
     "name": "stdout",
     "output_type": "stream",
     "text": [
      "\u001B[1;96m [INFO]\u001B[0m RandomForestClassifierImpl 2024-06-20 02:23:57.696723: Processed 0 / 18 estimators\n",
      "\u001B[1;96m [INFO]\u001B[0m RandomForestClassifierImpl 2024-06-20 02:24:02.102115: Processed 10 / 18 estimators\n"
     ]
    },
    {
     "name": "stderr",
     "output_type": "stream",
     "text": [
      "[I 2024-06-20 02:24:05,576] Trial 0 finished with value: 0.8012058780062071 and parameters: {'max_depth': 3, 'min_samples_split': 6, 'min_samples_leaf': 29, 'bootstrap': 0, 'n_estimators': 18, 'criterion': 'entropy', 'feature_limiter': 'sqrt'}. Best is trial 0 with value: 0.8012058780062071.\n"
     ]
    },
    {
     "name": "stdout",
     "output_type": "stream",
     "text": [
      "\u001B[1;96m [INFO]\u001B[0m RandomForestClassifierImpl 2024-06-20 02:24:05.576012: Processed 18 / 18 estimators\n",
      "\u001B[1;96m [INFO]\u001B[0m RandomForestClassifierImpl 2024-06-20 02:24:05.576012: Processed 0 / 14 estimators\n",
      "\u001B[1;96m [INFO]\u001B[0m RandomForestClassifierImpl 2024-06-20 02:24:23.912096: Processed 10 / 14 estimators\n"
     ]
    },
    {
     "name": "stderr",
     "output_type": "stream",
     "text": [
      "[I 2024-06-20 02:24:29,324] Trial 1 finished with value: 0.7293193361366572 and parameters: {'max_depth': 50, 'min_samples_split': 23, 'min_samples_leaf': 36, 'bootstrap': 0, 'n_estimators': 14, 'criterion': 'entropy', 'feature_limiter': 'none'}. Best is trial 0 with value: 0.8012058780062071.\n"
     ]
    },
    {
     "name": "stdout",
     "output_type": "stream",
     "text": [
      "\u001B[1;96m [INFO]\u001B[0m RandomForestClassifierImpl 2024-06-20 02:24:29.324397: Processed 14 / 14 estimators\n",
      "\u001B[1;96m [INFO]\u001B[0m RandomForestClassifierImpl 2024-06-20 02:24:29.324397: Processed 0 / 21 estimators\n",
      "\u001B[1;96m [INFO]\u001B[0m RandomForestClassifierImpl 2024-06-20 02:24:43.449777: Processed 10 / 21 estimators\n",
      "\u001B[1;96m [INFO]\u001B[0m RandomForestClassifierImpl 2024-06-20 02:24:56.325120: Processed 20 / 21 estimators\n"
     ]
    },
    {
     "name": "stderr",
     "output_type": "stream",
     "text": [
      "[I 2024-06-20 02:24:57,513] Trial 2 finished with value: 0.8288880721898517 and parameters: {'max_depth': 25, 'min_samples_split': 40, 'min_samples_leaf': 34, 'bootstrap': 0, 'n_estimators': 21, 'criterion': 'gini', 'feature_limiter': 'sqrt'}. Best is trial 2 with value: 0.8288880721898517.\n"
     ]
    },
    {
     "name": "stdout",
     "output_type": "stream",
     "text": [
      "\u001B[1;96m [INFO]\u001B[0m RandomForestClassifierImpl 2024-06-20 02:24:57.513129: Processed 21 / 21 estimators\n",
      "\u001B[1;96m [INFO]\u001B[0m RandomForestClassifierImpl 2024-06-20 02:24:57.513129: Processed 0 / 15 estimators\n",
      "\u001B[1;96m [INFO]\u001B[0m RandomForestClassifierImpl 2024-06-20 02:25:53.731048: Processed 10 / 15 estimators\n"
     ]
    },
    {
     "name": "stderr",
     "output_type": "stream",
     "text": [
      "[I 2024-06-20 02:26:21,733] Trial 3 finished with value: 0.7471001561224604 and parameters: {'max_depth': 9, 'min_samples_split': 7, 'min_samples_leaf': 5, 'bootstrap': 0, 'n_estimators': 15, 'criterion': 'log_loss', 'feature_limiter': 'none'}. Best is trial 2 with value: 0.8288880721898517.\n"
     ]
    },
    {
     "name": "stdout",
     "output_type": "stream",
     "text": [
      "\u001B[1;96m [INFO]\u001B[0m RandomForestClassifierImpl 2024-06-20 02:26:21.733692: Processed 15 / 15 estimators\n",
      "\u001B[1;96m [INFO]\u001B[0m RandomForestClassifierImpl 2024-06-20 02:26:21.733692: Processed 0 / 32 estimators\n",
      "\u001B[1;96m [INFO]\u001B[0m RandomForestClassifierImpl 2024-06-20 02:26:35.220404: Processed 10 / 32 estimators\n",
      "\u001B[1;96m [INFO]\u001B[0m RandomForestClassifierImpl 2024-06-20 02:26:48.464917: Processed 20 / 32 estimators\n",
      "\u001B[1;96m [INFO]\u001B[0m RandomForestClassifierImpl 2024-06-20 02:27:02.449864: Processed 30 / 32 estimators\n"
     ]
    },
    {
     "name": "stderr",
     "output_type": "stream",
     "text": [
      "[I 2024-06-20 02:27:05,357] Trial 4 finished with value: 0.8060961086491722 and parameters: {'max_depth': 18, 'min_samples_split': 34, 'min_samples_leaf': 48, 'bootstrap': 0, 'n_estimators': 32, 'criterion': 'log_loss', 'feature_limiter': 'log2'}. Best is trial 2 with value: 0.8288880721898517.\n"
     ]
    },
    {
     "name": "stdout",
     "output_type": "stream",
     "text": [
      "\u001B[1;96m [INFO]\u001B[0m RandomForestClassifierImpl 2024-06-20 02:27:05.342321: Processed 32 / 32 estimators\n",
      "\u001B[1;96m [INFO]\u001B[0m RandomForestClassifierImpl 2024-06-20 02:27:05.358271: Processed 0 / 78 estimators\n",
      "\u001B[1;96m [INFO]\u001B[0m RandomForestClassifierImpl 2024-06-20 02:27:18.306529: Processed 10 / 78 estimators\n",
      "\u001B[1;96m [INFO]\u001B[0m RandomForestClassifierImpl 2024-06-20 02:27:31.916063: Processed 20 / 78 estimators\n",
      "\u001B[1;96m [INFO]\u001B[0m RandomForestClassifierImpl 2024-06-20 02:27:45.411658: Processed 30 / 78 estimators\n",
      "\u001B[1;96m [INFO]\u001B[0m RandomForestClassifierImpl 2024-06-20 02:27:58.741137: Processed 40 / 78 estimators\n",
      "\u001B[1;96m [INFO]\u001B[0m RandomForestClassifierImpl 2024-06-20 02:28:11.557906: Processed 50 / 78 estimators\n",
      "\u001B[1;96m [INFO]\u001B[0m RandomForestClassifierImpl 2024-06-20 02:28:24.096753: Processed 60 / 78 estimators\n",
      "\u001B[1;96m [INFO]\u001B[0m RandomForestClassifierImpl 2024-06-20 02:28:38.096930: Processed 70 / 78 estimators\n"
     ]
    },
    {
     "name": "stderr",
     "output_type": "stream",
     "text": [
      "[I 2024-06-20 02:28:49,784] Trial 5 finished with value: 0.8288880721898517 and parameters: {'max_depth': 36, 'min_samples_split': 20, 'min_samples_leaf': 40, 'bootstrap': 0, 'n_estimators': 78, 'criterion': 'gini', 'feature_limiter': 'log2'}. Best is trial 2 with value: 0.8288880721898517.\n"
     ]
    },
    {
     "name": "stdout",
     "output_type": "stream",
     "text": [
      "\u001B[1;96m [INFO]\u001B[0m RandomForestClassifierImpl 2024-06-20 02:28:49.776204: Processed 78 / 78 estimators\n",
      "\u001B[1;96m [INFO]\u001B[0m RandomForestClassifierImpl 2024-06-20 02:28:49.786190: Processed 0 / 59 estimators\n",
      "\u001B[1;96m [INFO]\u001B[0m RandomForestClassifierImpl 2024-06-20 02:29:05.744836: Processed 10 / 59 estimators\n",
      "\u001B[1;96m [INFO]\u001B[0m RandomForestClassifierImpl 2024-06-20 02:29:20.368158: Processed 20 / 59 estimators\n",
      "\u001B[1;96m [INFO]\u001B[0m RandomForestClassifierImpl 2024-06-20 02:29:36.507930: Processed 30 / 59 estimators\n",
      "\u001B[1;96m [INFO]\u001B[0m RandomForestClassifierImpl 2024-06-20 02:29:51.155119: Processed 40 / 59 estimators\n",
      "\u001B[1;96m [INFO]\u001B[0m RandomForestClassifierImpl 2024-06-20 02:30:05.648899: Processed 50 / 59 estimators\n"
     ]
    },
    {
     "name": "stderr",
     "output_type": "stream",
     "text": [
      "[I 2024-06-20 02:30:19,974] Trial 6 finished with value: 0.8131485233621907 and parameters: {'max_depth': 40, 'min_samples_split': 32, 'min_samples_leaf': 16, 'bootstrap': 1, 'n_estimators': 59, 'criterion': 'log_loss', 'feature_limiter': 'sqrt'}. Best is trial 2 with value: 0.8288880721898517.\n"
     ]
    },
    {
     "name": "stdout",
     "output_type": "stream",
     "text": [
      "\u001B[1;96m [INFO]\u001B[0m RandomForestClassifierImpl 2024-06-20 02:30:19.974172: Processed 59 / 59 estimators\n",
      "\u001B[1;96m [INFO]\u001B[0m RandomForestClassifierImpl 2024-06-20 02:30:19.974172: Processed 0 / 60 estimators\n",
      "\u001B[1;96m [INFO]\u001B[0m RandomForestClassifierImpl 2024-06-20 02:30:25.469484: Processed 10 / 60 estimators\n",
      "\u001B[1;96m [INFO]\u001B[0m RandomForestClassifierImpl 2024-06-20 02:30:30.523230: Processed 20 / 60 estimators\n",
      "\u001B[1;96m [INFO]\u001B[0m RandomForestClassifierImpl 2024-06-20 02:30:35.976910: Processed 30 / 60 estimators\n",
      "\u001B[1;96m [INFO]\u001B[0m RandomForestClassifierImpl 2024-06-20 02:30:41.526949: Processed 40 / 60 estimators\n",
      "\u001B[1;96m [INFO]\u001B[0m RandomForestClassifierImpl 2024-06-20 02:30:46.677770: Processed 50 / 60 estimators\n"
     ]
    },
    {
     "name": "stderr",
     "output_type": "stream",
     "text": [
      "[I 2024-06-20 02:30:51,793] Trial 7 finished with value: 0.7854120197619395 and parameters: {'max_depth': 5, 'min_samples_split': 35, 'min_samples_leaf': 21, 'bootstrap': 0, 'n_estimators': 60, 'criterion': 'entropy', 'feature_limiter': 'sqrt'}. Best is trial 2 with value: 0.8288880721898517.\n"
     ]
    },
    {
     "name": "stdout",
     "output_type": "stream",
     "text": [
      "\u001B[1;96m [INFO]\u001B[0m RandomForestClassifierImpl 2024-06-20 02:30:51.793461: Processed 60 / 60 estimators\n",
      "\u001B[1;96m [INFO]\u001B[0m RandomForestClassifierImpl 2024-06-20 02:30:51.805739: Processed 0 / 62 estimators\n",
      "\u001B[1;96m [INFO]\u001B[0m RandomForestClassifierImpl 2024-06-20 02:30:58.583231: Processed 10 / 62 estimators\n",
      "\u001B[1;96m [INFO]\u001B[0m RandomForestClassifierImpl 2024-06-20 02:31:04.117429: Processed 20 / 62 estimators\n",
      "\u001B[1;96m [INFO]\u001B[0m RandomForestClassifierImpl 2024-06-20 02:31:11.285169: Processed 30 / 62 estimators\n",
      "\u001B[1;96m [INFO]\u001B[0m RandomForestClassifierImpl 2024-06-20 02:31:17.989820: Processed 40 / 62 estimators\n",
      "\u001B[1;96m [INFO]\u001B[0m RandomForestClassifierImpl 2024-06-20 02:31:25.607953: Processed 50 / 62 estimators\n",
      "\u001B[1;96m [INFO]\u001B[0m RandomForestClassifierImpl 2024-06-20 02:31:32.484945: Processed 60 / 62 estimators\n"
     ]
    },
    {
     "name": "stderr",
     "output_type": "stream",
     "text": [
      "[I 2024-06-20 02:31:34,252] Trial 8 finished with value: 0.7854120197619395 and parameters: {'max_depth': 13, 'min_samples_split': 20, 'min_samples_leaf': 11, 'bootstrap': 0, 'n_estimators': 62, 'criterion': 'entropy', 'feature_limiter': 'log2'}. Best is trial 2 with value: 0.8288880721898517.\n"
     ]
    },
    {
     "name": "stdout",
     "output_type": "stream",
     "text": [
      "\u001B[1;96m [INFO]\u001B[0m RandomForestClassifierImpl 2024-06-20 02:31:34.229854: Processed 62 / 62 estimators\n",
      "\u001B[1;96m [INFO]\u001B[0m RandomForestClassifierImpl 2024-06-20 02:31:34.253999: Processed 0 / 98 estimators\n",
      "\u001B[1;96m [INFO]\u001B[0m RandomForestClassifierImpl 2024-06-20 02:31:39.359676: Processed 10 / 98 estimators\n",
      "\u001B[1;96m [INFO]\u001B[0m RandomForestClassifierImpl 2024-06-20 02:31:44.013867: Processed 20 / 98 estimators\n",
      "\u001B[1;96m [INFO]\u001B[0m RandomForestClassifierImpl 2024-06-20 02:31:48.719409: Processed 30 / 98 estimators\n",
      "\u001B[1;96m [INFO]\u001B[0m RandomForestClassifierImpl 2024-06-20 02:31:53.163157: Processed 40 / 98 estimators\n",
      "\u001B[1;96m [INFO]\u001B[0m RandomForestClassifierImpl 2024-06-20 02:31:58.238202: Processed 50 / 98 estimators\n",
      "\u001B[1;96m [INFO]\u001B[0m RandomForestClassifierImpl 2024-06-20 02:32:02.495744: Processed 60 / 98 estimators\n",
      "\u001B[1;96m [INFO]\u001B[0m RandomForestClassifierImpl 2024-06-20 02:32:07.448568: Processed 70 / 98 estimators\n",
      "\u001B[1;96m [INFO]\u001B[0m RandomForestClassifierImpl 2024-06-20 02:32:12.477226: Processed 80 / 98 estimators\n",
      "\u001B[1;96m [INFO]\u001B[0m RandomForestClassifierImpl 2024-06-20 02:32:17.817650: Processed 90 / 98 estimators\n"
     ]
    },
    {
     "name": "stderr",
     "output_type": "stream",
     "text": [
      "[I 2024-06-20 02:32:21,227] Trial 9 finished with value: 0.8012058780062071 and parameters: {'max_depth': 9, 'min_samples_split': 42, 'min_samples_leaf': 36, 'bootstrap': 0, 'n_estimators': 98, 'criterion': 'entropy', 'feature_limiter': 'sqrt'}. Best is trial 2 with value: 0.8288880721898517.\n"
     ]
    },
    {
     "name": "stdout",
     "output_type": "stream",
     "text": [
      "\u001B[1;96m [INFO]\u001B[0m RandomForestClassifierImpl 2024-06-20 02:32:21.227976: Processed 98 / 98 estimators\n",
      "\u001B[1;96m [INFO]\u001B[0m RandomForestClassifierImpl 2024-06-20 02:32:21.243794: Processed 0 / 37 estimators\n",
      "\u001B[1;96m [INFO]\u001B[0m RandomForestClassifierImpl 2024-06-20 02:32:33.935153: Processed 10 / 37 estimators\n",
      "\u001B[1;96m [INFO]\u001B[0m RandomForestClassifierImpl 2024-06-20 02:32:45.705636: Processed 20 / 37 estimators\n",
      "\u001B[1;96m [INFO]\u001B[0m RandomForestClassifierImpl 2024-06-20 02:32:57.597822: Processed 30 / 37 estimators\n"
     ]
    },
    {
     "name": "stderr",
     "output_type": "stream",
     "text": [
      "[I 2024-06-20 02:33:05,758] Trial 10 finished with value: 0.7465012398142273 and parameters: {'max_depth': 26, 'min_samples_split': 46, 'min_samples_leaf': 50, 'bootstrap': 1, 'n_estimators': 37, 'criterion': 'gini', 'feature_limiter': 'sqrt'}. Best is trial 2 with value: 0.8288880721898517.\n"
     ]
    },
    {
     "name": "stdout",
     "output_type": "stream",
     "text": [
      "\u001B[1;96m [INFO]\u001B[0m RandomForestClassifierImpl 2024-06-20 02:33:05.758167: Processed 37 / 37 estimators\n",
      "\u001B[1;96m [INFO]\u001B[0m RandomForestClassifierImpl 2024-06-20 02:33:05.789320: Processed 0 / 86 estimators\n",
      "\u001B[1;96m [INFO]\u001B[0m RandomForestClassifierImpl 2024-06-20 02:33:18.775994: Processed 10 / 86 estimators\n",
      "\u001B[1;96m [INFO]\u001B[0m RandomForestClassifierImpl 2024-06-20 02:33:31.604223: Processed 20 / 86 estimators\n",
      "\u001B[1;96m [INFO]\u001B[0m RandomForestClassifierImpl 2024-06-20 02:33:44.185865: Processed 30 / 86 estimators\n",
      "\u001B[1;96m [INFO]\u001B[0m RandomForestClassifierImpl 2024-06-20 02:33:58.386231: Processed 40 / 86 estimators\n",
      "\u001B[1;96m [INFO]\u001B[0m RandomForestClassifierImpl 2024-06-20 02:34:11.369525: Processed 50 / 86 estimators\n",
      "\u001B[1;96m [INFO]\u001B[0m RandomForestClassifierImpl 2024-06-20 02:34:24.081167: Processed 60 / 86 estimators\n",
      "\u001B[1;96m [INFO]\u001B[0m RandomForestClassifierImpl 2024-06-20 02:34:36.653031: Processed 70 / 86 estimators\n",
      "\u001B[1;96m [INFO]\u001B[0m RandomForestClassifierImpl 2024-06-20 02:34:49.380645: Processed 80 / 86 estimators\n"
     ]
    },
    {
     "name": "stderr",
     "output_type": "stream",
     "text": [
      "[I 2024-06-20 02:34:57,669] Trial 11 finished with value: 0.8203078799526908 and parameters: {'max_depth': 32, 'min_samples_split': 16, 'min_samples_leaf': 40, 'bootstrap': 1, 'n_estimators': 86, 'criterion': 'gini', 'feature_limiter': 'log2'}. Best is trial 2 with value: 0.8288880721898517.\n"
     ]
    },
    {
     "name": "stdout",
     "output_type": "stream",
     "text": [
      "\u001B[1;96m [INFO]\u001B[0m RandomForestClassifierImpl 2024-06-20 02:34:57.669985: Processed 86 / 86 estimators\n",
      "\u001B[1;96m [INFO]\u001B[0m RandomForestClassifierImpl 2024-06-20 02:34:57.685613: Processed 0 / 74 estimators\n",
      "\u001B[1;96m [INFO]\u001B[0m RandomForestClassifierImpl 2024-06-20 02:35:11.485517: Processed 10 / 74 estimators\n",
      "\u001B[1;96m [INFO]\u001B[0m RandomForestClassifierImpl 2024-06-20 02:35:26.513648: Processed 20 / 74 estimators\n",
      "\u001B[1;96m [INFO]\u001B[0m RandomForestClassifierImpl 2024-06-20 02:35:41.893864: Processed 30 / 74 estimators\n",
      "\u001B[1;96m [INFO]\u001B[0m RandomForestClassifierImpl 2024-06-20 02:35:56.250190: Processed 40 / 74 estimators\n",
      "\u001B[1;96m [INFO]\u001B[0m RandomForestClassifierImpl 2024-06-20 02:36:11.105741: Processed 50 / 74 estimators\n",
      "\u001B[1;96m [INFO]\u001B[0m RandomForestClassifierImpl 2024-06-20 02:36:25.348779: Processed 60 / 74 estimators\n",
      "\u001B[1;96m [INFO]\u001B[0m RandomForestClassifierImpl 2024-06-20 02:36:40.473241: Processed 70 / 74 estimators\n"
     ]
    },
    {
     "name": "stderr",
     "output_type": "stream",
     "text": [
      "[I 2024-06-20 02:36:46,915] Trial 12 finished with value: 0.8059648799656167 and parameters: {'max_depth': 36, 'min_samples_split': 50, 'min_samples_leaf': 28, 'bootstrap': 0, 'n_estimators': 74, 'criterion': 'gini', 'feature_limiter': 'log2'}. Best is trial 2 with value: 0.8288880721898517.\n"
     ]
    },
    {
     "name": "stdout",
     "output_type": "stream",
     "text": [
      "\u001B[1;96m [INFO]\u001B[0m RandomForestClassifierImpl 2024-06-20 02:36:46.900177: Processed 74 / 74 estimators\n",
      "\u001B[1;96m [INFO]\u001B[0m RandomForestClassifierImpl 2024-06-20 02:36:46.931449: Processed 0 / 2 estimators\n"
     ]
    },
    {
     "name": "stderr",
     "output_type": "stream",
     "text": [
      "[I 2024-06-20 02:36:50,012] Trial 13 finished with value: 0.6315331641899239 and parameters: {'max_depth': 23, 'min_samples_split': 27, 'min_samples_leaf': 42, 'bootstrap': 0, 'n_estimators': 2, 'criterion': 'gini', 'feature_limiter': 'log2'}. Best is trial 2 with value: 0.8288880721898517.\n"
     ]
    },
    {
     "name": "stdout",
     "output_type": "stream",
     "text": [
      "\u001B[1;96m [INFO]\u001B[0m RandomForestClassifierImpl 2024-06-20 02:36:50.012149: Processed 2 / 2 estimators\n",
      "\u001B[1;96m [INFO]\u001B[0m RandomForestClassifierImpl 2024-06-20 02:36:50.029680: Processed 0 / 40 estimators\n",
      "\u001B[1;96m [INFO]\u001B[0m RandomForestClassifierImpl 2024-06-20 02:37:35.002101: Processed 10 / 40 estimators\n",
      "\u001B[1;96m [INFO]\u001B[0m RandomForestClassifierImpl 2024-06-20 02:38:19.571071: Processed 20 / 40 estimators\n",
      "\u001B[1;96m [INFO]\u001B[0m RandomForestClassifierImpl 2024-06-20 02:39:05.954940: Processed 30 / 40 estimators\n"
     ]
    },
    {
     "name": "stderr",
     "output_type": "stream",
     "text": [
      "[I 2024-06-20 02:39:52,294] Trial 14 finished with value: 0.8168053446705131 and parameters: {'max_depth': 45, 'min_samples_split': 14, 'min_samples_leaf': 32, 'bootstrap': 1, 'n_estimators': 40, 'criterion': 'gini', 'feature_limiter': 'none'}. Best is trial 2 with value: 0.8288880721898517.\n"
     ]
    },
    {
     "name": "stdout",
     "output_type": "stream",
     "text": [
      "\u001B[1;96m [INFO]\u001B[0m RandomForestClassifierImpl 2024-06-20 02:39:52.294634: Processed 40 / 40 estimators\n",
      "\u001B[1;96m [INFO]\u001B[0m RandomForestClassifierImpl 2024-06-20 02:39:52.309197: Processed 0 / 77 estimators\n",
      "\u001B[1;96m [INFO]\u001B[0m RandomForestClassifierImpl 2024-06-20 02:40:07.561185: Processed 10 / 77 estimators\n",
      "\u001B[1;96m [INFO]\u001B[0m RandomForestClassifierImpl 2024-06-20 02:40:22.660011: Processed 20 / 77 estimators\n",
      "\u001B[1;96m [INFO]\u001B[0m RandomForestClassifierImpl 2024-06-20 02:40:36.963108: Processed 30 / 77 estimators\n",
      "\u001B[1;96m [INFO]\u001B[0m RandomForestClassifierImpl 2024-06-20 02:40:51.352684: Processed 40 / 77 estimators\n",
      "\u001B[1;96m [INFO]\u001B[0m RandomForestClassifierImpl 2024-06-20 02:41:05.343987: Processed 50 / 77 estimators\n",
      "\u001B[1;96m [INFO]\u001B[0m RandomForestClassifierImpl 2024-06-20 02:41:20.749146: Processed 60 / 77 estimators\n",
      "\u001B[1;96m [INFO]\u001B[0m RandomForestClassifierImpl 2024-06-20 02:41:35.220088: Processed 70 / 77 estimators\n"
     ]
    },
    {
     "name": "stderr",
     "output_type": "stream",
     "text": [
      "[I 2024-06-20 02:41:46,292] Trial 15 finished with value: 0.8059648799656167 and parameters: {'max_depth': 29, 'min_samples_split': 39, 'min_samples_leaf': 22, 'bootstrap': 0, 'n_estimators': 77, 'criterion': 'gini', 'feature_limiter': 'sqrt'}. Best is trial 2 with value: 0.8288880721898517.\n"
     ]
    },
    {
     "name": "stdout",
     "output_type": "stream",
     "text": [
      "\u001B[1;96m [INFO]\u001B[0m RandomForestClassifierImpl 2024-06-20 02:41:46.277179: Processed 77 / 77 estimators\n",
      "\u001B[1;96m [INFO]\u001B[0m RandomForestClassifierImpl 2024-06-20 02:41:46.308570: Processed 0 / 48 estimators\n",
      "\u001B[1;96m [INFO]\u001B[0m RandomForestClassifierImpl 2024-06-20 02:41:58.697965: Processed 10 / 48 estimators\n",
      "\u001B[1;96m [INFO]\u001B[0m RandomForestClassifierImpl 2024-06-20 02:42:11.759282: Processed 20 / 48 estimators\n",
      "\u001B[1;96m [INFO]\u001B[0m RandomForestClassifierImpl 2024-06-20 02:42:24.912830: Processed 30 / 48 estimators\n",
      "\u001B[1;96m [INFO]\u001B[0m RandomForestClassifierImpl 2024-06-20 02:42:36.941624: Processed 40 / 48 estimators\n"
     ]
    },
    {
     "name": "stderr",
     "output_type": "stream",
     "text": [
      "[I 2024-06-20 02:42:48,332] Trial 16 finished with value: 0.6315331641899239 and parameters: {'max_depth': 19, 'min_samples_split': 29, 'min_samples_leaf': 42, 'bootstrap': 0, 'n_estimators': 48, 'criterion': 'gini', 'feature_limiter': 'log2'}. Best is trial 2 with value: 0.8288880721898517.\n"
     ]
    },
    {
     "name": "stdout",
     "output_type": "stream",
     "text": [
      "\u001B[1;96m [INFO]\u001B[0m RandomForestClassifierImpl 2024-06-20 02:42:48.332366: Processed 48 / 48 estimators\n",
      "\u001B[1;96m [INFO]\u001B[0m RandomForestClassifierImpl 2024-06-20 02:42:48.348128: Processed 0 / 96 estimators\n",
      "\u001B[1;96m [INFO]\u001B[0m RandomForestClassifierImpl 2024-06-20 02:43:01.336538: Processed 10 / 96 estimators\n",
      "\u001B[1;96m [INFO]\u001B[0m RandomForestClassifierImpl 2024-06-20 02:43:13.549966: Processed 20 / 96 estimators\n",
      "\u001B[1;96m [INFO]\u001B[0m RandomForestClassifierImpl 2024-06-20 02:43:25.600628: Processed 30 / 96 estimators\n",
      "\u001B[1;96m [INFO]\u001B[0m RandomForestClassifierImpl 2024-06-20 02:43:37.488960: Processed 40 / 96 estimators\n",
      "\u001B[1;96m [INFO]\u001B[0m RandomForestClassifierImpl 2024-06-20 02:43:50.499477: Processed 50 / 96 estimators\n",
      "\u001B[1;96m [INFO]\u001B[0m RandomForestClassifierImpl 2024-06-20 02:44:02.692718: Processed 60 / 96 estimators\n",
      "\u001B[1;96m [INFO]\u001B[0m RandomForestClassifierImpl 2024-06-20 02:44:14.446201: Processed 70 / 96 estimators\n",
      "\u001B[1;96m [INFO]\u001B[0m RandomForestClassifierImpl 2024-06-20 02:44:27.224126: Processed 80 / 96 estimators\n",
      "\u001B[1;96m [INFO]\u001B[0m RandomForestClassifierImpl 2024-06-20 02:44:41.845266: Processed 90 / 96 estimators\n"
     ]
    },
    {
     "name": "stderr",
     "output_type": "stream",
     "text": [
      "[I 2024-06-20 02:44:48,886] Trial 17 finished with value: 0.78036730524692 and parameters: {'max_depth': 36, 'min_samples_split': 10, 'min_samples_leaf': 45, 'bootstrap': 1, 'n_estimators': 96, 'criterion': 'gini', 'feature_limiter': 'log2'}. Best is trial 2 with value: 0.8288880721898517.\n"
     ]
    },
    {
     "name": "stdout",
     "output_type": "stream",
     "text": [
      "\u001B[1;96m [INFO]\u001B[0m RandomForestClassifierImpl 2024-06-20 02:44:48.871225: Processed 96 / 96 estimators\n",
      "\u001B[1;96m [INFO]\u001B[0m RandomForestClassifierImpl 2024-06-20 02:44:48.903066: Processed 0 / 24 estimators\n",
      "\u001B[1;96m [INFO]\u001B[0m RandomForestClassifierImpl 2024-06-20 02:45:02.594356: Processed 10 / 24 estimators\n",
      "\u001B[1;96m [INFO]\u001B[0m RandomForestClassifierImpl 2024-06-20 02:45:14.611075: Processed 20 / 24 estimators\n"
     ]
    },
    {
     "name": "stderr",
     "output_type": "stream",
     "text": [
      "[I 2024-06-20 02:45:20,842] Trial 18 finished with value: 0.8288880721898517 and parameters: {'max_depth': 41, 'min_samples_split': 2, 'min_samples_leaf': 34, 'bootstrap': 0, 'n_estimators': 24, 'criterion': 'gini', 'feature_limiter': 'sqrt'}. Best is trial 2 with value: 0.8288880721898517.\n"
     ]
    },
    {
     "name": "stdout",
     "output_type": "stream",
     "text": [
      "\u001B[1;96m [INFO]\u001B[0m RandomForestClassifierImpl 2024-06-20 02:45:20.842035: Processed 24 / 24 estimators\n",
      "\u001B[1;96m [INFO]\u001B[0m RandomForestClassifierImpl 2024-06-20 02:45:20.857627: Processed 0 / 72 estimators\n",
      "\u001B[1;96m [INFO]\u001B[0m RandomForestClassifierImpl 2024-06-20 02:46:10.655112: Processed 10 / 72 estimators\n",
      "\u001B[1;96m [INFO]\u001B[0m RandomForestClassifierImpl 2024-06-20 02:47:00.145914: Processed 20 / 72 estimators\n",
      "\u001B[1;96m [INFO]\u001B[0m RandomForestClassifierImpl 2024-06-20 02:47:49.686001: Processed 30 / 72 estimators\n",
      "\u001B[1;96m [INFO]\u001B[0m RandomForestClassifierImpl 2024-06-20 02:48:39.149480: Processed 40 / 72 estimators\n",
      "\u001B[1;96m [INFO]\u001B[0m RandomForestClassifierImpl 2024-06-20 02:49:28.731804: Processed 50 / 72 estimators\n",
      "\u001B[1;96m [INFO]\u001B[0m RandomForestClassifierImpl 2024-06-20 02:50:18.277738: Processed 60 / 72 estimators\n",
      "\u001B[1;96m [INFO]\u001B[0m RandomForestClassifierImpl 2024-06-20 02:51:07.825412: Processed 70 / 72 estimators\n"
     ]
    },
    {
     "name": "stderr",
     "output_type": "stream",
     "text": [
      "[I 2024-06-20 02:51:17,720] Trial 19 finished with value: 0.8153571573439338 and parameters: {'max_depth': 31, 'min_samples_split': 21, 'min_samples_leaf': 24, 'bootstrap': 0, 'n_estimators': 72, 'criterion': 'gini', 'feature_limiter': 'none'}. Best is trial 2 with value: 0.8288880721898517.\n"
     ]
    },
    {
     "name": "stdout",
     "output_type": "stream",
     "text": [
      "\u001B[1;96m [INFO]\u001B[0m RandomForestClassifierImpl 2024-06-20 02:51:17.720286: Processed 72 / 72 estimators\n",
      "\u001B[1;96m [INFO]\u001B[0m RandomForestClassifierImpl 2024-06-20 02:51:17.752155: Processed 0 / 1 estimators\n"
     ]
    },
    {
     "name": "stderr",
     "output_type": "stream",
     "text": [
      "[I 2024-06-20 02:51:19,229] Trial 20 finished with value: 0.6315331641899239 and parameters: {'max_depth': 22, 'min_samples_split': 39, 'min_samples_leaf': 38, 'bootstrap': 1, 'n_estimators': 1, 'criterion': 'log_loss', 'feature_limiter': 'log2'}. Best is trial 2 with value: 0.8288880721898517.\n"
     ]
    },
    {
     "name": "stdout",
     "output_type": "stream",
     "text": [
      "\u001B[1;96m [INFO]\u001B[0m RandomForestClassifierImpl 2024-06-20 02:51:19.229404: Processed 1 / 1 estimators\n",
      "\u001B[1;96m [INFO]\u001B[0m RandomForestClassifierImpl 2024-06-20 02:51:19.245191: Processed 0 / 26 estimators\n",
      "\u001B[1;96m [INFO]\u001B[0m RandomForestClassifierImpl 2024-06-20 02:51:33.660551: Processed 10 / 26 estimators\n",
      "\u001B[1;96m [INFO]\u001B[0m RandomForestClassifierImpl 2024-06-20 02:51:45.917800: Processed 20 / 26 estimators\n"
     ]
    },
    {
     "name": "stderr",
     "output_type": "stream",
     "text": [
      "[I 2024-06-20 02:51:54,674] Trial 21 finished with value: 0.6315331641899239 and parameters: {'max_depth': 43, 'min_samples_split': 2, 'min_samples_leaf': 33, 'bootstrap': 0, 'n_estimators': 26, 'criterion': 'gini', 'feature_limiter': 'sqrt'}. Best is trial 2 with value: 0.8288880721898517.\n"
     ]
    },
    {
     "name": "stdout",
     "output_type": "stream",
     "text": [
      "\u001B[1;96m [INFO]\u001B[0m RandomForestClassifierImpl 2024-06-20 02:51:54.674271: Processed 26 / 26 estimators\n",
      "\u001B[1;96m [INFO]\u001B[0m RandomForestClassifierImpl 2024-06-20 02:51:54.690041: Processed 0 / 25 estimators\n",
      "\u001B[1;96m [INFO]\u001B[0m RandomForestClassifierImpl 2024-06-20 02:52:07.257617: Processed 10 / 25 estimators\n",
      "\u001B[1;96m [INFO]\u001B[0m RandomForestClassifierImpl 2024-06-20 02:52:20.841657: Processed 20 / 25 estimators\n"
     ]
    },
    {
     "name": "stderr",
     "output_type": "stream",
     "text": [
      "[I 2024-06-20 02:52:27,587] Trial 22 finished with value: 0.8059648799656167 and parameters: {'max_depth': 36, 'min_samples_split': 1, 'min_samples_leaf': 32, 'bootstrap': 0, 'n_estimators': 25, 'criterion': 'gini', 'feature_limiter': 'sqrt'}. Best is trial 2 with value: 0.8288880721898517.\n"
     ]
    },
    {
     "name": "stdout",
     "output_type": "stream",
     "text": [
      "\u001B[1;96m [INFO]\u001B[0m RandomForestClassifierImpl 2024-06-20 02:52:27.587560: Processed 25 / 25 estimators\n",
      "\u001B[1;96m [INFO]\u001B[0m RandomForestClassifierImpl 2024-06-20 02:52:27.602661: Processed 0 / 48 estimators\n",
      "\u001B[1;96m [INFO]\u001B[0m RandomForestClassifierImpl 2024-06-20 02:52:42.321339: Processed 10 / 48 estimators\n",
      "\u001B[1;96m [INFO]\u001B[0m RandomForestClassifierImpl 2024-06-20 02:52:56.269356: Processed 20 / 48 estimators\n",
      "\u001B[1;96m [INFO]\u001B[0m RandomForestClassifierImpl 2024-06-20 02:53:09.540685: Processed 30 / 48 estimators\n",
      "\u001B[1;96m [INFO]\u001B[0m RandomForestClassifierImpl 2024-06-20 02:53:22.872958: Processed 40 / 48 estimators\n"
     ]
    },
    {
     "name": "stderr",
     "output_type": "stream",
     "text": [
      "[I 2024-06-20 02:53:33,526] Trial 23 finished with value: 0.8288880721898517 and parameters: {'max_depth': 47, 'min_samples_split': 15, 'min_samples_leaf': 44, 'bootstrap': 0, 'n_estimators': 48, 'criterion': 'gini', 'feature_limiter': 'sqrt'}. Best is trial 2 with value: 0.8288880721898517.\n"
     ]
    },
    {
     "name": "stdout",
     "output_type": "stream",
     "text": [
      "\u001B[1;96m [INFO]\u001B[0m RandomForestClassifierImpl 2024-06-20 02:53:33.512316: Processed 48 / 48 estimators\n",
      "\u001B[1;96m [INFO]\u001B[0m RandomForestClassifierImpl 2024-06-20 02:53:33.542869: Processed 0 / 9 estimators\n"
     ]
    },
    {
     "name": "stderr",
     "output_type": "stream",
     "text": [
      "[I 2024-06-20 02:53:47,179] Trial 24 finished with value: 0.7980693147649945 and parameters: {'max_depth': 40, 'min_samples_split': 11, 'min_samples_leaf': 28, 'bootstrap': 0, 'n_estimators': 9, 'criterion': 'gini', 'feature_limiter': 'sqrt'}. Best is trial 2 with value: 0.8288880721898517.\n"
     ]
    },
    {
     "name": "stdout",
     "output_type": "stream",
     "text": [
      "\u001B[1;96m [INFO]\u001B[0m RandomForestClassifierImpl 2024-06-20 02:53:47.179579: Processed 9 / 9 estimators\n",
      "\u001B[1;96m [INFO]\u001B[0m RandomForestClassifierImpl 2024-06-20 02:53:47.196059: Processed 0 / 25 estimators\n",
      "\u001B[1;96m [INFO]\u001B[0m RandomForestClassifierImpl 2024-06-20 02:54:00.052840: Processed 10 / 25 estimators\n",
      "\u001B[1;96m [INFO]\u001B[0m RandomForestClassifierImpl 2024-06-20 02:54:11.961893: Processed 20 / 25 estimators\n"
     ]
    },
    {
     "name": "stderr",
     "output_type": "stream",
     "text": [
      "[I 2024-06-20 02:54:18,842] Trial 25 finished with value: 0.8288880721898517 and parameters: {'max_depth': 28, 'min_samples_split': 18, 'min_samples_leaf': 36, 'bootstrap': 0, 'n_estimators': 25, 'criterion': 'gini', 'feature_limiter': 'sqrt'}. Best is trial 2 with value: 0.8288880721898517.\n"
     ]
    },
    {
     "name": "stdout",
     "output_type": "stream",
     "text": [
      "\u001B[1;96m [INFO]\u001B[0m RandomForestClassifierImpl 2024-06-20 02:54:18.842569: Processed 25 / 25 estimators\n",
      "\u001B[1;96m [INFO]\u001B[0m RandomForestClassifierImpl 2024-06-20 02:54:18.859054: Processed 0 / 44 estimators\n",
      "\u001B[1;96m [INFO]\u001B[0m RandomForestClassifierImpl 2024-06-20 02:54:32.210864: Processed 10 / 44 estimators\n",
      "\u001B[1;96m [INFO]\u001B[0m RandomForestClassifierImpl 2024-06-20 02:54:46.409751: Processed 20 / 44 estimators\n",
      "\u001B[1;96m [INFO]\u001B[0m RandomForestClassifierImpl 2024-06-20 02:54:59.512392: Processed 30 / 44 estimators\n",
      "\u001B[1;96m [INFO]\u001B[0m RandomForestClassifierImpl 2024-06-20 02:55:13.832239: Processed 40 / 44 estimators\n"
     ]
    },
    {
     "name": "stderr",
     "output_type": "stream",
     "text": [
      "[I 2024-06-20 02:55:19,365] Trial 26 finished with value: 0.8288880721898517 and parameters: {'max_depth': 33, 'min_samples_split': 25, 'min_samples_leaf': 46, 'bootstrap': 0, 'n_estimators': 44, 'criterion': 'gini', 'feature_limiter': 'sqrt'}. Best is trial 2 with value: 0.8288880721898517.\n"
     ]
    },
    {
     "name": "stdout",
     "output_type": "stream",
     "text": [
      "\u001B[1;96m [INFO]\u001B[0m RandomForestClassifierImpl 2024-06-20 02:55:19.365626: Processed 44 / 44 estimators\n",
      "\u001B[1;96m [INFO]\u001B[0m RandomForestClassifierImpl 2024-06-20 02:55:19.381197: Processed 0 / 33 estimators\n",
      "\u001B[1;96m [INFO]\u001B[0m RandomForestClassifierImpl 2024-06-20 02:55:33.936582: Processed 10 / 33 estimators\n",
      "\u001B[1;96m [INFO]\u001B[0m RandomForestClassifierImpl 2024-06-20 02:55:48.463173: Processed 20 / 33 estimators\n",
      "\u001B[1;96m [INFO]\u001B[0m RandomForestClassifierImpl 2024-06-20 02:56:05.072141: Processed 30 / 33 estimators\n"
     ]
    },
    {
     "name": "stderr",
     "output_type": "stream",
     "text": [
      "[I 2024-06-20 02:56:09,853] Trial 27 finished with value: 0.808083302465325 and parameters: {'max_depth': 40, 'min_samples_split': 30, 'min_samples_leaf': 18, 'bootstrap': 0, 'n_estimators': 33, 'criterion': 'gini', 'feature_limiter': 'sqrt'}. Best is trial 2 with value: 0.8288880721898517.\n"
     ]
    },
    {
     "name": "stdout",
     "output_type": "stream",
     "text": [
      "\u001B[1;96m [INFO]\u001B[0m RandomForestClassifierImpl 2024-06-20 02:56:09.853936: Processed 33 / 33 estimators\n",
      "\u001B[1;96m [INFO]\u001B[0m RandomForestClassifierImpl 2024-06-20 02:56:09.870296: Processed 0 / 87 estimators\n",
      "\u001B[1;96m [INFO]\u001B[0m RandomForestClassifierImpl 2024-06-20 02:56:58.246080: Processed 10 / 87 estimators\n",
      "\u001B[1;96m [INFO]\u001B[0m RandomForestClassifierImpl 2024-06-20 02:57:46.279258: Processed 20 / 87 estimators\n",
      "\u001B[1;96m [INFO]\u001B[0m RandomForestClassifierImpl 2024-06-20 02:58:34.347652: Processed 30 / 87 estimators\n",
      "\u001B[1;96m [INFO]\u001B[0m RandomForestClassifierImpl 2024-06-20 02:59:22.367741: Processed 40 / 87 estimators\n",
      "\u001B[1;96m [INFO]\u001B[0m RandomForestClassifierImpl 2024-06-20 03:00:10.446348: Processed 50 / 87 estimators\n",
      "\u001B[1;96m [INFO]\u001B[0m RandomForestClassifierImpl 2024-06-20 03:00:58.970799: Processed 60 / 87 estimators\n",
      "\u001B[1;96m [INFO]\u001B[0m RandomForestClassifierImpl 2024-06-20 03:01:47.060575: Processed 70 / 87 estimators\n",
      "\u001B[1;96m [INFO]\u001B[0m RandomForestClassifierImpl 2024-06-20 03:02:35.222255: Processed 80 / 87 estimators\n"
     ]
    },
    {
     "name": "stderr",
     "output_type": "stream",
     "text": [
      "[I 2024-06-20 03:03:08,916] Trial 28 finished with value: 0.8217839671821777 and parameters: {'max_depth': 17, 'min_samples_split': 43, 'min_samples_leaf': 39, 'bootstrap': 0, 'n_estimators': 87, 'criterion': 'log_loss', 'feature_limiter': 'none'}. Best is trial 2 with value: 0.8288880721898517.\n"
     ]
    },
    {
     "name": "stdout",
     "output_type": "stream",
     "text": [
      "\u001B[1;96m [INFO]\u001B[0m RandomForestClassifierImpl 2024-06-20 03:03:08.899647: Processed 87 / 87 estimators\n",
      "\u001B[1;96m [INFO]\u001B[0m RandomForestClassifierImpl 2024-06-20 03:03:08.931507: Processed 0 / 18 estimators\n",
      "\u001B[1;96m [INFO]\u001B[0m RandomForestClassifierImpl 2024-06-20 03:03:23.459154: Processed 10 / 18 estimators\n"
     ]
    },
    {
     "name": "stderr",
     "output_type": "stream",
     "text": [
      "[I 2024-06-20 03:03:35,552] Trial 29 finished with value: 0.8059648799656167 and parameters: {'max_depth': 24, 'min_samples_split': 4, 'min_samples_leaf': 31, 'bootstrap': 0, 'n_estimators': 18, 'criterion': 'gini', 'feature_limiter': 'log2'}. Best is trial 2 with value: 0.8288880721898517.\n"
     ]
    },
    {
     "name": "stdout",
     "output_type": "stream",
     "text": [
      "\u001B[1;96m [INFO]\u001B[0m RandomForestClassifierImpl 2024-06-20 03:03:35.552455: Processed 18 / 18 estimators\n",
      "\u001B[1;96m [INFO]\u001B[0m RandomForestClassifierImpl 2024-06-20 03:03:35.567488: Processed 0 / 53 estimators\n",
      "\u001B[1;96m [INFO]\u001B[0m RandomForestClassifierImpl 2024-06-20 03:03:41.040514: Processed 10 / 53 estimators\n",
      "\u001B[1;96m [INFO]\u001B[0m RandomForestClassifierImpl 2024-06-20 03:03:45.880139: Processed 20 / 53 estimators\n",
      "\u001B[1;96m [INFO]\u001B[0m RandomForestClassifierImpl 2024-06-20 03:03:50.898129: Processed 30 / 53 estimators\n",
      "\u001B[1;96m [INFO]\u001B[0m RandomForestClassifierImpl 2024-06-20 03:03:55.441941: Processed 40 / 53 estimators\n",
      "\u001B[1;96m [INFO]\u001B[0m RandomForestClassifierImpl 2024-06-20 03:04:00.382747: Processed 50 / 53 estimators\n"
     ]
    },
    {
     "name": "stderr",
     "output_type": "stream",
     "text": [
      "[I 2024-06-20 03:04:01,773] Trial 30 finished with value: 0.8012058780062071 and parameters: {'max_depth': 42, 'min_samples_split': 8, 'min_samples_leaf': 26, 'bootstrap': 0, 'n_estimators': 53, 'criterion': 'entropy', 'feature_limiter': 'sqrt'}. Best is trial 2 with value: 0.8288880721898517.\n"
     ]
    },
    {
     "name": "stdout",
     "output_type": "stream",
     "text": [
      "\u001B[1;96m [INFO]\u001B[0m RandomForestClassifierImpl 2024-06-20 03:04:01.757614: Processed 53 / 53 estimators\n",
      "\u001B[1;96m [INFO]\u001B[0m RandomForestClassifierImpl 2024-06-20 03:04:01.788779: Processed 0 / 66 estimators\n",
      "\u001B[1;96m [INFO]\u001B[0m RandomForestClassifierImpl 2024-06-20 03:04:15.109356: Processed 10 / 66 estimators\n",
      "\u001B[1;96m [INFO]\u001B[0m RandomForestClassifierImpl 2024-06-20 03:04:28.412079: Processed 20 / 66 estimators\n",
      "\u001B[1;96m [INFO]\u001B[0m RandomForestClassifierImpl 2024-06-20 03:04:41.908402: Processed 30 / 66 estimators\n",
      "\u001B[1;96m [INFO]\u001B[0m RandomForestClassifierImpl 2024-06-20 03:04:55.481945: Processed 40 / 66 estimators\n",
      "\u001B[1;96m [INFO]\u001B[0m RandomForestClassifierImpl 2024-06-20 03:05:08.999340: Processed 50 / 66 estimators\n",
      "\u001B[1;96m [INFO]\u001B[0m RandomForestClassifierImpl 2024-06-20 03:05:23.065653: Processed 60 / 66 estimators\n"
     ]
    },
    {
     "name": "stderr",
     "output_type": "stream",
     "text": [
      "[I 2024-06-20 03:05:30,348] Trial 31 finished with value: 0.6315331641899239 and parameters: {'max_depth': 50, 'min_samples_split': 13, 'min_samples_leaf': 43, 'bootstrap': 0, 'n_estimators': 66, 'criterion': 'gini', 'feature_limiter': 'sqrt'}. Best is trial 2 with value: 0.8288880721898517.\n"
     ]
    },
    {
     "name": "stdout",
     "output_type": "stream",
     "text": [
      "\u001B[1;96m [INFO]\u001B[0m RandomForestClassifierImpl 2024-06-20 03:05:30.348249: Processed 66 / 66 estimators\n",
      "\u001B[1;96m [INFO]\u001B[0m RandomForestClassifierImpl 2024-06-20 03:05:30.379490: Processed 0 / 52 estimators\n",
      "\u001B[1;96m [INFO]\u001B[0m RandomForestClassifierImpl 2024-06-20 03:05:44.470662: Processed 10 / 52 estimators\n",
      "\u001B[1;96m [INFO]\u001B[0m RandomForestClassifierImpl 2024-06-20 03:05:59.521934: Processed 20 / 52 estimators\n",
      "\u001B[1;96m [INFO]\u001B[0m RandomForestClassifierImpl 2024-06-20 03:06:13.677835: Processed 30 / 52 estimators\n",
      "\u001B[1;96m [INFO]\u001B[0m RandomForestClassifierImpl 2024-06-20 03:06:27.513405: Processed 40 / 52 estimators\n",
      "\u001B[1;96m [INFO]\u001B[0m RandomForestClassifierImpl 2024-06-20 03:06:40.327988: Processed 50 / 52 estimators\n"
     ]
    },
    {
     "name": "stderr",
     "output_type": "stream",
     "text": [
      "[I 2024-06-20 03:06:42,987] Trial 32 finished with value: 0.6315331641899239 and parameters: {'max_depth': 47, 'min_samples_split': 23, 'min_samples_leaf': 35, 'bootstrap': 0, 'n_estimators': 52, 'criterion': 'gini', 'feature_limiter': 'sqrt'}. Best is trial 2 with value: 0.8288880721898517.\n"
     ]
    },
    {
     "name": "stdout",
     "output_type": "stream",
     "text": [
      "\u001B[1;96m [INFO]\u001B[0m RandomForestClassifierImpl 2024-06-20 03:06:42.972318: Processed 52 / 52 estimators\n",
      "\u001B[1;96m [INFO]\u001B[0m RandomForestClassifierImpl 2024-06-20 03:06:43.003308: Processed 0 / 20 estimators\n",
      "\u001B[1;96m [INFO]\u001B[0m RandomForestClassifierImpl 2024-06-20 03:06:57.257615: Processed 10 / 20 estimators\n"
     ]
    },
    {
     "name": "stderr",
     "output_type": "stream",
     "text": [
      "[I 2024-06-20 03:07:10,270] Trial 33 finished with value: 0.6315331641899239 and parameters: {'max_depth': 47, 'min_samples_split': 16, 'min_samples_leaf': 39, 'bootstrap': 0, 'n_estimators': 20, 'criterion': 'gini', 'feature_limiter': 'sqrt'}. Best is trial 2 with value: 0.8288880721898517.\n"
     ]
    },
    {
     "name": "stdout",
     "output_type": "stream",
     "text": [
      "\u001B[1;96m [INFO]\u001B[0m RandomForestClassifierImpl 2024-06-20 03:07:10.270356: Processed 20 / 20 estimators\n",
      "\u001B[1;96m [INFO]\u001B[0m RandomForestClassifierImpl 2024-06-20 03:07:10.285975: Processed 0 / 8 estimators\n"
     ]
    },
    {
     "name": "stderr",
     "output_type": "stream",
     "text": [
      "[I 2024-06-20 03:07:19,832] Trial 34 finished with value: 0.6315331641899239 and parameters: {'max_depth': 47, 'min_samples_split': 9, 'min_samples_leaf': 46, 'bootstrap': 0, 'n_estimators': 8, 'criterion': 'gini', 'feature_limiter': 'sqrt'}. Best is trial 2 with value: 0.8288880721898517.\n"
     ]
    },
    {
     "name": "stdout",
     "output_type": "stream",
     "text": [
      "\u001B[1;96m [INFO]\u001B[0m RandomForestClassifierImpl 2024-06-20 03:07:19.832903: Processed 8 / 8 estimators\n",
      "\u001B[1;96m [INFO]\u001B[0m RandomForestClassifierImpl 2024-06-20 03:07:19.855625: Processed 0 / 29 estimators\n",
      "\u001B[1;96m [INFO]\u001B[0m RandomForestClassifierImpl 2024-06-20 03:08:08.030014: Processed 10 / 29 estimators\n",
      "\u001B[1;96m [INFO]\u001B[0m RandomForestClassifierImpl 2024-06-20 03:08:56.225069: Processed 20 / 29 estimators\n"
     ]
    },
    {
     "name": "stderr",
     "output_type": "stream",
     "text": [
      "[I 2024-06-20 03:09:39,609] Trial 35 finished with value: 0.8217839671821777 and parameters: {'max_depth': 38, 'min_samples_split': 6, 'min_samples_leaf': 43, 'bootstrap': 0, 'n_estimators': 29, 'criterion': 'log_loss', 'feature_limiter': 'none'}. Best is trial 2 with value: 0.8288880721898517.\n"
     ]
    },
    {
     "name": "stdout",
     "output_type": "stream",
     "text": [
      "\u001B[1;96m [INFO]\u001B[0m RandomForestClassifierImpl 2024-06-20 03:09:39.609836: Processed 29 / 29 estimators\n",
      "\u001B[1;96m [INFO]\u001B[0m RandomForestClassifierImpl 2024-06-20 03:09:39.625443: Processed 0 / 36 estimators\n",
      "\u001B[1;96m [INFO]\u001B[0m RandomForestClassifierImpl 2024-06-20 03:09:44.550632: Processed 10 / 36 estimators\n",
      "\u001B[1;96m [INFO]\u001B[0m RandomForestClassifierImpl 2024-06-20 03:09:49.390487: Processed 20 / 36 estimators\n",
      "\u001B[1;96m [INFO]\u001B[0m RandomForestClassifierImpl 2024-06-20 03:09:53.717679: Processed 30 / 36 estimators\n"
     ]
    },
    {
     "name": "stderr",
     "output_type": "stream",
     "text": [
      "[I 2024-06-20 03:09:56,792] Trial 36 finished with value: 0.6315331641899239 and parameters: {'max_depth': 44, 'min_samples_split': 24, 'min_samples_leaf': 50, 'bootstrap': 0, 'n_estimators': 36, 'criterion': 'entropy', 'feature_limiter': 'sqrt'}. Best is trial 2 with value: 0.8288880721898517.\n"
     ]
    },
    {
     "name": "stdout",
     "output_type": "stream",
     "text": [
      "\u001B[1;96m [INFO]\u001B[0m RandomForestClassifierImpl 2024-06-20 03:09:56.792347: Processed 36 / 36 estimators\n",
      "\u001B[1;96m [INFO]\u001B[0m RandomForestClassifierImpl 2024-06-20 03:09:56.807986: Processed 0 / 14 estimators\n",
      "\u001B[1;96m [INFO]\u001B[0m RandomForestClassifierImpl 2024-06-20 03:10:14.212918: Processed 10 / 14 estimators\n"
     ]
    },
    {
     "name": "stderr",
     "output_type": "stream",
     "text": [
      "[I 2024-06-20 03:10:21,161] Trial 37 finished with value: 0.6315331641899239 and parameters: {'max_depth': 35, 'min_samples_split': 19, 'min_samples_leaf': 5, 'bootstrap': 0, 'n_estimators': 14, 'criterion': 'gini', 'feature_limiter': 'sqrt'}. Best is trial 2 with value: 0.8288880721898517.\n"
     ]
    },
    {
     "name": "stdout",
     "output_type": "stream",
     "text": [
      "\u001B[1;96m [INFO]\u001B[0m RandomForestClassifierImpl 2024-06-20 03:10:21.161781: Processed 14 / 14 estimators\n",
      "\u001B[1;96m [INFO]\u001B[0m RandomForestClassifierImpl 2024-06-20 03:10:21.193888: Processed 0 / 46 estimators\n",
      "\u001B[1;96m [INFO]\u001B[0m RandomForestClassifierImpl 2024-06-20 03:10:35.648060: Processed 10 / 46 estimators\n",
      "\u001B[1;96m [INFO]\u001B[0m RandomForestClassifierImpl 2024-06-20 03:10:50.189080: Processed 20 / 46 estimators\n",
      "\u001B[1;96m [INFO]\u001B[0m RandomForestClassifierImpl 2024-06-20 03:11:04.165049: Processed 30 / 46 estimators\n",
      "\u001B[1;96m [INFO]\u001B[0m RandomForestClassifierImpl 2024-06-20 03:11:17.263563: Processed 40 / 46 estimators\n"
     ]
    },
    {
     "name": "stderr",
     "output_type": "stream",
     "text": [
      "[I 2024-06-20 03:11:25,979] Trial 38 finished with value: 0.8355345016970362 and parameters: {'max_depth': 50, 'min_samples_split': 35, 'min_samples_leaf': 35, 'bootstrap': 0, 'n_estimators': 46, 'criterion': 'log_loss', 'feature_limiter': 'log2'}. Best is trial 38 with value: 0.8355345016970362.\n"
     ]
    },
    {
     "name": "stdout",
     "output_type": "stream",
     "text": [
      "\u001B[1;96m [INFO]\u001B[0m RandomForestClassifierImpl 2024-06-20 03:11:25.963521: Processed 46 / 46 estimators\n",
      "\u001B[1;96m [INFO]\u001B[0m RandomForestClassifierImpl 2024-06-20 03:11:25.994785: Processed 0 / 40 estimators\n",
      "\u001B[1;96m [INFO]\u001B[0m RandomForestClassifierImpl 2024-06-20 03:11:40.067926: Processed 10 / 40 estimators\n",
      "\u001B[1;96m [INFO]\u001B[0m RandomForestClassifierImpl 2024-06-20 03:11:53.540820: Processed 20 / 40 estimators\n",
      "\u001B[1;96m [INFO]\u001B[0m RandomForestClassifierImpl 2024-06-20 03:12:07.745429: Processed 30 / 40 estimators\n"
     ]
    },
    {
     "name": "stderr",
     "output_type": "stream",
     "text": [
      "[I 2024-06-20 03:12:21,727] Trial 39 finished with value: 0.8355345016970362 and parameters: {'max_depth': 30, 'min_samples_split': 34, 'min_samples_leaf': 35, 'bootstrap': 0, 'n_estimators': 40, 'criterion': 'log_loss', 'feature_limiter': 'log2'}. Best is trial 38 with value: 0.8355345016970362.\n"
     ]
    },
    {
     "name": "stdout",
     "output_type": "stream",
     "text": [
      "\u001B[1;96m [INFO]\u001B[0m RandomForestClassifierImpl 2024-06-20 03:12:21.721221: Processed 40 / 40 estimators\n",
      "\u001B[1;96m [INFO]\u001B[0m RandomForestClassifierImpl 2024-06-20 03:12:21.735121: Processed 0 / 59 estimators\n",
      "\u001B[1;96m [INFO]\u001B[0m RandomForestClassifierImpl 2024-06-20 03:12:36.069126: Processed 10 / 59 estimators\n",
      "\u001B[1;96m [INFO]\u001B[0m RandomForestClassifierImpl 2024-06-20 03:12:49.653810: Processed 20 / 59 estimators\n",
      "\u001B[1;96m [INFO]\u001B[0m RandomForestClassifierImpl 2024-06-20 03:13:02.195713: Processed 30 / 59 estimators\n",
      "\u001B[1;96m [INFO]\u001B[0m RandomForestClassifierImpl 2024-06-20 03:13:16.451547: Processed 40 / 59 estimators\n",
      "\u001B[1;96m [INFO]\u001B[0m RandomForestClassifierImpl 2024-06-20 03:13:28.993610: Processed 50 / 59 estimators\n"
     ]
    },
    {
     "name": "stderr",
     "output_type": "stream",
     "text": [
      "[I 2024-06-20 03:13:41,436] Trial 40 finished with value: 0.7465012398142273 and parameters: {'max_depth': 27, 'min_samples_split': 36, 'min_samples_leaf': 37, 'bootstrap': 1, 'n_estimators': 59, 'criterion': 'log_loss', 'feature_limiter': 'log2'}. Best is trial 38 with value: 0.8355345016970362.\n"
     ]
    },
    {
     "name": "stdout",
     "output_type": "stream",
     "text": [
      "\u001B[1;96m [INFO]\u001B[0m RandomForestClassifierImpl 2024-06-20 03:13:41.420653: Processed 59 / 59 estimators\n",
      "\u001B[1;96m [INFO]\u001B[0m RandomForestClassifierImpl 2024-06-20 03:13:41.451931: Processed 0 / 41 estimators\n",
      "\u001B[1;96m [INFO]\u001B[0m RandomForestClassifierImpl 2024-06-20 03:13:55.703260: Processed 10 / 41 estimators\n",
      "\u001B[1;96m [INFO]\u001B[0m RandomForestClassifierImpl 2024-06-20 03:14:10.138578: Processed 20 / 41 estimators\n",
      "\u001B[1;96m [INFO]\u001B[0m RandomForestClassifierImpl 2024-06-20 03:14:23.940582: Processed 30 / 41 estimators\n",
      "\u001B[1;96m [INFO]\u001B[0m RandomForestClassifierImpl 2024-06-20 03:14:38.524878: Processed 40 / 41 estimators\n"
     ]
    },
    {
     "name": "stderr",
     "output_type": "stream",
     "text": [
      "[I 2024-06-20 03:14:39,910] Trial 41 finished with value: 0.8355345016970362 and parameters: {'max_depth': 33, 'min_samples_split': 33, 'min_samples_leaf': 34, 'bootstrap': 0, 'n_estimators': 41, 'criterion': 'log_loss', 'feature_limiter': 'log2'}. Best is trial 38 with value: 0.8355345016970362.\n"
     ]
    },
    {
     "name": "stdout",
     "output_type": "stream",
     "text": [
      "\u001B[1;96m [INFO]\u001B[0m RandomForestClassifierImpl 2024-06-20 03:14:39.910401: Processed 41 / 41 estimators\n",
      "\u001B[1;96m [INFO]\u001B[0m RandomForestClassifierImpl 2024-06-20 03:14:39.926036: Processed 0 / 43 estimators\n",
      "\u001B[1;96m [INFO]\u001B[0m RandomForestClassifierImpl 2024-06-20 03:14:53.397022: Processed 10 / 43 estimators\n",
      "\u001B[1;96m [INFO]\u001B[0m RandomForestClassifierImpl 2024-06-20 03:15:07.854833: Processed 20 / 43 estimators\n",
      "\u001B[1;96m [INFO]\u001B[0m RandomForestClassifierImpl 2024-06-20 03:15:20.810520: Processed 30 / 43 estimators\n",
      "\u001B[1;96m [INFO]\u001B[0m RandomForestClassifierImpl 2024-06-20 03:15:34.738695: Processed 40 / 43 estimators\n"
     ]
    },
    {
     "name": "stderr",
     "output_type": "stream",
     "text": [
      "[I 2024-06-20 03:15:39,121] Trial 42 finished with value: 0.8131638868296723 and parameters: {'max_depth': 30, 'min_samples_split': 33, 'min_samples_leaf': 31, 'bootstrap': 0, 'n_estimators': 43, 'criterion': 'log_loss', 'feature_limiter': 'log2'}. Best is trial 38 with value: 0.8355345016970362.\n"
     ]
    },
    {
     "name": "stdout",
     "output_type": "stream",
     "text": [
      "\u001B[1;96m [INFO]\u001B[0m RandomForestClassifierImpl 2024-06-20 03:15:39.121364: Processed 43 / 43 estimators\n",
      "\u001B[1;96m [INFO]\u001B[0m RandomForestClassifierImpl 2024-06-20 03:15:39.136983: Processed 0 / 55 estimators\n",
      "\u001B[1;96m [INFO]\u001B[0m RandomForestClassifierImpl 2024-06-20 03:15:53.309979: Processed 10 / 55 estimators\n",
      "\u001B[1;96m [INFO]\u001B[0m RandomForestClassifierImpl 2024-06-20 03:16:07.742813: Processed 20 / 55 estimators\n",
      "\u001B[1;96m [INFO]\u001B[0m RandomForestClassifierImpl 2024-06-20 03:16:22.220636: Processed 30 / 55 estimators\n",
      "\u001B[1;96m [INFO]\u001B[0m RandomForestClassifierImpl 2024-06-20 03:16:35.875324: Processed 40 / 55 estimators\n",
      "\u001B[1;96m [INFO]\u001B[0m RandomForestClassifierImpl 2024-06-20 03:16:49.926993: Processed 50 / 55 estimators\n"
     ]
    },
    {
     "name": "stderr",
     "output_type": "stream",
     "text": [
      "[I 2024-06-20 03:16:57,068] Trial 43 finished with value: 0.8131638868296723 and parameters: {'max_depth': 20, 'min_samples_split': 38, 'min_samples_leaf': 29, 'bootstrap': 0, 'n_estimators': 55, 'criterion': 'log_loss', 'feature_limiter': 'log2'}. Best is trial 38 with value: 0.8355345016970362.\n"
     ]
    },
    {
     "name": "stdout",
     "output_type": "stream",
     "text": [
      "\u001B[1;96m [INFO]\u001B[0m RandomForestClassifierImpl 2024-06-20 03:16:57.068007: Processed 55 / 55 estimators\n",
      "\u001B[1;96m [INFO]\u001B[0m RandomForestClassifierImpl 2024-06-20 03:16:57.100393: Processed 0 / 65 estimators\n",
      "\u001B[1;96m [INFO]\u001B[0m RandomForestClassifierImpl 2024-06-20 03:17:11.529821: Processed 10 / 65 estimators\n",
      "\u001B[1;96m [INFO]\u001B[0m RandomForestClassifierImpl 2024-06-20 03:17:25.267933: Processed 20 / 65 estimators\n",
      "\u001B[1;96m [INFO]\u001B[0m RandomForestClassifierImpl 2024-06-20 03:17:38.992725: Processed 30 / 65 estimators\n",
      "\u001B[1;96m [INFO]\u001B[0m RandomForestClassifierImpl 2024-06-20 03:17:53.755005: Processed 40 / 65 estimators\n",
      "\u001B[1;96m [INFO]\u001B[0m RandomForestClassifierImpl 2024-06-20 03:18:07.800019: Processed 50 / 65 estimators\n",
      "\u001B[1;96m [INFO]\u001B[0m RandomForestClassifierImpl 2024-06-20 03:18:22.445514: Processed 60 / 65 estimators\n"
     ]
    },
    {
     "name": "stderr",
     "output_type": "stream",
     "text": [
      "[I 2024-06-20 03:18:28,794] Trial 44 finished with value: 0.8060961086491722 and parameters: {'max_depth': 15, 'min_samples_split': 31, 'min_samples_leaf': 40, 'bootstrap': 0, 'n_estimators': 65, 'criterion': 'log_loss', 'feature_limiter': 'log2'}. Best is trial 38 with value: 0.8355345016970362.\n"
     ]
    },
    {
     "name": "stdout",
     "output_type": "stream",
     "text": [
      "\u001B[1;96m [INFO]\u001B[0m RandomForestClassifierImpl 2024-06-20 03:18:28.794004: Processed 65 / 65 estimators\n",
      "\u001B[1;96m [INFO]\u001B[0m RandomForestClassifierImpl 2024-06-20 03:18:28.825290: Processed 0 / 41 estimators\n",
      "\u001B[1;96m [INFO]\u001B[0m RandomForestClassifierImpl 2024-06-20 03:18:42.076813: Processed 10 / 41 estimators\n",
      "\u001B[1;96m [INFO]\u001B[0m RandomForestClassifierImpl 2024-06-20 03:18:56.793166: Processed 20 / 41 estimators\n",
      "\u001B[1;96m [INFO]\u001B[0m RandomForestClassifierImpl 2024-06-20 03:19:10.695602: Processed 30 / 41 estimators\n",
      "\u001B[1;96m [INFO]\u001B[0m RandomForestClassifierImpl 2024-06-20 03:19:24.280714: Processed 40 / 41 estimators\n"
     ]
    },
    {
     "name": "stderr",
     "output_type": "stream",
     "text": [
      "[I 2024-06-20 03:19:25,790] Trial 45 finished with value: 0.8355345016970362 and parameters: {'max_depth': 25, 'min_samples_split': 42, 'min_samples_leaf': 35, 'bootstrap': 0, 'n_estimators': 41, 'criterion': 'log_loss', 'feature_limiter': 'log2'}. Best is trial 38 with value: 0.8355345016970362.\n"
     ]
    },
    {
     "name": "stdout",
     "output_type": "stream",
     "text": [
      "\u001B[1;96m [INFO]\u001B[0m RandomForestClassifierImpl 2024-06-20 03:19:25.790557: Processed 41 / 41 estimators\n",
      "\u001B[1;96m [INFO]\u001B[0m RandomForestClassifierImpl 2024-06-20 03:19:25.821396: Processed 0 / 41 estimators\n",
      "\u001B[1;96m [INFO]\u001B[0m RandomForestClassifierImpl 2024-06-20 03:19:40.568794: Processed 10 / 41 estimators\n",
      "\u001B[1;96m [INFO]\u001B[0m RandomForestClassifierImpl 2024-06-20 03:19:55.903554: Processed 20 / 41 estimators\n",
      "\u001B[1;96m [INFO]\u001B[0m RandomForestClassifierImpl 2024-06-20 03:20:10.742527: Processed 30 / 41 estimators\n",
      "\u001B[1;96m [INFO]\u001B[0m RandomForestClassifierImpl 2024-06-20 03:20:26.008083: Processed 40 / 41 estimators\n"
     ]
    },
    {
     "name": "stderr",
     "output_type": "stream",
     "text": [
      "[I 2024-06-20 03:20:27,348] Trial 46 finished with value: 0.8151038586635129 and parameters: {'max_depth': 25, 'min_samples_split': 43, 'min_samples_leaf': 25, 'bootstrap': 0, 'n_estimators': 41, 'criterion': 'log_loss', 'feature_limiter': 'log2'}. Best is trial 38 with value: 0.8355345016970362.\n"
     ]
    },
    {
     "name": "stdout",
     "output_type": "stream",
     "text": [
      "\u001B[1;96m [INFO]\u001B[0m RandomForestClassifierImpl 2024-06-20 03:20:27.333229: Processed 41 / 41 estimators\n",
      "\u001B[1;96m [INFO]\u001B[0m RandomForestClassifierImpl 2024-06-20 03:20:27.365165: Processed 0 / 33 estimators\n",
      "\u001B[1;96m [INFO]\u001B[0m RandomForestClassifierImpl 2024-06-20 03:20:41.668457: Processed 10 / 33 estimators\n",
      "\u001B[1;96m [INFO]\u001B[0m RandomForestClassifierImpl 2024-06-20 03:20:56.131040: Processed 20 / 33 estimators\n",
      "\u001B[1;96m [INFO]\u001B[0m RandomForestClassifierImpl 2024-06-20 03:21:10.145534: Processed 30 / 33 estimators\n"
     ]
    },
    {
     "name": "stderr",
     "output_type": "stream",
     "text": [
      "[I 2024-06-20 03:21:14,667] Trial 47 finished with value: 0.8355345016970362 and parameters: {'max_depth': 21, 'min_samples_split': 46, 'min_samples_leaf': 35, 'bootstrap': 0, 'n_estimators': 33, 'criterion': 'log_loss', 'feature_limiter': 'log2'}. Best is trial 38 with value: 0.8355345016970362.\n"
     ]
    },
    {
     "name": "stdout",
     "output_type": "stream",
     "text": [
      "\u001B[1;96m [INFO]\u001B[0m RandomForestClassifierImpl 2024-06-20 03:21:14.662916: Processed 33 / 33 estimators\n",
      "\u001B[1;96m [INFO]\u001B[0m RandomForestClassifierImpl 2024-06-20 03:21:14.682058: Processed 0 / 33 estimators\n",
      "\u001B[1;96m [INFO]\u001B[0m RandomForestClassifierImpl 2024-06-20 03:21:24.946706: Processed 10 / 33 estimators\n",
      "\u001B[1;96m [INFO]\u001B[0m RandomForestClassifierImpl 2024-06-20 03:21:35.438998: Processed 20 / 33 estimators\n",
      "\u001B[1;96m [INFO]\u001B[0m RandomForestClassifierImpl 2024-06-20 03:21:45.957496: Processed 30 / 33 estimators\n"
     ]
    },
    {
     "name": "stderr",
     "output_type": "stream",
     "text": [
      "[I 2024-06-20 03:21:49,155] Trial 48 finished with value: 0.8060961086491722 and parameters: {'max_depth': 2, 'min_samples_split': 49, 'min_samples_leaf': 35, 'bootstrap': 0, 'n_estimators': 33, 'criterion': 'log_loss', 'feature_limiter': 'log2'}. Best is trial 38 with value: 0.8355345016970362.\n"
     ]
    },
    {
     "name": "stdout",
     "output_type": "stream",
     "text": [
      "\u001B[1;96m [INFO]\u001B[0m RandomForestClassifierImpl 2024-06-20 03:21:49.139062: Processed 33 / 33 estimators\n",
      "\u001B[1;96m [INFO]\u001B[0m RandomForestClassifierImpl 2024-06-20 03:21:49.171712: Processed 0 / 46 estimators\n",
      "\u001B[1;96m [INFO]\u001B[0m RandomForestClassifierImpl 2024-06-20 03:22:03.955673: Processed 10 / 46 estimators\n",
      "\u001B[1;96m [INFO]\u001B[0m RandomForestClassifierImpl 2024-06-20 03:22:18.038223: Processed 20 / 46 estimators\n",
      "\u001B[1;96m [INFO]\u001B[0m RandomForestClassifierImpl 2024-06-20 03:22:33.068193: Processed 30 / 46 estimators\n",
      "\u001B[1;96m [INFO]\u001B[0m RandomForestClassifierImpl 2024-06-20 03:22:46.542214: Processed 40 / 46 estimators\n"
     ]
    },
    {
     "name": "stderr",
     "output_type": "stream",
     "text": [
      "[I 2024-06-20 03:22:54,756] Trial 49 finished with value: 0.6315331641899239 and parameters: {'max_depth': 21, 'min_samples_split': 46, 'min_samples_leaf': 27, 'bootstrap': 0, 'n_estimators': 46, 'criterion': 'log_loss', 'feature_limiter': 'log2'}. Best is trial 38 with value: 0.8355345016970362.\n"
     ]
    },
    {
     "name": "stdout",
     "output_type": "stream",
     "text": [
      "\u001B[1;96m [INFO]\u001B[0m RandomForestClassifierImpl 2024-06-20 03:22:54.750745: Processed 46 / 46 estimators\n",
      "\u001B[1;96m [INFO]\u001B[0m RandomForestClassifierImpl 2024-06-20 03:22:54.779757: Processed 0 / 39 estimators\n",
      "\u001B[1;96m [INFO]\u001B[0m RandomForestClassifierImpl 2024-06-20 03:23:07.407397: Processed 10 / 39 estimators\n",
      "\u001B[1;96m [INFO]\u001B[0m RandomForestClassifierImpl 2024-06-20 03:23:21.938009: Processed 20 / 39 estimators\n",
      "\u001B[1;96m [INFO]\u001B[0m RandomForestClassifierImpl 2024-06-20 03:23:35.601853: Processed 30 / 39 estimators\n"
     ]
    },
    {
     "name": "stderr",
     "output_type": "stream",
     "text": [
      "[I 2024-06-20 03:23:48,379] Trial 50 finished with value: 0.8131638868296723 and parameters: {'max_depth': 12, 'min_samples_split': 36, 'min_samples_leaf': 29, 'bootstrap': 0, 'n_estimators': 39, 'criterion': 'log_loss', 'feature_limiter': 'log2'}. Best is trial 38 with value: 0.8355345016970362.\n"
     ]
    },
    {
     "name": "stdout",
     "output_type": "stream",
     "text": [
      "\u001B[1;96m [INFO]\u001B[0m RandomForestClassifierImpl 2024-06-20 03:23:48.363723: Processed 39 / 39 estimators\n",
      "\u001B[1;96m [INFO]\u001B[0m RandomForestClassifierImpl 2024-06-20 03:23:48.395770: Processed 0 / 30 estimators\n",
      "\u001B[1;96m [INFO]\u001B[0m RandomForestClassifierImpl 2024-06-20 03:24:02.282891: Processed 10 / 30 estimators\n",
      "\u001B[1;96m [INFO]\u001B[0m RandomForestClassifierImpl 2024-06-20 03:24:15.710480: Processed 20 / 30 estimators\n"
     ]
    },
    {
     "name": "stderr",
     "output_type": "stream",
     "text": [
      "[I 2024-06-20 03:24:29,563] Trial 51 finished with value: 0.6315331641899239 and parameters: {'max_depth': 26, 'min_samples_split': 41, 'min_samples_leaf': 33, 'bootstrap': 0, 'n_estimators': 30, 'criterion': 'log_loss', 'feature_limiter': 'log2'}. Best is trial 38 with value: 0.8355345016970362.\n"
     ]
    },
    {
     "name": "stdout",
     "output_type": "stream",
     "text": [
      "\u001B[1;96m [INFO]\u001B[0m RandomForestClassifierImpl 2024-06-20 03:24:29.548106: Processed 30 / 30 estimators\n",
      "\u001B[1;96m [INFO]\u001B[0m RandomForestClassifierImpl 2024-06-20 03:24:29.579466: Processed 0 / 36 estimators\n",
      "\u001B[1;96m [INFO]\u001B[0m RandomForestClassifierImpl 2024-06-20 03:24:43.753212: Processed 10 / 36 estimators\n",
      "\u001B[1;96m [INFO]\u001B[0m RandomForestClassifierImpl 2024-06-20 03:24:57.158392: Processed 20 / 36 estimators\n",
      "\u001B[1;96m [INFO]\u001B[0m RandomForestClassifierImpl 2024-06-20 03:25:10.985185: Processed 30 / 36 estimators\n"
     ]
    },
    {
     "name": "stderr",
     "output_type": "stream",
     "text": [
      "[I 2024-06-20 03:25:19,524] Trial 52 finished with value: 0.8355345016970362 and parameters: {'max_depth': 23, 'min_samples_split': 46, 'min_samples_leaf': 37, 'bootstrap': 0, 'n_estimators': 36, 'criterion': 'log_loss', 'feature_limiter': 'log2'}. Best is trial 38 with value: 0.8355345016970362.\n"
     ]
    },
    {
     "name": "stdout",
     "output_type": "stream",
     "text": [
      "\u001B[1;96m [INFO]\u001B[0m RandomForestClassifierImpl 2024-06-20 03:25:19.509699: Processed 36 / 36 estimators\n",
      "\u001B[1;96m [INFO]\u001B[0m RandomForestClassifierImpl 2024-06-20 03:25:19.540534: Processed 0 / 37 estimators\n",
      "\u001B[1;96m [INFO]\u001B[0m RandomForestClassifierImpl 2024-06-20 03:25:33.590435: Processed 10 / 37 estimators\n",
      "\u001B[1;96m [INFO]\u001B[0m RandomForestClassifierImpl 2024-06-20 03:25:47.853666: Processed 20 / 37 estimators\n",
      "\u001B[1;96m [INFO]\u001B[0m RandomForestClassifierImpl 2024-06-20 03:26:01.913776: Processed 30 / 37 estimators\n"
     ]
    },
    {
     "name": "stderr",
     "output_type": "stream",
     "text": [
      "[I 2024-06-20 03:26:11,839] Trial 53 finished with value: 0.6315331641899239 and parameters: {'max_depth': 17, 'min_samples_split': 46, 'min_samples_leaf': 37, 'bootstrap': 0, 'n_estimators': 37, 'criterion': 'log_loss', 'feature_limiter': 'log2'}. Best is trial 38 with value: 0.8355345016970362.\n"
     ]
    },
    {
     "name": "stdout",
     "output_type": "stream",
     "text": [
      "\u001B[1;96m [INFO]\u001B[0m RandomForestClassifierImpl 2024-06-20 03:26:11.839430: Processed 37 / 37 estimators\n",
      "\u001B[1;96m [INFO]\u001B[0m RandomForestClassifierImpl 2024-06-20 03:26:11.870826: Processed 0 / 49 estimators\n",
      "\u001B[1;96m [INFO]\u001B[0m RandomForestClassifierImpl 2024-06-20 03:26:26.196355: Processed 10 / 49 estimators\n",
      "\u001B[1;96m [INFO]\u001B[0m RandomForestClassifierImpl 2024-06-20 03:26:41.414697: Processed 20 / 49 estimators\n",
      "\u001B[1;96m [INFO]\u001B[0m RandomForestClassifierImpl 2024-06-20 03:26:56.039803: Processed 30 / 49 estimators\n",
      "\u001B[1;96m [INFO]\u001B[0m RandomForestClassifierImpl 2024-06-20 03:27:09.350278: Processed 40 / 49 estimators\n"
     ]
    },
    {
     "name": "stderr",
     "output_type": "stream",
     "text": [
      "[I 2024-06-20 03:27:22,657] Trial 54 finished with value: 0.8131638868296723 and parameters: {'max_depth': 23, 'min_samples_split': 28, 'min_samples_leaf': 30, 'bootstrap': 0, 'n_estimators': 49, 'criterion': 'log_loss', 'feature_limiter': 'log2'}. Best is trial 38 with value: 0.8355345016970362.\n"
     ]
    },
    {
     "name": "stdout",
     "output_type": "stream",
     "text": [
      "\u001B[1;96m [INFO]\u001B[0m RandomForestClassifierImpl 2024-06-20 03:27:22.657578: Processed 49 / 49 estimators\n",
      "\u001B[1;96m [INFO]\u001B[0m RandomForestClassifierImpl 2024-06-20 03:27:22.689276: Processed 0 / 35 estimators\n",
      "\u001B[1;96m [INFO]\u001B[0m RandomForestClassifierImpl 2024-06-20 03:27:36.283619: Processed 10 / 35 estimators\n",
      "\u001B[1;96m [INFO]\u001B[0m RandomForestClassifierImpl 2024-06-20 03:27:49.518031: Processed 20 / 35 estimators\n",
      "\u001B[1;96m [INFO]\u001B[0m RandomForestClassifierImpl 2024-06-20 03:28:03.154131: Processed 30 / 35 estimators\n"
     ]
    },
    {
     "name": "stderr",
     "output_type": "stream",
     "text": [
      "[I 2024-06-20 03:28:10,115] Trial 55 finished with value: 0.6315331641899239 and parameters: {'max_depth': 5, 'min_samples_split': 48, 'min_samples_leaf': 41, 'bootstrap': 0, 'n_estimators': 35, 'criterion': 'log_loss', 'feature_limiter': 'log2'}. Best is trial 38 with value: 0.8355345016970362.\n"
     ]
    },
    {
     "name": "stdout",
     "output_type": "stream",
     "text": [
      "\u001B[1;96m [INFO]\u001B[0m RandomForestClassifierImpl 2024-06-20 03:28:10.115981: Processed 35 / 35 estimators\n",
      "\u001B[1;96m [INFO]\u001B[0m RandomForestClassifierImpl 2024-06-20 03:28:10.131609: Processed 0 / 56 estimators\n",
      "\u001B[1;96m [INFO]\u001B[0m RandomForestClassifierImpl 2024-06-20 03:28:24.295582: Processed 10 / 56 estimators\n",
      "\u001B[1;96m [INFO]\u001B[0m RandomForestClassifierImpl 2024-06-20 03:28:39.354255: Processed 20 / 56 estimators\n",
      "\u001B[1;96m [INFO]\u001B[0m RandomForestClassifierImpl 2024-06-20 03:28:53.285163: Processed 30 / 56 estimators\n",
      "\u001B[1;96m [INFO]\u001B[0m RandomForestClassifierImpl 2024-06-20 03:29:06.659023: Processed 40 / 56 estimators\n",
      "\u001B[1;96m [INFO]\u001B[0m RandomForestClassifierImpl 2024-06-20 03:29:20.646444: Processed 50 / 56 estimators\n"
     ]
    },
    {
     "name": "stderr",
     "output_type": "stream",
     "text": [
      "[I 2024-06-20 03:29:29,231] Trial 56 finished with value: 0.8355345016970362 and parameters: {'max_depth': 34, 'min_samples_split': 44, 'min_samples_leaf': 34, 'bootstrap': 0, 'n_estimators': 56, 'criterion': 'log_loss', 'feature_limiter': 'log2'}. Best is trial 38 with value: 0.8355345016970362.\n"
     ]
    },
    {
     "name": "stdout",
     "output_type": "stream",
     "text": [
      "\u001B[1;96m [INFO]\u001B[0m RandomForestClassifierImpl 2024-06-20 03:29:29.231420: Processed 56 / 56 estimators\n",
      "\u001B[1;96m [INFO]\u001B[0m RandomForestClassifierImpl 2024-06-20 03:29:29.268730: Processed 0 / 42 estimators\n",
      "\u001B[1;96m [INFO]\u001B[0m RandomForestClassifierImpl 2024-06-20 03:29:42.812035: Processed 10 / 42 estimators\n",
      "\u001B[1;96m [INFO]\u001B[0m RandomForestClassifierImpl 2024-06-20 03:29:56.094677: Processed 20 / 42 estimators\n",
      "\u001B[1;96m [INFO]\u001B[0m RandomForestClassifierImpl 2024-06-20 03:30:09.979661: Processed 30 / 42 estimators\n",
      "\u001B[1;96m [INFO]\u001B[0m RandomForestClassifierImpl 2024-06-20 03:30:25.059925: Processed 40 / 42 estimators\n"
     ]
    },
    {
     "name": "stderr",
     "output_type": "stream",
     "text": [
      "[I 2024-06-20 03:30:28,071] Trial 57 finished with value: 0.8355345016970362 and parameters: {'max_depth': 29, 'min_samples_split': 38, 'min_samples_leaf': 38, 'bootstrap': 0, 'n_estimators': 42, 'criterion': 'log_loss', 'feature_limiter': 'log2'}. Best is trial 38 with value: 0.8355345016970362.\n"
     ]
    },
    {
     "name": "stdout",
     "output_type": "stream",
     "text": [
      "\u001B[1;96m [INFO]\u001B[0m RandomForestClassifierImpl 2024-06-20 03:30:28.071836: Processed 42 / 42 estimators\n",
      "\u001B[1;96m [INFO]\u001B[0m RandomForestClassifierImpl 2024-06-20 03:30:28.086976: Processed 0 / 29 estimators\n",
      "\u001B[1;96m [INFO]\u001B[0m RandomForestClassifierImpl 2024-06-20 03:30:41.968694: Processed 10 / 29 estimators\n",
      "\u001B[1;96m [INFO]\u001B[0m RandomForestClassifierImpl 2024-06-20 03:30:55.686149: Processed 20 / 29 estimators\n"
     ]
    },
    {
     "name": "stderr",
     "output_type": "stream",
     "text": [
      "[I 2024-06-20 03:31:07,590] Trial 58 finished with value: 0.7465012398142273 and parameters: {'max_depth': 31, 'min_samples_split': 35, 'min_samples_leaf': 36, 'bootstrap': 1, 'n_estimators': 29, 'criterion': 'log_loss', 'feature_limiter': 'log2'}. Best is trial 38 with value: 0.8355345016970362.\n"
     ]
    },
    {
     "name": "stdout",
     "output_type": "stream",
     "text": [
      "\u001B[1;96m [INFO]\u001B[0m RandomForestClassifierImpl 2024-06-20 03:31:07.590039: Processed 29 / 29 estimators\n",
      "\u001B[1;96m [INFO]\u001B[0m RandomForestClassifierImpl 2024-06-20 03:31:07.622154: Processed 0 / 47 estimators\n",
      "\u001B[1;96m [INFO]\u001B[0m RandomForestClassifierImpl 2024-06-20 03:31:21.719063: Processed 10 / 47 estimators\n",
      "\u001B[1;96m [INFO]\u001B[0m RandomForestClassifierImpl 2024-06-20 03:31:35.663983: Processed 20 / 47 estimators\n",
      "\u001B[1;96m [INFO]\u001B[0m RandomForestClassifierImpl 2024-06-20 03:31:49.180791: Processed 30 / 47 estimators\n",
      "\u001B[1;96m [INFO]\u001B[0m RandomForestClassifierImpl 2024-06-20 03:32:03.888889: Processed 40 / 47 estimators\n"
     ]
    },
    {
     "name": "stderr",
     "output_type": "stream",
     "text": [
      "[I 2024-06-20 03:32:14,233] Trial 59 finished with value: 0.8355345016970362 and parameters: {'max_depth': 22, 'min_samples_split': 45, 'min_samples_leaf': 33, 'bootstrap': 0, 'n_estimators': 47, 'criterion': 'log_loss', 'feature_limiter': 'log2'}. Best is trial 38 with value: 0.8355345016970362.\n"
     ]
    },
    {
     "name": "stdout",
     "output_type": "stream",
     "text": [
      "\u001B[1;96m [INFO]\u001B[0m RandomForestClassifierImpl 2024-06-20 03:32:14.217256: Processed 47 / 47 estimators\n",
      "\u001B[1;96m [INFO]\u001B[0m RandomForestClassifierImpl 2024-06-20 03:32:14.248352: Processed 0 / 38 estimators\n",
      "\u001B[1;96m [INFO]\u001B[0m RandomForestClassifierImpl 2024-06-20 03:32:33.473757: Processed 10 / 38 estimators\n",
      "\u001B[1;96m [INFO]\u001B[0m RandomForestClassifierImpl 2024-06-20 03:32:52.617347: Processed 20 / 38 estimators\n",
      "\u001B[1;96m [INFO]\u001B[0m RandomForestClassifierImpl 2024-06-20 03:33:11.072893: Processed 30 / 38 estimators\n"
     ]
    },
    {
     "name": "stderr",
     "output_type": "stream",
     "text": [
      "[I 2024-06-20 03:33:25,742] Trial 60 finished with value: 0.7465012398142273 and parameters: {'max_depth': 19, 'min_samples_split': 33, 'min_samples_leaf': 2, 'bootstrap': 0, 'n_estimators': 38, 'criterion': 'log_loss', 'feature_limiter': 'log2'}. Best is trial 38 with value: 0.8355345016970362.\n"
     ]
    },
    {
     "name": "stdout",
     "output_type": "stream",
     "text": [
      "\u001B[1;96m [INFO]\u001B[0m RandomForestClassifierImpl 2024-06-20 03:33:25.742891: Processed 38 / 38 estimators\n",
      "\u001B[1;96m [INFO]\u001B[0m RandomForestClassifierImpl 2024-06-20 03:33:25.774759: Processed 0 / 57 estimators\n",
      "\u001B[1;96m [INFO]\u001B[0m RandomForestClassifierImpl 2024-06-20 03:33:40.248914: Processed 10 / 57 estimators\n",
      "\u001B[1;96m [INFO]\u001B[0m RandomForestClassifierImpl 2024-06-20 03:33:54.268729: Processed 20 / 57 estimators\n",
      "\u001B[1;96m [INFO]\u001B[0m RandomForestClassifierImpl 2024-06-20 03:34:08.024017: Processed 30 / 57 estimators\n",
      "\u001B[1;96m [INFO]\u001B[0m RandomForestClassifierImpl 2024-06-20 03:34:22.637876: Processed 40 / 57 estimators\n",
      "\u001B[1;96m [INFO]\u001B[0m RandomForestClassifierImpl 2024-06-20 03:34:36.755531: Processed 50 / 57 estimators\n"
     ]
    },
    {
     "name": "stderr",
     "output_type": "stream",
     "text": [
      "[I 2024-06-20 03:34:46,509] Trial 61 finished with value: 0.8355345016970362 and parameters: {'max_depth': 33, 'min_samples_split': 42, 'min_samples_leaf': 34, 'bootstrap': 0, 'n_estimators': 57, 'criterion': 'log_loss', 'feature_limiter': 'log2'}. Best is trial 38 with value: 0.8355345016970362.\n"
     ]
    },
    {
     "name": "stdout",
     "output_type": "stream",
     "text": [
      "\u001B[1;96m [INFO]\u001B[0m RandomForestClassifierImpl 2024-06-20 03:34:46.509362: Processed 57 / 57 estimators\n",
      "\u001B[1;96m [INFO]\u001B[0m RandomForestClassifierImpl 2024-06-20 03:34:46.540272: Processed 0 / 45 estimators\n",
      "\u001B[1;96m [INFO]\u001B[0m RandomForestClassifierImpl 2024-06-20 03:35:01.442659: Processed 10 / 45 estimators\n",
      "\u001B[1;96m [INFO]\u001B[0m RandomForestClassifierImpl 2024-06-20 03:35:15.144772: Processed 20 / 45 estimators\n",
      "\u001B[1;96m [INFO]\u001B[0m RandomForestClassifierImpl 2024-06-20 03:35:29.244285: Processed 30 / 45 estimators\n",
      "\u001B[1;96m [INFO]\u001B[0m RandomForestClassifierImpl 2024-06-20 03:35:43.806470: Processed 40 / 45 estimators\n"
     ]
    },
    {
     "name": "stderr",
     "output_type": "stream",
     "text": [
      "[I 2024-06-20 03:35:51,102] Trial 62 finished with value: 0.8131638868296723 and parameters: {'max_depth': 34, 'min_samples_split': 48, 'min_samples_leaf': 31, 'bootstrap': 0, 'n_estimators': 45, 'criterion': 'log_loss', 'feature_limiter': 'log2'}. Best is trial 38 with value: 0.8355345016970362.\n"
     ]
    },
    {
     "name": "stdout",
     "output_type": "stream",
     "text": [
      "\u001B[1;96m [INFO]\u001B[0m RandomForestClassifierImpl 2024-06-20 03:35:51.102031: Processed 45 / 45 estimators\n",
      "\u001B[1;96m [INFO]\u001B[0m RandomForestClassifierImpl 2024-06-20 03:35:51.134150: Processed 0 / 51 estimators\n",
      "\u001B[1;96m [INFO]\u001B[0m RandomForestClassifierImpl 2024-06-20 03:36:05.635400: Processed 10 / 51 estimators\n",
      "\u001B[1;96m [INFO]\u001B[0m RandomForestClassifierImpl 2024-06-20 03:36:19.257142: Processed 20 / 51 estimators\n",
      "\u001B[1;96m [INFO]\u001B[0m RandomForestClassifierImpl 2024-06-20 03:36:33.968926: Processed 30 / 51 estimators\n",
      "\u001B[1;96m [INFO]\u001B[0m RandomForestClassifierImpl 2024-06-20 03:36:47.717155: Processed 40 / 51 estimators\n",
      "\u001B[1;96m [INFO]\u001B[0m RandomForestClassifierImpl 2024-06-20 03:37:01.281635: Processed 50 / 51 estimators\n"
     ]
    },
    {
     "name": "stderr",
     "output_type": "stream",
     "text": [
      "[I 2024-06-20 03:37:02,718] Trial 63 finished with value: 0.8355345016970362 and parameters: {'max_depth': 38, 'min_samples_split': 40, 'min_samples_leaf': 35, 'bootstrap': 0, 'n_estimators': 51, 'criterion': 'log_loss', 'feature_limiter': 'log2'}. Best is trial 38 with value: 0.8355345016970362.\n"
     ]
    },
    {
     "name": "stdout",
     "output_type": "stream",
     "text": [
      "\u001B[1;96m [INFO]\u001B[0m RandomForestClassifierImpl 2024-06-20 03:37:02.703996: Processed 51 / 51 estimators\n",
      "\u001B[1;96m [INFO]\u001B[0m RandomForestClassifierImpl 2024-06-20 03:37:02.729805: Processed 0 / 63 estimators\n",
      "\u001B[1;96m [INFO]\u001B[0m RandomForestClassifierImpl 2024-06-20 03:37:15.942515: Processed 10 / 63 estimators\n",
      "\u001B[1;96m [INFO]\u001B[0m RandomForestClassifierImpl 2024-06-20 03:37:28.696700: Processed 20 / 63 estimators\n",
      "\u001B[1;96m [INFO]\u001B[0m RandomForestClassifierImpl 2024-06-20 03:37:42.963821: Processed 30 / 63 estimators\n",
      "\u001B[1;96m [INFO]\u001B[0m RandomForestClassifierImpl 2024-06-20 03:37:56.690837: Processed 40 / 63 estimators\n",
      "\u001B[1;96m [INFO]\u001B[0m RandomForestClassifierImpl 2024-06-20 03:38:10.533767: Processed 50 / 63 estimators\n",
      "\u001B[1;96m [INFO]\u001B[0m RandomForestClassifierImpl 2024-06-20 03:38:25.621315: Processed 60 / 63 estimators\n"
     ]
    },
    {
     "name": "stderr",
     "output_type": "stream",
     "text": [
      "[I 2024-06-20 03:38:29,501] Trial 64 finished with value: 0.8355345016970362 and parameters: {'max_depth': 28, 'min_samples_split': 44, 'min_samples_leaf': 38, 'bootstrap': 0, 'n_estimators': 63, 'criterion': 'log_loss', 'feature_limiter': 'log2'}. Best is trial 38 with value: 0.8355345016970362.\n"
     ]
    },
    {
     "name": "stdout",
     "output_type": "stream",
     "text": [
      "\u001B[1;96m [INFO]\u001B[0m RandomForestClassifierImpl 2024-06-20 03:38:29.485816: Processed 63 / 63 estimators\n",
      "\u001B[1;96m [INFO]\u001B[0m RandomForestClassifierImpl 2024-06-20 03:38:29.517223: Processed 0 / 40 estimators\n",
      "\u001B[1;96m [INFO]\u001B[0m RandomForestClassifierImpl 2024-06-20 03:38:43.256355: Processed 10 / 40 estimators\n",
      "\u001B[1;96m [INFO]\u001B[0m RandomForestClassifierImpl 2024-06-20 03:38:59.032611: Processed 20 / 40 estimators\n",
      "\u001B[1;96m [INFO]\u001B[0m RandomForestClassifierImpl 2024-06-20 03:39:13.508720: Processed 30 / 40 estimators\n"
     ]
    },
    {
     "name": "stderr",
     "output_type": "stream",
     "text": [
      "[I 2024-06-20 03:39:28,417] Trial 65 finished with value: 0.8131638868296723 and parameters: {'max_depth': 24, 'min_samples_split': 37, 'min_samples_leaf': 23, 'bootstrap': 0, 'n_estimators': 40, 'criterion': 'log_loss', 'feature_limiter': 'log2'}. Best is trial 38 with value: 0.8355345016970362.\n"
     ]
    },
    {
     "name": "stdout",
     "output_type": "stream",
     "text": [
      "\u001B[1;96m [INFO]\u001B[0m RandomForestClassifierImpl 2024-06-20 03:39:28.417682: Processed 40 / 40 estimators\n",
      "\u001B[1;96m [INFO]\u001B[0m RandomForestClassifierImpl 2024-06-20 03:39:28.448948: Processed 0 / 33 estimators\n",
      "\u001B[1;96m [INFO]\u001B[0m RandomForestClassifierImpl 2024-06-20 03:39:46.163693: Processed 10 / 33 estimators\n",
      "\u001B[1;96m [INFO]\u001B[0m RandomForestClassifierImpl 2024-06-20 03:40:02.241759: Processed 20 / 33 estimators\n",
      "\u001B[1;96m [INFO]\u001B[0m RandomForestClassifierImpl 2024-06-20 03:40:19.948874: Processed 30 / 33 estimators\n"
     ]
    },
    {
     "name": "stderr",
     "output_type": "stream",
     "text": [
      "[I 2024-06-20 03:40:23,999] Trial 66 finished with value: 0.7293193361366572 and parameters: {'max_depth': 38, 'min_samples_split': 50, 'min_samples_leaf': 41, 'bootstrap': 0, 'n_estimators': 33, 'criterion': 'entropy', 'feature_limiter': 'none'}. Best is trial 38 with value: 0.8355345016970362.\n"
     ]
    },
    {
     "name": "stdout",
     "output_type": "stream",
     "text": [
      "\u001B[1;96m [INFO]\u001B[0m RandomForestClassifierImpl 2024-06-20 03:40:23.999985: Processed 33 / 33 estimators\n",
      "\u001B[1;96m [INFO]\u001B[0m RandomForestClassifierImpl 2024-06-20 03:40:24.016279: Processed 0 / 56 estimators\n",
      "\u001B[1;96m [INFO]\u001B[0m RandomForestClassifierImpl 2024-06-20 03:40:37.618707: Processed 10 / 56 estimators\n",
      "\u001B[1;96m [INFO]\u001B[0m RandomForestClassifierImpl 2024-06-20 03:40:51.854613: Processed 20 / 56 estimators\n",
      "\u001B[1;96m [INFO]\u001B[0m RandomForestClassifierImpl 2024-06-20 03:41:05.988705: Processed 30 / 56 estimators\n",
      "\u001B[1;96m [INFO]\u001B[0m RandomForestClassifierImpl 2024-06-20 03:41:19.314390: Processed 40 / 56 estimators\n",
      "\u001B[1;96m [INFO]\u001B[0m RandomForestClassifierImpl 2024-06-20 03:41:33.679379: Processed 50 / 56 estimators\n"
     ]
    },
    {
     "name": "stderr",
     "output_type": "stream",
     "text": [
      "[I 2024-06-20 03:41:42,616] Trial 67 finished with value: 0.8355345016970362 and parameters: {'max_depth': 26, 'min_samples_split': 41, 'min_samples_leaf': 32, 'bootstrap': 0, 'n_estimators': 56, 'criterion': 'log_loss', 'feature_limiter': 'log2'}. Best is trial 38 with value: 0.8355345016970362.\n"
     ]
    },
    {
     "name": "stdout",
     "output_type": "stream",
     "text": [
      "\u001B[1;96m [INFO]\u001B[0m RandomForestClassifierImpl 2024-06-20 03:41:42.616115: Processed 56 / 56 estimators\n",
      "\u001B[1;96m [INFO]\u001B[0m RandomForestClassifierImpl 2024-06-20 03:41:42.647486: Processed 0 / 44 estimators\n",
      "\u001B[1;96m [INFO]\u001B[0m RandomForestClassifierImpl 2024-06-20 03:41:56.443901: Processed 10 / 44 estimators\n",
      "\u001B[1;96m [INFO]\u001B[0m RandomForestClassifierImpl 2024-06-20 03:42:10.320932: Processed 20 / 44 estimators\n",
      "\u001B[1;96m [INFO]\u001B[0m RandomForestClassifierImpl 2024-06-20 03:42:24.948131: Processed 30 / 44 estimators\n",
      "\u001B[1;96m [INFO]\u001B[0m RandomForestClassifierImpl 2024-06-20 03:42:38.920465: Processed 40 / 44 estimators\n"
     ]
    },
    {
     "name": "stderr",
     "output_type": "stream",
     "text": [
      "[I 2024-06-20 03:42:44,559] Trial 68 finished with value: 0.8355345016970362 and parameters: {'max_depth': 32, 'min_samples_split': 44, 'min_samples_leaf': 37, 'bootstrap': 0, 'n_estimators': 44, 'criterion': 'log_loss', 'feature_limiter': 'log2'}. Best is trial 38 with value: 0.8355345016970362.\n"
     ]
    },
    {
     "name": "stdout",
     "output_type": "stream",
     "text": [
      "\u001B[1;96m [INFO]\u001B[0m RandomForestClassifierImpl 2024-06-20 03:42:44.543381: Processed 44 / 44 estimators\n",
      "\u001B[1;96m [INFO]\u001B[0m RandomForestClassifierImpl 2024-06-20 03:42:44.575030: Processed 0 / 69 estimators\n",
      "\u001B[1;96m [INFO]\u001B[0m RandomForestClassifierImpl 2024-06-20 03:42:59.048437: Processed 10 / 69 estimators\n",
      "\u001B[1;96m [INFO]\u001B[0m RandomForestClassifierImpl 2024-06-20 03:43:13.535765: Processed 20 / 69 estimators\n",
      "\u001B[1;96m [INFO]\u001B[0m RandomForestClassifierImpl 2024-06-20 03:43:28.332459: Processed 30 / 69 estimators\n",
      "\u001B[1;96m [INFO]\u001B[0m RandomForestClassifierImpl 2024-06-20 03:43:42.897499: Processed 40 / 69 estimators\n",
      "\u001B[1;96m [INFO]\u001B[0m RandomForestClassifierImpl 2024-06-20 03:43:56.885547: Processed 50 / 69 estimators\n",
      "\u001B[1;96m [INFO]\u001B[0m RandomForestClassifierImpl 2024-06-20 03:44:11.566258: Processed 60 / 69 estimators\n"
     ]
    },
    {
     "name": "stderr",
     "output_type": "stream",
     "text": [
      "[I 2024-06-20 03:44:23,871] Trial 69 finished with value: 0.8355345016970362 and parameters: {'max_depth': 15, 'min_samples_split': 47, 'min_samples_leaf': 35, 'bootstrap': 0, 'n_estimators': 69, 'criterion': 'log_loss', 'feature_limiter': 'log2'}. Best is trial 38 with value: 0.8355345016970362.\n"
     ]
    },
    {
     "name": "stdout",
     "output_type": "stream",
     "text": [
      "\u001B[1;96m [INFO]\u001B[0m RandomForestClassifierImpl 2024-06-20 03:44:23.855952: Processed 69 / 69 estimators\n",
      "\u001B[1;96m [INFO]\u001B[0m RandomForestClassifierImpl 2024-06-20 03:44:23.887126: Processed 0 / 50 estimators\n",
      "\u001B[1;96m [INFO]\u001B[0m RandomForestClassifierImpl 2024-06-20 03:44:36.569657: Processed 10 / 50 estimators\n",
      "\u001B[1;96m [INFO]\u001B[0m RandomForestClassifierImpl 2024-06-20 03:44:50.189238: Processed 20 / 50 estimators\n",
      "\u001B[1;96m [INFO]\u001B[0m RandomForestClassifierImpl 2024-06-20 03:45:04.182218: Processed 30 / 50 estimators\n",
      "\u001B[1;96m [INFO]\u001B[0m RandomForestClassifierImpl 2024-06-20 03:45:18.686828: Processed 40 / 50 estimators\n"
     ]
    },
    {
     "name": "stderr",
     "output_type": "stream",
     "text": [
      "[I 2024-06-20 03:45:32,275] Trial 70 finished with value: 0.8060961086491722 and parameters: {'max_depth': 30, 'min_samples_split': 34, 'min_samples_leaf': 39, 'bootstrap': 0, 'n_estimators': 50, 'criterion': 'log_loss', 'feature_limiter': 'log2'}. Best is trial 38 with value: 0.8355345016970362.\n"
     ]
    },
    {
     "name": "stdout",
     "output_type": "stream",
     "text": [
      "\u001B[1;96m [INFO]\u001B[0m RandomForestClassifierImpl 2024-06-20 03:45:32.275120: Processed 50 / 50 estimators\n",
      "\u001B[1;96m [INFO]\u001B[0m RandomForestClassifierImpl 2024-06-20 03:45:32.306332: Processed 0 / 41 estimators\n",
      "\u001B[1;96m [INFO]\u001B[0m RandomForestClassifierImpl 2024-06-20 03:45:45.189245: Processed 10 / 41 estimators\n",
      "\u001B[1;96m [INFO]\u001B[0m RandomForestClassifierImpl 2024-06-20 03:45:59.232540: Processed 20 / 41 estimators\n",
      "\u001B[1;96m [INFO]\u001B[0m RandomForestClassifierImpl 2024-06-20 03:46:12.821236: Processed 30 / 41 estimators\n",
      "\u001B[1;96m [INFO]\u001B[0m RandomForestClassifierImpl 2024-06-20 03:46:27.045443: Processed 40 / 41 estimators\n"
     ]
    },
    {
     "name": "stderr",
     "output_type": "stream",
     "text": [
      "[I 2024-06-20 03:46:28,426] Trial 71 finished with value: 0.8355345016970362 and parameters: {'max_depth': 29, 'min_samples_split': 39, 'min_samples_leaf': 34, 'bootstrap': 0, 'n_estimators': 41, 'criterion': 'log_loss', 'feature_limiter': 'log2'}. Best is trial 38 with value: 0.8355345016970362.\n"
     ]
    },
    {
     "name": "stdout",
     "output_type": "stream",
     "text": [
      "\u001B[1;96m [INFO]\u001B[0m RandomForestClassifierImpl 2024-06-20 03:46:28.420889: Processed 41 / 41 estimators\n",
      "\u001B[1;96m [INFO]\u001B[0m RandomForestClassifierImpl 2024-06-20 03:46:28.450607: Processed 0 / 42 estimators\n",
      "\u001B[1;96m [INFO]\u001B[0m RandomForestClassifierImpl 2024-06-20 03:46:41.851885: Processed 10 / 42 estimators\n",
      "\u001B[1;96m [INFO]\u001B[0m RandomForestClassifierImpl 2024-06-20 03:46:56.141802: Processed 20 / 42 estimators\n",
      "\u001B[1;96m [INFO]\u001B[0m RandomForestClassifierImpl 2024-06-20 03:47:09.810619: Processed 30 / 42 estimators\n",
      "\u001B[1;96m [INFO]\u001B[0m RandomForestClassifierImpl 2024-06-20 03:47:23.297062: Processed 40 / 42 estimators\n"
     ]
    },
    {
     "name": "stderr",
     "output_type": "stream",
     "text": [
      "[I 2024-06-20 03:47:26,300] Trial 72 finished with value: 0.8355345016970362 and parameters: {'max_depth': 28, 'min_samples_split': 38, 'min_samples_leaf': 38, 'bootstrap': 0, 'n_estimators': 42, 'criterion': 'log_loss', 'feature_limiter': 'log2'}. Best is trial 38 with value: 0.8355345016970362.\n"
     ]
    },
    {
     "name": "stdout",
     "output_type": "stream",
     "text": [
      "\u001B[1;96m [INFO]\u001B[0m RandomForestClassifierImpl 2024-06-20 03:47:26.300053: Processed 42 / 42 estimators\n",
      "\u001B[1;96m [INFO]\u001B[0m RandomForestClassifierImpl 2024-06-20 03:47:26.331298: Processed 0 / 36 estimators\n",
      "\u001B[1;96m [INFO]\u001B[0m RandomForestClassifierImpl 2024-06-20 03:47:40.711389: Processed 10 / 36 estimators\n",
      "\u001B[1;96m [INFO]\u001B[0m RandomForestClassifierImpl 2024-06-20 03:47:55.943586: Processed 20 / 36 estimators\n",
      "\u001B[1;96m [INFO]\u001B[0m RandomForestClassifierImpl 2024-06-20 03:48:10.728756: Processed 30 / 36 estimators\n"
     ]
    },
    {
     "name": "stderr",
     "output_type": "stream",
     "text": [
      "[I 2024-06-20 03:48:19,416] Trial 73 finished with value: 0.8131638868296723 and parameters: {'max_depth': 25, 'min_samples_split': 32, 'min_samples_leaf': 20, 'bootstrap': 0, 'n_estimators': 36, 'criterion': 'log_loss', 'feature_limiter': 'log2'}. Best is trial 38 with value: 0.8355345016970362.\n"
     ]
    },
    {
     "name": "stdout",
     "output_type": "stream",
     "text": [
      "\u001B[1;96m [INFO]\u001B[0m RandomForestClassifierImpl 2024-06-20 03:48:19.401090: Processed 36 / 36 estimators\n",
      "\u001B[1;96m [INFO]\u001B[0m RandomForestClassifierImpl 2024-06-20 03:48:19.432322: Processed 0 / 31 estimators\n",
      "\u001B[1;96m [INFO]\u001B[0m RandomForestClassifierImpl 2024-06-20 03:48:33.390967: Processed 10 / 31 estimators\n",
      "\u001B[1;96m [INFO]\u001B[0m RandomForestClassifierImpl 2024-06-20 03:48:47.648040: Processed 20 / 31 estimators\n",
      "\u001B[1;96m [INFO]\u001B[0m RandomForestClassifierImpl 2024-06-20 03:49:01.727873: Processed 30 / 31 estimators\n"
     ]
    },
    {
     "name": "stderr",
     "output_type": "stream",
     "text": [
      "[I 2024-06-20 03:49:03,272] Trial 74 finished with value: 0.8131638868296723 and parameters: {'max_depth': 27, 'min_samples_split': 41, 'min_samples_leaf': 13, 'bootstrap': 0, 'n_estimators': 31, 'criterion': 'log_loss', 'feature_limiter': 'log2'}. Best is trial 38 with value: 0.8355345016970362.\n"
     ]
    },
    {
     "name": "stdout",
     "output_type": "stream",
     "text": [
      "\u001B[1;96m [INFO]\u001B[0m RandomForestClassifierImpl 2024-06-20 03:49:03.256624: Processed 31 / 31 estimators\n",
      "\u001B[1;96m [INFO]\u001B[0m RandomForestClassifierImpl 2024-06-20 03:49:03.287997: Processed 0 / 27 estimators\n",
      "\u001B[1;96m [INFO]\u001B[0m RandomForestClassifierImpl 2024-06-20 03:49:22.599519: Processed 10 / 27 estimators\n",
      "\u001B[1;96m [INFO]\u001B[0m RandomForestClassifierImpl 2024-06-20 03:49:41.844010: Processed 20 / 27 estimators\n"
     ]
    },
    {
     "name": "stderr",
     "output_type": "stream",
     "text": [
      "[I 2024-06-20 03:49:54,220] Trial 75 finished with value: 0.6088797936387643 and parameters: {'max_depth': 23, 'min_samples_split': 27, 'min_samples_leaf': 41, 'bootstrap': 0, 'n_estimators': 27, 'criterion': 'entropy', 'feature_limiter': 'none'}. Best is trial 38 with value: 0.8355345016970362.\n"
     ]
    },
    {
     "name": "stdout",
     "output_type": "stream",
     "text": [
      "\u001B[1;96m [INFO]\u001B[0m RandomForestClassifierImpl 2024-06-20 03:49:54.220555: Processed 27 / 27 estimators\n",
      "\u001B[1;96m [INFO]\u001B[0m RandomForestClassifierImpl 2024-06-20 03:49:54.236350: Processed 0 / 53 estimators\n",
      "\u001B[1;96m [INFO]\u001B[0m RandomForestClassifierImpl 2024-06-20 03:50:08.491454: Processed 10 / 53 estimators\n",
      "\u001B[1;96m [INFO]\u001B[0m RandomForestClassifierImpl 2024-06-20 03:50:23.083417: Processed 20 / 53 estimators\n",
      "\u001B[1;96m [INFO]\u001B[0m RandomForestClassifierImpl 2024-06-20 03:50:37.301923: Processed 30 / 53 estimators\n",
      "\u001B[1;96m [INFO]\u001B[0m RandomForestClassifierImpl 2024-06-20 03:50:51.674612: Processed 40 / 53 estimators\n",
      "\u001B[1;96m [INFO]\u001B[0m RandomForestClassifierImpl 2024-06-20 03:51:05.583351: Processed 50 / 53 estimators\n"
     ]
    },
    {
     "name": "stderr",
     "output_type": "stream",
     "text": [
      "[I 2024-06-20 03:51:09,769] Trial 76 finished with value: 0.6315331641899239 and parameters: {'max_depth': 31, 'min_samples_split': 43, 'min_samples_leaf': 37, 'bootstrap': 0, 'n_estimators': 53, 'criterion': 'log_loss', 'feature_limiter': 'log2'}. Best is trial 38 with value: 0.8355345016970362.\n"
     ]
    },
    {
     "name": "stdout",
     "output_type": "stream",
     "text": [
      "\u001B[1;96m [INFO]\u001B[0m RandomForestClassifierImpl 2024-06-20 03:51:09.753592: Processed 53 / 53 estimators\n",
      "\u001B[1;96m [INFO]\u001B[0m RandomForestClassifierImpl 2024-06-20 03:51:09.784964: Processed 0 / 23 estimators\n",
      "\u001B[1;96m [INFO]\u001B[0m RandomForestClassifierImpl 2024-06-20 03:51:23.497263: Processed 10 / 23 estimators\n",
      "\u001B[1;96m [INFO]\u001B[0m RandomForestClassifierImpl 2024-06-20 03:51:36.773683: Processed 20 / 23 estimators\n"
     ]
    },
    {
     "name": "stderr",
     "output_type": "stream",
     "text": [
      "[I 2024-06-20 03:51:41,260] Trial 77 finished with value: 0.8355345016970362 and parameters: {'max_depth': 20, 'min_samples_split': 37, 'min_samples_leaf': 33, 'bootstrap': 0, 'n_estimators': 23, 'criterion': 'log_loss', 'feature_limiter': 'log2'}. Best is trial 38 with value: 0.8355345016970362.\n"
     ]
    },
    {
     "name": "stdout",
     "output_type": "stream",
     "text": [
      "\u001B[1;96m [INFO]\u001B[0m RandomForestClassifierImpl 2024-06-20 03:51:41.244115: Processed 23 / 23 estimators\n",
      "\u001B[1;96m [INFO]\u001B[0m RandomForestClassifierImpl 2024-06-20 03:51:41.277783: Processed 0 / 47 estimators\n",
      "\u001B[1;96m [INFO]\u001B[0m RandomForestClassifierImpl 2024-06-20 03:51:54.919426: Processed 10 / 47 estimators\n",
      "\u001B[1;96m [INFO]\u001B[0m RandomForestClassifierImpl 2024-06-20 03:52:08.021358: Processed 20 / 47 estimators\n",
      "\u001B[1;96m [INFO]\u001B[0m RandomForestClassifierImpl 2024-06-20 03:52:21.703567: Processed 30 / 47 estimators\n",
      "\u001B[1;96m [INFO]\u001B[0m RandomForestClassifierImpl 2024-06-20 03:52:34.982179: Processed 40 / 47 estimators\n"
     ]
    },
    {
     "name": "stderr",
     "output_type": "stream",
     "text": [
      "[I 2024-06-20 03:52:45,270] Trial 78 finished with value: 0.8060961086491722 and parameters: {'max_depth': 33, 'min_samples_split': 40, 'min_samples_leaf': 39, 'bootstrap': 0, 'n_estimators': 47, 'criterion': 'log_loss', 'feature_limiter': 'log2'}. Best is trial 38 with value: 0.8355345016970362.\n"
     ]
    },
    {
     "name": "stdout",
     "output_type": "stream",
     "text": [
      "\u001B[1;96m [INFO]\u001B[0m RandomForestClassifierImpl 2024-06-20 03:52:45.255119: Processed 47 / 47 estimators\n",
      "\u001B[1;96m [INFO]\u001B[0m RandomForestClassifierImpl 2024-06-20 03:52:45.286348: Processed 0 / 34 estimators\n",
      "\u001B[1;96m [INFO]\u001B[0m RandomForestClassifierImpl 2024-06-20 03:52:59.972337: Processed 10 / 34 estimators\n",
      "\u001B[1;96m [INFO]\u001B[0m RandomForestClassifierImpl 2024-06-20 03:53:13.122287: Processed 20 / 34 estimators\n",
      "\u001B[1;96m [INFO]\u001B[0m RandomForestClassifierImpl 2024-06-20 03:53:27.425514: Processed 30 / 34 estimators\n"
     ]
    },
    {
     "name": "stderr",
     "output_type": "stream",
     "text": [
      "[I 2024-06-20 03:53:32,904] Trial 79 finished with value: 0.8131638868296723 and parameters: {'max_depth': 35, 'min_samples_split': 45, 'min_samples_leaf': 30, 'bootstrap': 0, 'n_estimators': 34, 'criterion': 'log_loss', 'feature_limiter': 'log2'}. Best is trial 38 with value: 0.8355345016970362.\n"
     ]
    },
    {
     "name": "stdout",
     "output_type": "stream",
     "text": [
      "\u001B[1;96m [INFO]\u001B[0m RandomForestClassifierImpl 2024-06-20 03:53:32.888664: Processed 34 / 34 estimators\n",
      "\u001B[1;96m [INFO]\u001B[0m RandomForestClassifierImpl 2024-06-20 03:53:32.919914: Processed 0 / 39 estimators\n",
      "\u001B[1;96m [INFO]\u001B[0m RandomForestClassifierImpl 2024-06-20 03:53:47.593272: Processed 10 / 39 estimators\n",
      "\u001B[1;96m [INFO]\u001B[0m RandomForestClassifierImpl 2024-06-20 03:54:01.614915: Processed 20 / 39 estimators\n",
      "\u001B[1;96m [INFO]\u001B[0m RandomForestClassifierImpl 2024-06-20 03:54:15.444776: Processed 30 / 39 estimators\n"
     ]
    },
    {
     "name": "stderr",
     "output_type": "stream",
     "text": [
      "[I 2024-06-20 03:54:26,186] Trial 80 finished with value: 0.8060961086491722 and parameters: {'max_depth': 21, 'min_samples_split': 35, 'min_samples_leaf': 48, 'bootstrap': 0, 'n_estimators': 39, 'criterion': 'log_loss', 'feature_limiter': 'log2'}. Best is trial 38 with value: 0.8355345016970362.\n"
     ]
    },
    {
     "name": "stdout",
     "output_type": "stream",
     "text": [
      "\u001B[1;96m [INFO]\u001B[0m RandomForestClassifierImpl 2024-06-20 03:54:26.181271: Processed 39 / 39 estimators\n",
      "\u001B[1;96m [INFO]\u001B[0m RandomForestClassifierImpl 2024-06-20 03:54:26.210571: Processed 0 / 48 estimators\n",
      "\u001B[1;96m [INFO]\u001B[0m RandomForestClassifierImpl 2024-06-20 03:54:41.070104: Processed 10 / 48 estimators\n",
      "\u001B[1;96m [INFO]\u001B[0m RandomForestClassifierImpl 2024-06-20 03:54:55.159087: Processed 20 / 48 estimators\n",
      "\u001B[1;96m [INFO]\u001B[0m RandomForestClassifierImpl 2024-06-20 03:55:10.466721: Processed 30 / 48 estimators\n",
      "\u001B[1;96m [INFO]\u001B[0m RandomForestClassifierImpl 2024-06-20 03:55:25.239037: Processed 40 / 48 estimators\n"
     ]
    },
    {
     "name": "stderr",
     "output_type": "stream",
     "text": [
      "[I 2024-06-20 03:55:36,696] Trial 81 finished with value: 0.8355345016970362 and parameters: {'max_depth': 22, 'min_samples_split': 45, 'min_samples_leaf': 33, 'bootstrap': 0, 'n_estimators': 48, 'criterion': 'log_loss', 'feature_limiter': 'log2'}. Best is trial 38 with value: 0.8355345016970362.\n"
     ]
    },
    {
     "name": "stdout",
     "output_type": "stream",
     "text": [
      "\u001B[1;96m [INFO]\u001B[0m RandomForestClassifierImpl 2024-06-20 03:55:36.696629: Processed 48 / 48 estimators\n",
      "\u001B[1;96m [INFO]\u001B[0m RandomForestClassifierImpl 2024-06-20 03:55:36.727423: Processed 0 / 43 estimators\n",
      "\u001B[1;96m [INFO]\u001B[0m RandomForestClassifierImpl 2024-06-20 03:55:51.333035: Processed 10 / 43 estimators\n",
      "\u001B[1;96m [INFO]\u001B[0m RandomForestClassifierImpl 2024-06-20 03:56:05.334387: Processed 20 / 43 estimators\n",
      "\u001B[1;96m [INFO]\u001B[0m RandomForestClassifierImpl 2024-06-20 03:56:19.494101: Processed 30 / 43 estimators\n",
      "\u001B[1;96m [INFO]\u001B[0m RandomForestClassifierImpl 2024-06-20 03:56:33.609242: Processed 40 / 43 estimators\n"
     ]
    },
    {
     "name": "stderr",
     "output_type": "stream",
     "text": [
      "[I 2024-06-20 03:56:38,347] Trial 82 finished with value: 0.8355345016970362 and parameters: {'max_depth': 24, 'min_samples_split': 42, 'min_samples_leaf': 36, 'bootstrap': 0, 'n_estimators': 43, 'criterion': 'log_loss', 'feature_limiter': 'log2'}. Best is trial 38 with value: 0.8355345016970362.\n"
     ]
    },
    {
     "name": "stdout",
     "output_type": "stream",
     "text": [
      "\u001B[1;96m [INFO]\u001B[0m RandomForestClassifierImpl 2024-06-20 03:56:38.347291: Processed 43 / 43 estimators\n",
      "\u001B[1;96m [INFO]\u001B[0m RandomForestClassifierImpl 2024-06-20 03:56:38.382809: Processed 0 / 45 estimators\n",
      "\u001B[1;96m [INFO]\u001B[0m RandomForestClassifierImpl 2024-06-20 03:56:52.501222: Processed 10 / 45 estimators\n",
      "\u001B[1;96m [INFO]\u001B[0m RandomForestClassifierImpl 2024-06-20 03:57:06.657757: Processed 20 / 45 estimators\n",
      "\u001B[1;96m [INFO]\u001B[0m RandomForestClassifierImpl 2024-06-20 03:57:20.192761: Processed 30 / 45 estimators\n",
      "\u001B[1;96m [INFO]\u001B[0m RandomForestClassifierImpl 2024-06-20 03:57:33.849562: Processed 40 / 45 estimators\n"
     ]
    },
    {
     "name": "stderr",
     "output_type": "stream",
     "text": [
      "[I 2024-06-20 03:57:40,650] Trial 83 finished with value: 0.6315331641899239 and parameters: {'max_depth': 18, 'min_samples_split': 48, 'min_samples_leaf': 32, 'bootstrap': 0, 'n_estimators': 45, 'criterion': 'log_loss', 'feature_limiter': 'log2'}. Best is trial 38 with value: 0.8355345016970362.\n"
     ]
    },
    {
     "name": "stdout",
     "output_type": "stream",
     "text": [
      "\u001B[1;96m [INFO]\u001B[0m RandomForestClassifierImpl 2024-06-20 03:57:40.650769: Processed 45 / 45 estimators\n",
      "\u001B[1;96m [INFO]\u001B[0m RandomForestClassifierImpl 2024-06-20 03:57:40.682725: Processed 0 / 61 estimators\n",
      "\u001B[1;96m [INFO]\u001B[0m RandomForestClassifierImpl 2024-06-20 03:57:55.284159: Processed 10 / 61 estimators\n",
      "\u001B[1;96m [INFO]\u001B[0m RandomForestClassifierImpl 2024-06-20 03:58:09.539704: Processed 20 / 61 estimators\n",
      "\u001B[1;96m [INFO]\u001B[0m RandomForestClassifierImpl 2024-06-20 03:58:23.872041: Processed 30 / 61 estimators\n",
      "\u001B[1;96m [INFO]\u001B[0m RandomForestClassifierImpl 2024-06-20 03:58:39.212411: Processed 40 / 61 estimators\n",
      "\u001B[1;96m [INFO]\u001B[0m RandomForestClassifierImpl 2024-06-20 03:58:53.097621: Processed 50 / 61 estimators\n",
      "\u001B[1;96m [INFO]\u001B[0m RandomForestClassifierImpl 2024-06-20 03:59:06.983401: Processed 60 / 61 estimators\n"
     ]
    },
    {
     "name": "stderr",
     "output_type": "stream",
     "text": [
      "[I 2024-06-20 03:59:08,392] Trial 84 finished with value: 0.8355345016970362 and parameters: {'max_depth': 27, 'min_samples_split': 46, 'min_samples_leaf': 35, 'bootstrap': 0, 'n_estimators': 61, 'criterion': 'log_loss', 'feature_limiter': 'log2'}. Best is trial 38 with value: 0.8355345016970362.\n"
     ]
    },
    {
     "name": "stdout",
     "output_type": "stream",
     "text": [
      "\u001B[1;96m [INFO]\u001B[0m RandomForestClassifierImpl 2024-06-20 03:59:08.391227: Processed 61 / 61 estimators\n",
      "\u001B[1;96m [INFO]\u001B[0m RandomForestClassifierImpl 2024-06-20 03:59:08.421795: Processed 0 / 52 estimators\n",
      "\u001B[1;96m [INFO]\u001B[0m RandomForestClassifierImpl 2024-06-20 03:59:22.535102: Processed 10 / 52 estimators\n",
      "\u001B[1;96m [INFO]\u001B[0m RandomForestClassifierImpl 2024-06-20 03:59:36.933668: Processed 20 / 52 estimators\n",
      "\u001B[1;96m [INFO]\u001B[0m RandomForestClassifierImpl 2024-06-20 03:59:51.187940: Processed 30 / 52 estimators\n",
      "\u001B[1;96m [INFO]\u001B[0m RandomForestClassifierImpl 2024-06-20 04:00:06.273710: Processed 40 / 52 estimators\n",
      "\u001B[1;96m [INFO]\u001B[0m RandomForestClassifierImpl 2024-06-20 04:00:21.085216: Processed 50 / 52 estimators\n"
     ]
    },
    {
     "name": "stderr",
     "output_type": "stream",
     "text": [
      "[I 2024-06-20 04:00:24,154] Trial 85 finished with value: 0.8151038586635129 and parameters: {'max_depth': 22, 'min_samples_split': 44, 'min_samples_leaf': 28, 'bootstrap': 0, 'n_estimators': 52, 'criterion': 'log_loss', 'feature_limiter': 'log2'}. Best is trial 38 with value: 0.8355345016970362.\n"
     ]
    },
    {
     "name": "stdout",
     "output_type": "stream",
     "text": [
      "\u001B[1;96m [INFO]\u001B[0m RandomForestClassifierImpl 2024-06-20 04:00:24.153226: Processed 52 / 52 estimators\n",
      "\u001B[1;96m [INFO]\u001B[0m RandomForestClassifierImpl 2024-06-20 04:00:24.169180: Processed 0 / 47 estimators\n",
      "\u001B[1;96m [INFO]\u001B[0m RandomForestClassifierImpl 2024-06-20 04:00:41.752558: Processed 10 / 47 estimators\n",
      "\u001B[1;96m [INFO]\u001B[0m RandomForestClassifierImpl 2024-06-20 04:01:00.358759: Processed 20 / 47 estimators\n",
      "\u001B[1;96m [INFO]\u001B[0m RandomForestClassifierImpl 2024-06-20 04:01:21.992867: Processed 30 / 47 estimators\n",
      "\u001B[1;96m [INFO]\u001B[0m RandomForestClassifierImpl 2024-06-20 04:01:41.581814: Processed 40 / 47 estimators\n"
     ]
    },
    {
     "name": "stderr",
     "output_type": "stream",
     "text": [
      "[I 2024-06-20 04:01:55,120] Trial 86 finished with value: 0.6088797936387643 and parameters: {'max_depth': 25, 'min_samples_split': 30, 'min_samples_leaf': 30, 'bootstrap': 0, 'n_estimators': 47, 'criterion': 'entropy', 'feature_limiter': 'none'}. Best is trial 38 with value: 0.8355345016970362.\n"
     ]
    },
    {
     "name": "stdout",
     "output_type": "stream",
     "text": [
      "\u001B[1;96m [INFO]\u001B[0m RandomForestClassifierImpl 2024-06-20 04:01:55.105055: Processed 47 / 47 estimators\n",
      "\u001B[1;96m [INFO]\u001B[0m RandomForestClassifierImpl 2024-06-20 04:01:55.136805: Processed 0 / 37 estimators\n",
      "\u001B[1;96m [INFO]\u001B[0m RandomForestClassifierImpl 2024-06-20 04:02:08.671948: Processed 10 / 37 estimators\n",
      "\u001B[1;96m [INFO]\u001B[0m RandomForestClassifierImpl 2024-06-20 04:02:22.831414: Processed 20 / 37 estimators\n",
      "\u001B[1;96m [INFO]\u001B[0m RandomForestClassifierImpl 2024-06-20 04:02:36.486762: Processed 30 / 37 estimators\n"
     ]
    },
    {
     "name": "stderr",
     "output_type": "stream",
     "text": [
      "[I 2024-06-20 04:02:45,912] Trial 87 finished with value: 0.6315331641899239 and parameters: {'max_depth': 30, 'min_samples_split': 39, 'min_samples_leaf': 43, 'bootstrap': 0, 'n_estimators': 37, 'criterion': 'log_loss', 'feature_limiter': 'log2'}. Best is trial 38 with value: 0.8355345016970362.\n"
     ]
    },
    {
     "name": "stdout",
     "output_type": "stream",
     "text": [
      "\u001B[1;96m [INFO]\u001B[0m RandomForestClassifierImpl 2024-06-20 04:02:45.912869: Processed 37 / 37 estimators\n",
      "\u001B[1;96m [INFO]\u001B[0m RandomForestClassifierImpl 2024-06-20 04:02:45.928474: Processed 0 / 42 estimators\n",
      "\u001B[1;96m [INFO]\u001B[0m RandomForestClassifierImpl 2024-06-20 04:02:59.394867: Processed 10 / 42 estimators\n",
      "\u001B[1;96m [INFO]\u001B[0m RandomForestClassifierImpl 2024-06-20 04:03:11.921294: Processed 20 / 42 estimators\n",
      "\u001B[1;96m [INFO]\u001B[0m RandomForestClassifierImpl 2024-06-20 04:03:26.187997: Processed 30 / 42 estimators\n",
      "\u001B[1;96m [INFO]\u001B[0m RandomForestClassifierImpl 2024-06-20 04:03:40.533036: Processed 40 / 42 estimators\n"
     ]
    },
    {
     "name": "stderr",
     "output_type": "stream",
     "text": [
      "[I 2024-06-20 04:03:43,301] Trial 88 finished with value: 0.8131638868296723 and parameters: {'max_depth': 16, 'min_samples_split': 47, 'min_samples_leaf': 34, 'bootstrap': 1, 'n_estimators': 42, 'criterion': 'log_loss', 'feature_limiter': 'log2'}. Best is trial 38 with value: 0.8355345016970362.\n"
     ]
    },
    {
     "name": "stdout",
     "output_type": "stream",
     "text": [
      "\u001B[1;96m [INFO]\u001B[0m RandomForestClassifierImpl 2024-06-20 04:03:43.301741: Processed 42 / 42 estimators\n",
      "\u001B[1;96m [INFO]\u001B[0m RandomForestClassifierImpl 2024-06-20 04:03:43.316865: Processed 0 / 58 estimators\n",
      "\u001B[1;96m [INFO]\u001B[0m RandomForestClassifierImpl 2024-06-20 04:03:57.943950: Processed 10 / 58 estimators\n",
      "\u001B[1;96m [INFO]\u001B[0m RandomForestClassifierImpl 2024-06-20 04:04:12.549133: Processed 20 / 58 estimators\n",
      "\u001B[1;96m [INFO]\u001B[0m RandomForestClassifierImpl 2024-06-20 04:04:26.418191: Processed 30 / 58 estimators\n",
      "\u001B[1;96m [INFO]\u001B[0m RandomForestClassifierImpl 2024-06-20 04:04:40.445183: Processed 40 / 58 estimators\n",
      "\u001B[1;96m [INFO]\u001B[0m RandomForestClassifierImpl 2024-06-20 04:04:53.445111: Processed 50 / 58 estimators\n"
     ]
    },
    {
     "name": "stderr",
     "output_type": "stream",
     "text": [
      "[I 2024-06-20 04:05:04,543] Trial 89 finished with value: 0.8060961086491722 and parameters: {'max_depth': 29, 'min_samples_split': 42, 'min_samples_leaf': 40, 'bootstrap': 0, 'n_estimators': 58, 'criterion': 'log_loss', 'feature_limiter': 'log2'}. Best is trial 38 with value: 0.8355345016970362.\n"
     ]
    },
    {
     "name": "stdout",
     "output_type": "stream",
     "text": [
      "\u001B[1;96m [INFO]\u001B[0m RandomForestClassifierImpl 2024-06-20 04:05:04.543084: Processed 58 / 58 estimators\n",
      "\u001B[1;96m [INFO]\u001B[0m RandomForestClassifierImpl 2024-06-20 04:05:04.575185: Processed 0 / 55 estimators\n",
      "\u001B[1;96m [INFO]\u001B[0m RandomForestClassifierImpl 2024-06-20 04:05:18.366263: Processed 10 / 55 estimators\n",
      "\u001B[1;96m [INFO]\u001B[0m RandomForestClassifierImpl 2024-06-20 04:05:32.563647: Processed 20 / 55 estimators\n",
      "\u001B[1;96m [INFO]\u001B[0m RandomForestClassifierImpl 2024-06-20 04:05:46.454966: Processed 30 / 55 estimators\n",
      "\u001B[1;96m [INFO]\u001B[0m RandomForestClassifierImpl 2024-06-20 04:06:01.153141: Processed 40 / 55 estimators\n",
      "\u001B[1;96m [INFO]\u001B[0m RandomForestClassifierImpl 2024-06-20 04:06:15.034578: Processed 50 / 55 estimators\n"
     ]
    },
    {
     "name": "stderr",
     "output_type": "stream",
     "text": [
      "[I 2024-06-20 04:06:22,062] Trial 90 finished with value: 0.8355345016970362 and parameters: {'max_depth': 10, 'min_samples_split': 49, 'min_samples_leaf': 38, 'bootstrap': 0, 'n_estimators': 55, 'criterion': 'log_loss', 'feature_limiter': 'log2'}. Best is trial 38 with value: 0.8355345016970362.\n"
     ]
    },
    {
     "name": "stdout",
     "output_type": "stream",
     "text": [
      "\u001B[1;96m [INFO]\u001B[0m RandomForestClassifierImpl 2024-06-20 04:06:22.062073: Processed 55 / 55 estimators\n",
      "\u001B[1;96m [INFO]\u001B[0m RandomForestClassifierImpl 2024-06-20 04:06:22.090477: Processed 0 / 57 estimators\n",
      "\u001B[1;96m [INFO]\u001B[0m RandomForestClassifierImpl 2024-06-20 04:06:36.132272: Processed 10 / 57 estimators\n",
      "\u001B[1;96m [INFO]\u001B[0m RandomForestClassifierImpl 2024-06-20 04:06:49.015344: Processed 20 / 57 estimators\n",
      "\u001B[1;96m [INFO]\u001B[0m RandomForestClassifierImpl 2024-06-20 04:07:03.547345: Processed 30 / 57 estimators\n",
      "\u001B[1;96m [INFO]\u001B[0m RandomForestClassifierImpl 2024-06-20 04:07:17.965721: Processed 40 / 57 estimators\n",
      "\u001B[1;96m [INFO]\u001B[0m RandomForestClassifierImpl 2024-06-20 04:07:31.961514: Processed 50 / 57 estimators\n"
     ]
    },
    {
     "name": "stderr",
     "output_type": "stream",
     "text": [
      "[I 2024-06-20 04:07:41,888] Trial 91 finished with value: 0.6315331641899239 and parameters: {'max_depth': 33, 'min_samples_split': 43, 'min_samples_leaf': 34, 'bootstrap': 0, 'n_estimators': 57, 'criterion': 'log_loss', 'feature_limiter': 'log2'}. Best is trial 38 with value: 0.8355345016970362.\n"
     ]
    },
    {
     "name": "stdout",
     "output_type": "stream",
     "text": [
      "\u001B[1;96m [INFO]\u001B[0m RandomForestClassifierImpl 2024-06-20 04:07:41.872457: Processed 57 / 57 estimators\n",
      "\u001B[1;96m [INFO]\u001B[0m RandomForestClassifierImpl 2024-06-20 04:07:41.903661: Processed 0 / 50 estimators\n",
      "\u001B[1;96m [INFO]\u001B[0m RandomForestClassifierImpl 2024-06-20 04:07:55.693664: Processed 10 / 50 estimators\n",
      "\u001B[1;96m [INFO]\u001B[0m RandomForestClassifierImpl 2024-06-20 04:08:10.624175: Processed 20 / 50 estimators\n",
      "\u001B[1;96m [INFO]\u001B[0m RandomForestClassifierImpl 2024-06-20 04:08:24.594339: Processed 30 / 50 estimators\n",
      "\u001B[1;96m [INFO]\u001B[0m RandomForestClassifierImpl 2024-06-20 04:08:38.283166: Processed 40 / 50 estimators\n"
     ]
    },
    {
     "name": "stderr",
     "output_type": "stream",
     "text": [
      "[I 2024-06-20 04:08:51,846] Trial 92 finished with value: 0.8355345016970362 and parameters: {'max_depth': 32, 'min_samples_split': 37, 'min_samples_leaf': 33, 'bootstrap': 0, 'n_estimators': 50, 'criterion': 'log_loss', 'feature_limiter': 'log2'}. Best is trial 38 with value: 0.8355345016970362.\n"
     ]
    },
    {
     "name": "stdout",
     "output_type": "stream",
     "text": [
      "\u001B[1;96m [INFO]\u001B[0m RandomForestClassifierImpl 2024-06-20 04:08:51.846236: Processed 50 / 50 estimators\n",
      "\u001B[1;96m [INFO]\u001B[0m RandomForestClassifierImpl 2024-06-20 04:08:51.877629: Processed 0 / 40 estimators\n",
      "\u001B[1;96m [INFO]\u001B[0m RandomForestClassifierImpl 2024-06-20 04:09:05.818789: Processed 10 / 40 estimators\n",
      "\u001B[1;96m [INFO]\u001B[0m RandomForestClassifierImpl 2024-06-20 04:09:20.292405: Processed 20 / 40 estimators\n",
      "\u001B[1;96m [INFO]\u001B[0m RandomForestClassifierImpl 2024-06-20 04:09:34.680034: Processed 30 / 40 estimators\n"
     ]
    },
    {
     "name": "stderr",
     "output_type": "stream",
     "text": [
      "[I 2024-06-20 04:09:48,571] Trial 93 finished with value: 0.6315331641899239 and parameters: {'max_depth': 36, 'min_samples_split': 45, 'min_samples_leaf': 36, 'bootstrap': 0, 'n_estimators': 40, 'criterion': 'log_loss', 'feature_limiter': 'log2'}. Best is trial 38 with value: 0.8355345016970362.\n"
     ]
    },
    {
     "name": "stdout",
     "output_type": "stream",
     "text": [
      "\u001B[1;96m [INFO]\u001B[0m RandomForestClassifierImpl 2024-06-20 04:09:48.571468: Processed 40 / 40 estimators\n",
      "\u001B[1;96m [INFO]\u001B[0m RandomForestClassifierImpl 2024-06-20 04:09:48.602698: Processed 0 / 54 estimators\n",
      "\u001B[1;96m [INFO]\u001B[0m RandomForestClassifierImpl 2024-06-20 04:10:01.535745: Processed 10 / 54 estimators\n",
      "\u001B[1;96m [INFO]\u001B[0m RandomForestClassifierImpl 2024-06-20 04:10:15.871686: Processed 20 / 54 estimators\n",
      "\u001B[1;96m [INFO]\u001B[0m RandomForestClassifierImpl 2024-06-20 04:10:29.524115: Processed 30 / 54 estimators\n",
      "\u001B[1;96m [INFO]\u001B[0m RandomForestClassifierImpl 2024-06-20 04:10:42.728872: Processed 40 / 54 estimators\n",
      "\u001B[1;96m [INFO]\u001B[0m RandomForestClassifierImpl 2024-06-20 04:10:57.144847: Processed 50 / 54 estimators\n"
     ]
    },
    {
     "name": "stderr",
     "output_type": "stream",
     "text": [
      "[I 2024-06-20 04:11:02,852] Trial 94 finished with value: 0.8355345016970362 and parameters: {'max_depth': 34, 'min_samples_split': 40, 'min_samples_leaf': 32, 'bootstrap': 0, 'n_estimators': 54, 'criterion': 'log_loss', 'feature_limiter': 'log2'}. Best is trial 38 with value: 0.8355345016970362.\n"
     ]
    },
    {
     "name": "stdout",
     "output_type": "stream",
     "text": [
      "\u001B[1;96m [INFO]\u001B[0m RandomForestClassifierImpl 2024-06-20 04:11:02.836939: Processed 54 / 54 estimators\n",
      "\u001B[1;96m [INFO]\u001B[0m RandomForestClassifierImpl 2024-06-20 04:11:02.867842: Processed 0 / 46 estimators\n",
      "\u001B[1;96m [INFO]\u001B[0m RandomForestClassifierImpl 2024-06-20 04:11:16.616597: Processed 10 / 46 estimators\n",
      "\u001B[1;96m [INFO]\u001B[0m RandomForestClassifierImpl 2024-06-20 04:11:29.558478: Processed 20 / 46 estimators\n",
      "\u001B[1;96m [INFO]\u001B[0m RandomForestClassifierImpl 2024-06-20 04:11:43.359566: Processed 30 / 46 estimators\n",
      "\u001B[1;96m [INFO]\u001B[0m RandomForestClassifierImpl 2024-06-20 04:11:57.187763: Processed 40 / 46 estimators\n"
     ]
    },
    {
     "name": "stderr",
     "output_type": "stream",
     "text": [
      "[I 2024-06-20 04:12:05,773] Trial 95 finished with value: 0.8355345016970362 and parameters: {'max_depth': 37, 'min_samples_split': 42, 'min_samples_leaf': 37, 'bootstrap': 0, 'n_estimators': 46, 'criterion': 'log_loss', 'feature_limiter': 'log2'}. Best is trial 38 with value: 0.8355345016970362.\n"
     ]
    },
    {
     "name": "stdout",
     "output_type": "stream",
     "text": [
      "\u001B[1;96m [INFO]\u001B[0m RandomForestClassifierImpl 2024-06-20 04:12:05.773806: Processed 46 / 46 estimators\n",
      "\u001B[1;96m [INFO]\u001B[0m RandomForestClassifierImpl 2024-06-20 04:12:05.805659: Processed 0 / 35 estimators\n",
      "\u001B[1;96m [INFO]\u001B[0m RandomForestClassifierImpl 2024-06-20 04:12:20.305927: Processed 10 / 35 estimators\n",
      "\u001B[1;96m [INFO]\u001B[0m RandomForestClassifierImpl 2024-06-20 04:12:33.775062: Processed 20 / 35 estimators\n",
      "\u001B[1;96m [INFO]\u001B[0m RandomForestClassifierImpl 2024-06-20 04:12:46.862598: Processed 30 / 35 estimators\n"
     ]
    },
    {
     "name": "stderr",
     "output_type": "stream",
     "text": [
      "[I 2024-06-20 04:12:54,244] Trial 96 finished with value: 0.8355345016970362 and parameters: {'max_depth': 20, 'min_samples_split': 33, 'min_samples_leaf': 36, 'bootstrap': 0, 'n_estimators': 35, 'criterion': 'log_loss', 'feature_limiter': 'log2'}. Best is trial 38 with value: 0.8355345016970362.\n"
     ]
    },
    {
     "name": "stdout",
     "output_type": "stream",
     "text": [
      "\u001B[1;96m [INFO]\u001B[0m RandomForestClassifierImpl 2024-06-20 04:12:54.244644: Processed 35 / 35 estimators\n",
      "\u001B[1;96m [INFO]\u001B[0m RandomForestClassifierImpl 2024-06-20 04:12:54.261059: Processed 0 / 28 estimators\n",
      "\u001B[1;96m [INFO]\u001B[0m RandomForestClassifierImpl 2024-06-20 04:13:08.078627: Processed 10 / 28 estimators\n",
      "\u001B[1;96m [INFO]\u001B[0m RandomForestClassifierImpl 2024-06-20 04:13:21.794454: Processed 20 / 28 estimators\n"
     ]
    },
    {
     "name": "stderr",
     "output_type": "stream",
     "text": [
      "[I 2024-06-20 04:13:33,715] Trial 97 finished with value: 0.6315331641899239 and parameters: {'max_depth': 29, 'min_samples_split': 36, 'min_samples_leaf': 31, 'bootstrap': 0, 'n_estimators': 28, 'criterion': 'log_loss', 'feature_limiter': 'log2'}. Best is trial 38 with value: 0.8355345016970362.\n"
     ]
    },
    {
     "name": "stdout",
     "output_type": "stream",
     "text": [
      "\u001B[1;96m [INFO]\u001B[0m RandomForestClassifierImpl 2024-06-20 04:13:33.715796: Processed 28 / 28 estimators\n",
      "\u001B[1;96m [INFO]\u001B[0m RandomForestClassifierImpl 2024-06-20 04:13:33.746697: Processed 0 / 32 estimators\n",
      "\u001B[1;96m [INFO]\u001B[0m RandomForestClassifierImpl 2024-06-20 04:13:48.051678: Processed 10 / 32 estimators\n",
      "\u001B[1;96m [INFO]\u001B[0m RandomForestClassifierImpl 2024-06-20 04:14:01.216896: Processed 20 / 32 estimators\n",
      "\u001B[1;96m [INFO]\u001B[0m RandomForestClassifierImpl 2024-06-20 04:14:15.707837: Processed 30 / 32 estimators\n"
     ]
    },
    {
     "name": "stderr",
     "output_type": "stream",
     "text": [
      "[I 2024-06-20 04:14:18,478] Trial 98 finished with value: 0.8355345016970362 and parameters: {'max_depth': 23, 'min_samples_split': 38, 'min_samples_leaf': 34, 'bootstrap': 0, 'n_estimators': 32, 'criterion': 'log_loss', 'feature_limiter': 'log2'}. Best is trial 38 with value: 0.8355345016970362.\n"
     ]
    },
    {
     "name": "stdout",
     "output_type": "stream",
     "text": [
      "\u001B[1;96m [INFO]\u001B[0m RandomForestClassifierImpl 2024-06-20 04:14:18.462060: Processed 32 / 32 estimators\n",
      "\u001B[1;96m [INFO]\u001B[0m RandomForestClassifierImpl 2024-06-20 04:14:18.493964: Processed 0 / 38 estimators\n",
      "\u001B[1;96m [INFO]\u001B[0m RandomForestClassifierImpl 2024-06-20 04:14:32.964754: Processed 10 / 38 estimators\n",
      "\u001B[1;96m [INFO]\u001B[0m RandomForestClassifierImpl 2024-06-20 04:14:46.714987: Processed 20 / 38 estimators\n",
      "\u001B[1;96m [INFO]\u001B[0m RandomForestClassifierImpl 2024-06-20 04:15:01.101227: Processed 30 / 38 estimators\n"
     ]
    },
    {
     "name": "stderr",
     "output_type": "stream",
     "text": [
      "[I 2024-06-20 04:15:12,226] Trial 99 finished with value: 0.8355345016970362 and parameters: {'max_depth': 39, 'min_samples_split': 41, 'min_samples_leaf': 35, 'bootstrap': 0, 'n_estimators': 38, 'criterion': 'log_loss', 'feature_limiter': 'log2'}. Best is trial 38 with value: 0.8355345016970362.\n"
     ]
    },
    {
     "name": "stdout",
     "output_type": "stream",
     "text": [
      "\u001B[1;96m [INFO]\u001B[0m RandomForestClassifierImpl 2024-06-20 04:15:12.211173: Processed 38 / 38 estimators\n",
      "\u001B[1;96m [INFO]\u001B[0m TreeClassifierOptimizer 2024-06-20 04:15:12.226345: <class 'model.interactor.impl.random_forest_interactor.RandomForestImplInteractor'> best trial finished with value 0.8355345016970362; best params {'max_depth': 50, 'min_samples_split': 35, 'min_samples_leaf': 35, 'bootstrap': 0, 'n_estimators': 46, 'criterion': 'log_loss', 'feature_limiter': 'log2'}\n",
      "(<model.interactor.impl.random_forest_interactor.RandomForestImplInteractor object at 0x0000012EDC993740>, {'max_depth': 50, 'min_samples_split': 35, 'min_samples_leaf': 35, 'bootstrap': 0, 'n_estimators': 46, 'criterion': 'log_loss', 'feature_limiter': 'log2'})\n",
      "\u001B[1;96m [INFO]\u001B[0m TreeClassifierOptimizer 2024-06-20 04:15:12.226345: RandomForestImplInteractor(<class 'model.interactor.impl.random_forest_interactor.RandomForestImplInteractor'>) successfully added(updated) with params {'max_depth': 50, 'min_samples_split': 35, 'min_samples_leaf': 35, 'bootstrap': 0, 'n_estimators': 46, 'criterion': <model.params.partition_crit.LogLossCriterion object at 0x0000012ED9921A30>, 'feature_limiter': <model.params.limiter.Log2Limiter object at 0x0000012ED98D8C80>}\n"
     ]
    }
   ],
   "execution_count": 21
  },
  {
   "metadata": {},
   "cell_type": "markdown",
   "source": "#### Random Forest *(lib)*",
   "id": "6733412ed4407a2d"
  },
  {
   "metadata": {
    "ExecuteTime": {
     "end_time": "2024-06-20T01:15:12.262834Z",
     "start_time": "2024-06-20T01:15:12.232139Z"
    }
   },
   "cell_type": "code",
   "source": [
    "optimizer.add_mode(RandomForestLibInteractor, RandomForestLibInteractor())\n",
    "optimizer.switch_mode(RandomForestLibInteractor)\n",
    "rand_forest_lib = optimizer.current_interactor.build(\n",
    "    {'max_depth': 25, 'min_samples_split': 10, 'min_samples_leaf': 5, 'criterion': 'gini',\n",
    "     'bootstrap': 1, 'n_estimators': 20})\n",
    "rand_forest_lib.fit(optimizer.train_exdog, optimizer.train_ans)\n",
    "preds = rand_forest_lib.predict(optimizer.test_exdog)\n",
    "print(f'f1_score: {optimizer.metric(optimizer.test_ans, preds)}')"
   ],
   "id": "1cf43a15dff691e1",
   "outputs": [
    {
     "name": "stdout",
     "output_type": "stream",
     "text": [
      "\u001B[1;96m [INFO]\u001B[0m TreeClassifierOptimizer 2024-06-20 04:15:12.232139: RandomForestLibInteractor(<class 'model.interactor.library.random_forest_interactor_lib.RandomForestLibInteractor'>) successfully added(updated)\n",
      "f1_score: 0.7915751067623036\n"
     ]
    }
   ],
   "execution_count": 22
  },
  {
   "metadata": {
    "ExecuteTime": {
     "end_time": "2024-06-20T01:15:38.109093Z",
     "start_time": "2024-06-20T01:15:12.262834Z"
    }
   },
   "cell_type": "code",
   "source": [
    "RAND_FOREST_LIB_BEST_PARAMS = optimizer.run_study(n_trials=100)\n",
    "print(RAND_FOREST_LIB_BEST_PARAMS)\n",
    "RAND_FOREST_LIB_BEST_PARAMS = optimizer.modes[RandomForestLibInteractor][1]"
   ],
   "id": "4732c587a755e4aa",
   "outputs": [
    {
     "name": "stderr",
     "output_type": "stream",
     "text": [
      "[I 2024-06-20 04:15:12,262] A new study created in memory with name: no-name-e84969f2-e46d-4ad8-9507-355c33ae78ce\n",
      "[I 2024-06-20 04:15:12,714] Trial 0 finished with value: 0.8168053446705131 and parameters: {'max_depth': 97, 'min_samples_split': 11, 'min_samples_leaf': 32, 'bootstrap': 1, 'n_estimators': 488, 'criterion': 'log_loss'}. Best is trial 0 with value: 0.8168053446705131.\n",
      "[I 2024-06-20 04:15:12,937] Trial 1 finished with value: 0.8168053446705131 and parameters: {'max_depth': 40, 'min_samples_split': 15, 'min_samples_leaf': 14, 'bootstrap': 0, 'n_estimators': 265, 'criterion': 'entropy'}. Best is trial 0 with value: 0.8168053446705131.\n",
      "[I 2024-06-20 04:15:13,028] Trial 2 finished with value: 0.8168053446705131 and parameters: {'max_depth': 26, 'min_samples_split': 21, 'min_samples_leaf': 21, 'bootstrap': 0, 'n_estimators': 102, 'criterion': 'gini'}. Best is trial 0 with value: 0.8168053446705131.\n",
      "[I 2024-06-20 04:15:13,295] Trial 3 finished with value: 0.8168053446705131 and parameters: {'max_depth': 93, 'min_samples_split': 6, 'min_samples_leaf': 9, 'bootstrap': 0, 'n_estimators': 273, 'criterion': 'log_loss'}. Best is trial 0 with value: 0.8168053446705131.\n",
      "[I 2024-06-20 04:15:13,514] Trial 4 finished with value: 0.8168053446705131 and parameters: {'max_depth': 13, 'min_samples_split': 29, 'min_samples_leaf': 19, 'bootstrap': 0, 'n_estimators': 263, 'criterion': 'log_loss'}. Best is trial 0 with value: 0.8168053446705131.\n",
      "[I 2024-06-20 04:15:13,734] Trial 5 finished with value: 0.8168053446705131 and parameters: {'max_depth': 75, 'min_samples_split': 8, 'min_samples_leaf': 10, 'bootstrap': 0, 'n_estimators': 268, 'criterion': 'gini'}. Best is trial 0 with value: 0.8168053446705131.\n",
      "[I 2024-06-20 04:15:14,081] Trial 6 finished with value: 0.8104074790371476 and parameters: {'max_depth': 14, 'min_samples_split': 28, 'min_samples_leaf': 48, 'bootstrap': 0, 'n_estimators': 499, 'criterion': 'gini'}. Best is trial 0 with value: 0.8168053446705131.\n",
      "[I 2024-06-20 04:15:14,364] Trial 7 finished with value: 0.8168053446705131 and parameters: {'max_depth': 85, 'min_samples_split': 3, 'min_samples_leaf': 13, 'bootstrap': 1, 'n_estimators': 291, 'criterion': 'log_loss'}. Best is trial 0 with value: 0.8168053446705131.\n",
      "[I 2024-06-20 04:15:14,790] Trial 8 finished with value: 0.8168053446705131 and parameters: {'max_depth': 51, 'min_samples_split': 29, 'min_samples_leaf': 22, 'bootstrap': 1, 'n_estimators': 434, 'criterion': 'entropy'}. Best is trial 0 with value: 0.8168053446705131.\n",
      "[I 2024-06-20 04:15:15,056] Trial 9 finished with value: 0.8104074790371476 and parameters: {'max_depth': 15, 'min_samples_split': 5, 'min_samples_leaf': 14, 'bootstrap': 0, 'n_estimators': 346, 'criterion': 'gini'}. Best is trial 0 with value: 0.8168053446705131.\n",
      "[I 2024-06-20 04:15:15,167] Trial 10 finished with value: 0.8168053446705131 and parameters: {'max_depth': 65, 'min_samples_split': 45, 'min_samples_leaf': 37, 'bootstrap': 1, 'n_estimators': 97, 'criterion': 'log_loss'}. Best is trial 0 with value: 0.8168053446705131.\n",
      "[I 2024-06-20 04:15:15,371] Trial 11 finished with value: 0.802055347164402 and parameters: {'max_depth': 36, 'min_samples_split': 17, 'min_samples_leaf': 1, 'bootstrap': 1, 'n_estimators': 165, 'criterion': 'entropy'}. Best is trial 0 with value: 0.8168053446705131.\n",
      "[I 2024-06-20 04:15:15,402] Trial 12 finished with value: 0.7960537872134226 and parameters: {'max_depth': 48, 'min_samples_split': 14, 'min_samples_leaf': 31, 'bootstrap': 1, 'n_estimators': 9, 'criterion': 'entropy'}. Best is trial 0 with value: 0.8168053446705131.\n",
      "[I 2024-06-20 04:15:15,780] Trial 13 finished with value: 0.8168053446705131 and parameters: {'max_depth': 59, 'min_samples_split': 13, 'min_samples_leaf': 32, 'bootstrap': 1, 'n_estimators': 384, 'criterion': 'entropy'}. Best is trial 0 with value: 0.8168053446705131.\n",
      "[I 2024-06-20 04:15:16,116] Trial 14 finished with value: 0.8168053446705131 and parameters: {'max_depth': 100, 'min_samples_split': 39, 'min_samples_leaf': 43, 'bootstrap': 0, 'n_estimators': 436, 'criterion': 'log_loss'}. Best is trial 0 with value: 0.8168053446705131.\n",
      "[I 2024-06-20 04:15:16,306] Trial 15 finished with value: 0.8168053446705131 and parameters: {'max_depth': 38, 'min_samples_split': 20, 'min_samples_leaf': 29, 'bootstrap': 1, 'n_estimators': 183, 'criterion': 'entropy'}. Best is trial 0 with value: 0.8168053446705131.\n",
      "[I 2024-06-20 04:15:16,748] Trial 16 finished with value: 0.8104074790371476 and parameters: {'max_depth': 2, 'min_samples_split': 11, 'min_samples_leaf': 2, 'bootstrap': 1, 'n_estimators': 490, 'criterion': 'log_loss'}. Best is trial 0 with value: 0.8168053446705131.\n",
      "[I 2024-06-20 04:15:17,031] Trial 17 finished with value: 0.8168053446705131 and parameters: {'max_depth': 76, 'min_samples_split': 23, 'min_samples_leaf': 39, 'bootstrap': 0, 'n_estimators': 345, 'criterion': 'entropy'}. Best is trial 0 with value: 0.8168053446705131.\n",
      "[I 2024-06-20 04:15:17,226] Trial 18 finished with value: 0.8168053446705131 and parameters: {'max_depth': 36, 'min_samples_split': 34, 'min_samples_leaf': 27, 'bootstrap': 0, 'n_estimators': 217, 'criterion': 'entropy'}. Best is trial 0 with value: 0.8168053446705131.\n",
      "[I 2024-06-20 04:15:17,278] Trial 19 finished with value: 0.8118592635118511 and parameters: {'max_depth': 60, 'min_samples_split': 16, 'min_samples_leaf': 17, 'bootstrap': 1, 'n_estimators': 27, 'criterion': 'log_loss'}. Best is trial 0 with value: 0.8168053446705131.\n",
      "[I 2024-06-20 04:15:17,606] Trial 20 finished with value: 0.8168053446705131 and parameters: {'max_depth': 73, 'min_samples_split': 50, 'min_samples_leaf': 35, 'bootstrap': 1, 'n_estimators': 334, 'criterion': 'log_loss'}. Best is trial 0 with value: 0.8168053446705131.\n",
      "[I 2024-06-20 04:15:17,701] Trial 21 finished with value: 0.8168053446705131 and parameters: {'max_depth': 25, 'min_samples_split': 21, 'min_samples_leaf': 22, 'bootstrap': 0, 'n_estimators': 103, 'criterion': 'gini'}. Best is trial 0 with value: 0.8168053446705131.\n",
      "[I 2024-06-20 04:15:17,795] Trial 22 finished with value: 0.8104074790371476 and parameters: {'max_depth': 26, 'min_samples_split': 10, 'min_samples_leaf': 23, 'bootstrap': 0, 'n_estimators': 89, 'criterion': 'gini'}. Best is trial 0 with value: 0.8168053446705131.\n",
      "[I 2024-06-20 04:15:17,953] Trial 23 finished with value: 0.8118592635118511 and parameters: {'max_depth': 44, 'min_samples_split': 18, 'min_samples_leaf': 6, 'bootstrap': 0, 'n_estimators': 167, 'criterion': 'gini'}. Best is trial 0 with value: 0.8168053446705131.\n",
      "[I 2024-06-20 04:15:18,015] Trial 24 finished with value: 0.8168053446705131 and parameters: {'max_depth': 26, 'min_samples_split': 26, 'min_samples_leaf': 17, 'bootstrap': 0, 'n_estimators': 52, 'criterion': 'gini'}. Best is trial 0 with value: 0.8168053446705131.\n",
      "[I 2024-06-20 04:15:18,141] Trial 25 finished with value: 0.8168053446705131 and parameters: {'max_depth': 54, 'min_samples_split': 23, 'min_samples_leaf': 26, 'bootstrap': 0, 'n_estimators': 138, 'criterion': 'gini'}. Best is trial 0 with value: 0.8168053446705131.\n",
      "[I 2024-06-20 04:15:18,318] Trial 26 finished with value: 0.8168053446705131 and parameters: {'max_depth': 41, 'min_samples_split': 12, 'min_samples_leaf': 42, 'bootstrap': 0, 'n_estimators': 220, 'criterion': 'entropy'}. Best is trial 0 with value: 0.8168053446705131.\n",
      "[I 2024-06-20 04:15:18,631] Trial 27 finished with value: 0.8104074790371476 and parameters: {'max_depth': 30, 'min_samples_split': 35, 'min_samples_leaf': 33, 'bootstrap': 0, 'n_estimators': 406, 'criterion': 'gini'}. Best is trial 0 with value: 0.8168053446705131.\n",
      "[I 2024-06-20 04:15:18,938] Trial 28 finished with value: 0.8168053446705131 and parameters: {'max_depth': 19, 'min_samples_split': 2, 'min_samples_leaf': 19, 'bootstrap': 1, 'n_estimators': 303, 'criterion': 'log_loss'}. Best is trial 0 with value: 0.8168053446705131.\n",
      "[I 2024-06-20 04:15:19,173] Trial 29 finished with value: 0.8118592635118511 and parameters: {'max_depth': 87, 'min_samples_split': 7, 'min_samples_leaf': 8, 'bootstrap': 0, 'n_estimators': 225, 'criterion': 'entropy'}. Best is trial 0 with value: 0.8168053446705131.\n",
      "[I 2024-06-20 04:15:19,241] Trial 30 finished with value: 0.8168053446705131 and parameters: {'max_depth': 3, 'min_samples_split': 15, 'min_samples_leaf': 12, 'bootstrap': 0, 'n_estimators': 61, 'criterion': 'log_loss'}. Best is trial 0 with value: 0.8168053446705131.\n",
      "[I 2024-06-20 04:15:19,525] Trial 31 finished with value: 0.8118592635118511 and parameters: {'max_depth': 97, 'min_samples_split': 8, 'min_samples_leaf': 6, 'bootstrap': 0, 'n_estimators': 263, 'criterion': 'log_loss'}. Best is trial 0 with value: 0.8168053446705131.\n",
      "[I 2024-06-20 04:15:19,792] Trial 32 finished with value: 0.8168053446705131 and parameters: {'max_depth': 89, 'min_samples_split': 6, 'min_samples_leaf': 19, 'bootstrap': 0, 'n_estimators': 289, 'criterion': 'log_loss'}. Best is trial 0 with value: 0.8168053446705131.\n",
      "[I 2024-06-20 04:15:19,935] Trial 33 finished with value: 0.8168053446705131 and parameters: {'max_depth': 91, 'min_samples_split': 11, 'min_samples_leaf': 11, 'bootstrap': 0, 'n_estimators': 134, 'criterion': 'log_loss'}. Best is trial 0 with value: 0.8168053446705131.\n",
      "[I 2024-06-20 04:15:20,187] Trial 34 finished with value: 0.8168053446705131 and parameters: {'max_depth': 80, 'min_samples_split': 18, 'min_samples_leaf': 14, 'bootstrap': 0, 'n_estimators': 250, 'criterion': 'log_loss'}. Best is trial 0 with value: 0.8168053446705131.\n",
      "[I 2024-06-20 04:15:20,549] Trial 35 finished with value: 0.8104074790371476 and parameters: {'max_depth': 94, 'min_samples_split': 4, 'min_samples_leaf': 24, 'bootstrap': 0, 'n_estimators': 464, 'criterion': 'gini'}. Best is trial 0 with value: 0.8168053446705131.\n",
      "[I 2024-06-20 04:15:20,842] Trial 36 finished with value: 0.8168053446705131 and parameters: {'max_depth': 69, 'min_samples_split': 8, 'min_samples_leaf': 16, 'bootstrap': 0, 'n_estimators': 311, 'criterion': 'log_loss'}. Best is trial 0 with value: 0.8168053446705131.\n",
      "[I 2024-06-20 04:15:21,173] Trial 37 finished with value: 0.8168053446705131 and parameters: {'max_depth': 80, 'min_samples_split': 29, 'min_samples_leaf': 6, 'bootstrap': 0, 'n_estimators': 378, 'criterion': 'gini'}. Best is trial 0 with value: 0.8168053446705131.\n",
      "[I 2024-06-20 04:15:21,426] Trial 38 finished with value: 0.8168053446705131 and parameters: {'max_depth': 31, 'min_samples_split': 23, 'min_samples_leaf': 9, 'bootstrap': 0, 'n_estimators': 253, 'criterion': 'log_loss'}. Best is trial 0 with value: 0.8168053446705131.\n",
      "[I 2024-06-20 04:15:21,630] Trial 39 finished with value: 0.8168053446705131 and parameters: {'max_depth': 9, 'min_samples_split': 9, 'min_samples_leaf': 21, 'bootstrap': 1, 'n_estimators': 192, 'criterion': 'entropy'}. Best is trial 0 with value: 0.8168053446705131.\n",
      "[I 2024-06-20 04:15:22,010] Trial 40 finished with value: 0.8168053446705131 and parameters: {'max_depth': 83, 'min_samples_split': 20, 'min_samples_leaf': 29, 'bootstrap': 1, 'n_estimators': 378, 'criterion': 'log_loss'}. Best is trial 0 with value: 0.8168053446705131.\n",
      "[I 2024-06-20 04:15:22,262] Trial 41 finished with value: 0.8168053446705131 and parameters: {'max_depth': 18, 'min_samples_split': 32, 'min_samples_leaf': 14, 'bootstrap': 0, 'n_estimators': 279, 'criterion': 'log_loss'}. Best is trial 0 with value: 0.8168053446705131.\n",
      "[I 2024-06-20 04:15:22,525] Trial 42 finished with value: 0.8168053446705131 and parameters: {'max_depth': 15, 'min_samples_split': 26, 'min_samples_leaf': 48, 'bootstrap': 0, 'n_estimators': 331, 'criterion': 'log_loss'}. Best is trial 0 with value: 0.8168053446705131.\n",
      "[I 2024-06-20 04:15:22,746] Trial 43 finished with value: 0.8168053446705131 and parameters: {'max_depth': 9, 'min_samples_split': 13, 'min_samples_leaf': 20, 'bootstrap': 0, 'n_estimators': 231, 'criterion': 'log_loss'}. Best is trial 0 with value: 0.8168053446705131.\n",
      "[I 2024-06-20 04:15:22,932] Trial 44 finished with value: 0.8168053446705131 and parameters: {'max_depth': 46, 'min_samples_split': 31, 'min_samples_leaf': 16, 'bootstrap': 0, 'n_estimators': 190, 'criterion': 'entropy'}. Best is trial 0 with value: 0.8168053446705131.\n",
      "[I 2024-06-20 04:15:23,264] Trial 45 finished with value: 0.8168053446705131 and parameters: {'max_depth': 100, 'min_samples_split': 38, 'min_samples_leaf': 25, 'bootstrap': 0, 'n_estimators': 405, 'criterion': 'log_loss'}. Best is trial 0 with value: 0.8168053446705131.\n",
      "[I 2024-06-20 04:15:23,578] Trial 46 finished with value: 0.8168053446705131 and parameters: {'max_depth': 51, 'min_samples_split': 5, 'min_samples_leaf': 29, 'bootstrap': 1, 'n_estimators': 314, 'criterion': 'entropy'}. Best is trial 0 with value: 0.8168053446705131.\n",
      "[I 2024-06-20 04:15:23,720] Trial 47 finished with value: 0.7971930842903935 and parameters: {'max_depth': 9, 'min_samples_split': 26, 'min_samples_leaf': 2, 'bootstrap': 0, 'n_estimators': 127, 'criterion': 'gini'}. Best is trial 0 with value: 0.8168053446705131.\n",
      "[I 2024-06-20 04:15:24,109] Trial 48 finished with value: 0.8168053446705131 and parameters: {'max_depth': 31, 'min_samples_split': 15, 'min_samples_leaf': 13, 'bootstrap': 1, 'n_estimators': 362, 'criterion': 'log_loss'}. Best is trial 0 with value: 0.8168053446705131.\n",
      "[I 2024-06-20 04:15:24,477] Trial 49 finished with value: 0.8168053446705131 and parameters: {'max_depth': 20, 'min_samples_split': 22, 'min_samples_leaf': 36, 'bootstrap': 0, 'n_estimators': 470, 'criterion': 'entropy'}. Best is trial 0 with value: 0.8168053446705131.\n",
      "[I 2024-06-20 04:15:24,760] Trial 50 finished with value: 0.8168053446705131 and parameters: {'max_depth': 41, 'min_samples_split': 19, 'min_samples_leaf': 10, 'bootstrap': 0, 'n_estimators': 279, 'criterion': 'log_loss'}. Best is trial 0 with value: 0.8168053446705131.\n",
      "[I 2024-06-20 04:15:25,011] Trial 51 finished with value: 0.7734194197551567 and parameters: {'max_depth': 69, 'min_samples_split': 3, 'min_samples_leaf': 4, 'bootstrap': 0, 'n_estimators': 247, 'criterion': 'gini'}. Best is trial 0 with value: 0.8168053446705131.\n",
      "[I 2024-06-20 04:15:25,200] Trial 52 finished with value: 0.8104074790371476 and parameters: {'max_depth': 95, 'min_samples_split': 10, 'min_samples_leaf': 18, 'bootstrap': 0, 'n_estimators': 208, 'criterion': 'gini'}. Best is trial 0 with value: 0.8168053446705131.\n",
      "[I 2024-06-20 04:15:25,453] Trial 53 finished with value: 0.8054904342544792 and parameters: {'max_depth': 60, 'min_samples_split': 13, 'min_samples_leaf': 8, 'bootstrap': 0, 'n_estimators': 270, 'criterion': 'gini'}. Best is trial 0 with value: 0.8168053446705131.\n",
      "[I 2024-06-20 04:15:25,594] Trial 54 finished with value: 0.8104074790371476 and parameters: {'max_depth': 85, 'min_samples_split': 17, 'min_samples_leaf': 22, 'bootstrap': 0, 'n_estimators': 162, 'criterion': 'gini'}. Best is trial 0 with value: 0.8168053446705131.\n",
      "[I 2024-06-20 04:15:25,941] Trial 55 finished with value: 0.8168053446705131 and parameters: {'max_depth': 92, 'min_samples_split': 6, 'min_samples_leaf': 16, 'bootstrap': 1, 'n_estimators': 324, 'criterion': 'gini'}. Best is trial 0 with value: 0.8168053446705131.\n",
      "[I 2024-06-20 04:15:26,201] Trial 56 finished with value: 0.8168053446705131 and parameters: {'max_depth': 36, 'min_samples_split': 14, 'min_samples_leaf': 27, 'bootstrap': 0, 'n_estimators': 293, 'criterion': 'entropy'}. Best is trial 0 with value: 0.8168053446705131.\n",
      "[I 2024-06-20 04:15:26,233] Trial 57 finished with value: 0.8168053446705131 and parameters: {'max_depth': 23, 'min_samples_split': 25, 'min_samples_leaf': 31, 'bootstrap': 0, 'n_estimators': 8, 'criterion': 'gini'}. Best is trial 0 with value: 0.8168053446705131.\n",
      "[I 2024-06-20 04:15:26,491] Trial 58 finished with value: 0.8168053446705131 and parameters: {'max_depth': 77, 'min_samples_split': 11, 'min_samples_leaf': 11, 'bootstrap': 0, 'n_estimators': 241, 'criterion': 'log_loss'}. Best is trial 0 with value: 0.8168053446705131.\n",
      "[I 2024-06-20 04:15:26,712] Trial 59 finished with value: 0.8168053446705131 and parameters: {'max_depth': 64, 'min_samples_split': 16, 'min_samples_leaf': 15, 'bootstrap': 1, 'n_estimators': 200, 'criterion': 'entropy'}. Best is trial 0 with value: 0.8168053446705131.\n",
      "[I 2024-06-20 04:15:27,043] Trial 60 finished with value: 0.8104074790371476 and parameters: {'max_depth': 57, 'min_samples_split': 44, 'min_samples_leaf': 4, 'bootstrap': 0, 'n_estimators': 359, 'criterion': 'gini'}. Best is trial 0 with value: 0.8168053446705131.\n",
      "[I 2024-06-20 04:15:27,391] Trial 61 finished with value: 0.8168053446705131 and parameters: {'max_depth': 100, 'min_samples_split': 3, 'min_samples_leaf': 12, 'bootstrap': 1, 'n_estimators': 297, 'criterion': 'log_loss'}. Best is trial 0 with value: 0.8168053446705131.\n",
      "[I 2024-06-20 04:15:27,655] Trial 62 finished with value: 0.8168053446705131 and parameters: {'max_depth': 88, 'min_samples_split': 7, 'min_samples_leaf': 38, 'bootstrap': 1, 'n_estimators': 265, 'criterion': 'log_loss'}. Best is trial 0 with value: 0.8168053446705131.\n",
      "[I 2024-06-20 04:15:28,096] Trial 63 finished with value: 0.8168053446705131 and parameters: {'max_depth': 84, 'min_samples_split': 2, 'min_samples_leaf': 18, 'bootstrap': 1, 'n_estimators': 427, 'criterion': 'log_loss'}. Best is trial 0 with value: 0.8168053446705131.\n",
      "[I 2024-06-20 04:15:28,300] Trial 64 finished with value: 0.8168053446705131 and parameters: {'max_depth': 91, 'min_samples_split': 9, 'min_samples_leaf': 8, 'bootstrap': 1, 'n_estimators': 173, 'criterion': 'log_loss'}. Best is trial 0 with value: 0.8168053446705131.\n",
      "[I 2024-06-20 04:15:28,567] Trial 65 finished with value: 0.8168053446705131 and parameters: {'max_depth': 74, 'min_samples_split': 5, 'min_samples_leaf': 13, 'bootstrap': 1, 'n_estimators': 232, 'criterion': 'log_loss'}. Best is trial 0 with value: 0.8168053446705131.\n",
      "[I 2024-06-20 04:15:28,647] Trial 66 finished with value: 0.8168053446705131 and parameters: {'max_depth': 97, 'min_samples_split': 12, 'min_samples_leaf': 34, 'bootstrap': 0, 'n_estimators': 75, 'criterion': 'log_loss'}. Best is trial 0 with value: 0.8168053446705131.\n",
      "[I 2024-06-20 04:15:28,709] Trial 67 finished with value: 0.8168053446705131 and parameters: {'max_depth': 34, 'min_samples_split': 7, 'min_samples_leaf': 23, 'bootstrap': 1, 'n_estimators': 37, 'criterion': 'entropy'}. Best is trial 0 with value: 0.8168053446705131.\n",
      "[I 2024-06-20 04:15:28,851] Trial 68 finished with value: 0.8104074790371476 and parameters: {'max_depth': 81, 'min_samples_split': 28, 'min_samples_leaf': 20, 'bootstrap': 0, 'n_estimators': 151, 'criterion': 'gini'}. Best is trial 0 with value: 0.8168053446705131.\n",
      "[I 2024-06-20 04:15:29,188] Trial 69 finished with value: 0.8168053446705131 and parameters: {'max_depth': 28, 'min_samples_split': 4, 'min_samples_leaf': 10, 'bootstrap': 0, 'n_estimators': 346, 'criterion': 'log_loss'}. Best is trial 0 with value: 0.8168053446705131.\n",
      "[I 2024-06-20 04:15:29,596] Trial 70 finished with value: 0.8168053446705131 and parameters: {'max_depth': 40, 'min_samples_split': 9, 'min_samples_leaf': 40, 'bootstrap': 0, 'n_estimators': 495, 'criterion': 'log_loss'}. Best is trial 0 with value: 0.8168053446705131.\n",
      "[I 2024-06-20 04:15:30,077] Trial 71 finished with value: 0.8168053446705131 and parameters: {'max_depth': 50, 'min_samples_split': 30, 'min_samples_leaf': 27, 'bootstrap': 1, 'n_estimators': 475, 'criterion': 'entropy'}. Best is trial 0 with value: 0.8168053446705131.\n",
      "[I 2024-06-20 04:15:30,540] Trial 72 finished with value: 0.8168053446705131 and parameters: {'max_depth': 13, 'min_samples_split': 33, 'min_samples_leaf': 18, 'bootstrap': 1, 'n_estimators': 446, 'criterion': 'entropy'}. Best is trial 0 with value: 0.8168053446705131.\n",
      "[I 2024-06-20 04:15:30,807] Trial 73 finished with value: 0.8168053446705131 and parameters: {'max_depth': 3, 'min_samples_split': 24, 'min_samples_leaf': 21, 'bootstrap': 1, 'n_estimators': 280, 'criterion': 'entropy'}. Best is trial 0 with value: 0.8168053446705131.\n",
      "[I 2024-06-20 04:15:31,265] Trial 74 finished with value: 0.8168053446705131 and parameters: {'max_depth': 87, 'min_samples_split': 21, 'min_samples_leaf': 24, 'bootstrap': 1, 'n_estimators': 450, 'criterion': 'entropy'}. Best is trial 0 with value: 0.8168053446705131.\n",
      "[I 2024-06-20 04:15:31,753] Trial 75 finished with value: 0.8168053446705131 and parameters: {'max_depth': 97, 'min_samples_split': 28, 'min_samples_leaf': 15, 'bootstrap': 1, 'n_estimators': 483, 'criterion': 'entropy'}. Best is trial 0 with value: 0.8168053446705131.\n",
      "[I 2024-06-20 04:15:31,894] Trial 76 finished with value: 0.8168053446705131 and parameters: {'max_depth': 77, 'min_samples_split': 35, 'min_samples_leaf': 13, 'bootstrap': 0, 'n_estimators': 112, 'criterion': 'log_loss'}. Best is trial 0 with value: 0.8168053446705131.\n",
      "[I 2024-06-20 04:15:32,207] Trial 77 finished with value: 0.8168053446705131 and parameters: {'max_depth': 22, 'min_samples_split': 10, 'min_samples_leaf': 17, 'bootstrap': 1, 'n_estimators': 312, 'criterion': 'gini'}. Best is trial 0 with value: 0.8168053446705131.\n",
      "[I 2024-06-20 04:15:32,633] Trial 78 finished with value: 0.8118592635118511 and parameters: {'max_depth': 70, 'min_samples_split': 6, 'min_samples_leaf': 7, 'bootstrap': 0, 'n_estimators': 421, 'criterion': 'log_loss'}. Best is trial 0 with value: 0.8168053446705131.\n",
      "[I 2024-06-20 04:15:32,878] Trial 79 finished with value: 0.8168053446705131 and parameters: {'max_depth': 46, 'min_samples_split': 27, 'min_samples_leaf': 20, 'bootstrap': 0, 'n_estimators': 263, 'criterion': 'entropy'}. Best is trial 0 with value: 0.8168053446705131.\n",
      "[I 2024-06-20 04:15:33,130] Trial 80 finished with value: 0.8168053446705131 and parameters: {'max_depth': 54, 'min_samples_split': 30, 'min_samples_leaf': 11, 'bootstrap': 1, 'n_estimators': 240, 'criterion': 'gini'}. Best is trial 0 with value: 0.8168053446705131.\n",
      "[I 2024-06-20 04:15:33,247] Trial 81 finished with value: 0.8104074790371476 and parameters: {'max_depth': 62, 'min_samples_split': 48, 'min_samples_leaf': 45, 'bootstrap': 1, 'n_estimators': 92, 'criterion': 'log_loss'}. Best is trial 0 with value: 0.8168053446705131.\n",
      "[I 2024-06-20 04:15:33,325] Trial 82 finished with value: 0.8168053446705131 and parameters: {'max_depth': 66, 'min_samples_split': 37, 'min_samples_leaf': 37, 'bootstrap': 1, 'n_estimators': 55, 'criterion': 'log_loss'}. Best is trial 0 with value: 0.8168053446705131.\n",
      "[I 2024-06-20 04:15:33,561] Trial 83 finished with value: 0.8168053446705131 and parameters: {'max_depth': 93, 'min_samples_split': 40, 'min_samples_leaf': 31, 'bootstrap': 1, 'n_estimators': 218, 'criterion': 'log_loss'}. Best is trial 0 with value: 0.8168053446705131.\n",
      "[I 2024-06-20 04:15:33,939] Trial 84 finished with value: 0.8168053446705131 and parameters: {'max_depth': 71, 'min_samples_split': 46, 'min_samples_leaf': 41, 'bootstrap': 1, 'n_estimators': 398, 'criterion': 'log_loss'}. Best is trial 0 with value: 0.8168053446705131.\n",
      "[I 2024-06-20 04:15:34,050] Trial 85 finished with value: 0.8168053446705131 and parameters: {'max_depth': 6, 'min_samples_split': 41, 'min_samples_leaf': 44, 'bootstrap': 0, 'n_estimators': 117, 'criterion': 'log_loss'}. Best is trial 0 with value: 0.8168053446705131.\n",
      "[I 2024-06-20 04:15:34,317] Trial 86 finished with value: 0.8168053446705131 and parameters: {'max_depth': 55, 'min_samples_split': 18, 'min_samples_leaf': 25, 'bootstrap': 1, 'n_estimators': 257, 'criterion': 'log_loss'}. Best is trial 0 with value: 0.8168053446705131.\n",
      "[I 2024-06-20 04:15:34,412] Trial 87 finished with value: 0.7813144961203559 and parameters: {'max_depth': 90, 'min_samples_split': 8, 'min_samples_leaf': 5, 'bootstrap': 0, 'n_estimators': 76, 'criterion': 'gini'}. Best is trial 0 with value: 0.8168053446705131.\n",
      "[I 2024-06-20 04:15:34,664] Trial 88 finished with value: 0.8168053446705131 and parameters: {'max_depth': 82, 'min_samples_split': 12, 'min_samples_leaf': 33, 'bootstrap': 0, 'n_estimators': 289, 'criterion': 'entropy'}. Best is trial 0 with value: 0.8168053446705131.\n",
      "[I 2024-06-20 04:15:35,010] Trial 89 finished with value: 0.8168053446705131 and parameters: {'max_depth': 16, 'min_samples_split': 15, 'min_samples_leaf': 22, 'bootstrap': 1, 'n_estimators': 329, 'criterion': 'log_loss'}. Best is trial 0 with value: 0.8168053446705131.\n",
      "[I 2024-06-20 04:15:35,066] Trial 90 finished with value: 0.8168053446705131 and parameters: {'max_depth': 86, 'min_samples_split': 43, 'min_samples_leaf': 9, 'bootstrap': 0, 'n_estimators': 36, 'criterion': 'gini'}. Best is trial 0 with value: 0.8168053446705131.\n",
      "[I 2024-06-20 04:15:35,505] Trial 91 finished with value: 0.8168053446705131 and parameters: {'max_depth': 57, 'min_samples_split': 13, 'min_samples_leaf': 36, 'bootstrap': 1, 'n_estimators': 454, 'criterion': 'entropy'}. Best is trial 0 with value: 0.8168053446705131.\n",
      "[I 2024-06-20 04:15:35,883] Trial 92 finished with value: 0.8168053446705131 and parameters: {'max_depth': 66, 'min_samples_split': 4, 'min_samples_leaf': 31, 'bootstrap': 1, 'n_estimators': 387, 'criterion': 'entropy'}. Best is trial 0 with value: 0.8168053446705131.\n",
      "[I 2024-06-20 04:15:36,307] Trial 93 finished with value: 0.8168053446705131 and parameters: {'max_depth': 44, 'min_samples_split': 11, 'min_samples_leaf': 29, 'bootstrap': 1, 'n_estimators': 418, 'criterion': 'entropy'}. Best is trial 0 with value: 0.8168053446705131.\n",
      "[I 2024-06-20 04:15:36,542] Trial 94 finished with value: 0.8168053446705131 and parameters: {'max_depth': 60, 'min_samples_split': 16, 'min_samples_leaf': 15, 'bootstrap': 1, 'n_estimators': 210, 'criterion': 'entropy'}. Best is trial 0 with value: 0.8168053446705131.\n",
      "[I 2024-06-20 04:15:36,968] Trial 95 finished with value: 0.8168053446705131 and parameters: {'max_depth': 75, 'min_samples_split': 14, 'min_samples_leaf': 33, 'bootstrap': 1, 'n_estimators': 436, 'criterion': 'log_loss'}. Best is trial 0 with value: 0.8168053446705131.\n",
      "[I 2024-06-20 04:15:37,229] Trial 96 finished with value: 0.8168053446705131 and parameters: {'max_depth': 48, 'min_samples_split': 8, 'min_samples_leaf': 19, 'bootstrap': 0, 'n_estimators': 278, 'criterion': 'entropy'}. Best is trial 0 with value: 0.8168053446705131.\n",
      "[I 2024-06-20 04:15:37,599] Trial 97 finished with value: 0.8168053446705131 and parameters: {'max_depth': 52, 'min_samples_split': 20, 'min_samples_leaf': 26, 'bootstrap': 1, 'n_estimators': 362, 'criterion': 'log_loss'}. Best is trial 0 with value: 0.8168053446705131.\n",
      "[I 2024-06-20 04:15:37,833] Trial 98 finished with value: 0.8104074790371476 and parameters: {'max_depth': 95, 'min_samples_split': 50, 'min_samples_leaf': 39, 'bootstrap': 0, 'n_estimators': 300, 'criterion': 'gini'}. Best is trial 0 with value: 0.8168053446705131.\n",
      "[I 2024-06-20 04:15:38,100] Trial 99 finished with value: 0.8168053446705131 and parameters: {'max_depth': 58, 'min_samples_split': 3, 'min_samples_leaf': 12, 'bootstrap': 1, 'n_estimators': 234, 'criterion': 'log_loss'}. Best is trial 0 with value: 0.8168053446705131.\n"
     ]
    },
    {
     "name": "stdout",
     "output_type": "stream",
     "text": [
      "\u001B[1;96m [INFO]\u001B[0m TreeClassifierOptimizer 2024-06-20 04:15:38.100145: <class 'model.interactor.library.random_forest_interactor_lib.RandomForestLibInteractor'> best trial finished with value 0.8168053446705131; best params {'max_depth': 97, 'min_samples_split': 11, 'min_samples_leaf': 32, 'bootstrap': 1, 'n_estimators': 488, 'criterion': 'log_loss'}\n",
      "FrozenTrial(number=0, state=1, values=[0.8168053446705131], datetime_start=datetime.datetime(2024, 6, 20, 4, 15, 12, 262834), datetime_complete=datetime.datetime(2024, 6, 20, 4, 15, 12, 714779), params={'max_depth': 97, 'min_samples_split': 11, 'min_samples_leaf': 32, 'bootstrap': 1, 'n_estimators': 488, 'criterion': 'log_loss'}, user_attrs={}, system_attrs={}, intermediate_values={}, distributions={'max_depth': IntDistribution(high=100, log=False, low=1, step=1), 'min_samples_split': IntDistribution(high=50, log=False, low=2, step=1), 'min_samples_leaf': IntDistribution(high=50, log=False, low=1, step=1), 'bootstrap': IntDistribution(high=1, log=False, low=0, step=1), 'n_estimators': IntDistribution(high=500, log=False, low=1, step=1), 'criterion': CategoricalDistribution(choices=('entropy', 'gini', 'log_loss'))}, trial_id=0, value=None)\n"
     ]
    }
   ],
   "execution_count": 23
  },
  {
   "metadata": {},
   "cell_type": "markdown",
   "source": "### Boosting",
   "id": "a5290a0323c22e0f"
  },
  {
   "metadata": {},
   "cell_type": "markdown",
   "source": "#### AdaSamme *(impl)*",
   "id": "9461aa2c1d195660"
  },
  {
   "metadata": {
    "ExecuteTime": {
     "end_time": "2024-06-20T01:16:23.294010Z",
     "start_time": "2024-06-20T01:15:38.109093Z"
    }
   },
   "cell_type": "code",
   "source": [
    "def get_base_estimator_for_ada():\n",
    "    return optimizer.modes[DecisionTreeImplInteractor][0].build(DEC_TREE_IMPL_BEST_PARAMS)\n",
    "\n",
    "\n",
    "optimizer.add_mode(AdaSammeImplInteractor, AdaSammeImplInteractor(get_base_estimator_for_ada))\n",
    "optimizer.switch_mode(AdaSammeImplInteractor)\n",
    "ada_samme = optimizer.current_interactor.build({'n_estimators': 10, 'base_estimator': get_base_estimator_for_ada})\n",
    "ada_samme.fit(optimizer.train_exdog, optimizer.train_ans)\n",
    "preds = ada_samme.predict(optimizer.test_exdog)\n",
    "print(f'f1_score: {optimizer.metric(optimizer.test_ans, preds)}')"
   ],
   "id": "93dc8c0bbe214f5c",
   "outputs": [
    {
     "name": "stdout",
     "output_type": "stream",
     "text": [
      "\u001B[1;96m [INFO]\u001B[0m TreeClassifierOptimizer 2024-06-20 04:15:38.109093: AdaSammeImplInteractor(<class 'model.interactor.impl.ada_boost_interactor.AdaSammeImplInteractor'>) successfully added(updated)\n",
      "\u001B[1;96m [INFO]\u001B[0m AdaBoostSamme 2024-06-20 04:15:42.209223: Processed 0 / 10 estimators; last weight: 2.5716957755883914\n",
      "\u001B[1;96m [INFO]\u001B[0m AdaBoostSamme 2024-06-20 04:16:23.283961: Processed 10 / 10 estimators\n",
      "f1_score: 0.771630893964229\n"
     ]
    }
   ],
   "execution_count": 24
  },
  {
   "metadata": {
    "ExecuteTime": {
     "end_time": "2024-06-20T08:04:35.652588Z",
     "start_time": "2024-06-20T01:16:23.294010Z"
    }
   },
   "cell_type": "code",
   "source": [
    "ADA_IMPL_BEST_PARAMS = optimizer.run_study(n_trials=100)\n",
    "print(ADA_IMPL_BEST_PARAMS)\n",
    "ADA_IMPL_BEST_PARAMS = optimizer.modes[AdaSammeImplInteractor][1]"
   ],
   "id": "eb4b08c1828a072d",
   "outputs": [
    {
     "name": "stderr",
     "output_type": "stream",
     "text": [
      "[I 2024-06-20 04:16:23,294] A new study created in memory with name: no-name-2f2dbc51-427f-4610-8043-ab1842e62016\n"
     ]
    },
    {
     "name": "stdout",
     "output_type": "stream",
     "text": [
      "\u001B[1;96m [INFO]\u001B[0m AdaBoostSamme 2024-06-20 04:16:27.380405: Processed 0 / 111 estimators; last weight: 2.5716957755883914\n",
      "\u001B[1;96m [INFO]\u001B[0m AdaBoostSamme 2024-06-20 04:17:17.975795: Processed 11 / 111 estimators; last weight: 0.4782527576907183\n",
      "\u001B[1;96m [INFO]\u001B[0m AdaBoostSamme 2024-06-20 04:18:06.309743: Processed 22 / 111 estimators; last weight: 0.5048698227805644\n",
      "\u001B[1;96m [INFO]\u001B[0m AdaBoostSamme 2024-06-20 04:18:55.505452: Processed 33 / 111 estimators; last weight: 0.6618592632727023\n",
      "\u001B[1;96m [INFO]\u001B[0m AdaBoostSamme 2024-06-20 04:19:48.612567: Processed 44 / 111 estimators; last weight: 0.37510666726266795\n",
      "\u001B[1;96m [INFO]\u001B[0m AdaBoostSamme 2024-06-20 04:20:35.407442: Processed 55 / 111 estimators; last weight: 0.14973249747310002\n",
      "\u001B[1;96m [INFO]\u001B[0m AdaBoostSamme 2024-06-20 04:21:22.465009: Processed 66 / 111 estimators; last weight: 0.4767223077273488\n",
      "\u001B[1;96m [INFO]\u001B[0m AdaBoostSamme 2024-06-20 04:22:13.926005: Processed 77 / 111 estimators; last weight: 0.2773463735062711\n",
      "\u001B[1;96m [INFO]\u001B[0m AdaBoostSamme 2024-06-20 04:23:03.104279: Processed 88 / 111 estimators; last weight: 0.1922217511358968\n",
      "\u001B[1;96m [INFO]\u001B[0m AdaBoostSamme 2024-06-20 04:23:51.142324: Processed 99 / 111 estimators; last weight: 0.12303932536918327\n"
     ]
    },
    {
     "name": "stderr",
     "output_type": "stream",
     "text": [
      "[I 2024-06-20 04:24:37,916] Trial 0 finished with value: 0.7983864012016554 and parameters: {'n_estimators': 111}. Best is trial 0 with value: 0.7983864012016554.\n"
     ]
    },
    {
     "name": "stdout",
     "output_type": "stream",
     "text": [
      "\u001B[1;96m [INFO]\u001B[0m AdaBoostSamme 2024-06-20 04:24:37.904565: Processed 110 / 111 estimators; last weight: 0.11977893650660576\n",
      "\u001B[1;96m [INFO]\u001B[0m AdaBoostSamme 2024-06-20 04:24:37.904565: Processed 111 / 111 estimators\n",
      "\u001B[1;96m [INFO]\u001B[0m AdaBoostSamme 2024-06-20 04:24:41.988002: Processed 0 / 84 estimators; last weight: 2.5716957755883914\n",
      "\u001B[1;96m [INFO]\u001B[0m AdaBoostSamme 2024-06-20 04:25:27.822266: Processed 10 / 84 estimators; last weight: 0.4304188228392477\n",
      "\u001B[1;96m [INFO]\u001B[0m AdaBoostSamme 2024-06-20 04:26:11.943268: Processed 20 / 84 estimators; last weight: 0.4562326815210359\n",
      "\u001B[1;96m [INFO]\u001B[0m AdaBoostSamme 2024-06-20 04:26:56.423845: Processed 30 / 84 estimators; last weight: 0.4684730849790263\n",
      "\u001B[1;96m [INFO]\u001B[0m AdaBoostSamme 2024-06-20 04:27:43.616148: Processed 40 / 84 estimators; last weight: 0.47652171694606027\n",
      "\u001B[1;96m [INFO]\u001B[0m AdaBoostSamme 2024-06-20 04:28:28.707204: Processed 50 / 84 estimators; last weight: 0.16606549445236096\n",
      "\u001B[1;96m [INFO]\u001B[0m AdaBoostSamme 2024-06-20 04:29:11.286845: Processed 60 / 84 estimators; last weight: 0.14353440212950463\n",
      "\u001B[1;96m [INFO]\u001B[0m AdaBoostSamme 2024-06-20 04:29:57.572205: Processed 70 / 84 estimators; last weight: 0.30730068184835924\n",
      "\u001B[1;96m [INFO]\u001B[0m AdaBoostSamme 2024-06-20 04:30:42.504209: Processed 80 / 84 estimators; last weight: 0.24291482168197143\n"
     ]
    },
    {
     "name": "stderr",
     "output_type": "stream",
     "text": [
      "[I 2024-06-20 04:30:55,286] Trial 1 finished with value: 0.7596462839300773 and parameters: {'n_estimators': 84}. Best is trial 0 with value: 0.7983864012016554.\n"
     ]
    },
    {
     "name": "stdout",
     "output_type": "stream",
     "text": [
      "\u001B[1;96m [INFO]\u001B[0m AdaBoostSamme 2024-06-20 04:30:55.270667: Processed 84 / 84 estimators\n",
      "\u001B[1;96m [INFO]\u001B[0m AdaBoostSamme 2024-06-20 04:30:59.364694: Processed 0 / 182 estimators; last weight: 2.5716957755883914\n",
      "\u001B[1;96m [INFO]\u001B[0m AdaBoostSamme 2024-06-20 04:32:20.248888: Processed 18 / 182 estimators; last weight: 0.4774986687214443\n",
      "\u001B[1;96m [INFO]\u001B[0m AdaBoostSamme 2024-06-20 04:33:41.709148: Processed 36 / 182 estimators; last weight: 0.44248173567062743\n",
      "\u001B[1;96m [INFO]\u001B[0m AdaBoostSamme 2024-06-20 04:35:03.033001: Processed 54 / 182 estimators; last weight: 0.15819295860485405\n",
      "\u001B[1;96m [INFO]\u001B[0m AdaBoostSamme 2024-06-20 04:36:23.329588: Processed 72 / 182 estimators; last weight: 0.2636168451996661\n",
      "\u001B[1;96m [INFO]\u001B[0m AdaBoostSamme 2024-06-20 04:37:44.720337: Processed 90 / 182 estimators; last weight: 0.17685596376410295\n",
      "\u001B[1;96m [INFO]\u001B[0m AdaBoostSamme 2024-06-20 04:39:01.273978: Processed 108 / 182 estimators; last weight: 0.12002193645019799\n",
      "\u001B[1;96m [INFO]\u001B[0m AdaBoostSamme 2024-06-20 04:40:17.888023: Processed 126 / 182 estimators; last weight: 0.10731219113592938\n",
      "\u001B[1;96m [INFO]\u001B[0m AdaBoostSamme 2024-06-20 04:41:34.360170: Processed 144 / 182 estimators; last weight: 0.10037999868469583\n",
      "\u001B[1;96m [INFO]\u001B[0m AdaBoostSamme 2024-06-20 04:42:50.844435: Processed 162 / 182 estimators; last weight: 0.09310164759976436\n",
      "\u001B[1;96m [INFO]\u001B[0m AdaBoostSamme 2024-06-20 04:44:07.287855: Processed 180 / 182 estimators; last weight: 0.08681785477142978\n"
     ]
    },
    {
     "name": "stderr",
     "output_type": "stream",
     "text": [
      "[I 2024-06-20 04:44:11,573] Trial 2 finished with value: 0.7983864012016554 and parameters: {'n_estimators': 182}. Best is trial 0 with value: 0.7983864012016554.\n"
     ]
    },
    {
     "name": "stdout",
     "output_type": "stream",
     "text": [
      "\u001B[1;96m [INFO]\u001B[0m AdaBoostSamme 2024-06-20 04:44:11.543105: Processed 182 / 182 estimators\n",
      "\u001B[1;96m [INFO]\u001B[0m AdaBoostSamme 2024-06-20 04:44:15.645399: Processed 0 / 116 estimators; last weight: 2.5716957755883914\n",
      "\u001B[1;96m [INFO]\u001B[0m AdaBoostSamme 2024-06-20 04:45:06.211662: Processed 11 / 116 estimators; last weight: 0.4782527576907183\n",
      "\u001B[1;96m [INFO]\u001B[0m AdaBoostSamme 2024-06-20 04:45:54.569245: Processed 22 / 116 estimators; last weight: 0.5048698227805644\n",
      "\u001B[1;96m [INFO]\u001B[0m AdaBoostSamme 2024-06-20 04:46:43.775093: Processed 33 / 116 estimators; last weight: 0.6618592632727023\n",
      "\u001B[1;96m [INFO]\u001B[0m AdaBoostSamme 2024-06-20 04:47:36.911652: Processed 44 / 116 estimators; last weight: 0.37510666726266795\n",
      "\u001B[1;96m [INFO]\u001B[0m AdaBoostSamme 2024-06-20 04:48:23.617764: Processed 55 / 116 estimators; last weight: 0.14973249747310002\n",
      "\u001B[1;96m [INFO]\u001B[0m AdaBoostSamme 2024-06-20 04:49:10.715592: Processed 66 / 116 estimators; last weight: 0.4767223077273488\n",
      "\u001B[1;96m [INFO]\u001B[0m AdaBoostSamme 2024-06-20 04:50:02.106710: Processed 77 / 116 estimators; last weight: 0.2773463735062711\n",
      "\u001B[1;96m [INFO]\u001B[0m AdaBoostSamme 2024-06-20 04:50:51.283082: Processed 88 / 116 estimators; last weight: 0.1922217511358968\n",
      "\u001B[1;96m [INFO]\u001B[0m AdaBoostSamme 2024-06-20 04:51:39.219023: Processed 99 / 116 estimators; last weight: 0.12303932536918327\n",
      "\u001B[1;96m [INFO]\u001B[0m AdaBoostSamme 2024-06-20 04:52:25.930366: Processed 110 / 116 estimators; last weight: 0.11977893650660576\n"
     ]
    },
    {
     "name": "stderr",
     "output_type": "stream",
     "text": [
      "[I 2024-06-20 04:52:47,165] Trial 3 finished with value: 0.7983864012016554 and parameters: {'n_estimators': 116}. Best is trial 0 with value: 0.7983864012016554.\n"
     ]
    },
    {
     "name": "stdout",
     "output_type": "stream",
     "text": [
      "\u001B[1;96m [INFO]\u001B[0m AdaBoostSamme 2024-06-20 04:52:47.150075: Processed 116 / 116 estimators\n",
      "\u001B[1;96m [INFO]\u001B[0m AdaBoostSamme 2024-06-20 04:52:51.262265: Processed 0 / 162 estimators; last weight: 2.5716957755883914\n",
      "\u001B[1;96m [INFO]\u001B[0m AdaBoostSamme 2024-06-20 04:54:02.857933: Processed 16 / 162 estimators; last weight: 0.6049455468587507\n",
      "\u001B[1;96m [INFO]\u001B[0m AdaBoostSamme 2024-06-20 04:55:14.677431: Processed 32 / 162 estimators; last weight: 0.6610014280851735\n",
      "\u001B[1;96m [INFO]\u001B[0m AdaBoostSamme 2024-06-20 04:56:29.188562: Processed 48 / 162 estimators; last weight: 0.15127510598571026\n",
      "\u001B[1;96m [INFO]\u001B[0m AdaBoostSamme 2024-06-20 04:57:37.415168: Processed 64 / 162 estimators; last weight: 0.5457474913671178\n",
      "\u001B[1;96m [INFO]\u001B[0m AdaBoostSamme 2024-06-20 04:58:51.378963: Processed 80 / 162 estimators; last weight: 0.24291482168197143\n",
      "\u001B[1;96m [INFO]\u001B[0m AdaBoostSamme 2024-06-20 05:00:01.799260: Processed 96 / 162 estimators; last weight: 0.13981913822521275\n",
      "\u001B[1;96m [INFO]\u001B[0m AdaBoostSamme 2024-06-20 05:01:09.788324: Processed 112 / 162 estimators; last weight: 0.11430874444317674\n",
      "\u001B[1;96m [INFO]\u001B[0m AdaBoostSamme 2024-06-20 05:02:17.722970: Processed 128 / 162 estimators; last weight: 0.10842429052074731\n",
      "\u001B[1;96m [INFO]\u001B[0m AdaBoostSamme 2024-06-20 05:03:25.644244: Processed 144 / 162 estimators; last weight: 0.10037999868469583\n",
      "\u001B[1;96m [INFO]\u001B[0m AdaBoostSamme 2024-06-20 05:04:33.634426: Processed 160 / 162 estimators; last weight: 0.09365832520823547\n"
     ]
    },
    {
     "name": "stderr",
     "output_type": "stream",
     "text": [
      "[I 2024-06-20 05:04:37,894] Trial 4 finished with value: 0.7983864012016554 and parameters: {'n_estimators': 162}. Best is trial 0 with value: 0.7983864012016554.\n"
     ]
    },
    {
     "name": "stdout",
     "output_type": "stream",
     "text": [
      "\u001B[1;96m [INFO]\u001B[0m AdaBoostSamme 2024-06-20 05:04:37.879179: Processed 162 / 162 estimators\n",
      "\u001B[1;96m [INFO]\u001B[0m AdaBoostSamme 2024-06-20 05:04:41.970778: Processed 0 / 24 estimators; last weight: 2.5716957755883914\n",
      "\u001B[1;96m [INFO]\u001B[0m AdaBoostSamme 2024-06-20 05:05:27.751508: Processed 10 / 24 estimators; last weight: 0.4304188228392477\n",
      "\u001B[1;96m [INFO]\u001B[0m AdaBoostSamme 2024-06-20 05:06:11.898457: Processed 20 / 24 estimators; last weight: 0.4562326815210359\n"
     ]
    },
    {
     "name": "stderr",
     "output_type": "stream",
     "text": [
      "[I 2024-06-20 05:06:25,300] Trial 5 finished with value: 0.7438441310064547 and parameters: {'n_estimators': 24}. Best is trial 0 with value: 0.7983864012016554.\n"
     ]
    },
    {
     "name": "stdout",
     "output_type": "stream",
     "text": [
      "\u001B[1;96m [INFO]\u001B[0m AdaBoostSamme 2024-06-20 05:06:25.285791: Processed 24 / 24 estimators\n",
      "\u001B[1;96m [INFO]\u001B[0m AdaBoostSamme 2024-06-20 05:06:29.401555: Processed 0 / 23 estimators; last weight: 2.5716957755883914\n",
      "\u001B[1;96m [INFO]\u001B[0m AdaBoostSamme 2024-06-20 05:07:15.251270: Processed 10 / 23 estimators; last weight: 0.4304188228392477\n",
      "\u001B[1;96m [INFO]\u001B[0m AdaBoostSamme 2024-06-20 05:07:59.452911: Processed 20 / 23 estimators; last weight: 0.4562326815210359\n"
     ]
    },
    {
     "name": "stderr",
     "output_type": "stream",
     "text": [
      "[I 2024-06-20 05:08:08,383] Trial 6 finished with value: 0.7493315701001597 and parameters: {'n_estimators': 23}. Best is trial 0 with value: 0.7983864012016554.\n"
     ]
    },
    {
     "name": "stdout",
     "output_type": "stream",
     "text": [
      "\u001B[1;96m [INFO]\u001B[0m AdaBoostSamme 2024-06-20 05:08:08.368337: Processed 23 / 23 estimators\n",
      "\u001B[1;96m [INFO]\u001B[0m AdaBoostSamme 2024-06-20 05:08:12.454581: Processed 0 / 100 estimators; last weight: 2.5716957755883914\n",
      "\u001B[1;96m [INFO]\u001B[0m AdaBoostSamme 2024-06-20 05:08:58.265430: Processed 10 / 100 estimators; last weight: 0.4304188228392477\n",
      "\u001B[1;96m [INFO]\u001B[0m AdaBoostSamme 2024-06-20 05:09:42.434036: Processed 20 / 100 estimators; last weight: 0.4562326815210359\n",
      "\u001B[1;96m [INFO]\u001B[0m AdaBoostSamme 2024-06-20 05:10:26.916826: Processed 30 / 100 estimators; last weight: 0.4684730849790263\n",
      "\u001B[1;96m [INFO]\u001B[0m AdaBoostSamme 2024-06-20 05:11:14.088387: Processed 40 / 100 estimators; last weight: 0.47652171694606027\n",
      "\u001B[1;96m [INFO]\u001B[0m AdaBoostSamme 2024-06-20 05:11:59.150977: Processed 50 / 100 estimators; last weight: 0.16606549445236096\n",
      "\u001B[1;96m [INFO]\u001B[0m AdaBoostSamme 2024-06-20 05:12:41.666672: Processed 60 / 100 estimators; last weight: 0.14353440212950463\n",
      "\u001B[1;96m [INFO]\u001B[0m AdaBoostSamme 2024-06-20 05:13:27.894732: Processed 70 / 100 estimators; last weight: 0.30730068184835924\n",
      "\u001B[1;96m [INFO]\u001B[0m AdaBoostSamme 2024-06-20 05:14:12.849283: Processed 80 / 100 estimators; last weight: 0.24291482168197143\n",
      "\u001B[1;96m [INFO]\u001B[0m AdaBoostSamme 2024-06-20 05:14:57.790532: Processed 90 / 100 estimators; last weight: 0.17685596376410295\n"
     ]
    },
    {
     "name": "stderr",
     "output_type": "stream",
     "text": [
      "[I 2024-06-20 05:15:36,163] Trial 7 finished with value: 0.7983864012016554 and parameters: {'n_estimators': 100}. Best is trial 0 with value: 0.7983864012016554.\n"
     ]
    },
    {
     "name": "stdout",
     "output_type": "stream",
     "text": [
      "\u001B[1;96m [INFO]\u001B[0m AdaBoostSamme 2024-06-20 05:15:36.147775: Processed 100 / 100 estimators\n",
      "\u001B[1;96m [INFO]\u001B[0m AdaBoostSamme 2024-06-20 05:15:40.247562: Processed 0 / 169 estimators; last weight: 2.5716957755883914\n",
      "\u001B[1;96m [INFO]\u001B[0m AdaBoostSamme 2024-06-20 05:16:51.891710: Processed 16 / 169 estimators; last weight: 0.6049455468587507\n",
      "\u001B[1;96m [INFO]\u001B[0m AdaBoostSamme 2024-06-20 05:18:03.892144: Processed 32 / 169 estimators; last weight: 0.6610014280851735\n",
      "\u001B[1;96m [INFO]\u001B[0m AdaBoostSamme 2024-06-20 05:19:18.446869: Processed 48 / 169 estimators; last weight: 0.15127510598571026\n",
      "\u001B[1;96m [INFO]\u001B[0m AdaBoostSamme 2024-06-20 05:20:26.777982: Processed 64 / 169 estimators; last weight: 0.5457474913671178\n",
      "\u001B[1;96m [INFO]\u001B[0m AdaBoostSamme 2024-06-20 05:21:40.714930: Processed 80 / 169 estimators; last weight: 0.24291482168197143\n",
      "\u001B[1;96m [INFO]\u001B[0m AdaBoostSamme 2024-06-20 05:22:51.094009: Processed 96 / 169 estimators; last weight: 0.13981913822521275\n",
      "\u001B[1;96m [INFO]\u001B[0m AdaBoostSamme 2024-06-20 05:23:59.116208: Processed 112 / 169 estimators; last weight: 0.11430874444317674\n",
      "\u001B[1;96m [INFO]\u001B[0m AdaBoostSamme 2024-06-20 05:25:07.124740: Processed 128 / 169 estimators; last weight: 0.10842429052074731\n",
      "\u001B[1;96m [INFO]\u001B[0m AdaBoostSamme 2024-06-20 05:26:15.087322: Processed 144 / 169 estimators; last weight: 0.10037999868469583\n",
      "\u001B[1;96m [INFO]\u001B[0m AdaBoostSamme 2024-06-20 05:27:23.181653: Processed 160 / 169 estimators; last weight: 0.09365832520823547\n"
     ]
    },
    {
     "name": "stderr",
     "output_type": "stream",
     "text": [
      "[I 2024-06-20 05:27:57,223] Trial 8 finished with value: 0.7983864012016554 and parameters: {'n_estimators': 169}. Best is trial 0 with value: 0.7983864012016554.\n"
     ]
    },
    {
     "name": "stdout",
     "output_type": "stream",
     "text": [
      "\u001B[1;96m [INFO]\u001B[0m AdaBoostSamme 2024-06-20 05:27:57.207171: Processed 169 / 169 estimators\n",
      "\u001B[1;96m [INFO]\u001B[0m AdaBoostSamme 2024-06-20 05:28:01.293605: Processed 0 / 103 estimators; last weight: 2.5716957755883914\n",
      "\u001B[1;96m [INFO]\u001B[0m AdaBoostSamme 2024-06-20 05:28:47.149799: Processed 10 / 103 estimators; last weight: 0.4304188228392477\n",
      "\u001B[1;96m [INFO]\u001B[0m AdaBoostSamme 2024-06-20 05:29:31.312181: Processed 20 / 103 estimators; last weight: 0.4562326815210359\n",
      "\u001B[1;96m [INFO]\u001B[0m AdaBoostSamme 2024-06-20 05:30:15.762049: Processed 30 / 103 estimators; last weight: 0.4684730849790263\n",
      "\u001B[1;96m [INFO]\u001B[0m AdaBoostSamme 2024-06-20 05:31:02.893343: Processed 40 / 103 estimators; last weight: 0.47652171694606027\n",
      "\u001B[1;96m [INFO]\u001B[0m AdaBoostSamme 2024-06-20 05:31:48.088733: Processed 50 / 103 estimators; last weight: 0.16606549445236096\n",
      "\u001B[1;96m [INFO]\u001B[0m AdaBoostSamme 2024-06-20 05:32:30.592854: Processed 60 / 103 estimators; last weight: 0.14353440212950463\n",
      "\u001B[1;96m [INFO]\u001B[0m AdaBoostSamme 2024-06-20 05:33:16.825615: Processed 70 / 103 estimators; last weight: 0.30730068184835924\n",
      "\u001B[1;96m [INFO]\u001B[0m AdaBoostSamme 2024-06-20 05:34:01.720049: Processed 80 / 103 estimators; last weight: 0.24291482168197143\n",
      "\u001B[1;96m [INFO]\u001B[0m AdaBoostSamme 2024-06-20 05:34:46.625806: Processed 90 / 103 estimators; last weight: 0.17685596376410295\n",
      "\u001B[1;96m [INFO]\u001B[0m AdaBoostSamme 2024-06-20 05:35:29.113305: Processed 100 / 103 estimators; last weight: 0.11963795766526664\n"
     ]
    },
    {
     "name": "stderr",
     "output_type": "stream",
     "text": [
      "[I 2024-06-20 05:35:37,625] Trial 9 finished with value: 0.7983864012016554 and parameters: {'n_estimators': 103}. Best is trial 0 with value: 0.7983864012016554.\n"
     ]
    },
    {
     "name": "stdout",
     "output_type": "stream",
     "text": [
      "\u001B[1;96m [INFO]\u001B[0m AdaBoostSamme 2024-06-20 05:35:37.609525: Processed 103 / 103 estimators\n",
      "\u001B[1;96m [INFO]\u001B[0m AdaBoostSamme 2024-06-20 05:35:41.735198: Processed 0 / 59 estimators; last weight: 2.5716957755883914\n",
      "\u001B[1;96m [INFO]\u001B[0m AdaBoostSamme 2024-06-20 05:36:27.583478: Processed 10 / 59 estimators; last weight: 0.4304188228392477\n",
      "\u001B[1;96m [INFO]\u001B[0m AdaBoostSamme 2024-06-20 05:37:11.723170: Processed 20 / 59 estimators; last weight: 0.4562326815210359\n",
      "\u001B[1;96m [INFO]\u001B[0m AdaBoostSamme 2024-06-20 05:37:56.206185: Processed 30 / 59 estimators; last weight: 0.4684730849790263\n",
      "\u001B[1;96m [INFO]\u001B[0m AdaBoostSamme 2024-06-20 05:38:43.344048: Processed 40 / 59 estimators; last weight: 0.47652171694606027\n",
      "\u001B[1;96m [INFO]\u001B[0m AdaBoostSamme 2024-06-20 05:39:28.490440: Processed 50 / 59 estimators; last weight: 0.16606549445236096\n"
     ]
    },
    {
     "name": "stderr",
     "output_type": "stream",
     "text": [
      "[I 2024-06-20 05:40:02,528] Trial 10 finished with value: 0.7693324520819563 and parameters: {'n_estimators': 59}. Best is trial 0 with value: 0.7983864012016554.\n"
     ]
    },
    {
     "name": "stdout",
     "output_type": "stream",
     "text": [
      "\u001B[1;96m [INFO]\u001B[0m AdaBoostSamme 2024-06-20 05:40:02.518229: Processed 59 / 59 estimators\n",
      "\u001B[1;96m [INFO]\u001B[0m AdaBoostSamme 2024-06-20 05:40:06.610991: Processed 0 / 199 estimators; last weight: 2.5716957755883914\n",
      "\u001B[1;96m [INFO]\u001B[0m AdaBoostSamme 2024-06-20 05:41:31.827425: Processed 19 / 199 estimators; last weight: 0.4320369448957534\n",
      "\u001B[1;96m [INFO]\u001B[0m AdaBoostSamme 2024-06-20 05:42:57.832442: Processed 38 / 199 estimators; last weight: 0.4517517879114359\n",
      "\u001B[1;96m [INFO]\u001B[0m AdaBoostSamme 2024-06-20 05:44:23.262155: Processed 57 / 199 estimators; last weight: 0.14792636089012734\n",
      "\u001B[1;96m [INFO]\u001B[0m AdaBoostSamme 2024-06-20 05:45:47.917940: Processed 76 / 199 estimators; last weight: 0.18325609550366795\n",
      "\u001B[1;96m [INFO]\u001B[0m AdaBoostSamme 2024-06-20 05:47:13.675350: Processed 95 / 199 estimators; last weight: 0.13973365092568768\n",
      "\u001B[1;96m [INFO]\u001B[0m AdaBoostSamme 2024-06-20 05:48:34.506678: Processed 114 / 199 estimators; last weight: 0.11429392867782595\n",
      "\u001B[1;96m [INFO]\u001B[0m AdaBoostSamme 2024-06-20 05:49:55.233470: Processed 133 / 199 estimators; last weight: 0.10490973352078825\n",
      "\u001B[1;96m [INFO]\u001B[0m AdaBoostSamme 2024-06-20 05:51:15.976450: Processed 152 / 199 estimators; last weight: 0.0965172746325984\n",
      "\u001B[1;96m [INFO]\u001B[0m AdaBoostSamme 2024-06-20 05:52:36.724635: Processed 171 / 199 estimators; last weight: 0.09011857587699623\n",
      "\u001B[1;96m [INFO]\u001B[0m AdaBoostSamme 2024-06-20 05:53:57.600507: Processed 190 / 199 estimators; last weight: 0.08374183523827061\n"
     ]
    },
    {
     "name": "stderr",
     "output_type": "stream",
     "text": [
      "[I 2024-06-20 05:54:31,793] Trial 11 finished with value: 0.7983864012016554 and parameters: {'n_estimators': 199}. Best is trial 0 with value: 0.7983864012016554.\n"
     ]
    },
    {
     "name": "stdout",
     "output_type": "stream",
     "text": [
      "\u001B[1;96m [INFO]\u001B[0m AdaBoostSamme 2024-06-20 05:54:31.778292: Processed 199 / 199 estimators\n",
      "\u001B[1;96m [INFO]\u001B[0m AdaBoostSamme 2024-06-20 05:54:35.876420: Processed 0 / 142 estimators; last weight: 2.5716957755883914\n",
      "\u001B[1;96m [INFO]\u001B[0m AdaBoostSamme 2024-06-20 05:55:39.140473: Processed 14 / 142 estimators; last weight: 0.6866785440970367\n",
      "\u001B[1;96m [INFO]\u001B[0m AdaBoostSamme 2024-06-20 05:56:41.481152: Processed 28 / 142 estimators; last weight: 0.6634158224585666\n",
      "\u001B[1;96m [INFO]\u001B[0m AdaBoostSamme 2024-06-20 05:57:46.167093: Processed 42 / 142 estimators; last weight: 0.32285012730320073\n",
      "\u001B[1;96m [INFO]\u001B[0m AdaBoostSamme 2024-06-20 05:58:48.506598: Processed 56 / 142 estimators; last weight: 0.14442769993379634\n",
      "\u001B[1;96m [INFO]\u001B[0m AdaBoostSamme 2024-06-20 05:59:51.909870: Processed 70 / 142 estimators; last weight: 0.30730068184835924\n",
      "\u001B[1;96m [INFO]\u001B[0m AdaBoostSamme 2024-06-20 06:00:53.926482: Processed 84 / 142 estimators; last weight: 0.15659314032255156\n",
      "\u001B[1;96m [INFO]\u001B[0m AdaBoostSamme 2024-06-20 06:01:55.906173: Processed 98 / 142 estimators; last weight: 0.13294154359428312\n",
      "\u001B[1;96m [INFO]\u001B[0m AdaBoostSamme 2024-06-20 06:02:55.453789: Processed 112 / 142 estimators; last weight: 0.11430874444317674\n",
      "\u001B[1;96m [INFO]\u001B[0m AdaBoostSamme 2024-06-20 06:03:55.075615: Processed 126 / 142 estimators; last weight: 0.10731219113592938\n",
      "\u001B[1;96m [INFO]\u001B[0m AdaBoostSamme 2024-06-20 06:04:54.645983: Processed 140 / 142 estimators; last weight: 0.10230915072846081\n"
     ]
    },
    {
     "name": "stderr",
     "output_type": "stream",
     "text": [
      "[I 2024-06-20 06:04:58,907] Trial 12 finished with value: 0.7983864012016554 and parameters: {'n_estimators': 142}. Best is trial 0 with value: 0.7983864012016554.\n"
     ]
    },
    {
     "name": "stdout",
     "output_type": "stream",
     "text": [
      "\u001B[1;96m [INFO]\u001B[0m AdaBoostSamme 2024-06-20 06:04:58.891332: Processed 142 / 142 estimators\n",
      "\u001B[1;96m [INFO]\u001B[0m AdaBoostSamme 2024-06-20 06:05:02.994883: Processed 0 / 197 estimators; last weight: 2.5716957755883914\n",
      "\u001B[1;96m [INFO]\u001B[0m AdaBoostSamme 2024-06-20 06:06:28.040340: Processed 19 / 197 estimators; last weight: 0.4320369448957534\n",
      "\u001B[1;96m [INFO]\u001B[0m AdaBoostSamme 2024-06-20 06:07:54.124332: Processed 38 / 197 estimators; last weight: 0.4517517879114359\n",
      "\u001B[1;96m [INFO]\u001B[0m AdaBoostSamme 2024-06-20 06:09:19.451659: Processed 57 / 197 estimators; last weight: 0.14792636089012734\n",
      "\u001B[1;96m [INFO]\u001B[0m AdaBoostSamme 2024-06-20 06:10:44.159778: Processed 76 / 197 estimators; last weight: 0.18325609550366795\n",
      "\u001B[1;96m [INFO]\u001B[0m AdaBoostSamme 2024-06-20 06:12:09.897510: Processed 95 / 197 estimators; last weight: 0.13973365092568768\n",
      "\u001B[1;96m [INFO]\u001B[0m AdaBoostSamme 2024-06-20 06:13:30.602409: Processed 114 / 197 estimators; last weight: 0.11429392867782595\n",
      "\u001B[1;96m [INFO]\u001B[0m AdaBoostSamme 2024-06-20 06:14:51.482016: Processed 133 / 197 estimators; last weight: 0.10490973352078825\n",
      "\u001B[1;96m [INFO]\u001B[0m AdaBoostSamme 2024-06-20 06:16:12.266824: Processed 152 / 197 estimators; last weight: 0.0965172746325984\n",
      "\u001B[1;96m [INFO]\u001B[0m AdaBoostSamme 2024-06-20 06:17:32.968207: Processed 171 / 197 estimators; last weight: 0.09011857587699623\n",
      "\u001B[1;96m [INFO]\u001B[0m AdaBoostSamme 2024-06-20 06:18:53.692379: Processed 190 / 197 estimators; last weight: 0.08374183523827061\n"
     ]
    },
    {
     "name": "stderr",
     "output_type": "stream",
     "text": [
      "[I 2024-06-20 06:19:19,245] Trial 13 finished with value: 0.7983864012016554 and parameters: {'n_estimators': 197}. Best is trial 0 with value: 0.7983864012016554.\n"
     ]
    },
    {
     "name": "stdout",
     "output_type": "stream",
     "text": [
      "\u001B[1;96m [INFO]\u001B[0m AdaBoostSamme 2024-06-20 06:19:19.229896: Processed 197 / 197 estimators\n",
      "\u001B[1;96m [INFO]\u001B[0m AdaBoostSamme 2024-06-20 06:19:23.336165: Processed 0 / 137 estimators; last weight: 2.5716957755883914\n",
      "\u001B[1;96m [INFO]\u001B[0m AdaBoostSamme 2024-06-20 06:20:22.419434: Processed 13 / 137 estimators; last weight: 0.6747129350265274\n",
      "\u001B[1;96m [INFO]\u001B[0m AdaBoostSamme 2024-06-20 06:21:20.205366: Processed 26 / 137 estimators; last weight: 0.3705707079557672\n",
      "\u001B[1;96m [INFO]\u001B[0m AdaBoostSamme 2024-06-20 06:22:20.102638: Processed 39 / 137 estimators; last weight: 0.4500122940895448\n",
      "\u001B[1;96m [INFO]\u001B[0m AdaBoostSamme 2024-06-20 06:23:18.572354: Processed 52 / 137 estimators; last weight: 0.14830556879945722\n",
      "\u001B[1;96m [INFO]\u001B[0m AdaBoostSamme 2024-06-20 06:24:14.536621: Processed 65 / 137 estimators; last weight: 0.4423059969905839\n",
      "\u001B[1;96m [INFO]\u001B[0m AdaBoostSamme 2024-06-20 06:25:15.720556: Processed 78 / 137 estimators; last weight: 0.2607606964595277\n",
      "\u001B[1;96m [INFO]\u001B[0m AdaBoostSamme 2024-06-20 06:26:14.092687: Processed 91 / 137 estimators; last weight: 0.1702479088584261\n",
      "\u001B[1;96m [INFO]\u001B[0m AdaBoostSamme 2024-06-20 06:27:09.446197: Processed 104 / 137 estimators; last weight: 0.11591311519745173\n",
      "\u001B[1;96m [INFO]\u001B[0m AdaBoostSamme 2024-06-20 06:28:04.746392: Processed 117 / 137 estimators; last weight: 0.111155325228385\n",
      "\u001B[1;96m [INFO]\u001B[0m AdaBoostSamme 2024-06-20 06:28:59.977948: Processed 130 / 137 estimators; last weight: 0.10534507295015416\n"
     ]
    },
    {
     "name": "stderr",
     "output_type": "stream",
     "text": [
      "[I 2024-06-20 06:29:25,497] Trial 14 finished with value: 0.7983864012016554 and parameters: {'n_estimators': 137}. Best is trial 0 with value: 0.7983864012016554.\n"
     ]
    },
    {
     "name": "stdout",
     "output_type": "stream",
     "text": [
      "\u001B[1;96m [INFO]\u001B[0m AdaBoostSamme 2024-06-20 06:29:25.481396: Processed 137 / 137 estimators\n",
      "\u001B[1;96m [INFO]\u001B[0m AdaBoostSamme 2024-06-20 06:29:29.567274: Processed 0 / 60 estimators; last weight: 2.5716957755883914\n",
      "\u001B[1;96m [INFO]\u001B[0m AdaBoostSamme 2024-06-20 06:30:15.422309: Processed 10 / 60 estimators; last weight: 0.4304188228392477\n",
      "\u001B[1;96m [INFO]\u001B[0m AdaBoostSamme 2024-06-20 06:30:59.534454: Processed 20 / 60 estimators; last weight: 0.4562326815210359\n",
      "\u001B[1;96m [INFO]\u001B[0m AdaBoostSamme 2024-06-20 06:31:44.019536: Processed 30 / 60 estimators; last weight: 0.4684730849790263\n",
      "\u001B[1;96m [INFO]\u001B[0m AdaBoostSamme 2024-06-20 06:32:31.058689: Processed 40 / 60 estimators; last weight: 0.47652171694606027\n",
      "\u001B[1;96m [INFO]\u001B[0m AdaBoostSamme 2024-06-20 06:33:16.165870: Processed 50 / 60 estimators; last weight: 0.16606549445236096\n"
     ]
    },
    {
     "name": "stderr",
     "output_type": "stream",
     "text": [
      "[I 2024-06-20 06:33:54,448] Trial 15 finished with value: 0.7693324520819563 and parameters: {'n_estimators': 60}. Best is trial 0 with value: 0.7983864012016554.\n"
     ]
    },
    {
     "name": "stdout",
     "output_type": "stream",
     "text": [
      "\u001B[1;96m [INFO]\u001B[0m AdaBoostSamme 2024-06-20 06:33:54.448725: Processed 60 / 60 estimators\n",
      "\u001B[1;96m [INFO]\u001B[0m AdaBoostSamme 2024-06-20 06:33:58.553086: Processed 0 / 166 estimators; last weight: 2.5716957755883914\n",
      "\u001B[1;96m [INFO]\u001B[0m AdaBoostSamme 2024-06-20 06:35:10.126368: Processed 16 / 166 estimators; last weight: 0.6049455468587507\n",
      "\u001B[1;96m [INFO]\u001B[0m AdaBoostSamme 2024-06-20 06:36:21.954264: Processed 32 / 166 estimators; last weight: 0.6610014280851735\n",
      "\u001B[1;96m [INFO]\u001B[0m AdaBoostSamme 2024-06-20 06:37:36.529163: Processed 48 / 166 estimators; last weight: 0.15127510598571026\n",
      "\u001B[1;96m [INFO]\u001B[0m AdaBoostSamme 2024-06-20 06:38:44.798299: Processed 64 / 166 estimators; last weight: 0.5457474913671178\n",
      "\u001B[1;96m [INFO]\u001B[0m AdaBoostSamme 2024-06-20 06:39:58.908712: Processed 80 / 166 estimators; last weight: 0.24291482168197143\n",
      "\u001B[1;96m [INFO]\u001B[0m AdaBoostSamme 2024-06-20 06:41:09.711235: Processed 96 / 166 estimators; last weight: 0.13981913822521275\n",
      "\u001B[1;96m [INFO]\u001B[0m AdaBoostSamme 2024-06-20 06:42:17.732254: Processed 112 / 166 estimators; last weight: 0.11430874444317674\n",
      "\u001B[1;96m [INFO]\u001B[0m AdaBoostSamme 2024-06-20 06:43:25.700280: Processed 128 / 166 estimators; last weight: 0.10842429052074731\n",
      "\u001B[1;96m [INFO]\u001B[0m AdaBoostSamme 2024-06-20 06:44:33.803615: Processed 144 / 166 estimators; last weight: 0.10037999868469583\n",
      "\u001B[1;96m [INFO]\u001B[0m AdaBoostSamme 2024-06-20 06:45:41.854220: Processed 160 / 166 estimators; last weight: 0.09365832520823547\n"
     ]
    },
    {
     "name": "stderr",
     "output_type": "stream",
     "text": [
      "[I 2024-06-20 06:46:03,167] Trial 16 finished with value: 0.7983864012016554 and parameters: {'n_estimators': 166}. Best is trial 0 with value: 0.7983864012016554.\n"
     ]
    },
    {
     "name": "stdout",
     "output_type": "stream",
     "text": [
      "\u001B[1;96m [INFO]\u001B[0m AdaBoostSamme 2024-06-20 06:46:03.149335: Processed 166 / 166 estimators\n"
     ]
    },
    {
     "name": "stderr",
     "output_type": "stream",
     "text": [
      "[I 2024-06-20 06:46:07,246] Trial 17 finished with value: 0.8217839671821777 and parameters: {'n_estimators': 1}. Best is trial 17 with value: 0.8217839671821777.\n"
     ]
    },
    {
     "name": "stdout",
     "output_type": "stream",
     "text": [
      "\u001B[1;96m [INFO]\u001B[0m AdaBoostSamme 2024-06-20 06:46:07.246675: Processed 0 / 1 estimators; last weight: 2.5716957755883914\n",
      "\u001B[1;96m [INFO]\u001B[0m AdaBoostSamme 2024-06-20 06:46:07.246675: Processed 1 / 1 estimators\n",
      "\u001B[1;96m [INFO]\u001B[0m AdaBoostSamme 2024-06-20 06:46:11.336958: Processed 0 / 48 estimators; last weight: 2.5716957755883914\n",
      "\u001B[1;96m [INFO]\u001B[0m AdaBoostSamme 2024-06-20 06:46:57.470736: Processed 10 / 48 estimators; last weight: 0.4304188228392477\n",
      "\u001B[1;96m [INFO]\u001B[0m AdaBoostSamme 2024-06-20 06:47:41.653865: Processed 20 / 48 estimators; last weight: 0.4562326815210359\n",
      "\u001B[1;96m [INFO]\u001B[0m AdaBoostSamme 2024-06-20 06:48:26.132522: Processed 30 / 48 estimators; last weight: 0.4684730849790263\n",
      "\u001B[1;96m [INFO]\u001B[0m AdaBoostSamme 2024-06-20 06:49:13.229655: Processed 40 / 48 estimators; last weight: 0.47652171694606027\n"
     ]
    },
    {
     "name": "stderr",
     "output_type": "stream",
     "text": [
      "[I 2024-06-20 06:49:45,691] Trial 18 finished with value: 0.7693324520819563 and parameters: {'n_estimators': 48}. Best is trial 17 with value: 0.8217839671821777.\n"
     ]
    },
    {
     "name": "stdout",
     "output_type": "stream",
     "text": [
      "\u001B[1;96m [INFO]\u001B[0m AdaBoostSamme 2024-06-20 06:49:45.676307: Processed 48 / 48 estimators\n",
      "\u001B[1;96m [INFO]\u001B[0m AdaBoostSamme 2024-06-20 06:49:49.840873: Processed 0 / 3 estimators; last weight: 2.5716957755883914\n"
     ]
    },
    {
     "name": "stderr",
     "output_type": "stream",
     "text": [
      "[I 2024-06-20 06:49:58,158] Trial 19 finished with value: 0.7923544935918709 and parameters: {'n_estimators': 3}. Best is trial 17 with value: 0.8217839671821777.\n"
     ]
    },
    {
     "name": "stdout",
     "output_type": "stream",
     "text": [
      "\u001B[1;96m [INFO]\u001B[0m AdaBoostSamme 2024-06-20 06:49:58.158308: Processed 3 / 3 estimators\n",
      "\u001B[1;96m [INFO]\u001B[0m AdaBoostSamme 2024-06-20 06:50:02.250425: Processed 0 / 76 estimators; last weight: 2.5716957755883914\n",
      "\u001B[1;96m [INFO]\u001B[0m AdaBoostSamme 2024-06-20 06:50:48.131868: Processed 10 / 76 estimators; last weight: 0.4304188228392477\n",
      "\u001B[1;96m [INFO]\u001B[0m AdaBoostSamme 2024-06-20 06:51:32.307360: Processed 20 / 76 estimators; last weight: 0.4562326815210359\n",
      "\u001B[1;96m [INFO]\u001B[0m AdaBoostSamme 2024-06-20 06:52:16.788202: Processed 30 / 76 estimators; last weight: 0.4684730849790263\n",
      "\u001B[1;96m [INFO]\u001B[0m AdaBoostSamme 2024-06-20 06:53:03.919602: Processed 40 / 76 estimators; last weight: 0.47652171694606027\n",
      "\u001B[1;96m [INFO]\u001B[0m AdaBoostSamme 2024-06-20 06:53:48.966707: Processed 50 / 76 estimators; last weight: 0.16606549445236096\n",
      "\u001B[1;96m [INFO]\u001B[0m AdaBoostSamme 2024-06-20 06:54:31.505318: Processed 60 / 76 estimators; last weight: 0.14353440212950463\n",
      "\u001B[1;96m [INFO]\u001B[0m AdaBoostSamme 2024-06-20 06:55:17.868840: Processed 70 / 76 estimators; last weight: 0.30730068184835924\n"
     ]
    },
    {
     "name": "stderr",
     "output_type": "stream",
     "text": [
      "[I 2024-06-20 06:55:39,173] Trial 20 finished with value: 0.7983864012016554 and parameters: {'n_estimators': 76}. Best is trial 17 with value: 0.8217839671821777.\n"
     ]
    },
    {
     "name": "stdout",
     "output_type": "stream",
     "text": [
      "\u001B[1;96m [INFO]\u001B[0m AdaBoostSamme 2024-06-20 06:55:39.173434: Processed 76 / 76 estimators\n",
      "\u001B[1;96m [INFO]\u001B[0m AdaBoostSamme 2024-06-20 06:55:43.271053: Processed 0 / 134 estimators; last weight: 2.5716957755883914\n",
      "\u001B[1;96m [INFO]\u001B[0m AdaBoostSamme 2024-06-20 06:56:42.280502: Processed 13 / 134 estimators; last weight: 0.6747129350265274\n",
      "\u001B[1;96m [INFO]\u001B[0m AdaBoostSamme 2024-06-20 06:57:40.055649: Processed 26 / 134 estimators; last weight: 0.3705707079557672\n",
      "\u001B[1;96m [INFO]\u001B[0m AdaBoostSamme 2024-06-20 06:58:39.855548: Processed 39 / 134 estimators; last weight: 0.4500122940895448\n",
      "\u001B[1;96m [INFO]\u001B[0m AdaBoostSamme 2024-06-20 06:59:38.398175: Processed 52 / 134 estimators; last weight: 0.14830556879945722\n",
      "\u001B[1;96m [INFO]\u001B[0m AdaBoostSamme 2024-06-20 07:00:34.085013: Processed 65 / 134 estimators; last weight: 0.4423059969905839\n",
      "\u001B[1;96m [INFO]\u001B[0m AdaBoostSamme 2024-06-20 07:01:35.255885: Processed 78 / 134 estimators; last weight: 0.2607606964595277\n",
      "\u001B[1;96m [INFO]\u001B[0m AdaBoostSamme 2024-06-20 07:02:32.980876: Processed 91 / 134 estimators; last weight: 0.1702479088584261\n",
      "\u001B[1;96m [INFO]\u001B[0m AdaBoostSamme 2024-06-20 07:03:28.331727: Processed 104 / 134 estimators; last weight: 0.11591311519745173\n",
      "\u001B[1;96m [INFO]\u001B[0m AdaBoostSamme 2024-06-20 07:04:24.075586: Processed 117 / 134 estimators; last weight: 0.111155325228385\n",
      "\u001B[1;96m [INFO]\u001B[0m AdaBoostSamme 2024-06-20 07:05:19.413574: Processed 130 / 134 estimators; last weight: 0.10534507295015416\n"
     ]
    },
    {
     "name": "stderr",
     "output_type": "stream",
     "text": [
      "[I 2024-06-20 07:05:32,204] Trial 21 finished with value: 0.7983864012016554 and parameters: {'n_estimators': 134}. Best is trial 17 with value: 0.8217839671821777.\n"
     ]
    },
    {
     "name": "stdout",
     "output_type": "stream",
     "text": [
      "\u001B[1;96m [INFO]\u001B[0m AdaBoostSamme 2024-06-20 07:05:32.189103: Processed 134 / 134 estimators\n",
      "\u001B[1;96m [INFO]\u001B[0m AdaBoostSamme 2024-06-20 07:05:36.308168: Processed 0 / 181 estimators; last weight: 2.5716957755883914\n",
      "\u001B[1;96m [INFO]\u001B[0m AdaBoostSamme 2024-06-20 07:06:57.238005: Processed 18 / 181 estimators; last weight: 0.4774986687214443\n",
      "\u001B[1;96m [INFO]\u001B[0m AdaBoostSamme 2024-06-20 07:08:18.651383: Processed 36 / 181 estimators; last weight: 0.44248173567062743\n",
      "\u001B[1;96m [INFO]\u001B[0m AdaBoostSamme 2024-06-20 07:09:39.980915: Processed 54 / 181 estimators; last weight: 0.15819295860485405\n",
      "\u001B[1;96m [INFO]\u001B[0m AdaBoostSamme 2024-06-20 07:11:00.375322: Processed 72 / 181 estimators; last weight: 0.2636168451996661\n",
      "\u001B[1;96m [INFO]\u001B[0m AdaBoostSamme 2024-06-20 07:12:22.036775: Processed 90 / 181 estimators; last weight: 0.17685596376410295\n",
      "\u001B[1;96m [INFO]\u001B[0m AdaBoostSamme 2024-06-20 07:13:38.547081: Processed 108 / 181 estimators; last weight: 0.12002193645019799\n",
      "\u001B[1;96m [INFO]\u001B[0m AdaBoostSamme 2024-06-20 07:14:55.126764: Processed 126 / 181 estimators; last weight: 0.10731219113592938\n",
      "\u001B[1;96m [INFO]\u001B[0m AdaBoostSamme 2024-06-20 07:16:11.705527: Processed 144 / 181 estimators; last weight: 0.10037999868469583\n",
      "\u001B[1;96m [INFO]\u001B[0m AdaBoostSamme 2024-06-20 07:17:28.250211: Processed 162 / 181 estimators; last weight: 0.09310164759976436\n"
     ]
    },
    {
     "name": "stderr",
     "output_type": "stream",
     "text": [
      "[I 2024-06-20 07:18:44,803] Trial 22 finished with value: 0.7983864012016554 and parameters: {'n_estimators': 181}. Best is trial 17 with value: 0.8217839671821777.\n"
     ]
    },
    {
     "name": "stdout",
     "output_type": "stream",
     "text": [
      "\u001B[1;96m [INFO]\u001B[0m AdaBoostSamme 2024-06-20 07:18:44.772675: Processed 180 / 181 estimators; last weight: 0.08681785477142978\n",
      "\u001B[1;96m [INFO]\u001B[0m AdaBoostSamme 2024-06-20 07:18:44.772675: Processed 181 / 181 estimators\n",
      "\u001B[1;96m [INFO]\u001B[0m AdaBoostSamme 2024-06-20 07:18:48.882121: Processed 0 / 116 estimators; last weight: 2.5716957755883914\n",
      "\u001B[1;96m [INFO]\u001B[0m AdaBoostSamme 2024-06-20 07:19:39.609528: Processed 11 / 116 estimators; last weight: 0.4782527576907183\n",
      "\u001B[1;96m [INFO]\u001B[0m AdaBoostSamme 2024-06-20 07:20:27.991891: Processed 22 / 116 estimators; last weight: 0.5048698227805644\n",
      "\u001B[1;96m [INFO]\u001B[0m AdaBoostSamme 2024-06-20 07:21:17.123130: Processed 33 / 116 estimators; last weight: 0.6618592632727023\n",
      "\u001B[1;96m [INFO]\u001B[0m AdaBoostSamme 2024-06-20 07:22:10.078621: Processed 44 / 116 estimators; last weight: 0.37510666726266795\n",
      "\u001B[1;96m [INFO]\u001B[0m AdaBoostSamme 2024-06-20 07:22:56.969789: Processed 55 / 116 estimators; last weight: 0.14973249747310002\n",
      "\u001B[1;96m [INFO]\u001B[0m AdaBoostSamme 2024-06-20 07:23:44.038863: Processed 66 / 116 estimators; last weight: 0.4767223077273488\n",
      "\u001B[1;96m [INFO]\u001B[0m AdaBoostSamme 2024-06-20 07:24:35.592859: Processed 77 / 116 estimators; last weight: 0.2773463735062711\n",
      "\u001B[1;96m [INFO]\u001B[0m AdaBoostSamme 2024-06-20 07:25:24.791568: Processed 88 / 116 estimators; last weight: 0.1922217511358968\n",
      "\u001B[1;96m [INFO]\u001B[0m AdaBoostSamme 2024-06-20 07:26:12.912456: Processed 99 / 116 estimators; last weight: 0.12303932536918327\n",
      "\u001B[1;96m [INFO]\u001B[0m AdaBoostSamme 2024-06-20 07:26:59.692725: Processed 110 / 116 estimators; last weight: 0.11977893650660576\n"
     ]
    },
    {
     "name": "stderr",
     "output_type": "stream",
     "text": [
      "[I 2024-06-20 07:27:21,025] Trial 23 finished with value: 0.7983864012016554 and parameters: {'n_estimators': 116}. Best is trial 17 with value: 0.8217839671821777.\n"
     ]
    },
    {
     "name": "stdout",
     "output_type": "stream",
     "text": [
      "\u001B[1;96m [INFO]\u001B[0m AdaBoostSamme 2024-06-20 07:27:21.009302: Processed 116 / 116 estimators\n",
      "\u001B[1;96m [INFO]\u001B[0m AdaBoostSamme 2024-06-20 07:27:25.095535: Processed 0 / 148 estimators; last weight: 2.5716957755883914\n",
      "\u001B[1;96m [INFO]\u001B[0m AdaBoostSamme 2024-06-20 07:28:28.325248: Processed 14 / 148 estimators; last weight: 0.6866785440970367\n",
      "\u001B[1;96m [INFO]\u001B[0m AdaBoostSamme 2024-06-20 07:29:30.460580: Processed 28 / 148 estimators; last weight: 0.6634158224585666\n",
      "\u001B[1;96m [INFO]\u001B[0m AdaBoostSamme 2024-06-20 07:30:35.086222: Processed 42 / 148 estimators; last weight: 0.32285012730320073\n",
      "\u001B[1;96m [INFO]\u001B[0m AdaBoostSamme 2024-06-20 07:31:37.023609: Processed 56 / 148 estimators; last weight: 0.14442769993379634\n",
      "\u001B[1;96m [INFO]\u001B[0m AdaBoostSamme 2024-06-20 07:32:40.322459: Processed 70 / 148 estimators; last weight: 0.30730068184835924\n",
      "\u001B[1;96m [INFO]\u001B[0m AdaBoostSamme 2024-06-20 07:33:42.300231: Processed 84 / 148 estimators; last weight: 0.15659314032255156\n",
      "\u001B[1;96m [INFO]\u001B[0m AdaBoostSamme 2024-06-20 07:34:44.312862: Processed 98 / 148 estimators; last weight: 0.13294154359428312\n",
      "\u001B[1;96m [INFO]\u001B[0m AdaBoostSamme 2024-06-20 07:35:43.859648: Processed 112 / 148 estimators; last weight: 0.11430874444317674\n",
      "\u001B[1;96m [INFO]\u001B[0m AdaBoostSamme 2024-06-20 07:36:43.441660: Processed 126 / 148 estimators; last weight: 0.10731219113592938\n",
      "\u001B[1;96m [INFO]\u001B[0m AdaBoostSamme 2024-06-20 07:37:42.980067: Processed 140 / 148 estimators; last weight: 0.10230915072846081\n"
     ]
    },
    {
     "name": "stderr",
     "output_type": "stream",
     "text": [
      "[I 2024-06-20 07:38:12,789] Trial 24 finished with value: 0.7983864012016554 and parameters: {'n_estimators': 148}. Best is trial 17 with value: 0.8217839671821777.\n"
     ]
    },
    {
     "name": "stdout",
     "output_type": "stream",
     "text": [
      "\u001B[1;96m [INFO]\u001B[0m AdaBoostSamme 2024-06-20 07:38:12.757935: Processed 148 / 148 estimators\n",
      "\u001B[1;96m [INFO]\u001B[0m AdaBoostSamme 2024-06-20 07:38:16.873052: Processed 0 / 34 estimators; last weight: 2.5716957755883914\n",
      "\u001B[1;96m [INFO]\u001B[0m AdaBoostSamme 2024-06-20 07:39:02.759563: Processed 10 / 34 estimators; last weight: 0.4304188228392477\n",
      "\u001B[1;96m [INFO]\u001B[0m AdaBoostSamme 2024-06-20 07:39:46.872889: Processed 20 / 34 estimators; last weight: 0.4562326815210359\n",
      "\u001B[1;96m [INFO]\u001B[0m AdaBoostSamme 2024-06-20 07:40:31.284672: Processed 30 / 34 estimators; last weight: 0.4684730849790263\n"
     ]
    },
    {
     "name": "stderr",
     "output_type": "stream",
     "text": [
      "[I 2024-06-20 07:40:44,873] Trial 25 finished with value: 0.8304278037546234 and parameters: {'n_estimators': 34}. Best is trial 25 with value: 0.8304278037546234.\n"
     ]
    },
    {
     "name": "stdout",
     "output_type": "stream",
     "text": [
      "\u001B[1;96m [INFO]\u001B[0m AdaBoostSamme 2024-06-20 07:40:44.857478: Processed 34 / 34 estimators\n",
      "\u001B[1;96m [INFO]\u001B[0m AdaBoostSamme 2024-06-20 07:40:48.972321: Processed 0 / 4 estimators; last weight: 2.5716957755883914\n"
     ]
    },
    {
     "name": "stderr",
     "output_type": "stream",
     "text": [
      "[I 2024-06-20 07:41:02,051] Trial 26 finished with value: 0.7923544935918709 and parameters: {'n_estimators': 4}. Best is trial 25 with value: 0.8304278037546234.\n"
     ]
    },
    {
     "name": "stdout",
     "output_type": "stream",
     "text": [
      "\u001B[1;96m [INFO]\u001B[0m AdaBoostSamme 2024-06-20 07:41:02.051502: Processed 4 / 4 estimators\n",
      "\u001B[1;96m [INFO]\u001B[0m AdaBoostSamme 2024-06-20 07:41:06.140670: Processed 0 / 34 estimators; last weight: 2.5716957755883914\n",
      "\u001B[1;96m [INFO]\u001B[0m AdaBoostSamme 2024-06-20 07:41:52.003337: Processed 10 / 34 estimators; last weight: 0.4304188228392477\n",
      "\u001B[1;96m [INFO]\u001B[0m AdaBoostSamme 2024-06-20 07:42:36.195567: Processed 20 / 34 estimators; last weight: 0.4562326815210359\n",
      "\u001B[1;96m [INFO]\u001B[0m AdaBoostSamme 2024-06-20 07:43:20.585129: Processed 30 / 34 estimators; last weight: 0.4684730849790263\n"
     ]
    },
    {
     "name": "stderr",
     "output_type": "stream",
     "text": [
      "[I 2024-06-20 07:43:34,230] Trial 27 finished with value: 0.8304278037546234 and parameters: {'n_estimators': 34}. Best is trial 25 with value: 0.8304278037546234.\n"
     ]
    },
    {
     "name": "stdout",
     "output_type": "stream",
     "text": [
      "\u001B[1;96m [INFO]\u001B[0m AdaBoostSamme 2024-06-20 07:43:34.230461: Processed 34 / 34 estimators\n",
      "\u001B[1;96m [INFO]\u001B[0m AdaBoostSamme 2024-06-20 07:43:38.325375: Processed 0 / 27 estimators; last weight: 2.5716957755883914\n",
      "\u001B[1;96m [INFO]\u001B[0m AdaBoostSamme 2024-06-20 07:44:24.345651: Processed 10 / 27 estimators; last weight: 0.4304188228392477\n",
      "\u001B[1;96m [INFO]\u001B[0m AdaBoostSamme 2024-06-20 07:45:08.522033: Processed 20 / 27 estimators; last weight: 0.4562326815210359\n"
     ]
    },
    {
     "name": "stderr",
     "output_type": "stream",
     "text": [
      "[I 2024-06-20 07:45:35,368] Trial 28 finished with value: 0.7587157937658573 and parameters: {'n_estimators': 27}. Best is trial 25 with value: 0.8304278037546234.\n"
     ]
    },
    {
     "name": "stdout",
     "output_type": "stream",
     "text": [
      "\u001B[1;96m [INFO]\u001B[0m AdaBoostSamme 2024-06-20 07:45:35.368324: Processed 27 / 27 estimators\n",
      "\u001B[1;96m [INFO]\u001B[0m AdaBoostSamme 2024-06-20 07:45:39.459315: Processed 0 / 47 estimators; last weight: 2.5716957755883914\n",
      "\u001B[1;96m [INFO]\u001B[0m AdaBoostSamme 2024-06-20 07:46:25.307039: Processed 10 / 47 estimators; last weight: 0.4304188228392477\n",
      "\u001B[1;96m [INFO]\u001B[0m AdaBoostSamme 2024-06-20 07:47:09.484978: Processed 20 / 47 estimators; last weight: 0.4562326815210359\n",
      "\u001B[1;96m [INFO]\u001B[0m AdaBoostSamme 2024-06-20 07:47:53.965527: Processed 30 / 47 estimators; last weight: 0.4684730849790263\n",
      "\u001B[1;96m [INFO]\u001B[0m AdaBoostSamme 2024-06-20 07:48:41.021588: Processed 40 / 47 estimators; last weight: 0.47652171694606027\n"
     ]
    },
    {
     "name": "stderr",
     "output_type": "stream",
     "text": [
      "[I 2024-06-20 07:49:09,038] Trial 29 finished with value: 0.7693324520819563 and parameters: {'n_estimators': 47}. Best is trial 25 with value: 0.8304278037546234.\n"
     ]
    },
    {
     "name": "stdout",
     "output_type": "stream",
     "text": [
      "\u001B[1;96m [INFO]\u001B[0m AdaBoostSamme 2024-06-20 07:49:09.038802: Processed 47 / 47 estimators\n",
      "\u001B[1;96m [INFO]\u001B[0m AdaBoostSamme 2024-06-20 07:49:13.132218: Processed 0 / 39 estimators; last weight: 2.5716957755883914\n",
      "\u001B[1;96m [INFO]\u001B[0m AdaBoostSamme 2024-06-20 07:49:58.972937: Processed 10 / 39 estimators; last weight: 0.4304188228392477\n",
      "\u001B[1;96m [INFO]\u001B[0m AdaBoostSamme 2024-06-20 07:50:43.184552: Processed 20 / 39 estimators; last weight: 0.4562326815210359\n",
      "\u001B[1;96m [INFO]\u001B[0m AdaBoostSamme 2024-06-20 07:51:27.726760: Processed 30 / 39 estimators; last weight: 0.4684730849790263\n"
     ]
    },
    {
     "name": "stderr",
     "output_type": "stream",
     "text": [
      "[I 2024-06-20 07:52:04,436] Trial 30 finished with value: 0.7909116659942832 and parameters: {'n_estimators': 39}. Best is trial 25 with value: 0.8304278037546234.\n"
     ]
    },
    {
     "name": "stdout",
     "output_type": "stream",
     "text": [
      "\u001B[1;96m [INFO]\u001B[0m AdaBoostSamme 2024-06-20 07:52:04.420920: Processed 39 / 39 estimators\n",
      "\u001B[1;96m [INFO]\u001B[0m AdaBoostSamme 2024-06-20 07:52:08.532692: Processed 0 / 83 estimators; last weight: 2.5716957755883914\n",
      "\u001B[1;96m [INFO]\u001B[0m AdaBoostSamme 2024-06-20 07:52:54.603505: Processed 10 / 83 estimators; last weight: 0.4304188228392477\n",
      "\u001B[1;96m [INFO]\u001B[0m AdaBoostSamme 2024-06-20 07:53:38.780572: Processed 20 / 83 estimators; last weight: 0.4562326815210359\n",
      "\u001B[1;96m [INFO]\u001B[0m AdaBoostSamme 2024-06-20 07:54:23.200668: Processed 30 / 83 estimators; last weight: 0.4684730849790263\n",
      "\u001B[1;96m [INFO]\u001B[0m AdaBoostSamme 2024-06-20 07:55:10.190174: Processed 40 / 83 estimators; last weight: 0.47652171694606027\n",
      "\u001B[1;96m [INFO]\u001B[0m AdaBoostSamme 2024-06-20 07:55:55.315090: Processed 50 / 83 estimators; last weight: 0.16606549445236096\n",
      "\u001B[1;96m [INFO]\u001B[0m AdaBoostSamme 2024-06-20 07:56:37.760867: Processed 60 / 83 estimators; last weight: 0.14353440212950463\n",
      "\u001B[1;96m [INFO]\u001B[0m AdaBoostSamme 2024-06-20 07:57:24.125012: Processed 70 / 83 estimators; last weight: 0.30730068184835924\n",
      "\u001B[1;96m [INFO]\u001B[0m AdaBoostSamme 2024-06-20 07:58:09.034528: Processed 80 / 83 estimators; last weight: 0.24291482168197143\n"
     ]
    },
    {
     "name": "stderr",
     "output_type": "stream",
     "text": [
      "[I 2024-06-20 07:58:17,536] Trial 31 finished with value: 0.7596462839300773 and parameters: {'n_estimators': 83}. Best is trial 25 with value: 0.8304278037546234.\n"
     ]
    },
    {
     "name": "stdout",
     "output_type": "stream",
     "text": [
      "\u001B[1;96m [INFO]\u001B[0m AdaBoostSamme 2024-06-20 07:58:17.521135: Processed 83 / 83 estimators\n",
      "\u001B[1;96m [INFO]\u001B[0m AdaBoostSamme 2024-06-20 07:58:21.664871: Processed 0 / 13 estimators; last weight: 2.5716957755883914\n",
      "\u001B[1;96m [INFO]\u001B[0m AdaBoostSamme 2024-06-20 07:59:07.484508: Processed 10 / 13 estimators; last weight: 0.4304188228392477\n"
     ]
    },
    {
     "name": "stderr",
     "output_type": "stream",
     "text": [
      "[I 2024-06-20 07:59:16,183] Trial 32 finished with value: 0.7779613315638269 and parameters: {'n_estimators': 13}. Best is trial 25 with value: 0.8304278037546234.\n"
     ]
    },
    {
     "name": "stdout",
     "output_type": "stream",
     "text": [
      "\u001B[1;96m [INFO]\u001B[0m AdaBoostSamme 2024-06-20 07:59:16.183480: Processed 13 / 13 estimators\n",
      "\u001B[1;96m [INFO]\u001B[0m AdaBoostSamme 2024-06-20 07:59:20.281188: Processed 0 / 31 estimators; last weight: 2.5716957755883914\n",
      "\u001B[1;96m [INFO]\u001B[0m AdaBoostSamme 2024-06-20 08:00:06.218991: Processed 10 / 31 estimators; last weight: 0.4304188228392477\n",
      "\u001B[1;96m [INFO]\u001B[0m AdaBoostSamme 2024-06-20 08:00:50.403453: Processed 20 / 31 estimators; last weight: 0.4562326815210359\n"
     ]
    },
    {
     "name": "stderr",
     "output_type": "stream",
     "text": [
      "[I 2024-06-20 08:01:34,812] Trial 33 finished with value: 0.7971930842903935 and parameters: {'n_estimators': 31}. Best is trial 25 with value: 0.8304278037546234.\n"
     ]
    },
    {
     "name": "stdout",
     "output_type": "stream",
     "text": [
      "\u001B[1;96m [INFO]\u001B[0m AdaBoostSamme 2024-06-20 08:01:34.812802: Processed 30 / 31 estimators; last weight: 0.4684730849790263\n",
      "\u001B[1;96m [INFO]\u001B[0m AdaBoostSamme 2024-06-20 08:01:34.812802: Processed 31 / 31 estimators\n",
      "\u001B[1;96m [INFO]\u001B[0m AdaBoostSamme 2024-06-20 08:01:38.914279: Processed 0 / 68 estimators; last weight: 2.5716957755883914\n",
      "\u001B[1;96m [INFO]\u001B[0m AdaBoostSamme 2024-06-20 08:02:24.799532: Processed 10 / 68 estimators; last weight: 0.4304188228392477\n",
      "\u001B[1;96m [INFO]\u001B[0m AdaBoostSamme 2024-06-20 08:03:08.920070: Processed 20 / 68 estimators; last weight: 0.4562326815210359\n",
      "\u001B[1;96m [INFO]\u001B[0m AdaBoostSamme 2024-06-20 08:03:53.353351: Processed 30 / 68 estimators; last weight: 0.4684730849790263\n",
      "\u001B[1;96m [INFO]\u001B[0m AdaBoostSamme 2024-06-20 08:04:40.466731: Processed 40 / 68 estimators; last weight: 0.47652171694606027\n",
      "\u001B[1;96m [INFO]\u001B[0m AdaBoostSamme 2024-06-20 08:05:25.477348: Processed 50 / 68 estimators; last weight: 0.16606549445236096\n",
      "\u001B[1;96m [INFO]\u001B[0m AdaBoostSamme 2024-06-20 08:06:07.987284: Processed 60 / 68 estimators; last weight: 0.14353440212950463\n"
     ]
    },
    {
     "name": "stderr",
     "output_type": "stream",
     "text": [
      "[I 2024-06-20 08:06:37,929] Trial 34 finished with value: 0.7596462839300773 and parameters: {'n_estimators': 68}. Best is trial 25 with value: 0.8304278037546234.\n"
     ]
    },
    {
     "name": "stdout",
     "output_type": "stream",
     "text": [
      "\u001B[1;96m [INFO]\u001B[0m AdaBoostSamme 2024-06-20 08:06:37.913495: Processed 68 / 68 estimators\n",
      "\u001B[1;96m [INFO]\u001B[0m AdaBoostSamme 2024-06-20 08:06:42.031018: Processed 0 / 14 estimators; last weight: 2.5716957755883914\n",
      "\u001B[1;96m [INFO]\u001B[0m AdaBoostSamme 2024-06-20 08:07:27.882559: Processed 10 / 14 estimators; last weight: 0.4304188228392477\n"
     ]
    },
    {
     "name": "stderr",
     "output_type": "stream",
     "text": [
      "[I 2024-06-20 08:07:41,074] Trial 35 finished with value: 0.8203419856297269 and parameters: {'n_estimators': 14}. Best is trial 25 with value: 0.8304278037546234.\n"
     ]
    },
    {
     "name": "stdout",
     "output_type": "stream",
     "text": [
      "\u001B[1;96m [INFO]\u001B[0m AdaBoostSamme 2024-06-20 08:07:41.058222: Processed 14 / 14 estimators\n",
      "\u001B[1;96m [INFO]\u001B[0m AdaBoostSamme 2024-06-20 08:07:45.148832: Processed 0 / 14 estimators; last weight: 2.5716957755883914\n",
      "\u001B[1;96m [INFO]\u001B[0m AdaBoostSamme 2024-06-20 08:08:31.079616: Processed 10 / 14 estimators; last weight: 0.4304188228392477\n"
     ]
    },
    {
     "name": "stderr",
     "output_type": "stream",
     "text": [
      "[I 2024-06-20 08:08:44,248] Trial 36 finished with value: 0.8203419856297269 and parameters: {'n_estimators': 14}. Best is trial 25 with value: 0.8304278037546234.\n"
     ]
    },
    {
     "name": "stdout",
     "output_type": "stream",
     "text": [
      "\u001B[1;96m [INFO]\u001B[0m AdaBoostSamme 2024-06-20 08:08:44.248845: Processed 14 / 14 estimators\n",
      "\u001B[1;96m [INFO]\u001B[0m AdaBoostSamme 2024-06-20 08:08:48.336232: Processed 0 / 39 estimators; last weight: 2.5716957755883914\n",
      "\u001B[1;96m [INFO]\u001B[0m AdaBoostSamme 2024-06-20 08:09:34.218080: Processed 10 / 39 estimators; last weight: 0.4304188228392477\n",
      "\u001B[1;96m [INFO]\u001B[0m AdaBoostSamme 2024-06-20 08:10:18.350633: Processed 20 / 39 estimators; last weight: 0.4562326815210359\n",
      "\u001B[1;96m [INFO]\u001B[0m AdaBoostSamme 2024-06-20 08:11:02.781635: Processed 30 / 39 estimators; last weight: 0.4684730849790263\n"
     ]
    },
    {
     "name": "stderr",
     "output_type": "stream",
     "text": [
      "[I 2024-06-20 08:11:39,557] Trial 37 finished with value: 0.7909116659942832 and parameters: {'n_estimators': 39}. Best is trial 25 with value: 0.8304278037546234.\n"
     ]
    },
    {
     "name": "stdout",
     "output_type": "stream",
     "text": [
      "\u001B[1;96m [INFO]\u001B[0m AdaBoostSamme 2024-06-20 08:11:39.550602: Processed 39 / 39 estimators\n",
      "\u001B[1;96m [INFO]\u001B[0m AdaBoostSamme 2024-06-20 08:11:43.659310: Processed 0 / 16 estimators; last weight: 2.5716957755883914\n",
      "\u001B[1;96m [INFO]\u001B[0m AdaBoostSamme 2024-06-20 08:12:29.748617: Processed 10 / 16 estimators; last weight: 0.4304188228392477\n"
     ]
    },
    {
     "name": "stderr",
     "output_type": "stream",
     "text": [
      "[I 2024-06-20 08:12:51,493] Trial 38 finished with value: 0.7781479682351948 and parameters: {'n_estimators': 16}. Best is trial 25 with value: 0.8304278037546234.\n"
     ]
    },
    {
     "name": "stdout",
     "output_type": "stream",
     "text": [
      "\u001B[1;96m [INFO]\u001B[0m AdaBoostSamme 2024-06-20 08:12:51.493260: Processed 16 / 16 estimators\n",
      "\u001B[1;96m [INFO]\u001B[0m AdaBoostSamme 2024-06-20 08:12:55.573169: Processed 0 / 2 estimators; last weight: 2.5716957755883914\n"
     ]
    },
    {
     "name": "stderr",
     "output_type": "stream",
     "text": [
      "[I 2024-06-20 08:12:59,676] Trial 39 finished with value: 0.8217839671821777 and parameters: {'n_estimators': 2}. Best is trial 25 with value: 0.8304278037546234.\n"
     ]
    },
    {
     "name": "stdout",
     "output_type": "stream",
     "text": [
      "\u001B[1;96m [INFO]\u001B[0m AdaBoostSamme 2024-06-20 08:12:59.674954: Processed 2 / 2 estimators\n"
     ]
    },
    {
     "name": "stderr",
     "output_type": "stream",
     "text": [
      "[I 2024-06-20 08:13:03,759] Trial 40 finished with value: 0.8217839671821777 and parameters: {'n_estimators': 1}. Best is trial 25 with value: 0.8304278037546234.\n"
     ]
    },
    {
     "name": "stdout",
     "output_type": "stream",
     "text": [
      "\u001B[1;96m [INFO]\u001B[0m AdaBoostSamme 2024-06-20 08:13:03.759493: Processed 0 / 1 estimators; last weight: 2.5716957755883914\n",
      "\u001B[1;96m [INFO]\u001B[0m AdaBoostSamme 2024-06-20 08:13:03.759493: Processed 1 / 1 estimators\n",
      "\u001B[1;96m [INFO]\u001B[0m AdaBoostSamme 2024-06-20 08:13:07.830658: Processed 0 / 2 estimators; last weight: 2.5716957755883914\n"
     ]
    },
    {
     "name": "stderr",
     "output_type": "stream",
     "text": [
      "[I 2024-06-20 08:13:11,920] Trial 41 finished with value: 0.8217839671821777 and parameters: {'n_estimators': 2}. Best is trial 25 with value: 0.8304278037546234.\n"
     ]
    },
    {
     "name": "stdout",
     "output_type": "stream",
     "text": [
      "\u001B[1;96m [INFO]\u001B[0m AdaBoostSamme 2024-06-20 08:13:11.920787: Processed 2 / 2 estimators\n",
      "\u001B[1;96m [INFO]\u001B[0m AdaBoostSamme 2024-06-20 08:13:16.045234: Processed 0 / 34 estimators; last weight: 2.5716957755883914\n",
      "\u001B[1;96m [INFO]\u001B[0m AdaBoostSamme 2024-06-20 08:14:01.975701: Processed 10 / 34 estimators; last weight: 0.4304188228392477\n",
      "\u001B[1;96m [INFO]\u001B[0m AdaBoostSamme 2024-06-20 08:14:46.145411: Processed 20 / 34 estimators; last weight: 0.4562326815210359\n",
      "\u001B[1;96m [INFO]\u001B[0m AdaBoostSamme 2024-06-20 08:15:30.686459: Processed 30 / 34 estimators; last weight: 0.4684730849790263\n"
     ]
    },
    {
     "name": "stderr",
     "output_type": "stream",
     "text": [
      "[I 2024-06-20 08:15:44,310] Trial 42 finished with value: 0.8304278037546234 and parameters: {'n_estimators': 34}. Best is trial 25 with value: 0.8304278037546234.\n"
     ]
    },
    {
     "name": "stdout",
     "output_type": "stream",
     "text": [
      "\u001B[1;96m [INFO]\u001B[0m AdaBoostSamme 2024-06-20 08:15:44.310934: Processed 34 / 34 estimators\n",
      "\u001B[1;96m [INFO]\u001B[0m AdaBoostSamme 2024-06-20 08:15:48.385709: Processed 0 / 35 estimators; last weight: 2.5716957755883914\n",
      "\u001B[1;96m [INFO]\u001B[0m AdaBoostSamme 2024-06-20 08:16:34.239738: Processed 10 / 35 estimators; last weight: 0.4304188228392477\n",
      "\u001B[1;96m [INFO]\u001B[0m AdaBoostSamme 2024-06-20 08:17:18.373218: Processed 20 / 35 estimators; last weight: 0.4562326815210359\n",
      "\u001B[1;96m [INFO]\u001B[0m AdaBoostSamme 2024-06-20 08:18:02.778254: Processed 30 / 35 estimators; last weight: 0.4684730849790263\n"
     ]
    },
    {
     "name": "stderr",
     "output_type": "stream",
     "text": [
      "[I 2024-06-20 08:18:20,820] Trial 43 finished with value: 0.8304278037546234 and parameters: {'n_estimators': 35}. Best is trial 25 with value: 0.8304278037546234.\n"
     ]
    },
    {
     "name": "stdout",
     "output_type": "stream",
     "text": [
      "\u001B[1;96m [INFO]\u001B[0m AdaBoostSamme 2024-06-20 08:18:20.820859: Processed 35 / 35 estimators\n",
      "\u001B[1;96m [INFO]\u001B[0m AdaBoostSamme 2024-06-20 08:18:25.026830: Processed 0 / 35 estimators; last weight: 2.5716957755883914\n",
      "\u001B[1;96m [INFO]\u001B[0m AdaBoostSamme 2024-06-20 08:19:10.930061: Processed 10 / 35 estimators; last weight: 0.4304188228392477\n",
      "\u001B[1;96m [INFO]\u001B[0m AdaBoostSamme 2024-06-20 08:19:55.133853: Processed 20 / 35 estimators; last weight: 0.4562326815210359\n",
      "\u001B[1;96m [INFO]\u001B[0m AdaBoostSamme 2024-06-20 08:20:39.561798: Processed 30 / 35 estimators; last weight: 0.4684730849790263\n"
     ]
    },
    {
     "name": "stderr",
     "output_type": "stream",
     "text": [
      "[I 2024-06-20 08:20:57,602] Trial 44 finished with value: 0.8304278037546234 and parameters: {'n_estimators': 35}. Best is trial 25 with value: 0.8304278037546234.\n"
     ]
    },
    {
     "name": "stdout",
     "output_type": "stream",
     "text": [
      "\u001B[1;96m [INFO]\u001B[0m AdaBoostSamme 2024-06-20 08:20:57.602410: Processed 35 / 35 estimators\n",
      "\u001B[1;96m [INFO]\u001B[0m AdaBoostSamme 2024-06-20 08:21:01.680358: Processed 0 / 54 estimators; last weight: 2.5716957755883914\n",
      "\u001B[1;96m [INFO]\u001B[0m AdaBoostSamme 2024-06-20 08:21:47.526459: Processed 10 / 54 estimators; last weight: 0.4304188228392477\n",
      "\u001B[1;96m [INFO]\u001B[0m AdaBoostSamme 2024-06-20 08:22:31.678540: Processed 20 / 54 estimators; last weight: 0.4562326815210359\n",
      "\u001B[1;96m [INFO]\u001B[0m AdaBoostSamme 2024-06-20 08:23:16.077270: Processed 30 / 54 estimators; last weight: 0.4684730849790263\n",
      "\u001B[1;96m [INFO]\u001B[0m AdaBoostSamme 2024-06-20 08:24:03.150160: Processed 40 / 54 estimators; last weight: 0.47652171694606027\n",
      "\u001B[1;96m [INFO]\u001B[0m AdaBoostSamme 2024-06-20 08:24:48.178455: Processed 50 / 54 estimators; last weight: 0.16606549445236096\n"
     ]
    },
    {
     "name": "stderr",
     "output_type": "stream",
     "text": [
      "[I 2024-06-20 08:25:00,958] Trial 45 finished with value: 0.7693324520819563 and parameters: {'n_estimators': 54}. Best is trial 25 with value: 0.8304278037546234.\n"
     ]
    },
    {
     "name": "stdout",
     "output_type": "stream",
     "text": [
      "\u001B[1;96m [INFO]\u001B[0m AdaBoostSamme 2024-06-20 08:25:00.943231: Processed 54 / 54 estimators\n",
      "\u001B[1;96m [INFO]\u001B[0m AdaBoostSamme 2024-06-20 08:25:05.165094: Processed 0 / 35 estimators; last weight: 2.5716957755883914\n",
      "\u001B[1;96m [INFO]\u001B[0m AdaBoostSamme 2024-06-20 08:25:51.014572: Processed 10 / 35 estimators; last weight: 0.4304188228392477\n",
      "\u001B[1;96m [INFO]\u001B[0m AdaBoostSamme 2024-06-20 08:26:35.231660: Processed 20 / 35 estimators; last weight: 0.4562326815210359\n",
      "\u001B[1;96m [INFO]\u001B[0m AdaBoostSamme 2024-06-20 08:27:19.631202: Processed 30 / 35 estimators; last weight: 0.4684730849790263\n"
     ]
    },
    {
     "name": "stderr",
     "output_type": "stream",
     "text": [
      "[I 2024-06-20 08:27:37,704] Trial 46 finished with value: 0.8304278037546234 and parameters: {'n_estimators': 35}. Best is trial 25 with value: 0.8304278037546234.\n"
     ]
    },
    {
     "name": "stdout",
     "output_type": "stream",
     "text": [
      "\u001B[1;96m [INFO]\u001B[0m AdaBoostSamme 2024-06-20 08:27:37.688597: Processed 35 / 35 estimators\n",
      "\u001B[1;96m [INFO]\u001B[0m AdaBoostSamme 2024-06-20 08:27:41.791312: Processed 0 / 67 estimators; last weight: 2.5716957755883914\n",
      "\u001B[1;96m [INFO]\u001B[0m AdaBoostSamme 2024-06-20 08:28:27.656993: Processed 10 / 67 estimators; last weight: 0.4304188228392477\n",
      "\u001B[1;96m [INFO]\u001B[0m AdaBoostSamme 2024-06-20 08:29:11.866352: Processed 20 / 67 estimators; last weight: 0.4562326815210359\n",
      "\u001B[1;96m [INFO]\u001B[0m AdaBoostSamme 2024-06-20 08:29:56.219112: Processed 30 / 67 estimators; last weight: 0.4684730849790263\n",
      "\u001B[1;96m [INFO]\u001B[0m AdaBoostSamme 2024-06-20 08:30:43.248587: Processed 40 / 67 estimators; last weight: 0.47652171694606027\n",
      "\u001B[1;96m [INFO]\u001B[0m AdaBoostSamme 2024-06-20 08:31:28.250588: Processed 50 / 67 estimators; last weight: 0.16606549445236096\n",
      "\u001B[1;96m [INFO]\u001B[0m AdaBoostSamme 2024-06-20 08:32:10.778356: Processed 60 / 67 estimators; last weight: 0.14353440212950463\n"
     ]
    },
    {
     "name": "stderr",
     "output_type": "stream",
     "text": [
      "[I 2024-06-20 08:32:36,572] Trial 47 finished with value: 0.782173222648791 and parameters: {'n_estimators': 67}. Best is trial 25 with value: 0.8304278037546234.\n"
     ]
    },
    {
     "name": "stdout",
     "output_type": "stream",
     "text": [
      "\u001B[1;96m [INFO]\u001B[0m AdaBoostSamme 2024-06-20 08:32:36.572359: Processed 67 / 67 estimators\n",
      "\u001B[1;96m [INFO]\u001B[0m AdaBoostSamme 2024-06-20 08:32:40.668611: Processed 0 / 45 estimators; last weight: 2.5716957755883914\n",
      "\u001B[1;96m [INFO]\u001B[0m AdaBoostSamme 2024-06-20 08:33:26.505454: Processed 10 / 45 estimators; last weight: 0.4304188228392477\n",
      "\u001B[1;96m [INFO]\u001B[0m AdaBoostSamme 2024-06-20 08:34:10.683084: Processed 20 / 45 estimators; last weight: 0.4562326815210359\n",
      "\u001B[1;96m [INFO]\u001B[0m AdaBoostSamme 2024-06-20 08:34:55.257372: Processed 30 / 45 estimators; last weight: 0.4684730849790263\n",
      "\u001B[1;96m [INFO]\u001B[0m AdaBoostSamme 2024-06-20 08:35:42.358150: Processed 40 / 45 estimators; last weight: 0.47652171694606027\n"
     ]
    },
    {
     "name": "stderr",
     "output_type": "stream",
     "text": [
      "[I 2024-06-20 08:36:01,872] Trial 48 finished with value: 0.7693324520819563 and parameters: {'n_estimators': 45}. Best is trial 25 with value: 0.8304278037546234.\n"
     ]
    },
    {
     "name": "stdout",
     "output_type": "stream",
     "text": [
      "\u001B[1;96m [INFO]\u001B[0m AdaBoostSamme 2024-06-20 08:36:01.856996: Processed 45 / 45 estimators\n",
      "\u001B[1;96m [INFO]\u001B[0m AdaBoostSamme 2024-06-20 08:36:05.949246: Processed 0 / 24 estimators; last weight: 2.5716957755883914\n",
      "\u001B[1;96m [INFO]\u001B[0m AdaBoostSamme 2024-06-20 08:36:51.806376: Processed 10 / 24 estimators; last weight: 0.4304188228392477\n",
      "\u001B[1;96m [INFO]\u001B[0m AdaBoostSamme 2024-06-20 08:37:35.965259: Processed 20 / 24 estimators; last weight: 0.4562326815210359\n"
     ]
    },
    {
     "name": "stderr",
     "output_type": "stream",
     "text": [
      "[I 2024-06-20 08:37:49,356] Trial 49 finished with value: 0.7438441310064547 and parameters: {'n_estimators': 24}. Best is trial 25 with value: 0.8304278037546234.\n"
     ]
    },
    {
     "name": "stdout",
     "output_type": "stream",
     "text": [
      "\u001B[1;96m [INFO]\u001B[0m AdaBoostSamme 2024-06-20 08:37:49.356244: Processed 24 / 24 estimators\n",
      "\u001B[1;96m [INFO]\u001B[0m AdaBoostSamme 2024-06-20 08:37:53.466154: Processed 0 / 95 estimators; last weight: 2.5716957755883914\n",
      "\u001B[1;96m [INFO]\u001B[0m AdaBoostSamme 2024-06-20 08:38:39.337625: Processed 10 / 95 estimators; last weight: 0.4304188228392477\n",
      "\u001B[1;96m [INFO]\u001B[0m AdaBoostSamme 2024-06-20 08:39:23.586088: Processed 20 / 95 estimators; last weight: 0.4562326815210359\n",
      "\u001B[1;96m [INFO]\u001B[0m AdaBoostSamme 2024-06-20 08:40:07.993526: Processed 30 / 95 estimators; last weight: 0.4684730849790263\n",
      "\u001B[1;96m [INFO]\u001B[0m AdaBoostSamme 2024-06-20 08:40:55.046477: Processed 40 / 95 estimators; last weight: 0.47652171694606027\n",
      "\u001B[1;96m [INFO]\u001B[0m AdaBoostSamme 2024-06-20 08:41:40.112126: Processed 50 / 95 estimators; last weight: 0.16606549445236096\n",
      "\u001B[1;96m [INFO]\u001B[0m AdaBoostSamme 2024-06-20 08:42:22.930688: Processed 60 / 95 estimators; last weight: 0.14353440212950463\n",
      "\u001B[1;96m [INFO]\u001B[0m AdaBoostSamme 2024-06-20 08:43:09.298288: Processed 70 / 95 estimators; last weight: 0.30730068184835924\n",
      "\u001B[1;96m [INFO]\u001B[0m AdaBoostSamme 2024-06-20 08:43:54.278939: Processed 80 / 95 estimators; last weight: 0.24291482168197143\n",
      "\u001B[1;96m [INFO]\u001B[0m AdaBoostSamme 2024-06-20 08:44:39.211620: Processed 90 / 95 estimators; last weight: 0.17685596376410295\n"
     ]
    },
    {
     "name": "stderr",
     "output_type": "stream",
     "text": [
      "[I 2024-06-20 08:44:56,246] Trial 50 finished with value: 0.7983864012016554 and parameters: {'n_estimators': 95}. Best is trial 25 with value: 0.8304278037546234.\n"
     ]
    },
    {
     "name": "stdout",
     "output_type": "stream",
     "text": [
      "\u001B[1;96m [INFO]\u001B[0m AdaBoostSamme 2024-06-20 08:44:56.231564: Processed 95 / 95 estimators\n",
      "\u001B[1;96m [INFO]\u001B[0m AdaBoostSamme 2024-06-20 08:45:00.340887: Processed 0 / 34 estimators; last weight: 2.5716957755883914\n",
      "\u001B[1;96m [INFO]\u001B[0m AdaBoostSamme 2024-06-20 08:45:46.225966: Processed 10 / 34 estimators; last weight: 0.4304188228392477\n",
      "\u001B[1;96m [INFO]\u001B[0m AdaBoostSamme 2024-06-20 08:46:30.439117: Processed 20 / 34 estimators; last weight: 0.4562326815210359\n",
      "\u001B[1;96m [INFO]\u001B[0m AdaBoostSamme 2024-06-20 08:47:14.867257: Processed 30 / 34 estimators; last weight: 0.4684730849790263\n"
     ]
    },
    {
     "name": "stderr",
     "output_type": "stream",
     "text": [
      "[I 2024-06-20 08:47:28,502] Trial 51 finished with value: 0.8304278037546234 and parameters: {'n_estimators': 34}. Best is trial 25 with value: 0.8304278037546234.\n"
     ]
    },
    {
     "name": "stdout",
     "output_type": "stream",
     "text": [
      "\u001B[1;96m [INFO]\u001B[0m AdaBoostSamme 2024-06-20 08:47:28.502840: Processed 34 / 34 estimators\n",
      "\u001B[1;96m [INFO]\u001B[0m AdaBoostSamme 2024-06-20 08:47:32.591632: Processed 0 / 36 estimators; last weight: 2.5716957755883914\n",
      "\u001B[1;96m [INFO]\u001B[0m AdaBoostSamme 2024-06-20 08:48:18.517577: Processed 10 / 36 estimators; last weight: 0.4304188228392477\n",
      "\u001B[1;96m [INFO]\u001B[0m AdaBoostSamme 2024-06-20 08:49:02.703988: Processed 20 / 36 estimators; last weight: 0.4562326815210359\n",
      "\u001B[1;96m [INFO]\u001B[0m AdaBoostSamme 2024-06-20 08:49:47.100909: Processed 30 / 36 estimators; last weight: 0.4684730849790263\n"
     ]
    },
    {
     "name": "stderr",
     "output_type": "stream",
     "text": [
      "[I 2024-06-20 08:50:10,058] Trial 52 finished with value: 0.8123761218084105 and parameters: {'n_estimators': 36}. Best is trial 25 with value: 0.8304278037546234.\n"
     ]
    },
    {
     "name": "stdout",
     "output_type": "stream",
     "text": [
      "\u001B[1;96m [INFO]\u001B[0m AdaBoostSamme 2024-06-20 08:50:10.058191: Processed 36 / 36 estimators\n",
      "\u001B[1;96m [INFO]\u001B[0m AdaBoostSamme 2024-06-20 08:50:14.160809: Processed 0 / 56 estimators; last weight: 2.5716957755883914\n",
      "\u001B[1;96m [INFO]\u001B[0m AdaBoostSamme 2024-06-20 08:51:00.001276: Processed 10 / 56 estimators; last weight: 0.4304188228392477\n",
      "\u001B[1;96m [INFO]\u001B[0m AdaBoostSamme 2024-06-20 08:51:44.169460: Processed 20 / 56 estimators; last weight: 0.4562326815210359\n",
      "\u001B[1;96m [INFO]\u001B[0m AdaBoostSamme 2024-06-20 08:52:28.610445: Processed 30 / 56 estimators; last weight: 0.4684730849790263\n",
      "\u001B[1;96m [INFO]\u001B[0m AdaBoostSamme 2024-06-20 08:53:15.622549: Processed 40 / 56 estimators; last weight: 0.47652171694606027\n",
      "\u001B[1;96m [INFO]\u001B[0m AdaBoostSamme 2024-06-20 08:54:00.643752: Processed 50 / 56 estimators; last weight: 0.16606549445236096\n"
     ]
    },
    {
     "name": "stderr",
     "output_type": "stream",
     "text": [
      "[I 2024-06-20 08:54:21,883] Trial 53 finished with value: 0.7740467609558134 and parameters: {'n_estimators': 56}. Best is trial 25 with value: 0.8304278037546234.\n"
     ]
    },
    {
     "name": "stdout",
     "output_type": "stream",
     "text": [
      "\u001B[1;96m [INFO]\u001B[0m AdaBoostSamme 2024-06-20 08:54:21.877638: Processed 56 / 56 estimators\n",
      "\u001B[1;96m [INFO]\u001B[0m AdaBoostSamme 2024-06-20 08:54:26.006223: Processed 0 / 24 estimators; last weight: 2.5716957755883914\n",
      "\u001B[1;96m [INFO]\u001B[0m AdaBoostSamme 2024-06-20 08:55:11.887214: Processed 10 / 24 estimators; last weight: 0.4304188228392477\n",
      "\u001B[1;96m [INFO]\u001B[0m AdaBoostSamme 2024-06-20 08:55:56.218711: Processed 20 / 24 estimators; last weight: 0.4562326815210359\n"
     ]
    },
    {
     "name": "stderr",
     "output_type": "stream",
     "text": [
      "[I 2024-06-20 08:56:09,625] Trial 54 finished with value: 0.7438441310064547 and parameters: {'n_estimators': 24}. Best is trial 25 with value: 0.8304278037546234.\n"
     ]
    },
    {
     "name": "stdout",
     "output_type": "stream",
     "text": [
      "\u001B[1;96m [INFO]\u001B[0m AdaBoostSamme 2024-06-20 08:56:09.625916: Processed 24 / 24 estimators\n",
      "\u001B[1;96m [INFO]\u001B[0m AdaBoostSamme 2024-06-20 08:56:13.714299: Processed 0 / 42 estimators; last weight: 2.5716957755883914\n",
      "\u001B[1;96m [INFO]\u001B[0m AdaBoostSamme 2024-06-20 08:56:59.568941: Processed 10 / 42 estimators; last weight: 0.4304188228392477\n",
      "\u001B[1;96m [INFO]\u001B[0m AdaBoostSamme 2024-06-20 08:57:43.721118: Processed 20 / 42 estimators; last weight: 0.4562326815210359\n",
      "\u001B[1;96m [INFO]\u001B[0m AdaBoostSamme 2024-06-20 08:58:28.112936: Processed 30 / 42 estimators; last weight: 0.4684730849790263\n",
      "\u001B[1;96m [INFO]\u001B[0m AdaBoostSamme 2024-06-20 08:59:15.142598: Processed 40 / 42 estimators; last weight: 0.47652171694606027\n"
     ]
    },
    {
     "name": "stderr",
     "output_type": "stream",
     "text": [
      "[I 2024-06-20 08:59:19,619] Trial 55 finished with value: 0.8075080900593128 and parameters: {'n_estimators': 42}. Best is trial 25 with value: 0.8304278037546234.\n"
     ]
    },
    {
     "name": "stdout",
     "output_type": "stream",
     "text": [
      "\u001B[1;96m [INFO]\u001B[0m AdaBoostSamme 2024-06-20 08:59:19.604783: Processed 42 / 42 estimators\n",
      "\u001B[1;96m [INFO]\u001B[0m AdaBoostSamme 2024-06-20 08:59:23.702525: Processed 0 / 66 estimators; last weight: 2.5716957755883914\n",
      "\u001B[1;96m [INFO]\u001B[0m AdaBoostSamme 2024-06-20 09:00:09.551982: Processed 10 / 66 estimators; last weight: 0.4304188228392477\n",
      "\u001B[1;96m [INFO]\u001B[0m AdaBoostSamme 2024-06-20 09:00:53.710170: Processed 20 / 66 estimators; last weight: 0.4562326815210359\n",
      "\u001B[1;96m [INFO]\u001B[0m AdaBoostSamme 2024-06-20 09:01:38.211412: Processed 30 / 66 estimators; last weight: 0.4684730849790263\n",
      "\u001B[1;96m [INFO]\u001B[0m AdaBoostSamme 2024-06-20 09:02:25.305569: Processed 40 / 66 estimators; last weight: 0.47652171694606027\n",
      "\u001B[1;96m [INFO]\u001B[0m AdaBoostSamme 2024-06-20 09:03:10.304051: Processed 50 / 66 estimators; last weight: 0.16606549445236096\n",
      "\u001B[1;96m [INFO]\u001B[0m AdaBoostSamme 2024-06-20 09:03:52.826232: Processed 60 / 66 estimators; last weight: 0.14353440212950463\n"
     ]
    },
    {
     "name": "stderr",
     "output_type": "stream",
     "text": [
      "[I 2024-06-20 09:04:14,553] Trial 56 finished with value: 0.7583305794227803 and parameters: {'n_estimators': 66}. Best is trial 25 with value: 0.8304278037546234.\n"
     ]
    },
    {
     "name": "stdout",
     "output_type": "stream",
     "text": [
      "\u001B[1;96m [INFO]\u001B[0m AdaBoostSamme 2024-06-20 09:04:14.537209: Processed 66 / 66 estimators\n",
      "\u001B[1;96m [INFO]\u001B[0m AdaBoostSamme 2024-06-20 09:04:18.625865: Processed 0 / 20 estimators; last weight: 2.5716957755883914\n",
      "\u001B[1;96m [INFO]\u001B[0m AdaBoostSamme 2024-06-20 09:05:04.415691: Processed 10 / 20 estimators; last weight: 0.4304188228392477\n"
     ]
    },
    {
     "name": "stderr",
     "output_type": "stream",
     "text": [
      "[I 2024-06-20 09:05:43,702] Trial 57 finished with value: 0.7830346826813518 and parameters: {'n_estimators': 20}. Best is trial 25 with value: 0.8304278037546234.\n"
     ]
    },
    {
     "name": "stdout",
     "output_type": "stream",
     "text": [
      "\u001B[1;96m [INFO]\u001B[0m AdaBoostSamme 2024-06-20 09:05:43.698227: Processed 20 / 20 estimators\n",
      "\u001B[1;96m [INFO]\u001B[0m AdaBoostSamme 2024-06-20 09:05:47.772481: Processed 0 / 51 estimators; last weight: 2.5716957755883914\n",
      "\u001B[1;96m [INFO]\u001B[0m AdaBoostSamme 2024-06-20 09:06:33.733186: Processed 10 / 51 estimators; last weight: 0.4304188228392477\n",
      "\u001B[1;96m [INFO]\u001B[0m AdaBoostSamme 2024-06-20 09:07:17.929388: Processed 20 / 51 estimators; last weight: 0.4562326815210359\n",
      "\u001B[1;96m [INFO]\u001B[0m AdaBoostSamme 2024-06-20 09:08:02.502996: Processed 30 / 51 estimators; last weight: 0.4684730849790263\n",
      "\u001B[1;96m [INFO]\u001B[0m AdaBoostSamme 2024-06-20 09:08:49.576398: Processed 40 / 51 estimators; last weight: 0.47652171694606027\n"
     ]
    },
    {
     "name": "stderr",
     "output_type": "stream",
     "text": [
      "[I 2024-06-20 09:09:34,646] Trial 58 finished with value: 0.7740467609558134 and parameters: {'n_estimators': 51}. Best is trial 25 with value: 0.8304278037546234.\n"
     ]
    },
    {
     "name": "stdout",
     "output_type": "stream",
     "text": [
      "\u001B[1;96m [INFO]\u001B[0m AdaBoostSamme 2024-06-20 09:09:34.646477: Processed 50 / 51 estimators; last weight: 0.16606549445236096\n",
      "\u001B[1;96m [INFO]\u001B[0m AdaBoostSamme 2024-06-20 09:09:34.646477: Processed 51 / 51 estimators\n",
      "\u001B[1;96m [INFO]\u001B[0m AdaBoostSamme 2024-06-20 09:09:38.739081: Processed 0 / 31 estimators; last weight: 2.5716957755883914\n",
      "\u001B[1;96m [INFO]\u001B[0m AdaBoostSamme 2024-06-20 09:10:24.670342: Processed 10 / 31 estimators; last weight: 0.4304188228392477\n",
      "\u001B[1;96m [INFO]\u001B[0m AdaBoostSamme 2024-06-20 09:11:08.870060: Processed 20 / 31 estimators; last weight: 0.4562326815210359\n"
     ]
    },
    {
     "name": "stderr",
     "output_type": "stream",
     "text": [
      "[I 2024-06-20 09:11:53,360] Trial 59 finished with value: 0.7971930842903935 and parameters: {'n_estimators': 31}. Best is trial 25 with value: 0.8304278037546234.\n"
     ]
    },
    {
     "name": "stdout",
     "output_type": "stream",
     "text": [
      "\u001B[1;96m [INFO]\u001B[0m AdaBoostSamme 2024-06-20 09:11:53.344642: Processed 30 / 31 estimators; last weight: 0.4684730849790263\n",
      "\u001B[1;96m [INFO]\u001B[0m AdaBoostSamme 2024-06-20 09:11:53.344642: Processed 31 / 31 estimators\n",
      "\u001B[1;96m [INFO]\u001B[0m AdaBoostSamme 2024-06-20 09:11:57.440051: Processed 0 / 77 estimators; last weight: 2.5716957755883914\n",
      "\u001B[1;96m [INFO]\u001B[0m AdaBoostSamme 2024-06-20 09:12:43.272014: Processed 10 / 77 estimators; last weight: 0.4304188228392477\n",
      "\u001B[1;96m [INFO]\u001B[0m AdaBoostSamme 2024-06-20 09:13:27.476779: Processed 20 / 77 estimators; last weight: 0.4562326815210359\n",
      "\u001B[1;96m [INFO]\u001B[0m AdaBoostSamme 2024-06-20 09:14:11.956073: Processed 30 / 77 estimators; last weight: 0.4684730849790263\n",
      "\u001B[1;96m [INFO]\u001B[0m AdaBoostSamme 2024-06-20 09:14:59.033668: Processed 40 / 77 estimators; last weight: 0.47652171694606027\n",
      "\u001B[1;96m [INFO]\u001B[0m AdaBoostSamme 2024-06-20 09:15:44.010735: Processed 50 / 77 estimators; last weight: 0.16606549445236096\n",
      "\u001B[1;96m [INFO]\u001B[0m AdaBoostSamme 2024-06-20 09:16:26.557352: Processed 60 / 77 estimators; last weight: 0.14353440212950463\n",
      "\u001B[1;96m [INFO]\u001B[0m AdaBoostSamme 2024-06-20 09:17:12.903752: Processed 70 / 77 estimators; last weight: 0.30730068184835924\n"
     ]
    },
    {
     "name": "stderr",
     "output_type": "stream",
     "text": [
      "[I 2024-06-20 09:17:38,438] Trial 60 finished with value: 0.7983864012016554 and parameters: {'n_estimators': 77}. Best is trial 25 with value: 0.8304278037546234.\n"
     ]
    },
    {
     "name": "stdout",
     "output_type": "stream",
     "text": [
      "\u001B[1;96m [INFO]\u001B[0m AdaBoostSamme 2024-06-20 09:17:38.438988: Processed 77 / 77 estimators\n",
      "\u001B[1;96m [INFO]\u001B[0m AdaBoostSamme 2024-06-20 09:17:42.530856: Processed 0 / 37 estimators; last weight: 2.5716957755883914\n",
      "\u001B[1;96m [INFO]\u001B[0m AdaBoostSamme 2024-06-20 09:18:29.269095: Processed 10 / 37 estimators; last weight: 0.4304188228392477\n",
      "\u001B[1;96m [INFO]\u001B[0m AdaBoostSamme 2024-06-20 09:19:13.532806: Processed 20 / 37 estimators; last weight: 0.4562326815210359\n",
      "\u001B[1;96m [INFO]\u001B[0m AdaBoostSamme 2024-06-20 09:19:58.010373: Processed 30 / 37 estimators; last weight: 0.4684730849790263\n"
     ]
    },
    {
     "name": "stderr",
     "output_type": "stream",
     "text": [
      "[I 2024-06-20 09:20:25,853] Trial 61 finished with value: 0.8123761218084105 and parameters: {'n_estimators': 37}. Best is trial 25 with value: 0.8304278037546234.\n"
     ]
    },
    {
     "name": "stdout",
     "output_type": "stream",
     "text": [
      "\u001B[1;96m [INFO]\u001B[0m AdaBoostSamme 2024-06-20 09:20:25.853989: Processed 37 / 37 estimators\n",
      "\u001B[1;96m [INFO]\u001B[0m AdaBoostSamme 2024-06-20 09:20:29.935273: Processed 0 / 34 estimators; last weight: 2.5716957755883914\n",
      "\u001B[1;96m [INFO]\u001B[0m AdaBoostSamme 2024-06-20 09:21:15.964019: Processed 10 / 34 estimators; last weight: 0.4304188228392477\n",
      "\u001B[1;96m [INFO]\u001B[0m AdaBoostSamme 2024-06-20 09:22:00.248039: Processed 20 / 34 estimators; last weight: 0.4562326815210359\n",
      "\u001B[1;96m [INFO]\u001B[0m AdaBoostSamme 2024-06-20 09:22:44.785929: Processed 30 / 34 estimators; last weight: 0.4684730849790263\n"
     ]
    },
    {
     "name": "stderr",
     "output_type": "stream",
     "text": [
      "[I 2024-06-20 09:22:58,418] Trial 62 finished with value: 0.8304278037546234 and parameters: {'n_estimators': 34}. Best is trial 25 with value: 0.8304278037546234.\n"
     ]
    },
    {
     "name": "stdout",
     "output_type": "stream",
     "text": [
      "\u001B[1;96m [INFO]\u001B[0m AdaBoostSamme 2024-06-20 09:22:58.404278: Processed 34 / 34 estimators\n",
      "\u001B[1;96m [INFO]\u001B[0m AdaBoostSamme 2024-06-20 09:23:02.495763: Processed 0 / 60 estimators; last weight: 2.5716957755883914\n",
      "\u001B[1;96m [INFO]\u001B[0m AdaBoostSamme 2024-06-20 09:23:48.405194: Processed 10 / 60 estimators; last weight: 0.4304188228392477\n",
      "\u001B[1;96m [INFO]\u001B[0m AdaBoostSamme 2024-06-20 09:24:32.507087: Processed 20 / 60 estimators; last weight: 0.4562326815210359\n",
      "\u001B[1;96m [INFO]\u001B[0m AdaBoostSamme 2024-06-20 09:25:16.939614: Processed 30 / 60 estimators; last weight: 0.4684730849790263\n",
      "\u001B[1;96m [INFO]\u001B[0m AdaBoostSamme 2024-06-20 09:26:03.955313: Processed 40 / 60 estimators; last weight: 0.47652171694606027\n",
      "\u001B[1;96m [INFO]\u001B[0m AdaBoostSamme 2024-06-20 09:26:48.932076: Processed 50 / 60 estimators; last weight: 0.16606549445236096\n"
     ]
    },
    {
     "name": "stderr",
     "output_type": "stream",
     "text": [
      "[I 2024-06-20 09:27:27,200] Trial 63 finished with value: 0.7693324520819563 and parameters: {'n_estimators': 60}. Best is trial 25 with value: 0.8304278037546234.\n"
     ]
    },
    {
     "name": "stdout",
     "output_type": "stream",
     "text": [
      "\u001B[1;96m [INFO]\u001B[0m AdaBoostSamme 2024-06-20 09:27:27.200186: Processed 60 / 60 estimators\n",
      "\u001B[1;96m [INFO]\u001B[0m AdaBoostSamme 2024-06-20 09:27:31.307476: Processed 0 / 29 estimators; last weight: 2.5716957755883914\n",
      "\u001B[1;96m [INFO]\u001B[0m AdaBoostSamme 2024-06-20 09:28:17.409137: Processed 10 / 29 estimators; last weight: 0.4304188228392477\n",
      "\u001B[1;96m [INFO]\u001B[0m AdaBoostSamme 2024-06-20 09:29:01.582737: Processed 20 / 29 estimators; last weight: 0.4562326815210359\n"
     ]
    },
    {
     "name": "stderr",
     "output_type": "stream",
     "text": [
      "[I 2024-06-20 09:29:37,079] Trial 64 finished with value: 0.8318489060626796 and parameters: {'n_estimators': 29}. Best is trial 64 with value: 0.8318489060626796.\n"
     ]
    },
    {
     "name": "stdout",
     "output_type": "stream",
     "text": [
      "\u001B[1;96m [INFO]\u001B[0m AdaBoostSamme 2024-06-20 09:29:37.079804: Processed 29 / 29 estimators\n",
      "\u001B[1;96m [INFO]\u001B[0m AdaBoostSamme 2024-06-20 09:29:41.155837: Processed 0 / 44 estimators; last weight: 2.5716957755883914\n",
      "\u001B[1;96m [INFO]\u001B[0m AdaBoostSamme 2024-06-20 09:30:27.016006: Processed 10 / 44 estimators; last weight: 0.4304188228392477\n",
      "\u001B[1;96m [INFO]\u001B[0m AdaBoostSamme 2024-06-20 09:31:11.159502: Processed 20 / 44 estimators; last weight: 0.4562326815210359\n",
      "\u001B[1;96m [INFO]\u001B[0m AdaBoostSamme 2024-06-20 09:31:55.605777: Processed 30 / 44 estimators; last weight: 0.4684730849790263\n",
      "\u001B[1;96m [INFO]\u001B[0m AdaBoostSamme 2024-06-20 09:32:42.672013: Processed 40 / 44 estimators; last weight: 0.47652171694606027\n"
     ]
    },
    {
     "name": "stderr",
     "output_type": "stream",
     "text": [
      "[I 2024-06-20 09:32:56,748] Trial 65 finished with value: 0.7793638233897768 and parameters: {'n_estimators': 44}. Best is trial 64 with value: 0.8318489060626796.\n"
     ]
    },
    {
     "name": "stdout",
     "output_type": "stream",
     "text": [
      "\u001B[1;96m [INFO]\u001B[0m AdaBoostSamme 2024-06-20 09:32:56.748587: Processed 44 / 44 estimators\n",
      "\u001B[1;96m [INFO]\u001B[0m AdaBoostSamme 2024-06-20 09:33:00.842641: Processed 0 / 28 estimators; last weight: 2.5716957755883914\n",
      "\u001B[1;96m [INFO]\u001B[0m AdaBoostSamme 2024-06-20 09:33:46.690502: Processed 10 / 28 estimators; last weight: 0.4304188228392477\n",
      "\u001B[1;96m [INFO]\u001B[0m AdaBoostSamme 2024-06-20 09:34:30.787019: Processed 20 / 28 estimators; last weight: 0.4562326815210359\n"
     ]
    },
    {
     "name": "stderr",
     "output_type": "stream",
     "text": [
      "[I 2024-06-20 09:35:02,134] Trial 66 finished with value: 0.7540225844102882 and parameters: {'n_estimators': 28}. Best is trial 64 with value: 0.8318489060626796.\n"
     ]
    },
    {
     "name": "stdout",
     "output_type": "stream",
     "text": [
      "\u001B[1;96m [INFO]\u001B[0m AdaBoostSamme 2024-06-20 09:35:02.134358: Processed 28 / 28 estimators\n",
      "\u001B[1;96m [INFO]\u001B[0m AdaBoostSamme 2024-06-20 09:35:06.232578: Processed 0 / 20 estimators; last weight: 2.5716957755883914\n",
      "\u001B[1;96m [INFO]\u001B[0m AdaBoostSamme 2024-06-20 09:35:52.112198: Processed 10 / 20 estimators; last weight: 0.4304188228392477\n"
     ]
    },
    {
     "name": "stderr",
     "output_type": "stream",
     "text": [
      "[I 2024-06-20 09:36:31,371] Trial 67 finished with value: 0.7830346826813518 and parameters: {'n_estimators': 20}. Best is trial 64 with value: 0.8318489060626796.\n"
     ]
    },
    {
     "name": "stdout",
     "output_type": "stream",
     "text": [
      "\u001B[1;96m [INFO]\u001B[0m AdaBoostSamme 2024-06-20 09:36:31.356198: Processed 20 / 20 estimators\n",
      "\u001B[1;96m [INFO]\u001B[0m AdaBoostSamme 2024-06-20 09:36:35.450215: Processed 0 / 11 estimators; last weight: 2.5716957755883914\n"
     ]
    },
    {
     "name": "stderr",
     "output_type": "stream",
     "text": [
      "[I 2024-06-20 09:37:21,307] Trial 68 finished with value: 0.7779613315638269 and parameters: {'n_estimators': 11}. Best is trial 64 with value: 0.8318489060626796.\n"
     ]
    },
    {
     "name": "stdout",
     "output_type": "stream",
     "text": [
      "\u001B[1;96m [INFO]\u001B[0m AdaBoostSamme 2024-06-20 09:37:21.291543: Processed 10 / 11 estimators; last weight: 0.4304188228392477\n",
      "\u001B[1;96m [INFO]\u001B[0m AdaBoostSamme 2024-06-20 09:37:21.291543: Processed 11 / 11 estimators\n",
      "\u001B[1;96m [INFO]\u001B[0m AdaBoostSamme 2024-06-20 09:37:25.408662: Processed 0 / 51 estimators; last weight: 2.5716957755883914\n",
      "\u001B[1;96m [INFO]\u001B[0m AdaBoostSamme 2024-06-20 09:38:11.266116: Processed 10 / 51 estimators; last weight: 0.4304188228392477\n",
      "\u001B[1;96m [INFO]\u001B[0m AdaBoostSamme 2024-06-20 09:38:55.551019: Processed 20 / 51 estimators; last weight: 0.4562326815210359\n",
      "\u001B[1;96m [INFO]\u001B[0m AdaBoostSamme 2024-06-20 09:39:39.995313: Processed 30 / 51 estimators; last weight: 0.4684730849790263\n",
      "\u001B[1;96m [INFO]\u001B[0m AdaBoostSamme 2024-06-20 09:40:27.092214: Processed 40 / 51 estimators; last weight: 0.47652171694606027\n"
     ]
    },
    {
     "name": "stderr",
     "output_type": "stream",
     "text": [
      "[I 2024-06-20 09:41:12,142] Trial 69 finished with value: 0.7740467609558134 and parameters: {'n_estimators': 51}. Best is trial 64 with value: 0.8318489060626796.\n"
     ]
    },
    {
     "name": "stdout",
     "output_type": "stream",
     "text": [
      "\u001B[1;96m [INFO]\u001B[0m AdaBoostSamme 2024-06-20 09:41:12.128284: Processed 50 / 51 estimators; last weight: 0.16606549445236096\n",
      "\u001B[1;96m [INFO]\u001B[0m AdaBoostSamme 2024-06-20 09:41:12.128284: Processed 51 / 51 estimators\n",
      "\u001B[1;96m [INFO]\u001B[0m AdaBoostSamme 2024-06-20 09:41:16.237292: Processed 0 / 62 estimators; last weight: 2.5716957755883914\n",
      "\u001B[1;96m [INFO]\u001B[0m AdaBoostSamme 2024-06-20 09:42:02.063173: Processed 10 / 62 estimators; last weight: 0.4304188228392477\n",
      "\u001B[1;96m [INFO]\u001B[0m AdaBoostSamme 2024-06-20 09:42:46.272340: Processed 20 / 62 estimators; last weight: 0.4562326815210359\n",
      "\u001B[1;96m [INFO]\u001B[0m AdaBoostSamme 2024-06-20 09:43:30.718011: Processed 30 / 62 estimators; last weight: 0.4684730849790263\n",
      "\u001B[1;96m [INFO]\u001B[0m AdaBoostSamme 2024-06-20 09:44:17.825753: Processed 40 / 62 estimators; last weight: 0.47652171694606027\n",
      "\u001B[1;96m [INFO]\u001B[0m AdaBoostSamme 2024-06-20 09:45:02.867045: Processed 50 / 62 estimators; last weight: 0.16606549445236096\n",
      "\u001B[1;96m [INFO]\u001B[0m AdaBoostSamme 2024-06-20 09:45:45.623896: Processed 60 / 62 estimators; last weight: 0.14353440212950463\n"
     ]
    },
    {
     "name": "stderr",
     "output_type": "stream",
     "text": [
      "[I 2024-06-20 09:45:49,907] Trial 70 finished with value: 0.7693324520819563 and parameters: {'n_estimators': 62}. Best is trial 64 with value: 0.8318489060626796.\n"
     ]
    },
    {
     "name": "stdout",
     "output_type": "stream",
     "text": [
      "\u001B[1;96m [INFO]\u001B[0m AdaBoostSamme 2024-06-20 09:45:49.892353: Processed 62 / 62 estimators\n",
      "\u001B[1;96m [INFO]\u001B[0m AdaBoostSamme 2024-06-20 09:45:53.987699: Processed 0 / 30 estimators; last weight: 2.5716957755883914\n",
      "\u001B[1;96m [INFO]\u001B[0m AdaBoostSamme 2024-06-20 09:46:39.800997: Processed 10 / 30 estimators; last weight: 0.4304188228392477\n",
      "\u001B[1;96m [INFO]\u001B[0m AdaBoostSamme 2024-06-20 09:47:23.919758: Processed 20 / 30 estimators; last weight: 0.4562326815210359\n"
     ]
    },
    {
     "name": "stderr",
     "output_type": "stream",
     "text": [
      "[I 2024-06-20 09:48:03,917] Trial 71 finished with value: 0.82679761759894 and parameters: {'n_estimators': 30}. Best is trial 64 with value: 0.8318489060626796.\n"
     ]
    },
    {
     "name": "stdout",
     "output_type": "stream",
     "text": [
      "\u001B[1;96m [INFO]\u001B[0m AdaBoostSamme 2024-06-20 09:48:03.917311: Processed 30 / 30 estimators\n",
      "\u001B[1;96m [INFO]\u001B[0m AdaBoostSamme 2024-06-20 09:48:08.020055: Processed 0 / 9 estimators; last weight: 2.5716957755883914\n"
     ]
    },
    {
     "name": "stderr",
     "output_type": "stream",
     "text": [
      "[I 2024-06-20 09:48:44,057] Trial 72 finished with value: 0.7446415486077187 and parameters: {'n_estimators': 9}. Best is trial 64 with value: 0.8318489060626796.\n"
     ]
    },
    {
     "name": "stdout",
     "output_type": "stream",
     "text": [
      "\u001B[1;96m [INFO]\u001B[0m AdaBoostSamme 2024-06-20 09:48:44.041382: Processed 9 / 9 estimators\n",
      "\u001B[1;96m [INFO]\u001B[0m AdaBoostSamme 2024-06-20 09:48:48.151299: Processed 0 / 19 estimators; last weight: 2.5716957755883914\n",
      "\u001B[1;96m [INFO]\u001B[0m AdaBoostSamme 2024-06-20 09:49:34.008880: Processed 10 / 19 estimators; last weight: 0.4304188228392477\n"
     ]
    },
    {
     "name": "stderr",
     "output_type": "stream",
     "text": [
      "[I 2024-06-20 09:50:09,003] Trial 73 finished with value: 0.7879423109173236 and parameters: {'n_estimators': 19}. Best is trial 64 with value: 0.8318489060626796.\n"
     ]
    },
    {
     "name": "stdout",
     "output_type": "stream",
     "text": [
      "\u001B[1;96m [INFO]\u001B[0m AdaBoostSamme 2024-06-20 09:50:09.003342: Processed 19 / 19 estimators\n",
      "\u001B[1;96m [INFO]\u001B[0m AdaBoostSamme 2024-06-20 09:50:13.088435: Processed 0 / 43 estimators; last weight: 2.5716957755883914\n",
      "\u001B[1;96m [INFO]\u001B[0m AdaBoostSamme 2024-06-20 09:50:59.064641: Processed 10 / 43 estimators; last weight: 0.4304188228392477\n",
      "\u001B[1;96m [INFO]\u001B[0m AdaBoostSamme 2024-06-20 09:51:43.278049: Processed 20 / 43 estimators; last weight: 0.4562326815210359\n",
      "\u001B[1;96m [INFO]\u001B[0m AdaBoostSamme 2024-06-20 09:52:27.704507: Processed 30 / 43 estimators; last weight: 0.4684730849790263\n",
      "\u001B[1;96m [INFO]\u001B[0m AdaBoostSamme 2024-06-20 09:53:15.047118: Processed 40 / 43 estimators; last weight: 0.47652171694606027\n"
     ]
    },
    {
     "name": "stderr",
     "output_type": "stream",
     "text": [
      "[I 2024-06-20 09:53:23,663] Trial 74 finished with value: 0.8075080900593128 and parameters: {'n_estimators': 43}. Best is trial 64 with value: 0.8318489060626796.\n"
     ]
    },
    {
     "name": "stdout",
     "output_type": "stream",
     "text": [
      "\u001B[1;96m [INFO]\u001B[0m AdaBoostSamme 2024-06-20 09:53:23.663946: Processed 43 / 43 estimators\n",
      "\u001B[1;96m [INFO]\u001B[0m AdaBoostSamme 2024-06-20 09:53:27.766912: Processed 0 / 38 estimators; last weight: 2.5716957755883914\n",
      "\u001B[1;96m [INFO]\u001B[0m AdaBoostSamme 2024-06-20 09:54:13.642494: Processed 10 / 38 estimators; last weight: 0.4304188228392477\n",
      "\u001B[1;96m [INFO]\u001B[0m AdaBoostSamme 2024-06-20 09:54:57.884482: Processed 20 / 38 estimators; last weight: 0.4562326815210359\n",
      "\u001B[1;96m [INFO]\u001B[0m AdaBoostSamme 2024-06-20 09:55:42.378940: Processed 30 / 38 estimators; last weight: 0.4684730849790263\n"
     ]
    },
    {
     "name": "stderr",
     "output_type": "stream",
     "text": [
      "[I 2024-06-20 09:56:15,112] Trial 75 finished with value: 0.7813144961203559 and parameters: {'n_estimators': 38}. Best is trial 64 with value: 0.8318489060626796.\n"
     ]
    },
    {
     "name": "stdout",
     "output_type": "stream",
     "text": [
      "\u001B[1;96m [INFO]\u001B[0m AdaBoostSamme 2024-06-20 09:56:15.112496: Processed 38 / 38 estimators\n",
      "\u001B[1;96m [INFO]\u001B[0m AdaBoostSamme 2024-06-20 09:56:19.206028: Processed 0 / 34 estimators; last weight: 2.5716957755883914\n",
      "\u001B[1;96m [INFO]\u001B[0m AdaBoostSamme 2024-06-20 09:57:05.157842: Processed 10 / 34 estimators; last weight: 0.4304188228392477\n",
      "\u001B[1;96m [INFO]\u001B[0m AdaBoostSamme 2024-06-20 09:57:49.284513: Processed 20 / 34 estimators; last weight: 0.4562326815210359\n",
      "\u001B[1;96m [INFO]\u001B[0m AdaBoostSamme 2024-06-20 09:58:33.832654: Processed 30 / 34 estimators; last weight: 0.4684730849790263\n"
     ]
    },
    {
     "name": "stderr",
     "output_type": "stream",
     "text": [
      "[I 2024-06-20 09:58:47,497] Trial 76 finished with value: 0.8304278037546234 and parameters: {'n_estimators': 34}. Best is trial 64 with value: 0.8318489060626796.\n"
     ]
    },
    {
     "name": "stdout",
     "output_type": "stream",
     "text": [
      "\u001B[1;96m [INFO]\u001B[0m AdaBoostSamme 2024-06-20 09:58:47.481741: Processed 34 / 34 estimators\n",
      "\u001B[1;96m [INFO]\u001B[0m AdaBoostSamme 2024-06-20 09:58:51.583919: Processed 0 / 50 estimators; last weight: 2.5716957755883914\n",
      "\u001B[1;96m [INFO]\u001B[0m AdaBoostSamme 2024-06-20 09:59:37.477080: Processed 10 / 50 estimators; last weight: 0.4304188228392477\n",
      "\u001B[1;96m [INFO]\u001B[0m AdaBoostSamme 2024-06-20 10:00:21.606465: Processed 20 / 50 estimators; last weight: 0.4562326815210359\n",
      "\u001B[1;96m [INFO]\u001B[0m AdaBoostSamme 2024-06-20 10:01:06.028394: Processed 30 / 50 estimators; last weight: 0.4684730849790263\n",
      "\u001B[1;96m [INFO]\u001B[0m AdaBoostSamme 2024-06-20 10:01:53.076130: Processed 40 / 50 estimators; last weight: 0.47652171694606027\n"
     ]
    },
    {
     "name": "stderr",
     "output_type": "stream",
     "text": [
      "[I 2024-06-20 10:02:33,854] Trial 77 finished with value: 0.7693324520819563 and parameters: {'n_estimators': 50}. Best is trial 64 with value: 0.8318489060626796.\n"
     ]
    },
    {
     "name": "stdout",
     "output_type": "stream",
     "text": [
      "\u001B[1;96m [INFO]\u001B[0m AdaBoostSamme 2024-06-20 10:02:33.854572: Processed 50 / 50 estimators\n",
      "\u001B[1;96m [INFO]\u001B[0m AdaBoostSamme 2024-06-20 10:02:37.949266: Processed 0 / 26 estimators; last weight: 2.5716957755883914\n",
      "\u001B[1;96m [INFO]\u001B[0m AdaBoostSamme 2024-06-20 10:03:23.761159: Processed 10 / 26 estimators; last weight: 0.4304188228392477\n",
      "\u001B[1;96m [INFO]\u001B[0m AdaBoostSamme 2024-06-20 10:04:07.926037: Processed 20 / 26 estimators; last weight: 0.4562326815210359\n"
     ]
    },
    {
     "name": "stderr",
     "output_type": "stream",
     "text": [
      "[I 2024-06-20 10:04:30,246] Trial 78 finished with value: 0.8217839671821777 and parameters: {'n_estimators': 26}. Best is trial 64 with value: 0.8318489060626796.\n"
     ]
    },
    {
     "name": "stdout",
     "output_type": "stream",
     "text": [
      "\u001B[1;96m [INFO]\u001B[0m AdaBoostSamme 2024-06-20 10:04:30.229881: Processed 26 / 26 estimators\n",
      "\u001B[1;96m [INFO]\u001B[0m AdaBoostSamme 2024-06-20 10:04:34.368052: Processed 0 / 130 estimators; last weight: 2.5716957755883914\n",
      "\u001B[1;96m [INFO]\u001B[0m AdaBoostSamme 2024-06-20 10:05:33.386722: Processed 13 / 130 estimators; last weight: 0.6747129350265274\n",
      "\u001B[1;96m [INFO]\u001B[0m AdaBoostSamme 2024-06-20 10:06:31.197658: Processed 26 / 130 estimators; last weight: 0.3705707079557672\n",
      "\u001B[1;96m [INFO]\u001B[0m AdaBoostSamme 2024-06-20 10:07:31.096716: Processed 39 / 130 estimators; last weight: 0.4500122940895448\n",
      "\u001B[1;96m [INFO]\u001B[0m AdaBoostSamme 2024-06-20 10:08:29.585199: Processed 52 / 130 estimators; last weight: 0.14830556879945722\n",
      "\u001B[1;96m [INFO]\u001B[0m AdaBoostSamme 2024-06-20 10:09:25.337847: Processed 65 / 130 estimators; last weight: 0.4423059969905839\n",
      "\u001B[1;96m [INFO]\u001B[0m AdaBoostSamme 2024-06-20 10:10:26.486180: Processed 78 / 130 estimators; last weight: 0.2607606964595277\n",
      "\u001B[1;96m [INFO]\u001B[0m AdaBoostSamme 2024-06-20 10:11:24.212996: Processed 91 / 130 estimators; last weight: 0.1702479088584261\n",
      "\u001B[1;96m [INFO]\u001B[0m AdaBoostSamme 2024-06-20 10:12:19.544559: Processed 104 / 130 estimators; last weight: 0.11591311519745173\n",
      "\u001B[1;96m [INFO]\u001B[0m AdaBoostSamme 2024-06-20 10:13:14.834954: Processed 117 / 130 estimators; last weight: 0.111155325228385\n"
     ]
    },
    {
     "name": "stderr",
     "output_type": "stream",
     "text": [
      "[I 2024-06-20 10:14:05,864] Trial 79 finished with value: 0.7983864012016554 and parameters: {'n_estimators': 130}. Best is trial 64 with value: 0.8318489060626796.\n"
     ]
    },
    {
     "name": "stdout",
     "output_type": "stream",
     "text": [
      "\u001B[1;96m [INFO]\u001B[0m AdaBoostSamme 2024-06-20 10:14:05.848045: Processed 130 / 130 estimators\n",
      "\u001B[1;96m [INFO]\u001B[0m AdaBoostSamme 2024-06-20 10:14:09.954216: Processed 0 / 30 estimators; last weight: 2.5716957755883914\n",
      "\u001B[1;96m [INFO]\u001B[0m AdaBoostSamme 2024-06-20 10:14:55.855986: Processed 10 / 30 estimators; last weight: 0.4304188228392477\n",
      "\u001B[1;96m [INFO]\u001B[0m AdaBoostSamme 2024-06-20 10:15:40.010692: Processed 20 / 30 estimators; last weight: 0.4562326815210359\n"
     ]
    },
    {
     "name": "stderr",
     "output_type": "stream",
     "text": [
      "[I 2024-06-20 10:16:20,035] Trial 80 finished with value: 0.82679761759894 and parameters: {'n_estimators': 30}. Best is trial 64 with value: 0.8318489060626796.\n"
     ]
    },
    {
     "name": "stdout",
     "output_type": "stream",
     "text": [
      "\u001B[1;96m [INFO]\u001B[0m AdaBoostSamme 2024-06-20 10:16:20.035942: Processed 30 / 30 estimators\n",
      "\u001B[1;96m [INFO]\u001B[0m AdaBoostSamme 2024-06-20 10:16:24.122083: Processed 0 / 34 estimators; last weight: 2.5716957755883914\n",
      "\u001B[1;96m [INFO]\u001B[0m AdaBoostSamme 2024-06-20 10:17:10.002794: Processed 10 / 34 estimators; last weight: 0.4304188228392477\n",
      "\u001B[1;96m [INFO]\u001B[0m AdaBoostSamme 2024-06-20 10:17:54.163534: Processed 20 / 34 estimators; last weight: 0.4562326815210359\n",
      "\u001B[1;96m [INFO]\u001B[0m AdaBoostSamme 2024-06-20 10:18:38.815788: Processed 30 / 34 estimators; last weight: 0.4684730849790263\n"
     ]
    },
    {
     "name": "stderr",
     "output_type": "stream",
     "text": [
      "[I 2024-06-20 10:18:52,494] Trial 81 finished with value: 0.8304278037546234 and parameters: {'n_estimators': 34}. Best is trial 64 with value: 0.8318489060626796.\n"
     ]
    },
    {
     "name": "stdout",
     "output_type": "stream",
     "text": [
      "\u001B[1;96m [INFO]\u001B[0m AdaBoostSamme 2024-06-20 10:18:52.494304: Processed 34 / 34 estimators\n",
      "\u001B[1;96m [INFO]\u001B[0m AdaBoostSamme 2024-06-20 10:18:56.581494: Processed 0 / 41 estimators; last weight: 2.5716957755883914\n",
      "\u001B[1;96m [INFO]\u001B[0m AdaBoostSamme 2024-06-20 10:19:42.441468: Processed 10 / 41 estimators; last weight: 0.4304188228392477\n",
      "\u001B[1;96m [INFO]\u001B[0m AdaBoostSamme 2024-06-20 10:20:26.599101: Processed 20 / 41 estimators; last weight: 0.4562326815210359\n",
      "\u001B[1;96m [INFO]\u001B[0m AdaBoostSamme 2024-06-20 10:21:11.044215: Processed 30 / 41 estimators; last weight: 0.4684730849790263\n"
     ]
    },
    {
     "name": "stderr",
     "output_type": "stream",
     "text": [
      "[I 2024-06-20 10:21:58,215] Trial 82 finished with value: 0.8172722053637332 and parameters: {'n_estimators': 41}. Best is trial 64 with value: 0.8318489060626796.\n"
     ]
    },
    {
     "name": "stdout",
     "output_type": "stream",
     "text": [
      "\u001B[1;96m [INFO]\u001B[0m AdaBoostSamme 2024-06-20 10:21:58.215079: Processed 40 / 41 estimators; last weight: 0.47652171694606027\n",
      "\u001B[1;96m [INFO]\u001B[0m AdaBoostSamme 2024-06-20 10:21:58.215079: Processed 41 / 41 estimators\n",
      "\u001B[1;96m [INFO]\u001B[0m AdaBoostSamme 2024-06-20 10:22:02.311979: Processed 0 / 22 estimators; last weight: 2.5716957755883914\n",
      "\u001B[1;96m [INFO]\u001B[0m AdaBoostSamme 2024-06-20 10:22:48.123272: Processed 10 / 22 estimators; last weight: 0.4304188228392477\n",
      "\u001B[1;96m [INFO]\u001B[0m AdaBoostSamme 2024-06-20 10:23:32.317411: Processed 20 / 22 estimators; last weight: 0.4562326815210359\n"
     ]
    },
    {
     "name": "stderr",
     "output_type": "stream",
     "text": [
      "[I 2024-06-20 10:23:36,800] Trial 83 finished with value: 0.8217839671821777 and parameters: {'n_estimators': 22}. Best is trial 64 with value: 0.8318489060626796.\n"
     ]
    },
    {
     "name": "stdout",
     "output_type": "stream",
     "text": [
      "\u001B[1;96m [INFO]\u001B[0m AdaBoostSamme 2024-06-20 10:23:36.800155: Processed 22 / 22 estimators\n",
      "\u001B[1;96m [INFO]\u001B[0m AdaBoostSamme 2024-06-20 10:23:40.902429: Processed 0 / 47 estimators; last weight: 2.5716957755883914\n",
      "\u001B[1;96m [INFO]\u001B[0m AdaBoostSamme 2024-06-20 10:24:26.705110: Processed 10 / 47 estimators; last weight: 0.4304188228392477\n",
      "\u001B[1;96m [INFO]\u001B[0m AdaBoostSamme 2024-06-20 10:25:10.972101: Processed 20 / 47 estimators; last weight: 0.4562326815210359\n",
      "\u001B[1;96m [INFO]\u001B[0m AdaBoostSamme 2024-06-20 10:25:55.833003: Processed 30 / 47 estimators; last weight: 0.4684730849790263\n",
      "\u001B[1;96m [INFO]\u001B[0m AdaBoostSamme 2024-06-20 10:26:43.083085: Processed 40 / 47 estimators; last weight: 0.47652171694606027\n"
     ]
    },
    {
     "name": "stderr",
     "output_type": "stream",
     "text": [
      "[I 2024-06-20 10:27:11,152] Trial 84 finished with value: 0.7693324520819563 and parameters: {'n_estimators': 47}. Best is trial 64 with value: 0.8318489060626796.\n"
     ]
    },
    {
     "name": "stdout",
     "output_type": "stream",
     "text": [
      "\u001B[1;96m [INFO]\u001B[0m AdaBoostSamme 2024-06-20 10:27:11.136703: Processed 47 / 47 estimators\n",
      "\u001B[1;96m [INFO]\u001B[0m AdaBoostSamme 2024-06-20 10:27:15.226289: Processed 0 / 9 estimators; last weight: 2.5716957755883914\n"
     ]
    },
    {
     "name": "stderr",
     "output_type": "stream",
     "text": [
      "[I 2024-06-20 10:27:51,279] Trial 85 finished with value: 0.7446415486077187 and parameters: {'n_estimators': 9}. Best is trial 64 with value: 0.8318489060626796.\n"
     ]
    },
    {
     "name": "stdout",
     "output_type": "stream",
     "text": [
      "\u001B[1;96m [INFO]\u001B[0m AdaBoostSamme 2024-06-20 10:27:51.263800: Processed 9 / 9 estimators\n",
      "\u001B[1;96m [INFO]\u001B[0m AdaBoostSamme 2024-06-20 10:27:55.343407: Processed 0 / 55 estimators; last weight: 2.5716957755883914\n",
      "\u001B[1;96m [INFO]\u001B[0m AdaBoostSamme 2024-06-20 10:28:41.202917: Processed 10 / 55 estimators; last weight: 0.4304188228392477\n",
      "\u001B[1;96m [INFO]\u001B[0m AdaBoostSamme 2024-06-20 10:29:25.380051: Processed 20 / 55 estimators; last weight: 0.4562326815210359\n",
      "\u001B[1;96m [INFO]\u001B[0m AdaBoostSamme 2024-06-20 10:30:09.878571: Processed 30 / 55 estimators; last weight: 0.4684730849790263\n",
      "\u001B[1;96m [INFO]\u001B[0m AdaBoostSamme 2024-06-20 10:30:56.996441: Processed 40 / 55 estimators; last weight: 0.47652171694606027\n",
      "\u001B[1;96m [INFO]\u001B[0m AdaBoostSamme 2024-06-20 10:31:42.023162: Processed 50 / 55 estimators; last weight: 0.16606549445236096\n"
     ]
    },
    {
     "name": "stderr",
     "output_type": "stream",
     "text": [
      "[I 2024-06-20 10:31:59,044] Trial 86 finished with value: 0.7693324520819563 and parameters: {'n_estimators': 55}. Best is trial 64 with value: 0.8318489060626796.\n"
     ]
    },
    {
     "name": "stdout",
     "output_type": "stream",
     "text": [
      "\u001B[1;96m [INFO]\u001B[0m AdaBoostSamme 2024-06-20 10:31:59.028447: Processed 55 / 55 estimators\n",
      "\u001B[1;96m [INFO]\u001B[0m AdaBoostSamme 2024-06-20 10:32:03.131403: Processed 0 / 16 estimators; last weight: 2.5716957755883914\n",
      "\u001B[1;96m [INFO]\u001B[0m AdaBoostSamme 2024-06-20 10:32:48.949520: Processed 10 / 16 estimators; last weight: 0.4304188228392477\n"
     ]
    },
    {
     "name": "stderr",
     "output_type": "stream",
     "text": [
      "[I 2024-06-20 10:33:10,621] Trial 87 finished with value: 0.7781479682351948 and parameters: {'n_estimators': 16}. Best is trial 64 with value: 0.8318489060626796.\n"
     ]
    },
    {
     "name": "stdout",
     "output_type": "stream",
     "text": [
      "\u001B[1;96m [INFO]\u001B[0m AdaBoostSamme 2024-06-20 10:33:10.621834: Processed 16 / 16 estimators\n",
      "\u001B[1;96m [INFO]\u001B[0m AdaBoostSamme 2024-06-20 10:33:14.703957: Processed 0 / 36 estimators; last weight: 2.5716957755883914\n",
      "\u001B[1;96m [INFO]\u001B[0m AdaBoostSamme 2024-06-20 10:34:00.540097: Processed 10 / 36 estimators; last weight: 0.4304188228392477\n",
      "\u001B[1;96m [INFO]\u001B[0m AdaBoostSamme 2024-06-20 10:34:44.657658: Processed 20 / 36 estimators; last weight: 0.4562326815210359\n",
      "\u001B[1;96m [INFO]\u001B[0m AdaBoostSamme 2024-06-20 10:35:29.181310: Processed 30 / 36 estimators; last weight: 0.4684730849790263\n"
     ]
    },
    {
     "name": "stderr",
     "output_type": "stream",
     "text": [
      "[I 2024-06-20 10:35:52,180] Trial 88 finished with value: 0.8123761218084105 and parameters: {'n_estimators': 36}. Best is trial 64 with value: 0.8318489060626796.\n"
     ]
    },
    {
     "name": "stdout",
     "output_type": "stream",
     "text": [
      "\u001B[1;96m [INFO]\u001B[0m AdaBoostSamme 2024-06-20 10:35:52.180691: Processed 36 / 36 estimators\n",
      "\u001B[1;96m [INFO]\u001B[0m AdaBoostSamme 2024-06-20 10:35:56.248394: Processed 0 / 26 estimators; last weight: 2.5716957755883914\n",
      "\u001B[1;96m [INFO]\u001B[0m AdaBoostSamme 2024-06-20 10:36:42.140053: Processed 10 / 26 estimators; last weight: 0.4304188228392477\n",
      "\u001B[1;96m [INFO]\u001B[0m AdaBoostSamme 2024-06-20 10:37:26.281701: Processed 20 / 26 estimators; last weight: 0.4562326815210359\n"
     ]
    },
    {
     "name": "stderr",
     "output_type": "stream",
     "text": [
      "[I 2024-06-20 10:37:48,636] Trial 89 finished with value: 0.8217839671821777 and parameters: {'n_estimators': 26}. Best is trial 64 with value: 0.8318489060626796.\n"
     ]
    },
    {
     "name": "stdout",
     "output_type": "stream",
     "text": [
      "\u001B[1;96m [INFO]\u001B[0m AdaBoostSamme 2024-06-20 10:37:48.636401: Processed 26 / 26 estimators\n",
      "\u001B[1;96m [INFO]\u001B[0m AdaBoostSamme 2024-06-20 10:37:52.733135: Processed 0 / 32 estimators; last weight: 2.5716957755883914\n",
      "\u001B[1;96m [INFO]\u001B[0m AdaBoostSamme 2024-06-20 10:38:38.581710: Processed 10 / 32 estimators; last weight: 0.4304188228392477\n",
      "\u001B[1;96m [INFO]\u001B[0m AdaBoostSamme 2024-06-20 10:39:22.687178: Processed 20 / 32 estimators; last weight: 0.4562326815210359\n",
      "\u001B[1;96m [INFO]\u001B[0m AdaBoostSamme 2024-06-20 10:40:07.143291: Processed 30 / 32 estimators; last weight: 0.4684730849790263\n"
     ]
    },
    {
     "name": "stderr",
     "output_type": "stream",
     "text": [
      "[I 2024-06-20 10:40:11,628] Trial 90 finished with value: 0.7875375924146861 and parameters: {'n_estimators': 32}. Best is trial 64 with value: 0.8318489060626796.\n"
     ]
    },
    {
     "name": "stdout",
     "output_type": "stream",
     "text": [
      "\u001B[1;96m [INFO]\u001B[0m AdaBoostSamme 2024-06-20 10:40:11.612469: Processed 32 / 32 estimators\n",
      "\u001B[1;96m [INFO]\u001B[0m AdaBoostSamme 2024-06-20 10:40:15.701319: Processed 0 / 33 estimators; last weight: 2.5716957755883914\n",
      "\u001B[1;96m [INFO]\u001B[0m AdaBoostSamme 2024-06-20 10:41:01.569935: Processed 10 / 33 estimators; last weight: 0.4304188228392477\n",
      "\u001B[1;96m [INFO]\u001B[0m AdaBoostSamme 2024-06-20 10:41:45.730370: Processed 20 / 33 estimators; last weight: 0.4562326815210359\n",
      "\u001B[1;96m [INFO]\u001B[0m AdaBoostSamme 2024-06-20 10:42:30.217552: Processed 30 / 33 estimators; last weight: 0.4684730849790263\n"
     ]
    },
    {
     "name": "stderr",
     "output_type": "stream",
     "text": [
      "[I 2024-06-20 10:42:39,322] Trial 91 finished with value: 0.7896294139979705 and parameters: {'n_estimators': 33}. Best is trial 64 with value: 0.8318489060626796.\n"
     ]
    },
    {
     "name": "stdout",
     "output_type": "stream",
     "text": [
      "\u001B[1;96m [INFO]\u001B[0m AdaBoostSamme 2024-06-20 10:42:39.322749: Processed 33 / 33 estimators\n",
      "\u001B[1;96m [INFO]\u001B[0m AdaBoostSamme 2024-06-20 10:42:43.409113: Processed 0 / 40 estimators; last weight: 2.5716957755883914\n",
      "\u001B[1;96m [INFO]\u001B[0m AdaBoostSamme 2024-06-20 10:43:29.285624: Processed 10 / 40 estimators; last weight: 0.4304188228392477\n",
      "\u001B[1;96m [INFO]\u001B[0m AdaBoostSamme 2024-06-20 10:44:13.443187: Processed 20 / 40 estimators; last weight: 0.4562326815210359\n",
      "\u001B[1;96m [INFO]\u001B[0m AdaBoostSamme 2024-06-20 10:44:57.934917: Processed 30 / 40 estimators; last weight: 0.4684730849790263\n"
     ]
    },
    {
     "name": "stderr",
     "output_type": "stream",
     "text": [
      "[I 2024-06-20 10:45:40,253] Trial 92 finished with value: 0.7787741317555428 and parameters: {'n_estimators': 40}. Best is trial 64 with value: 0.8318489060626796.\n"
     ]
    },
    {
     "name": "stdout",
     "output_type": "stream",
     "text": [
      "\u001B[1;96m [INFO]\u001B[0m AdaBoostSamme 2024-06-20 10:45:40.251094: Processed 40 / 40 estimators\n",
      "\u001B[1;96m [INFO]\u001B[0m AdaBoostSamme 2024-06-20 10:45:44.326140: Processed 0 / 44 estimators; last weight: 2.5716957755883914\n",
      "\u001B[1;96m [INFO]\u001B[0m AdaBoostSamme 2024-06-20 10:46:30.183195: Processed 10 / 44 estimators; last weight: 0.4304188228392477\n",
      "\u001B[1;96m [INFO]\u001B[0m AdaBoostSamme 2024-06-20 10:47:14.354883: Processed 20 / 44 estimators; last weight: 0.4562326815210359\n",
      "\u001B[1;96m [INFO]\u001B[0m AdaBoostSamme 2024-06-20 10:47:58.852323: Processed 30 / 44 estimators; last weight: 0.4684730849790263\n",
      "\u001B[1;96m [INFO]\u001B[0m AdaBoostSamme 2024-06-20 10:48:45.964130: Processed 40 / 44 estimators; last weight: 0.47652171694606027\n"
     ]
    },
    {
     "name": "stderr",
     "output_type": "stream",
     "text": [
      "[I 2024-06-20 10:49:00,062] Trial 93 finished with value: 0.7793638233897768 and parameters: {'n_estimators': 44}. Best is trial 64 with value: 0.8318489060626796.\n"
     ]
    },
    {
     "name": "stdout",
     "output_type": "stream",
     "text": [
      "\u001B[1;96m [INFO]\u001B[0m AdaBoostSamme 2024-06-20 10:49:00.047067: Processed 44 / 44 estimators\n",
      "\u001B[1;96m [INFO]\u001B[0m AdaBoostSamme 2024-06-20 10:49:04.145772: Processed 0 / 18 estimators; last weight: 2.5716957755883914\n",
      "\u001B[1;96m [INFO]\u001B[0m AdaBoostSamme 2024-06-20 10:49:50.053301: Processed 10 / 18 estimators; last weight: 0.4304188228392477\n"
     ]
    },
    {
     "name": "stderr",
     "output_type": "stream",
     "text": [
      "[I 2024-06-20 10:50:20,202] Trial 94 finished with value: 0.753392712207994 and parameters: {'n_estimators': 18}. Best is trial 64 with value: 0.8318489060626796.\n"
     ]
    },
    {
     "name": "stdout",
     "output_type": "stream",
     "text": [
      "\u001B[1;96m [INFO]\u001B[0m AdaBoostSamme 2024-06-20 10:50:20.187096: Processed 18 / 18 estimators\n",
      "\u001B[1;96m [INFO]\u001B[0m AdaBoostSamme 2024-06-20 10:50:24.275459: Processed 0 / 27 estimators; last weight: 2.5716957755883914\n",
      "\u001B[1;96m [INFO]\u001B[0m AdaBoostSamme 2024-06-20 10:51:10.075002: Processed 10 / 27 estimators; last weight: 0.4304188228392477\n",
      "\u001B[1;96m [INFO]\u001B[0m AdaBoostSamme 2024-06-20 10:51:54.256022: Processed 20 / 27 estimators; last weight: 0.4562326815210359\n"
     ]
    },
    {
     "name": "stderr",
     "output_type": "stream",
     "text": [
      "[I 2024-06-20 10:52:21,098] Trial 95 finished with value: 0.7587157937658573 and parameters: {'n_estimators': 27}. Best is trial 64 with value: 0.8318489060626796.\n"
     ]
    },
    {
     "name": "stdout",
     "output_type": "stream",
     "text": [
      "\u001B[1;96m [INFO]\u001B[0m AdaBoostSamme 2024-06-20 10:52:21.094181: Processed 27 / 27 estimators\n",
      "\u001B[1;96m [INFO]\u001B[0m AdaBoostSamme 2024-06-20 10:52:25.175390: Processed 0 / 35 estimators; last weight: 2.5716957755883914\n",
      "\u001B[1;96m [INFO]\u001B[0m AdaBoostSamme 2024-06-20 10:53:11.011254: Processed 10 / 35 estimators; last weight: 0.4304188228392477\n",
      "\u001B[1;96m [INFO]\u001B[0m AdaBoostSamme 2024-06-20 10:53:55.199133: Processed 20 / 35 estimators; last weight: 0.4562326815210359\n",
      "\u001B[1;96m [INFO]\u001B[0m AdaBoostSamme 2024-06-20 10:54:39.693507: Processed 30 / 35 estimators; last weight: 0.4684730849790263\n"
     ]
    },
    {
     "name": "stderr",
     "output_type": "stream",
     "text": [
      "[I 2024-06-20 10:54:57,762] Trial 96 finished with value: 0.8304278037546234 and parameters: {'n_estimators': 35}. Best is trial 64 with value: 0.8318489060626796.\n"
     ]
    },
    {
     "name": "stdout",
     "output_type": "stream",
     "text": [
      "\u001B[1;96m [INFO]\u001B[0m AdaBoostSamme 2024-06-20 10:54:57.762907: Processed 35 / 35 estimators\n",
      "\u001B[1;96m [INFO]\u001B[0m AdaBoostSamme 2024-06-20 10:55:01.867355: Processed 0 / 48 estimators; last weight: 2.5716957755883914\n",
      "\u001B[1;96m [INFO]\u001B[0m AdaBoostSamme 2024-06-20 10:55:47.748092: Processed 10 / 48 estimators; last weight: 0.4304188228392477\n",
      "\u001B[1;96m [INFO]\u001B[0m AdaBoostSamme 2024-06-20 10:56:31.891121: Processed 20 / 48 estimators; last weight: 0.4562326815210359\n",
      "\u001B[1;96m [INFO]\u001B[0m AdaBoostSamme 2024-06-20 10:57:16.343791: Processed 30 / 48 estimators; last weight: 0.4684730849790263\n",
      "\u001B[1;96m [INFO]\u001B[0m AdaBoostSamme 2024-06-20 10:58:03.412681: Processed 40 / 48 estimators; last weight: 0.47652171694606027\n"
     ]
    },
    {
     "name": "stderr",
     "output_type": "stream",
     "text": [
      "[I 2024-06-20 10:58:35,732] Trial 97 finished with value: 0.7693324520819563 and parameters: {'n_estimators': 48}. Best is trial 64 with value: 0.8318489060626796.\n"
     ]
    },
    {
     "name": "stdout",
     "output_type": "stream",
     "text": [
      "\u001B[1;96m [INFO]\u001B[0m AdaBoostSamme 2024-06-20 10:58:35.716242: Processed 48 / 48 estimators\n",
      "\u001B[1;96m [INFO]\u001B[0m AdaBoostSamme 2024-06-20 10:58:39.816550: Processed 0 / 24 estimators; last weight: 2.5716957755883914\n",
      "\u001B[1;96m [INFO]\u001B[0m AdaBoostSamme 2024-06-20 10:59:25.735416: Processed 10 / 24 estimators; last weight: 0.4304188228392477\n",
      "\u001B[1;96m [INFO]\u001B[0m AdaBoostSamme 2024-06-20 11:00:09.850494: Processed 20 / 24 estimators; last weight: 0.4562326815210359\n"
     ]
    },
    {
     "name": "stderr",
     "output_type": "stream",
     "text": [
      "[I 2024-06-20 11:00:23,267] Trial 98 finished with value: 0.7438441310064547 and parameters: {'n_estimators': 24}. Best is trial 64 with value: 0.8318489060626796.\n"
     ]
    },
    {
     "name": "stdout",
     "output_type": "stream",
     "text": [
      "\u001B[1;96m [INFO]\u001B[0m AdaBoostSamme 2024-06-20 11:00:23.267956: Processed 24 / 24 estimators\n",
      "\u001B[1;96m [INFO]\u001B[0m AdaBoostSamme 2024-06-20 11:00:27.400593: Processed 0 / 56 estimators; last weight: 2.5716957755883914\n",
      "\u001B[1;96m [INFO]\u001B[0m AdaBoostSamme 2024-06-20 11:01:13.226907: Processed 10 / 56 estimators; last weight: 0.4304188228392477\n",
      "\u001B[1;96m [INFO]\u001B[0m AdaBoostSamme 2024-06-20 11:01:57.399987: Processed 20 / 56 estimators; last weight: 0.4562326815210359\n",
      "\u001B[1;96m [INFO]\u001B[0m AdaBoostSamme 2024-06-20 11:02:41.881871: Processed 30 / 56 estimators; last weight: 0.4684730849790263\n",
      "\u001B[1;96m [INFO]\u001B[0m AdaBoostSamme 2024-06-20 11:03:29.273355: Processed 40 / 56 estimators; last weight: 0.47652171694606027\n",
      "\u001B[1;96m [INFO]\u001B[0m AdaBoostSamme 2024-06-20 11:04:14.370800: Processed 50 / 56 estimators; last weight: 0.16606549445236096\n"
     ]
    },
    {
     "name": "stderr",
     "output_type": "stream",
     "text": [
      "[I 2024-06-20 11:04:35,645] Trial 99 finished with value: 0.7740467609558134 and parameters: {'n_estimators': 56}. Best is trial 64 with value: 0.8318489060626796.\n"
     ]
    },
    {
     "name": "stdout",
     "output_type": "stream",
     "text": [
      "\u001B[1;96m [INFO]\u001B[0m AdaBoostSamme 2024-06-20 11:04:35.636804: Processed 56 / 56 estimators\n",
      "\u001B[1;96m [INFO]\u001B[0m TreeClassifierOptimizer 2024-06-20 11:04:35.645847: <class 'model.interactor.impl.ada_boost_interactor.AdaSammeImplInteractor'> best trial finished with value 0.8318489060626796; best params {'n_estimators': 29}\n",
      "FrozenTrial(number=64, state=1, values=[0.8318489060626796], datetime_start=datetime.datetime(2024, 6, 20, 9, 27, 27, 200186), datetime_complete=datetime.datetime(2024, 6, 20, 9, 29, 37, 79804), params={'n_estimators': 29}, user_attrs={}, system_attrs={}, intermediate_values={}, distributions={'n_estimators': IntDistribution(high=200, log=False, low=1, step=1)}, trial_id=64, value=None)\n"
     ]
    }
   ],
   "execution_count": 25
  },
  {
   "metadata": {},
   "cell_type": "markdown",
   "source": "#### AdaBoost *(lib)*",
   "id": "98009fb9a6aa940f"
  },
  {
   "metadata": {
    "ExecuteTime": {
     "end_time": "2024-06-20T08:04:35.696572Z",
     "start_time": "2024-06-20T08:04:35.652588Z"
    }
   },
   "cell_type": "code",
   "source": [
    "from sklearn.tree import DecisionTreeClassifier\n",
    "\n",
    "ada_lib_classifier = DecisionTreeClassifier(max_depth=5, min_samples_split=10, min_samples_leaf=5, criterion='gini')\n",
    "optimizer.add_mode(AdaBoostLibInteractor, AdaBoostLibInteractor(base_estimator_getter=ada_lib_classifier))\n",
    "optimizer.switch_mode(AdaBoostLibInteractor)\n",
    "ada_boost_lib = optimizer.current_interactor.build({'n_estimators': 20, 'base_estimator': ada_lib_classifier})\n",
    "ada_boost_lib.fit(optimizer.train_exdog, optimizer.train_ans)\n",
    "preds = ada_boost_lib.predict(optimizer.test_exdog)\n",
    "print(f'f1_score: {optimizer.metric(optimizer.test_ans, preds)}')"
   ],
   "id": "2cb15b9998a84460",
   "outputs": [
    {
     "name": "stdout",
     "output_type": "stream",
     "text": [
      "\u001B[1;96m [INFO]\u001B[0m TreeClassifierOptimizer 2024-06-20 11:04:35.656251: AdaBoostLibInteractor(<class 'model.interactor.library.ada_boost_interactor_lib.AdaBoostLibInteractor'>) successfully added(updated)\n",
      "f1_score: 0.6930653693192788\n"
     ]
    }
   ],
   "execution_count": 26
  },
  {
   "metadata": {
    "ExecuteTime": {
     "end_time": "2024-06-20T08:05:14.239916Z",
     "start_time": "2024-06-20T08:04:35.696572Z"
    }
   },
   "cell_type": "code",
   "source": [
    "ADA_LIB_BEST_PARAMS = optimizer.run_study(n_trials=100)\n",
    "print(ADA_LIB_BEST_PARAMS)\n",
    "ADA_LIB_BEST_PARAMS = optimizer.modes[AdaBoostLibInteractor][1]"
   ],
   "id": "ed184702fdd5c601",
   "outputs": [
    {
     "name": "stderr",
     "output_type": "stream",
     "text": [
      "[I 2024-06-20 11:04:35,696] A new study created in memory with name: no-name-e0edad84-090e-4a14-b4d7-2cd199e54cd1\n",
      "[I 2024-06-20 11:04:35,771] Trial 0 finished with value: 0.7140312271997666 and parameters: {'n_estimators': 40}. Best is trial 0 with value: 0.7140312271997666.\n",
      "[I 2024-06-20 11:04:36,622] Trial 1 finished with value: 0.7300533715065857 and parameters: {'n_estimators': 498}. Best is trial 1 with value: 0.7300533715065857.\n",
      "[I 2024-06-20 11:04:37,290] Trial 2 finished with value: 0.74523693209575 and parameters: {'n_estimators': 390}. Best is trial 2 with value: 0.74523693209575.\n",
      "[I 2024-06-20 11:04:38,883] Trial 3 finished with value: 0.7146911930022762 and parameters: {'n_estimators': 932}. Best is trial 2 with value: 0.74523693209575.\n",
      "[I 2024-06-20 11:04:40,132] Trial 4 finished with value: 0.7181383653497645 and parameters: {'n_estimators': 730}. Best is trial 2 with value: 0.74523693209575.\n",
      "[I 2024-06-20 11:04:40,635] Trial 5 finished with value: 0.7288442711810306 and parameters: {'n_estimators': 298}. Best is trial 2 with value: 0.74523693209575.\n",
      "[I 2024-06-20 11:04:40,893] Trial 6 finished with value: 0.7310619789778905 and parameters: {'n_estimators': 151}. Best is trial 2 with value: 0.74523693209575.\n",
      "[I 2024-06-20 11:04:42,134] Trial 7 finished with value: 0.7300533715065857 and parameters: {'n_estimators': 719}. Best is trial 2 with value: 0.74523693209575.\n",
      "[I 2024-06-20 11:04:43,225] Trial 8 finished with value: 0.7253200053413709 and parameters: {'n_estimators': 641}. Best is trial 2 with value: 0.74523693209575.\n",
      "[I 2024-06-20 11:04:44,677] Trial 9 finished with value: 0.7300533715065857 and parameters: {'n_estimators': 860}. Best is trial 2 with value: 0.74523693209575.\n",
      "[I 2024-06-20 11:04:45,402] Trial 10 finished with value: 0.7395162875610406 and parameters: {'n_estimators': 414}. Best is trial 2 with value: 0.74523693209575.\n",
      "[I 2024-06-20 11:04:46,142] Trial 11 finished with value: 0.7309852158486103 and parameters: {'n_estimators': 386}. Best is trial 2 with value: 0.74523693209575.\n",
      "[I 2024-06-20 11:04:46,634] Trial 12 finished with value: 0.7311047525996232 and parameters: {'n_estimators': 287}. Best is trial 2 with value: 0.74523693209575.\n",
      "[I 2024-06-20 11:04:47,505] Trial 13 finished with value: 0.7253200053413709 and parameters: {'n_estimators': 506}. Best is trial 2 with value: 0.74523693209575.\n",
      "[I 2024-06-20 11:04:48,332] Trial 14 finished with value: 0.7347850670532801 and parameters: {'n_estimators': 480}. Best is trial 2 with value: 0.74523693209575.\n",
      "[I 2024-06-20 11:04:48,781] Trial 15 finished with value: 0.7382510991695164 and parameters: {'n_estimators': 258}. Best is trial 2 with value: 0.74523693209575.\n",
      "[I 2024-06-20 11:04:49,834] Trial 16 finished with value: 0.7158436289563869 and parameters: {'n_estimators': 602}. Best is trial 2 with value: 0.74523693209575.\n",
      "[I 2024-06-20 11:04:50,074] Trial 17 finished with value: 0.7276150923670307 and parameters: {'n_estimators': 134}. Best is trial 2 with value: 0.74523693209575.\n",
      "[I 2024-06-20 11:04:50,645] Trial 18 finished with value: 0.7311047525996232 and parameters: {'n_estimators': 331}. Best is trial 2 with value: 0.74523693209575.\n",
      "[I 2024-06-20 11:04:51,362] Trial 19 finished with value: 0.7395162875610406 and parameters: {'n_estimators': 416}. Best is trial 2 with value: 0.74523693209575.\n",
      "[I 2024-06-20 11:04:51,683] Trial 20 finished with value: 0.7276253891972383 and parameters: {'n_estimators': 182}. Best is trial 2 with value: 0.74523693209575.\n",
      "[I 2024-06-20 11:04:52,405] Trial 21 finished with value: 0.7347850670532801 and parameters: {'n_estimators': 420}. Best is trial 2 with value: 0.74523693209575.\n",
      "[I 2024-06-20 11:04:53,390] Trial 22 finished with value: 0.7205838033935313 and parameters: {'n_estimators': 581}. Best is trial 2 with value: 0.74523693209575.\n",
      "[I 2024-06-20 11:04:54,116] Trial 23 finished with value: 0.7395162875610406 and parameters: {'n_estimators': 416}. Best is trial 2 with value: 0.74523693209575.\n",
      "[I 2024-06-20 11:04:54,511] Trial 24 finished with value: 0.7382510991695164 and parameters: {'n_estimators': 229}. Best is trial 2 with value: 0.74523693209575.\n",
      "[I 2024-06-20 11:04:55,161] Trial 25 finished with value: 0.7357355183616479 and parameters: {'n_estimators': 375}. Best is trial 2 with value: 0.74523693209575.\n",
      "[I 2024-06-20 11:04:56,110] Trial 26 finished with value: 0.7158436289563869 and parameters: {'n_estimators': 557}. Best is trial 2 with value: 0.74523693209575.\n",
      "[I 2024-06-20 11:04:57,316] Trial 27 finished with value: 0.7300533715065857 and parameters: {'n_estimators': 699}. Best is trial 2 with value: 0.74523693209575.\n",
      "[I 2024-06-20 11:04:58,092] Trial 28 finished with value: 0.7171723604603557 and parameters: {'n_estimators': 451}. Best is trial 2 with value: 0.74523693209575.\n",
      "[I 2024-06-20 11:04:58,243] Trial 29 finished with value: 0.718588967454475 and parameters: {'n_estimators': 84}. Best is trial 2 with value: 0.74523693209575.\n",
      "[I 2024-06-20 11:04:58,253] Trial 30 finished with value: 0.8049480075371623 and parameters: {'n_estimators': 1}. Best is trial 30 with value: 0.8049480075371623.\n",
      "[I 2024-06-20 11:04:58,422] Trial 31 finished with value: 0.7473902534622421 and parameters: {'n_estimators': 94}. Best is trial 30 with value: 0.8049480075371623.\n",
      "[I 2024-06-20 11:04:58,469] Trial 32 finished with value: 0.7320964539529483 and parameters: {'n_estimators': 25}. Best is trial 30 with value: 0.8049480075371623.\n",
      "[I 2024-06-20 11:04:58,519] Trial 33 finished with value: 0.6995706124919608 and parameters: {'n_estimators': 21}. Best is trial 30 with value: 0.8049480075371623.\n",
      "[I 2024-06-20 11:04:58,690] Trial 34 finished with value: 0.7271565071220031 and parameters: {'n_estimators': 90}. Best is trial 30 with value: 0.8049480075371623.\n",
      "[I 2024-06-20 11:04:59,086] Trial 35 finished with value: 0.7476446367506456 and parameters: {'n_estimators': 216}. Best is trial 30 with value: 0.8049480075371623.\n",
      "[I 2024-06-20 11:04:59,270] Trial 36 finished with value: 0.7523747796895922 and parameters: {'n_estimators': 102}. Best is trial 30 with value: 0.8049480075371623.\n",
      "[I 2024-06-20 11:04:59,426] Trial 37 finished with value: 0.7302527254070431 and parameters: {'n_estimators': 86}. Best is trial 30 with value: 0.8049480075371623.\n",
      "[I 2024-06-20 11:04:59,752] Trial 38 finished with value: 0.7288266014976523 and parameters: {'n_estimators': 189}. Best is trial 30 with value: 0.8049480075371623.\n",
      "[I 2024-06-20 11:04:59,962] Trial 39 finished with value: 0.7526452562638947 and parameters: {'n_estimators': 121}. Best is trial 30 with value: 0.8049480075371623.\n",
      "[I 2024-06-20 11:05:00,242] Trial 40 finished with value: 0.7310619789778905 and parameters: {'n_estimators': 153}. Best is trial 30 with value: 0.8049480075371623.\n",
      "[I 2024-06-20 11:05:00,369] Trial 41 finished with value: 0.7297317190410384 and parameters: {'n_estimators': 70}. Best is trial 30 with value: 0.8049480075371623.\n",
      "[I 2024-06-20 11:05:00,386] Trial 42 finished with value: 0.77826950625626 and parameters: {'n_estimators': 9}. Best is trial 30 with value: 0.8049480075371623.\n",
      "[I 2024-06-20 11:05:00,402] Trial 43 finished with value: 0.8049480075371623 and parameters: {'n_estimators': 1}. Best is trial 30 with value: 0.8049480075371623.\n",
      "[I 2024-06-20 11:05:00,446] Trial 44 finished with value: 0.6728126882991141 and parameters: {'n_estimators': 15}. Best is trial 30 with value: 0.8049480075371623.\n",
      "[I 2024-06-20 11:05:00,465] Trial 45 finished with value: 0.7135431104819763 and parameters: {'n_estimators': 6}. Best is trial 30 with value: 0.8049480075371623.\n",
      "[I 2024-06-20 11:05:00,699] Trial 46 finished with value: 0.7369669900202387 and parameters: {'n_estimators': 132}. Best is trial 30 with value: 0.8049480075371623.\n",
      "[I 2024-06-20 11:05:00,791] Trial 47 finished with value: 0.7143232314188936 and parameters: {'n_estimators': 45}. Best is trial 30 with value: 0.8049480075371623.\n",
      "[I 2024-06-20 11:05:01,011] Trial 48 finished with value: 0.7300533715065857 and parameters: {'n_estimators': 128}. Best is trial 30 with value: 0.8049480075371623.\n",
      "[I 2024-06-20 11:05:02,461] Trial 49 finished with value: 0.7171723604603557 and parameters: {'n_estimators': 840}. Best is trial 30 with value: 0.8049480075371623.\n",
      "[I 2024-06-20 11:05:02,578] Trial 50 finished with value: 0.7476725521669342 and parameters: {'n_estimators': 63}. Best is trial 30 with value: 0.8049480075371623.\n",
      "[I 2024-06-20 11:05:02,696] Trial 51 finished with value: 0.7381017211077527 and parameters: {'n_estimators': 55}. Best is trial 30 with value: 0.8049480075371623.\n",
      "[I 2024-06-20 11:05:02,711] Trial 52 finished with value: 0.7135431104819763 and parameters: {'n_estimators': 6}. Best is trial 30 with value: 0.8049480075371623.\n",
      "[I 2024-06-20 11:05:02,916] Trial 53 finished with value: 0.7300533715065857 and parameters: {'n_estimators': 119}. Best is trial 30 with value: 0.8049480075371623.\n",
      "[I 2024-06-20 11:05:03,224] Trial 54 finished with value: 0.7335319148936169 and parameters: {'n_estimators': 174}. Best is trial 30 with value: 0.8049480075371623.\n",
      "[I 2024-06-20 11:05:03,355] Trial 55 finished with value: 0.7321927726319929 and parameters: {'n_estimators': 65}. Best is trial 30 with value: 0.8049480075371623.\n",
      "[I 2024-06-20 11:05:03,836] Trial 56 finished with value: 0.7311047525996232 and parameters: {'n_estimators': 279}. Best is trial 30 with value: 0.8049480075371623.\n",
      "[I 2024-06-20 11:05:03,926] Trial 57 finished with value: 0.7143232314188936 and parameters: {'n_estimators': 45}. Best is trial 30 with value: 0.8049480075371623.\n",
      "[I 2024-06-20 11:05:04,481] Trial 58 finished with value: 0.7217061438912709 and parameters: {'n_estimators': 329}. Best is trial 30 with value: 0.8049480075371623.\n",
      "[I 2024-06-20 11:05:04,903] Trial 59 finished with value: 0.7335473515248797 and parameters: {'n_estimators': 235}. Best is trial 30 with value: 0.8049480075371623.\n",
      "[I 2024-06-20 11:05:05,081] Trial 60 finished with value: 0.7429548068493481 and parameters: {'n_estimators': 103}. Best is trial 30 with value: 0.8049480075371623.\n",
      "[I 2024-06-20 11:05:05,426] Trial 61 finished with value: 0.7343247411324081 and parameters: {'n_estimators': 201}. Best is trial 30 with value: 0.8049480075371623.\n",
      "[I 2024-06-20 11:05:05,711] Trial 62 finished with value: 0.7264120662937539 and parameters: {'n_estimators': 158}. Best is trial 30 with value: 0.8049480075371623.\n",
      "[I 2024-06-20 11:05:05,813] Trial 63 finished with value: 0.7411790423334988 and parameters: {'n_estimators': 49}. Best is trial 30 with value: 0.8049480075371623.\n",
      "[I 2024-06-20 11:05:06,203] Trial 64 finished with value: 0.7311047525996232 and parameters: {'n_estimators': 228}. Best is trial 30 with value: 0.8049480075371623.\n",
      "[I 2024-06-20 11:05:06,219] Trial 65 finished with value: 0.8049480075371623 and parameters: {'n_estimators': 2}. Best is trial 30 with value: 0.8049480075371623.\n",
      "[I 2024-06-20 11:05:06,281] Trial 66 finished with value: 0.7048094541012689 and parameters: {'n_estimators': 34}. Best is trial 30 with value: 0.8049480075371623.\n",
      "[I 2024-06-20 11:05:06,297] Trial 67 finished with value: 0.7596166556510245 and parameters: {'n_estimators': 4}. Best is trial 30 with value: 0.8049480075371623.\n",
      "[I 2024-06-20 11:05:06,497] Trial 68 finished with value: 0.7523747796895922 and parameters: {'n_estimators': 108}. Best is trial 30 with value: 0.8049480075371623.\n",
      "[I 2024-06-20 11:05:06,529] Trial 69 finished with value: 0.6985102701676589 and parameters: {'n_estimators': 16}. Best is trial 30 with value: 0.8049480075371623.\n",
      "[I 2024-06-20 11:05:06,560] Trial 70 finished with value: 0.77826950625626 and parameters: {'n_estimators': 9}. Best is trial 30 with value: 0.8049480075371623.\n",
      "[I 2024-06-20 11:05:06,623] Trial 71 finished with value: 0.7200918668388455 and parameters: {'n_estimators': 36}. Best is trial 30 with value: 0.8049480075371623.\n",
      "[I 2024-06-20 11:05:06,780] Trial 72 finished with value: 0.718588967454475 and parameters: {'n_estimators': 84}. Best is trial 30 with value: 0.8049480075371623.\n",
      "[I 2024-06-20 11:05:06,795] Trial 73 finished with value: 0.7135431104819763 and parameters: {'n_estimators': 6}. Best is trial 30 with value: 0.8049480075371623.\n",
      "[I 2024-06-20 11:05:06,812] Trial 74 finished with value: 0.7575242856141732 and parameters: {'n_estimators': 3}. Best is trial 30 with value: 0.8049480075371623.\n",
      "[I 2024-06-20 11:05:06,843] Trial 75 finished with value: 0.7190234557034122 and parameters: {'n_estimators': 7}. Best is trial 30 with value: 0.8049480075371623.\n",
      "[I 2024-06-20 11:05:06,950] Trial 76 finished with value: 0.7417521576290507 and parameters: {'n_estimators': 59}. Best is trial 30 with value: 0.8049480075371623.\n",
      "[I 2024-06-20 11:05:07,201] Trial 77 finished with value: 0.7322911577918906 and parameters: {'n_estimators': 138}. Best is trial 30 with value: 0.8049480075371623.\n",
      "[I 2024-06-20 11:05:07,267] Trial 78 finished with value: 0.7048094541012689 and parameters: {'n_estimators': 34}. Best is trial 30 with value: 0.8049480075371623.\n",
      "[I 2024-06-20 11:05:07,283] Trial 79 finished with value: 0.8049480075371623 and parameters: {'n_estimators': 2}. Best is trial 30 with value: 0.8049480075371623.\n",
      "[I 2024-06-20 11:05:07,409] Trial 80 finished with value: 0.7485734872977371 and parameters: {'n_estimators': 76}. Best is trial 30 with value: 0.8049480075371623.\n",
      "[I 2024-06-20 11:05:07,433] Trial 81 finished with value: 0.7575242856141732 and parameters: {'n_estimators': 3}. Best is trial 30 with value: 0.8049480075371623.\n",
      "[I 2024-06-20 11:05:09,081] Trial 82 finished with value: 0.7489822504478099 and parameters: {'n_estimators': 959}. Best is trial 30 with value: 0.8049480075371623.\n",
      "[I 2024-06-20 11:05:09,119] Trial 83 finished with value: 0.7596166556510245 and parameters: {'n_estimators': 4}. Best is trial 30 with value: 0.8049480075371623.\n",
      "[I 2024-06-20 11:05:09,208] Trial 84 finished with value: 0.7048094541012689 and parameters: {'n_estimators': 34}. Best is trial 30 with value: 0.8049480075371623.\n",
      "[I 2024-06-20 11:05:09,317] Trial 85 finished with value: 0.746535621943861 and parameters: {'n_estimators': 58}. Best is trial 30 with value: 0.8049480075371623.\n",
      "[I 2024-06-20 11:05:09,476] Trial 86 finished with value: 0.718588967454475 and parameters: {'n_estimators': 84}. Best is trial 30 with value: 0.8049480075371623.\n",
      "[I 2024-06-20 11:05:09,523] Trial 87 finished with value: 0.7264770156065675 and parameters: {'n_estimators': 28}. Best is trial 30 with value: 0.8049480075371623.\n",
      "[I 2024-06-20 11:05:11,007] Trial 88 finished with value: 0.7395162875610406 and parameters: {'n_estimators': 858}. Best is trial 30 with value: 0.8049480075371623.\n",
      "[I 2024-06-20 11:05:11,024] Trial 89 finished with value: 0.7596166556510245 and parameters: {'n_estimators': 4}. Best is trial 30 with value: 0.8049480075371623.\n",
      "[I 2024-06-20 11:05:11,208] Trial 90 finished with value: 0.7368644164368576 and parameters: {'n_estimators': 105}. Best is trial 30 with value: 0.8049480075371623.\n",
      "[I 2024-06-20 11:05:11,272] Trial 91 finished with value: 0.6918667185227291 and parameters: {'n_estimators': 27}. Best is trial 30 with value: 0.8049480075371623.\n",
      "[I 2024-06-20 11:05:11,282] Trial 92 finished with value: 0.8049480075371623 and parameters: {'n_estimators': 2}. Best is trial 30 with value: 0.8049480075371623.\n",
      "[I 2024-06-20 11:05:11,401] Trial 93 finished with value: 0.7380587169264227 and parameters: {'n_estimators': 62}. Best is trial 30 with value: 0.8049480075371623.\n",
      "[I 2024-06-20 11:05:11,491] Trial 94 finished with value: 0.7143232314188936 and parameters: {'n_estimators': 45}. Best is trial 30 with value: 0.8049480075371623.\n",
      "[I 2024-06-20 11:05:11,545] Trial 95 finished with value: 0.7320964539529483 and parameters: {'n_estimators': 25}. Best is trial 30 with value: 0.8049480075371623.\n",
      "[I 2024-06-20 11:05:11,693] Trial 96 finished with value: 0.7416120011889058 and parameters: {'n_estimators': 79}. Best is trial 30 with value: 0.8049480075371623.\n",
      "[I 2024-06-20 11:05:13,058] Trial 97 finished with value: 0.7171723604603557 and parameters: {'n_estimators': 799}. Best is trial 30 with value: 0.8049480075371623.\n",
      "[I 2024-06-20 11:05:13,130] Trial 98 finished with value: 0.7224226283510524 and parameters: {'n_estimators': 41}. Best is trial 30 with value: 0.8049480075371623.\n",
      "[I 2024-06-20 11:05:14,228] Trial 99 finished with value: 0.7253200053413709 and parameters: {'n_estimators': 637}. Best is trial 30 with value: 0.8049480075371623.\n"
     ]
    },
    {
     "name": "stdout",
     "output_type": "stream",
     "text": [
      "\u001B[1;96m [INFO]\u001B[0m TreeClassifierOptimizer 2024-06-20 11:05:14.228345: <class 'model.interactor.library.ada_boost_interactor_lib.AdaBoostLibInteractor'> best trial finished with value 0.8049480075371623; best params {'n_estimators': 1}\n",
      "FrozenTrial(number=30, state=1, values=[0.8049480075371623], datetime_start=datetime.datetime(2024, 6, 20, 11, 4, 58, 244457), datetime_complete=datetime.datetime(2024, 6, 20, 11, 4, 58, 253328), params={'n_estimators': 1}, user_attrs={}, system_attrs={}, intermediate_values={}, distributions={'n_estimators': IntDistribution(high=1000, log=False, low=1, step=1)}, trial_id=30, value=None)\n"
     ]
    }
   ],
   "execution_count": 27
  },
  {
   "metadata": {
    "ExecuteTime": {
     "end_time": "2024-06-20T21:45:44.625817Z",
     "start_time": "2024-06-20T18:51:14.071288Z"
    }
   },
   "cell_type": "code",
   "source": [
    "ADA_LIB_BEST_PARAMS['base_estimator'] = optimizer.modes[DecisionTreeLibInteractor][0].build(DEC_TREE_LIB_BEST_PARAMS)\n",
    "ADA_IMPL_BEST_PARAMS['base_estimator']= lambda: optimizer.modes[DecisionTreeImplInteractor][0].build(DEC_TREE_IMPL_BEST_PARAMS)\n",
    "#print(ADA_LIB_BEST_PARAMS)\n",
    "ada_lib_dep = iterate_over_number_of_trees(AdaBoostLibInteractor, ADA_LIB_BEST_PARAMS)\n",
    "ada_impl_dep = iterate_over_number_of_trees(AdaSammeImplInteractor, ADA_IMPL_BEST_PARAMS, lb=1, ub=101, step=5)\n",
    "rand_forest_lib_dep = iterate_over_number_of_trees(RandomForestLibInteractor, RAND_FOREST_LIB_BEST_PARAMS)\n",
    "rand_forest_impl_dep = iterate_over_number_of_trees(RandomForestImplInteractor, RAND_FOREST_IMPL_BEST_PARAMS, lb=1,\n",
    "                                                    ub=101, step=5)"
   ],
   "id": "5eed883ddc9c5782",
   "outputs": [
    {
     "name": "stdout",
     "output_type": "stream",
     "text": [
      "processed 10 / 101 with step 1 iters\n",
      "processed 20 / 101 with step 1 iters\n",
      "processed 30 / 101 with step 1 iters\n",
      "processed 40 / 101 with step 1 iters\n",
      "processed 50 / 101 with step 1 iters\n",
      "processed 60 / 101 with step 1 iters\n",
      "processed 70 / 101 with step 1 iters\n",
      "processed 80 / 101 with step 1 iters\n",
      "processed 90 / 101 with step 1 iters\n",
      "processed 100 / 101 with step 1 iters\n",
      "\u001B[1;96m [INFO]\u001B[0m AdaBoostSamme 2024-06-20 21:51:27.055718: Processed 0 / 1 estimators; last weight: 2.5716957755883914\n",
      "\u001B[1;96m [INFO]\u001B[0m AdaBoostSamme 2024-06-20 21:51:27.055718: Processed 1 / 1 estimators\n",
      "\u001B[1;96m [INFO]\u001B[0m AdaBoostSamme 2024-06-20 21:51:31.149416: Processed 0 / 6 estimators; last weight: 2.5716957755883914\n",
      "\u001B[1;96m [INFO]\u001B[0m AdaBoostSamme 2024-06-20 21:52:04.865172: Processed 6 / 6 estimators\n",
      "\u001B[1;96m [INFO]\u001B[0m AdaBoostSamme 2024-06-20 21:52:09.332986: Processed 0 / 11 estimators; last weight: 2.5716957755883914\n",
      "\u001B[1;96m [INFO]\u001B[0m AdaBoostSamme 2024-06-20 21:52:57.872119: Processed 10 / 11 estimators; last weight: 0.4304188228392477\n",
      "\u001B[1;96m [INFO]\u001B[0m AdaBoostSamme 2024-06-20 21:52:57.872119: Processed 11 / 11 estimators\n",
      "\u001B[1;96m [INFO]\u001B[0m AdaBoostSamme 2024-06-20 21:53:02.348731: Processed 0 / 16 estimators; last weight: 2.5716957755883914\n",
      "\u001B[1;96m [INFO]\u001B[0m AdaBoostSamme 2024-06-20 21:53:55.357947: Processed 10 / 16 estimators; last weight: 0.4304188228392477\n",
      "\u001B[1;96m [INFO]\u001B[0m AdaBoostSamme 2024-06-20 21:54:21.112380: Processed 16 / 16 estimators\n",
      "\u001B[1;96m [INFO]\u001B[0m AdaBoostSamme 2024-06-20 21:54:26.652352: Processed 0 / 21 estimators; last weight: 2.5716957755883914\n",
      "\u001B[1;96m [INFO]\u001B[0m AdaBoostSamme 2024-06-20 21:55:18.208287: Processed 10 / 21 estimators; last weight: 0.4304188228392477\n",
      "\u001B[1;96m [INFO]\u001B[0m AdaBoostSamme 2024-06-20 21:56:06.641872: Processed 20 / 21 estimators; last weight: 0.4562326815210359\n",
      "\u001B[1;96m [INFO]\u001B[0m AdaBoostSamme 2024-06-20 21:56:06.641872: Processed 21 / 21 estimators\n",
      "\u001B[1;96m [INFO]\u001B[0m AdaBoostSamme 2024-06-20 21:56:11.484214: Processed 0 / 26 estimators; last weight: 2.5716957755883914\n",
      "\u001B[1;96m [INFO]\u001B[0m AdaBoostSamme 2024-06-20 21:57:03.623400: Processed 10 / 26 estimators; last weight: 0.4304188228392477\n",
      "\u001B[1;96m [INFO]\u001B[0m AdaBoostSamme 2024-06-20 21:57:52.569128: Processed 20 / 26 estimators; last weight: 0.4562326815210359\n",
      "\u001B[1;96m [INFO]\u001B[0m AdaBoostSamme 2024-06-20 21:58:18.105596: Processed 26 / 26 estimators\n",
      "\u001B[1;96m [INFO]\u001B[0m AdaBoostSamme 2024-06-20 21:58:22.772776: Processed 0 / 31 estimators; last weight: 2.5716957755883914\n",
      "\u001B[1;96m [INFO]\u001B[0m AdaBoostSamme 2024-06-20 21:59:11.222355: Processed 10 / 31 estimators; last weight: 0.4304188228392477\n",
      "\u001B[1;96m [INFO]\u001B[0m AdaBoostSamme 2024-06-20 21:59:57.402911: Processed 20 / 31 estimators; last weight: 0.4562326815210359\n",
      "\u001B[1;96m [INFO]\u001B[0m AdaBoostSamme 2024-06-20 22:00:43.516017: Processed 30 / 31 estimators; last weight: 0.4684730849790263\n",
      "\u001B[1;96m [INFO]\u001B[0m AdaBoostSamme 2024-06-20 22:00:43.516017: Processed 31 / 31 estimators\n",
      "\u001B[1;96m [INFO]\u001B[0m AdaBoostSamme 2024-06-20 22:00:47.796201: Processed 0 / 36 estimators; last weight: 2.5716957755883914\n",
      "\u001B[1;96m [INFO]\u001B[0m AdaBoostSamme 2024-06-20 22:01:36.380649: Processed 10 / 36 estimators; last weight: 0.4304188228392477\n",
      "\u001B[1;96m [INFO]\u001B[0m AdaBoostSamme 2024-06-20 22:02:25.835999: Processed 20 / 36 estimators; last weight: 0.4562326815210359\n",
      "\u001B[1;96m [INFO]\u001B[0m AdaBoostSamme 2024-06-20 22:03:14.919292: Processed 30 / 36 estimators; last weight: 0.4684730849790263\n",
      "\u001B[1;96m [INFO]\u001B[0m AdaBoostSamme 2024-06-20 22:03:41.887480: Processed 36 / 36 estimators\n",
      "\u001B[1;96m [INFO]\u001B[0m AdaBoostSamme 2024-06-20 22:03:46.255676: Processed 0 / 41 estimators; last weight: 2.5716957755883914\n",
      "\u001B[1;96m [INFO]\u001B[0m AdaBoostSamme 2024-06-20 22:04:38.729659: Processed 10 / 41 estimators; last weight: 0.4304188228392477\n",
      "\u001B[1;96m [INFO]\u001B[0m AdaBoostSamme 2024-06-20 22:05:26.359542: Processed 20 / 41 estimators; last weight: 0.4562326815210359\n",
      "\u001B[1;96m [INFO]\u001B[0m AdaBoostSamme 2024-06-20 22:06:15.442913: Processed 30 / 41 estimators; last weight: 0.4684730849790263\n",
      "\u001B[1;96m [INFO]\u001B[0m AdaBoostSamme 2024-06-20 22:07:05.992755: Processed 40 / 41 estimators; last weight: 0.47652171694606027\n",
      "\u001B[1;96m [INFO]\u001B[0m AdaBoostSamme 2024-06-20 22:07:05.992755: Processed 41 / 41 estimators\n",
      "\u001B[1;96m [INFO]\u001B[0m AdaBoostSamme 2024-06-20 22:07:10.241071: Processed 0 / 46 estimators; last weight: 2.5716957755883914\n",
      "\u001B[1;96m [INFO]\u001B[0m AdaBoostSamme 2024-06-20 22:07:58.275915: Processed 10 / 46 estimators; last weight: 0.4304188228392477\n",
      "\u001B[1;96m [INFO]\u001B[0m AdaBoostSamme 2024-06-20 22:08:44.506819: Processed 20 / 46 estimators; last weight: 0.4562326815210359\n",
      "\u001B[1;96m [INFO]\u001B[0m AdaBoostSamme 2024-06-20 22:09:32.630959: Processed 30 / 46 estimators; last weight: 0.4684730849790263\n",
      "\u001B[1;96m [INFO]\u001B[0m AdaBoostSamme 2024-06-20 22:10:22.880145: Processed 40 / 46 estimators; last weight: 0.47652171694606027\n",
      "\u001B[1;96m [INFO]\u001B[0m AdaBoostSamme 2024-06-20 22:10:49.642908: Processed 46 / 46 estimators\n",
      "\u001B[1;96m [INFO]\u001B[0m AdaBoostSamme 2024-06-20 22:10:54.441032: Processed 0 / 51 estimators; last weight: 2.5716957755883914\n",
      "\u001B[1;96m [INFO]\u001B[0m AdaBoostSamme 2024-06-20 22:11:44.251609: Processed 10 / 51 estimators; last weight: 0.4304188228392477\n",
      "\u001B[1;96m [INFO]\u001B[0m AdaBoostSamme 2024-06-20 22:12:32.652203: Processed 20 / 51 estimators; last weight: 0.4562326815210359\n",
      "\u001B[1;96m [INFO]\u001B[0m AdaBoostSamme 2024-06-20 22:13:19.316965: Processed 30 / 51 estimators; last weight: 0.4684730849790263\n",
      "\u001B[1;96m [INFO]\u001B[0m AdaBoostSamme 2024-06-20 22:14:07.671840: Processed 40 / 51 estimators; last weight: 0.47652171694606027\n",
      "\u001B[1;96m [INFO]\u001B[0m AdaBoostSamme 2024-06-20 22:14:55.120099: Processed 50 / 51 estimators; last weight: 0.16606549445236096\n",
      "\u001B[1;96m [INFO]\u001B[0m AdaBoostSamme 2024-06-20 22:14:55.120099: Processed 51 / 51 estimators\n",
      "\u001B[1;96m [INFO]\u001B[0m AdaBoostSamme 2024-06-20 22:14:59.322109: Processed 0 / 56 estimators; last weight: 2.5716957755883914\n",
      "\u001B[1;96m [INFO]\u001B[0m AdaBoostSamme 2024-06-20 22:15:50.661200: Processed 10 / 56 estimators; last weight: 0.4304188228392477\n",
      "\u001B[1;96m [INFO]\u001B[0m AdaBoostSamme 2024-06-20 22:16:37.830121: Processed 20 / 56 estimators; last weight: 0.4562326815210359\n",
      "\u001B[1;96m [INFO]\u001B[0m AdaBoostSamme 2024-06-20 22:17:25.462774: Processed 30 / 56 estimators; last weight: 0.4684730849790263\n",
      "\u001B[1;96m [INFO]\u001B[0m AdaBoostSamme 2024-06-20 22:18:15.869229: Processed 40 / 56 estimators; last weight: 0.47652171694606027\n",
      "\u001B[1;96m [INFO]\u001B[0m AdaBoostSamme 2024-06-20 22:19:03.651865: Processed 50 / 56 estimators; last weight: 0.16606549445236096\n",
      "\u001B[1;96m [INFO]\u001B[0m AdaBoostSamme 2024-06-20 22:19:25.873268: Processed 56 / 56 estimators\n",
      "\u001B[1;96m [INFO]\u001B[0m AdaBoostSamme 2024-06-20 22:19:30.477614: Processed 0 / 61 estimators; last weight: 2.5716957755883914\n",
      "\u001B[1;96m [INFO]\u001B[0m AdaBoostSamme 2024-06-20 22:20:19.999210: Processed 10 / 61 estimators; last weight: 0.4304188228392477\n",
      "\u001B[1;96m [INFO]\u001B[0m AdaBoostSamme 2024-06-20 22:21:09.413552: Processed 20 / 61 estimators; last weight: 0.4562326815210359\n",
      "\u001B[1;96m [INFO]\u001B[0m AdaBoostSamme 2024-06-20 22:21:58.508396: Processed 30 / 61 estimators; last weight: 0.4684730849790263\n",
      "\u001B[1;96m [INFO]\u001B[0m AdaBoostSamme 2024-06-20 22:22:48.151138: Processed 40 / 61 estimators; last weight: 0.47652171694606027\n",
      "\u001B[1;96m [INFO]\u001B[0m AdaBoostSamme 2024-06-20 22:23:35.260064: Processed 50 / 61 estimators; last weight: 0.16606549445236096\n",
      "\u001B[1;96m [INFO]\u001B[0m AdaBoostSamme 2024-06-20 22:24:20.754237: Processed 60 / 61 estimators; last weight: 0.14353440212950463\n",
      "\u001B[1;96m [INFO]\u001B[0m AdaBoostSamme 2024-06-20 22:24:20.754237: Processed 61 / 61 estimators\n",
      "\u001B[1;96m [INFO]\u001B[0m AdaBoostSamme 2024-06-20 22:24:25.759744: Processed 0 / 66 estimators; last weight: 2.5716957755883914\n",
      "\u001B[1;96m [INFO]\u001B[0m AdaBoostSamme 2024-06-20 22:25:18.590934: Processed 10 / 66 estimators; last weight: 0.4304188228392477\n",
      "\u001B[1;96m [INFO]\u001B[0m AdaBoostSamme 2024-06-20 22:26:04.456841: Processed 20 / 66 estimators; last weight: 0.4562326815210359\n",
      "\u001B[1;96m [INFO]\u001B[0m AdaBoostSamme 2024-06-20 22:26:50.288656: Processed 30 / 66 estimators; last weight: 0.4684730849790263\n",
      "\u001B[1;96m [INFO]\u001B[0m AdaBoostSamme 2024-06-20 22:27:45.693092: Processed 40 / 66 estimators; last weight: 0.47652171694606027\n",
      "\u001B[1;96m [INFO]\u001B[0m AdaBoostSamme 2024-06-20 22:28:37.326475: Processed 50 / 66 estimators; last weight: 0.16606549445236096\n",
      "\u001B[1;96m [INFO]\u001B[0m AdaBoostSamme 2024-06-20 22:29:30.767113: Processed 60 / 66 estimators; last weight: 0.14353440212950463\n",
      "\u001B[1;96m [INFO]\u001B[0m AdaBoostSamme 2024-06-20 22:29:54.023449: Processed 66 / 66 estimators\n",
      "\u001B[1;96m [INFO]\u001B[0m AdaBoostSamme 2024-06-20 22:29:58.269349: Processed 0 / 71 estimators; last weight: 2.5716957755883914\n",
      "\u001B[1;96m [INFO]\u001B[0m AdaBoostSamme 2024-06-20 22:30:48.654010: Processed 10 / 71 estimators; last weight: 0.4304188228392477\n",
      "\u001B[1;96m [INFO]\u001B[0m AdaBoostSamme 2024-06-20 22:31:43.021052: Processed 20 / 71 estimators; last weight: 0.4562326815210359\n",
      "\u001B[1;96m [INFO]\u001B[0m AdaBoostSamme 2024-06-20 22:32:34.978218: Processed 30 / 71 estimators; last weight: 0.4684730849790263\n",
      "\u001B[1;96m [INFO]\u001B[0m AdaBoostSamme 2024-06-20 22:33:26.060375: Processed 40 / 71 estimators; last weight: 0.47652171694606027\n",
      "\u001B[1;96m [INFO]\u001B[0m AdaBoostSamme 2024-06-20 22:34:23.247058: Processed 50 / 71 estimators; last weight: 0.16606549445236096\n",
      "\u001B[1;96m [INFO]\u001B[0m AdaBoostSamme 2024-06-20 22:35:17.650581: Processed 60 / 71 estimators; last weight: 0.14353440212950463\n",
      "\u001B[1;96m [INFO]\u001B[0m AdaBoostSamme 2024-06-20 22:36:10.828917: Processed 70 / 71 estimators; last weight: 0.30730068184835924\n",
      "\u001B[1;96m [INFO]\u001B[0m AdaBoostSamme 2024-06-20 22:36:10.828917: Processed 71 / 71 estimators\n",
      "\u001B[1;96m [INFO]\u001B[0m AdaBoostSamme 2024-06-20 22:36:15.555669: Processed 0 / 76 estimators; last weight: 2.5716957755883914\n",
      "\u001B[1;96m [INFO]\u001B[0m AdaBoostSamme 2024-06-20 22:37:07.174766: Processed 10 / 76 estimators; last weight: 0.4304188228392477\n",
      "\u001B[1;96m [INFO]\u001B[0m AdaBoostSamme 2024-06-20 22:37:57.485665: Processed 20 / 76 estimators; last weight: 0.4562326815210359\n",
      "\u001B[1;96m [INFO]\u001B[0m AdaBoostSamme 2024-06-20 22:38:49.917244: Processed 30 / 76 estimators; last weight: 0.4684730849790263\n",
      "\u001B[1;96m [INFO]\u001B[0m AdaBoostSamme 2024-06-20 22:39:49.903144: Processed 40 / 76 estimators; last weight: 0.47652171694606027\n",
      "\u001B[1;96m [INFO]\u001B[0m AdaBoostSamme 2024-06-20 22:40:44.369324: Processed 50 / 76 estimators; last weight: 0.16606549445236096\n",
      "\u001B[1;96m [INFO]\u001B[0m AdaBoostSamme 2024-06-20 22:41:34.264096: Processed 60 / 76 estimators; last weight: 0.14353440212950463\n",
      "\u001B[1;96m [INFO]\u001B[0m AdaBoostSamme 2024-06-20 22:42:32.837413: Processed 70 / 76 estimators; last weight: 0.30730068184835924\n",
      "\u001B[1;96m [INFO]\u001B[0m AdaBoostSamme 2024-06-20 22:42:55.617236: Processed 76 / 76 estimators\n",
      "\u001B[1;96m [INFO]\u001B[0m AdaBoostSamme 2024-06-20 22:42:59.850132: Processed 0 / 81 estimators; last weight: 2.5716957755883914\n",
      "\u001B[1;96m [INFO]\u001B[0m AdaBoostSamme 2024-06-20 22:43:52.217973: Processed 10 / 81 estimators; last weight: 0.4304188228392477\n",
      "\u001B[1;96m [INFO]\u001B[0m AdaBoostSamme 2024-06-20 22:44:42.765347: Processed 20 / 81 estimators; last weight: 0.4562326815210359\n",
      "\u001B[1;96m [INFO]\u001B[0m AdaBoostSamme 2024-06-20 22:45:37.744096: Processed 30 / 81 estimators; last weight: 0.4684730849790263\n",
      "\u001B[1;96m [INFO]\u001B[0m AdaBoostSamme 2024-06-20 22:46:35.525783: Processed 40 / 81 estimators; last weight: 0.47652171694606027\n",
      "\u001B[1;96m [INFO]\u001B[0m AdaBoostSamme 2024-06-20 22:48:30.233063: Processed 50 / 81 estimators; last weight: 0.16606549445236096\n",
      "\u001B[1;96m [INFO]\u001B[0m AdaBoostSamme 2024-06-20 22:50:16.991956: Processed 60 / 81 estimators; last weight: 0.14353440212950463\n",
      "\u001B[1;96m [INFO]\u001B[0m AdaBoostSamme 2024-06-20 22:52:14.740310: Processed 70 / 81 estimators; last weight: 0.30730068184835924\n",
      "\u001B[1;96m [INFO]\u001B[0m AdaBoostSamme 2024-06-20 22:54:07.913631: Processed 80 / 81 estimators; last weight: 0.24291482168197143\n",
      "\u001B[1;96m [INFO]\u001B[0m AdaBoostSamme 2024-06-20 22:54:07.913631: Processed 81 / 81 estimators\n",
      "\u001B[1;96m [INFO]\u001B[0m AdaBoostSamme 2024-06-20 22:54:18.123853: Processed 0 / 86 estimators; last weight: 2.5716957755883914\n",
      "\u001B[1;96m [INFO]\u001B[0m AdaBoostSamme 2024-06-20 22:56:15.365950: Processed 10 / 86 estimators; last weight: 0.4304188228392477\n",
      "\u001B[1;96m [INFO]\u001B[0m AdaBoostSamme 2024-06-20 22:58:06.754476: Processed 20 / 86 estimators; last weight: 0.4562326815210359\n",
      "\u001B[1;96m [INFO]\u001B[0m AdaBoostSamme 2024-06-20 23:00:00.325987: Processed 30 / 86 estimators; last weight: 0.4684730849790263\n",
      "\u001B[1;96m [INFO]\u001B[0m AdaBoostSamme 2024-06-20 23:02:04.458601: Processed 40 / 86 estimators; last weight: 0.47652171694606027\n",
      "\u001B[1;96m [INFO]\u001B[0m AdaBoostSamme 2024-06-20 23:03:59.463297: Processed 50 / 86 estimators; last weight: 0.16606549445236096\n",
      "\u001B[1;96m [INFO]\u001B[0m AdaBoostSamme 2024-06-20 23:05:46.561750: Processed 60 / 86 estimators; last weight: 0.14353440212950463\n",
      "\u001B[1;96m [INFO]\u001B[0m AdaBoostSamme 2024-06-20 23:07:46.268134: Processed 70 / 86 estimators; last weight: 0.30730068184835924\n",
      "\u001B[1;96m [INFO]\u001B[0m AdaBoostSamme 2024-06-20 23:09:38.254529: Processed 80 / 86 estimators; last weight: 0.24291482168197143\n",
      "\u001B[1;96m [INFO]\u001B[0m AdaBoostSamme 2024-06-20 23:10:35.184429: Processed 86 / 86 estimators\n",
      "\u001B[1;96m [INFO]\u001B[0m AdaBoostSamme 2024-06-20 23:10:45.769205: Processed 0 / 91 estimators; last weight: 2.5716957755883914\n",
      "\u001B[1;96m [INFO]\u001B[0m AdaBoostSamme 2024-06-20 23:12:52.629143: Processed 10 / 91 estimators; last weight: 0.4304188228392477\n",
      "\u001B[1;96m [INFO]\u001B[0m AdaBoostSamme 2024-06-20 23:14:49.438883: Processed 20 / 91 estimators; last weight: 0.4562326815210359\n",
      "\u001B[1;96m [INFO]\u001B[0m AdaBoostSamme 2024-06-20 23:16:46.276559: Processed 30 / 91 estimators; last weight: 0.4684730849790263\n",
      "\u001B[1;96m [INFO]\u001B[0m AdaBoostSamme 2024-06-20 23:18:45.742644: Processed 40 / 91 estimators; last weight: 0.47652171694606027\n",
      "\u001B[1;96m [INFO]\u001B[0m AdaBoostSamme 2024-06-20 23:20:39.287634: Processed 50 / 91 estimators; last weight: 0.16606549445236096\n",
      "\u001B[1;96m [INFO]\u001B[0m AdaBoostSamme 2024-06-20 23:22:28.750430: Processed 60 / 91 estimators; last weight: 0.14353440212950463\n",
      "\u001B[1;96m [INFO]\u001B[0m AdaBoostSamme 2024-06-20 23:24:28.250379: Processed 70 / 91 estimators; last weight: 0.30730068184835924\n",
      "\u001B[1;96m [INFO]\u001B[0m AdaBoostSamme 2024-06-20 23:26:20.857587: Processed 80 / 91 estimators; last weight: 0.24291482168197143\n",
      "\u001B[1;96m [INFO]\u001B[0m AdaBoostSamme 2024-06-20 23:28:13.636478: Processed 90 / 91 estimators; last weight: 0.17685596376410295\n",
      "\u001B[1;96m [INFO]\u001B[0m AdaBoostSamme 2024-06-20 23:28:13.636478: Processed 91 / 91 estimators\n",
      "\u001B[1;96m [INFO]\u001B[0m AdaBoostSamme 2024-06-20 23:28:24.053269: Processed 0 / 96 estimators; last weight: 2.5716957755883914\n",
      "\u001B[1;96m [INFO]\u001B[0m AdaBoostSamme 2024-06-20 23:30:21.009683: Processed 10 / 96 estimators; last weight: 0.4304188228392477\n",
      "\u001B[1;96m [INFO]\u001B[0m AdaBoostSamme 2024-06-20 23:32:15.444193: Processed 20 / 96 estimators; last weight: 0.4562326815210359\n",
      "\u001B[1;96m [INFO]\u001B[0m AdaBoostSamme 2024-06-20 23:34:07.577788: Processed 30 / 96 estimators; last weight: 0.4684730849790263\n",
      "\u001B[1;96m [INFO]\u001B[0m AdaBoostSamme 2024-06-20 23:36:07.295047: Processed 40 / 96 estimators; last weight: 0.47652171694606027\n",
      "\u001B[1;96m [INFO]\u001B[0m AdaBoostSamme 2024-06-20 23:37:59.557628: Processed 50 / 96 estimators; last weight: 0.16606549445236096\n",
      "\u001B[1;96m [INFO]\u001B[0m AdaBoostSamme 2024-06-20 23:39:44.792090: Processed 60 / 96 estimators; last weight: 0.14353440212950463\n",
      "\u001B[1;96m [INFO]\u001B[0m AdaBoostSamme 2024-06-20 23:41:40.453947: Processed 70 / 96 estimators; last weight: 0.30730068184835924\n",
      "\u001B[1;96m [INFO]\u001B[0m AdaBoostSamme 2024-06-20 23:43:40.309585: Processed 80 / 96 estimators; last weight: 0.24291482168197143\n",
      "\u001B[1;96m [INFO]\u001B[0m AdaBoostSamme 2024-06-20 23:45:38.536327: Processed 90 / 96 estimators; last weight: 0.17685596376410295\n",
      "\u001B[1;96m [INFO]\u001B[0m AdaBoostSamme 2024-06-20 23:46:32.195346: Processed 96 / 96 estimators\n",
      "processed 10 / 101 with step 1 iters\n",
      "processed 20 / 101 with step 1 iters\n",
      "processed 30 / 101 with step 1 iters\n",
      "processed 40 / 101 with step 1 iters\n",
      "processed 50 / 101 with step 1 iters\n",
      "processed 60 / 101 with step 1 iters\n",
      "processed 70 / 101 with step 1 iters\n",
      "processed 80 / 101 with step 1 iters\n",
      "processed 90 / 101 with step 1 iters\n",
      "processed 100 / 101 with step 1 iters\n",
      "\u001B[1;96m [INFO]\u001B[0m RandomForestClassifierImpl 2024-06-20 23:46:43.854362: Processed 0 / 1 estimators\n",
      "\u001B[1;96m [INFO]\u001B[0m RandomForestClassifierImpl 2024-06-20 23:46:47.354723: Processed 1 / 1 estimators\n",
      "\u001B[1;96m [INFO]\u001B[0m RandomForestClassifierImpl 2024-06-20 23:46:47.360415: Processed 0 / 6 estimators\n",
      "\u001B[1;96m [INFO]\u001B[0m RandomForestClassifierImpl 2024-06-20 23:47:09.343114: Processed 6 / 6 estimators\n",
      "\u001B[1;96m [INFO]\u001B[0m RandomForestClassifierImpl 2024-06-20 23:47:09.348109: Processed 0 / 11 estimators\n",
      "\u001B[1;96m [INFO]\u001B[0m RandomForestClassifierImpl 2024-06-20 23:47:45.069232: Processed 10 / 11 estimators\n",
      "\u001B[1;96m [INFO]\u001B[0m RandomForestClassifierImpl 2024-06-20 23:47:49.243918: Processed 11 / 11 estimators\n",
      "\u001B[1;96m [INFO]\u001B[0m RandomForestClassifierImpl 2024-06-20 23:47:49.249479: Processed 0 / 16 estimators\n",
      "\u001B[1;96m [INFO]\u001B[0m RandomForestClassifierImpl 2024-06-20 23:48:24.222425: Processed 10 / 16 estimators\n",
      "\u001B[1;96m [INFO]\u001B[0m RandomForestClassifierImpl 2024-06-20 23:48:45.564771: Processed 16 / 16 estimators\n",
      "\u001B[1;96m [INFO]\u001B[0m RandomForestClassifierImpl 2024-06-20 23:48:45.571772: Processed 0 / 21 estimators\n",
      "\u001B[1;96m [INFO]\u001B[0m RandomForestClassifierImpl 2024-06-20 23:49:20.723678: Processed 10 / 21 estimators\n",
      "\u001B[1;96m [INFO]\u001B[0m RandomForestClassifierImpl 2024-06-20 23:49:59.560474: Processed 20 / 21 estimators\n",
      "\u001B[1;96m [INFO]\u001B[0m RandomForestClassifierImpl 2024-06-20 23:50:04.114515: Processed 21 / 21 estimators\n",
      "\u001B[1;96m [INFO]\u001B[0m RandomForestClassifierImpl 2024-06-20 23:50:04.121512: Processed 0 / 26 estimators\n",
      "\u001B[1;96m [INFO]\u001B[0m RandomForestClassifierImpl 2024-06-20 23:50:39.508858: Processed 10 / 26 estimators\n",
      "\u001B[1;96m [INFO]\u001B[0m RandomForestClassifierImpl 2024-06-20 23:51:17.686647: Processed 20 / 26 estimators\n",
      "\u001B[1;96m [INFO]\u001B[0m RandomForestClassifierImpl 2024-06-20 23:51:39.062399: Processed 26 / 26 estimators\n",
      "\u001B[1;96m [INFO]\u001B[0m RandomForestClassifierImpl 2024-06-20 23:51:39.070179: Processed 0 / 31 estimators\n",
      "\u001B[1;96m [INFO]\u001B[0m RandomForestClassifierImpl 2024-06-20 23:52:13.491143: Processed 10 / 31 estimators\n",
      "\u001B[1;96m [INFO]\u001B[0m RandomForestClassifierImpl 2024-06-20 23:52:49.019200: Processed 20 / 31 estimators\n",
      "\u001B[1;96m [INFO]\u001B[0m RandomForestClassifierImpl 2024-06-20 23:53:29.003071: Processed 30 / 31 estimators\n",
      "\u001B[1;96m [INFO]\u001B[0m RandomForestClassifierImpl 2024-06-20 23:53:32.452347: Processed 31 / 31 estimators\n",
      "\u001B[1;96m [INFO]\u001B[0m RandomForestClassifierImpl 2024-06-20 23:53:32.461321: Processed 0 / 36 estimators\n",
      "\u001B[1;96m [INFO]\u001B[0m RandomForestClassifierImpl 2024-06-20 23:54:07.990100: Processed 10 / 36 estimators\n",
      "\u001B[1;96m [INFO]\u001B[0m RandomForestClassifierImpl 2024-06-20 23:54:47.518992: Processed 20 / 36 estimators\n",
      "\u001B[1;96m [INFO]\u001B[0m RandomForestClassifierImpl 2024-06-20 23:55:22.610998: Processed 30 / 36 estimators\n",
      "\u001B[1;96m [INFO]\u001B[0m RandomForestClassifierImpl 2024-06-20 23:55:43.677879: Processed 36 / 36 estimators\n",
      "\u001B[1;96m [INFO]\u001B[0m RandomForestClassifierImpl 2024-06-20 23:55:43.687843: Processed 0 / 41 estimators\n",
      "\u001B[1;96m [INFO]\u001B[0m RandomForestClassifierImpl 2024-06-20 23:56:23.057013: Processed 10 / 41 estimators\n",
      "\u001B[1;96m [INFO]\u001B[0m RandomForestClassifierImpl 2024-06-20 23:56:58.045055: Processed 20 / 41 estimators\n",
      "\u001B[1;96m [INFO]\u001B[0m RandomForestClassifierImpl 2024-06-20 23:57:35.328894: Processed 30 / 41 estimators\n",
      "\u001B[1;96m [INFO]\u001B[0m RandomForestClassifierImpl 2024-06-20 23:58:13.982871: Processed 40 / 41 estimators\n",
      "\u001B[1;96m [INFO]\u001B[0m RandomForestClassifierImpl 2024-06-20 23:58:17.868386: Processed 41 / 41 estimators\n",
      "\u001B[1;96m [INFO]\u001B[0m RandomForestClassifierImpl 2024-06-20 23:58:17.878391: Processed 0 / 46 estimators\n",
      "\u001B[1;96m [INFO]\u001B[0m RandomForestClassifierImpl 2024-06-20 23:58:54.373549: Processed 10 / 46 estimators\n",
      "\u001B[1;96m [INFO]\u001B[0m RandomForestClassifierImpl 2024-06-20 23:59:31.342477: Processed 20 / 46 estimators\n",
      "\u001B[1;96m [INFO]\u001B[0m RandomForestClassifierImpl 2024-06-21 00:00:09.619070: Processed 30 / 46 estimators\n",
      "\u001B[1;96m [INFO]\u001B[0m RandomForestClassifierImpl 2024-06-21 00:00:45.930943: Processed 40 / 46 estimators\n",
      "\u001B[1;96m [INFO]\u001B[0m RandomForestClassifierImpl 2024-06-21 00:01:07.605130: Processed 46 / 46 estimators\n",
      "\u001B[1;96m [INFO]\u001B[0m RandomForestClassifierImpl 2024-06-21 00:01:07.617239: Processed 0 / 51 estimators\n",
      "\u001B[1;96m [INFO]\u001B[0m RandomForestClassifierImpl 2024-06-21 00:01:45.364712: Processed 10 / 51 estimators\n",
      "\u001B[1;96m [INFO]\u001B[0m RandomForestClassifierImpl 2024-06-21 00:02:22.979428: Processed 20 / 51 estimators\n",
      "\u001B[1;96m [INFO]\u001B[0m RandomForestClassifierImpl 2024-06-21 00:03:00.040801: Processed 30 / 51 estimators\n",
      "\u001B[1;96m [INFO]\u001B[0m RandomForestClassifierImpl 2024-06-21 00:03:35.478610: Processed 40 / 51 estimators\n",
      "\u001B[1;96m [INFO]\u001B[0m RandomForestClassifierImpl 2024-06-21 00:04:12.166503: Processed 50 / 51 estimators\n",
      "\u001B[1;96m [INFO]\u001B[0m RandomForestClassifierImpl 2024-06-21 00:04:15.663204: Processed 51 / 51 estimators\n",
      "\u001B[1;96m [INFO]\u001B[0m RandomForestClassifierImpl 2024-06-21 00:04:15.674979: Processed 0 / 56 estimators\n",
      "\u001B[1;96m [INFO]\u001B[0m RandomForestClassifierImpl 2024-06-21 00:04:49.861225: Processed 10 / 56 estimators\n",
      "\u001B[1;96m [INFO]\u001B[0m RandomForestClassifierImpl 2024-06-21 00:05:25.447624: Processed 20 / 56 estimators\n",
      "\u001B[1;96m [INFO]\u001B[0m RandomForestClassifierImpl 2024-06-21 00:06:00.909254: Processed 30 / 56 estimators\n",
      "\u001B[1;96m [INFO]\u001B[0m RandomForestClassifierImpl 2024-06-21 00:06:37.294374: Processed 40 / 56 estimators\n",
      "\u001B[1;96m [INFO]\u001B[0m RandomForestClassifierImpl 2024-06-21 00:07:11.027683: Processed 50 / 56 estimators\n",
      "\u001B[1;96m [INFO]\u001B[0m RandomForestClassifierImpl 2024-06-21 00:07:33.800259: Processed 56 / 56 estimators\n",
      "\u001B[1;96m [INFO]\u001B[0m RandomForestClassifierImpl 2024-06-21 00:07:33.813183: Processed 0 / 61 estimators\n",
      "\u001B[1;96m [INFO]\u001B[0m RandomForestClassifierImpl 2024-06-21 00:08:09.544354: Processed 10 / 61 estimators\n",
      "\u001B[1;96m [INFO]\u001B[0m RandomForestClassifierImpl 2024-06-21 00:08:45.756287: Processed 20 / 61 estimators\n",
      "\u001B[1;96m [INFO]\u001B[0m RandomForestClassifierImpl 2024-06-21 00:09:21.694302: Processed 30 / 61 estimators\n",
      "\u001B[1;96m [INFO]\u001B[0m RandomForestClassifierImpl 2024-06-21 00:09:59.428693: Processed 40 / 61 estimators\n",
      "\u001B[1;96m [INFO]\u001B[0m RandomForestClassifierImpl 2024-06-21 00:10:36.031542: Processed 50 / 61 estimators\n",
      "\u001B[1;96m [INFO]\u001B[0m RandomForestClassifierImpl 2024-06-21 00:11:13.911428: Processed 60 / 61 estimators\n",
      "\u001B[1;96m [INFO]\u001B[0m RandomForestClassifierImpl 2024-06-21 00:11:17.514080: Processed 61 / 61 estimators\n",
      "\u001B[1;96m [INFO]\u001B[0m RandomForestClassifierImpl 2024-06-21 00:11:17.528085: Processed 0 / 66 estimators\n",
      "\u001B[1;96m [INFO]\u001B[0m RandomForestClassifierImpl 2024-06-21 00:11:55.131613: Processed 10 / 66 estimators\n",
      "\u001B[1;96m [INFO]\u001B[0m RandomForestClassifierImpl 2024-06-21 00:12:33.351520: Processed 20 / 66 estimators\n",
      "\u001B[1;96m [INFO]\u001B[0m RandomForestClassifierImpl 2024-06-21 00:13:09.618553: Processed 30 / 66 estimators\n",
      "\u001B[1;96m [INFO]\u001B[0m RandomForestClassifierImpl 2024-06-21 00:13:47.741342: Processed 40 / 66 estimators\n",
      "\u001B[1;96m [INFO]\u001B[0m RandomForestClassifierImpl 2024-06-21 00:14:23.927020: Processed 50 / 66 estimators\n",
      "\u001B[1;96m [INFO]\u001B[0m RandomForestClassifierImpl 2024-06-21 00:14:59.677291: Processed 60 / 66 estimators\n",
      "\u001B[1;96m [INFO]\u001B[0m RandomForestClassifierImpl 2024-06-21 00:15:23.255956: Processed 66 / 66 estimators\n",
      "\u001B[1;96m [INFO]\u001B[0m RandomForestClassifierImpl 2024-06-21 00:15:23.270956: Processed 0 / 71 estimators\n",
      "\u001B[1;96m [INFO]\u001B[0m RandomForestClassifierImpl 2024-06-21 00:15:56.672327: Processed 10 / 71 estimators\n",
      "\u001B[1;96m [INFO]\u001B[0m RandomForestClassifierImpl 2024-06-21 00:16:33.387804: Processed 20 / 71 estimators\n",
      "\u001B[1;96m [INFO]\u001B[0m RandomForestClassifierImpl 2024-06-21 00:17:06.213223: Processed 30 / 71 estimators\n",
      "\u001B[1;96m [INFO]\u001B[0m RandomForestClassifierImpl 2024-06-21 00:17:43.447389: Processed 40 / 71 estimators\n",
      "\u001B[1;96m [INFO]\u001B[0m RandomForestClassifierImpl 2024-06-21 00:18:19.031116: Processed 50 / 71 estimators\n",
      "\u001B[1;96m [INFO]\u001B[0m RandomForestClassifierImpl 2024-06-21 00:18:58.368316: Processed 60 / 71 estimators\n",
      "\u001B[1;96m [INFO]\u001B[0m RandomForestClassifierImpl 2024-06-21 00:19:37.486265: Processed 70 / 71 estimators\n",
      "\u001B[1;96m [INFO]\u001B[0m RandomForestClassifierImpl 2024-06-21 00:19:40.603525: Processed 71 / 71 estimators\n",
      "\u001B[1;96m [INFO]\u001B[0m RandomForestClassifierImpl 2024-06-21 00:19:40.618528: Processed 0 / 76 estimators\n",
      "\u001B[1;96m [INFO]\u001B[0m RandomForestClassifierImpl 2024-06-21 00:20:19.358149: Processed 10 / 76 estimators\n",
      "\u001B[1;96m [INFO]\u001B[0m RandomForestClassifierImpl 2024-06-21 00:20:56.163926: Processed 20 / 76 estimators\n",
      "\u001B[1;96m [INFO]\u001B[0m RandomForestClassifierImpl 2024-06-21 00:21:28.476001: Processed 30 / 76 estimators\n",
      "\u001B[1;96m [INFO]\u001B[0m RandomForestClassifierImpl 2024-06-21 00:22:06.976073: Processed 40 / 76 estimators\n",
      "\u001B[1;96m [INFO]\u001B[0m RandomForestClassifierImpl 2024-06-21 00:22:45.831924: Processed 50 / 76 estimators\n",
      "\u001B[1;96m [INFO]\u001B[0m RandomForestClassifierImpl 2024-06-21 00:23:20.437325: Processed 60 / 76 estimators\n",
      "\u001B[1;96m [INFO]\u001B[0m RandomForestClassifierImpl 2024-06-21 00:23:59.270559: Processed 70 / 76 estimators\n",
      "\u001B[1;96m [INFO]\u001B[0m RandomForestClassifierImpl 2024-06-21 00:24:22.790648: Processed 76 / 76 estimators\n",
      "\u001B[1;96m [INFO]\u001B[0m RandomForestClassifierImpl 2024-06-21 00:24:22.818664: Processed 0 / 81 estimators\n",
      "\u001B[1;96m [INFO]\u001B[0m RandomForestClassifierImpl 2024-06-21 00:24:59.602957: Processed 10 / 81 estimators\n",
      "\u001B[1;96m [INFO]\u001B[0m RandomForestClassifierImpl 2024-06-21 00:25:38.007858: Processed 20 / 81 estimators\n",
      "\u001B[1;96m [INFO]\u001B[0m RandomForestClassifierImpl 2024-06-21 00:26:17.331990: Processed 30 / 81 estimators\n",
      "\u001B[1;96m [INFO]\u001B[0m RandomForestClassifierImpl 2024-06-21 00:26:52.747262: Processed 40 / 81 estimators\n",
      "\u001B[1;96m [INFO]\u001B[0m RandomForestClassifierImpl 2024-06-21 00:27:30.911677: Processed 50 / 81 estimators\n",
      "\u001B[1;96m [INFO]\u001B[0m RandomForestClassifierImpl 2024-06-21 00:28:08.037333: Processed 60 / 81 estimators\n",
      "\u001B[1;96m [INFO]\u001B[0m RandomForestClassifierImpl 2024-06-21 00:28:44.755686: Processed 70 / 81 estimators\n",
      "\u001B[1;96m [INFO]\u001B[0m RandomForestClassifierImpl 2024-06-21 00:29:22.032639: Processed 80 / 81 estimators\n",
      "\u001B[1;96m [INFO]\u001B[0m RandomForestClassifierImpl 2024-06-21 00:29:26.928080: Processed 81 / 81 estimators\n",
      "\u001B[1;96m [INFO]\u001B[0m RandomForestClassifierImpl 2024-06-21 00:29:26.945323: Processed 0 / 86 estimators\n",
      "\u001B[1;96m [INFO]\u001B[0m RandomForestClassifierImpl 2024-06-21 00:30:04.122701: Processed 10 / 86 estimators\n",
      "\u001B[1;96m [INFO]\u001B[0m RandomForestClassifierImpl 2024-06-21 00:30:37.673169: Processed 20 / 86 estimators\n",
      "\u001B[1;96m [INFO]\u001B[0m RandomForestClassifierImpl 2024-06-21 00:31:13.330600: Processed 30 / 86 estimators\n",
      "\u001B[1;96m [INFO]\u001B[0m RandomForestClassifierImpl 2024-06-21 00:31:50.986711: Processed 40 / 86 estimators\n",
      "\u001B[1;96m [INFO]\u001B[0m RandomForestClassifierImpl 2024-06-21 00:32:28.290987: Processed 50 / 86 estimators\n",
      "\u001B[1;96m [INFO]\u001B[0m RandomForestClassifierImpl 2024-06-21 00:33:05.399145: Processed 60 / 86 estimators\n",
      "\u001B[1;96m [INFO]\u001B[0m RandomForestClassifierImpl 2024-06-21 00:33:39.382389: Processed 70 / 86 estimators\n",
      "\u001B[1;96m [INFO]\u001B[0m RandomForestClassifierImpl 2024-06-21 00:34:16.140706: Processed 80 / 86 estimators\n",
      "\u001B[1;96m [INFO]\u001B[0m RandomForestClassifierImpl 2024-06-21 00:34:38.162902: Processed 86 / 86 estimators\n",
      "\u001B[1;96m [INFO]\u001B[0m RandomForestClassifierImpl 2024-06-21 00:34:38.183955: Processed 0 / 91 estimators\n",
      "\u001B[1;96m [INFO]\u001B[0m RandomForestClassifierImpl 2024-06-21 00:35:14.669079: Processed 10 / 91 estimators\n",
      "\u001B[1;96m [INFO]\u001B[0m RandomForestClassifierImpl 2024-06-21 00:35:47.319683: Processed 20 / 91 estimators\n",
      "\u001B[1;96m [INFO]\u001B[0m RandomForestClassifierImpl 2024-06-21 00:36:24.692586: Processed 30 / 91 estimators\n",
      "\u001B[1;96m [INFO]\u001B[0m RandomForestClassifierImpl 2024-06-21 00:36:59.858660: Processed 40 / 91 estimators\n",
      "\u001B[1;96m [INFO]\u001B[0m RandomForestClassifierImpl 2024-06-21 00:37:36.463278: Processed 50 / 91 estimators\n",
      "\u001B[1;96m [INFO]\u001B[0m RandomForestClassifierImpl 2024-06-21 00:38:10.340986: Processed 60 / 91 estimators\n",
      "\u001B[1;96m [INFO]\u001B[0m RandomForestClassifierImpl 2024-06-21 00:38:47.146804: Processed 70 / 91 estimators\n",
      "\u001B[1;96m [INFO]\u001B[0m RandomForestClassifierImpl 2024-06-21 00:39:24.085855: Processed 80 / 91 estimators\n",
      "\u001B[1;96m [INFO]\u001B[0m RandomForestClassifierImpl 2024-06-21 00:39:59.876282: Processed 90 / 91 estimators\n",
      "\u001B[1;96m [INFO]\u001B[0m RandomForestClassifierImpl 2024-06-21 00:40:02.886932: Processed 91 / 91 estimators\n",
      "\u001B[1;96m [INFO]\u001B[0m RandomForestClassifierImpl 2024-06-21 00:40:02.905853: Processed 0 / 96 estimators\n",
      "\u001B[1;96m [INFO]\u001B[0m RandomForestClassifierImpl 2024-06-21 00:40:39.607745: Processed 10 / 96 estimators\n",
      "\u001B[1;96m [INFO]\u001B[0m RandomForestClassifierImpl 2024-06-21 00:41:13.091388: Processed 20 / 96 estimators\n",
      "\u001B[1;96m [INFO]\u001B[0m RandomForestClassifierImpl 2024-06-21 00:41:47.733945: Processed 30 / 96 estimators\n",
      "\u001B[1;96m [INFO]\u001B[0m RandomForestClassifierImpl 2024-06-21 00:42:21.981597: Processed 40 / 96 estimators\n",
      "\u001B[1;96m [INFO]\u001B[0m RandomForestClassifierImpl 2024-06-21 00:42:58.811350: Processed 50 / 96 estimators\n",
      "\u001B[1;96m [INFO]\u001B[0m RandomForestClassifierImpl 2024-06-21 00:43:34.429214: Processed 60 / 96 estimators\n",
      "\u001B[1;96m [INFO]\u001B[0m RandomForestClassifierImpl 2024-06-21 00:44:11.924001: Processed 70 / 96 estimators\n",
      "\u001B[1;96m [INFO]\u001B[0m RandomForestClassifierImpl 2024-06-21 00:44:45.500960: Processed 80 / 96 estimators\n",
      "\u001B[1;96m [INFO]\u001B[0m RandomForestClassifierImpl 2024-06-21 00:45:22.454421: Processed 90 / 96 estimators\n",
      "\u001B[1;96m [INFO]\u001B[0m RandomForestClassifierImpl 2024-06-21 00:45:44.582886: Processed 96 / 96 estimators\n"
     ]
    }
   ],
   "execution_count": 36
  },
  {
   "metadata": {
    "ExecuteTime": {
     "end_time": "2024-06-20T22:36:35.759139Z",
     "start_time": "2024-06-20T22:36:35.616237Z"
    }
   },
   "cell_type": "code",
   "source": [
    "plt.plot(rand_forest_lib_dep, label='random forest lib', c=neon_red)\n",
    "plt.plot(rand_forest_impl_dep, label='random forest impl', c=mint)\n",
    "plt.plot(ada_lib_dep, label='ada boost lib', c=ultraviolet)\n",
    "plt.plot(ada_impl_dep, label='ada boost impl', c=pure_aqua)\n",
    "plt.title('f1_score dependency on n_estimators')\n",
    "plt.legend()\n",
    "plt.show()"
   ],
   "id": "b7945af7d7b86661",
   "outputs": [
    {
     "data": {
      "text/plain": [
       "<Figure size 640x480 with 1 Axes>"
      ],
      "image/png": "[encoded data removed]"
     },
     "metadata": {},
     "output_type": "display_data"
    }
   ],
   "execution_count": 42
  }
 ],
 "metadata": {
  "kernelspec": {
   "display_name": "Python 3",
   "language": "python",
   "name": "python3"
  },
  "language_info": {
   "codemirror_mode": {
    "name": "ipython",
    "version": 2
   },
   "file_extension": ".py",
   "mimetype": "text/x-python",
   "name": "python",
   "nbconvert_exporter": "python",
   "pygments_lexer": "ipython2",
   "version": "2.7.6"
  }
 },
 "nbformat": 4,
 "nbformat_minor": 5
}
